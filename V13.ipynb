{
  "nbformat": 4,
  "nbformat_minor": 0,
  "metadata": {
    "colab": {
      "provenance": [],
      "gpuType": "T4",
      "toc_visible": true,
      "include_colab_link": true
    },
    "kernelspec": {
      "name": "python3",
      "display_name": "Python 3"
    },
    "language_info": {
      "name": "python"
    },
    "accelerator": "GPU"
  },
  "cells": [
    {
      "cell_type": "markdown",
      "metadata": {
        "id": "view-in-github",
        "colab_type": "text"
      },
      "source": [
        "<a href=\"https://colab.research.google.com/github/hochschule-pforzheim/project-st23-team-ccpl/blob/main/V13.ipynb\" target=\"_parent\"><img src=\"https://colab.research.google.com/assets/colab-badge.svg\" alt=\"Open In Colab\"/></a>"
      ]
    },
    {
      "cell_type": "markdown",
      "source": [
        "Hier: CLV in mehr Klassen aufgeteilt (4 Klassen) - um churn zu identifizieren\n",
        "\n",
        "und\n",
        "\n",
        "jeweils den letzten Dummy gelöscht"
      ],
      "metadata": {
        "id": "WaQDTgwWUb0a"
      }
    },
    {
      "cell_type": "markdown",
      "source": [
        "# **Relevanz des Projekts**\n",
        "Der Wettbewerbsdruck um Kunden steigt – sowohl in Produkt- als auch Dienstleistungsmärkten – seit Jahren, insbesondere getrieben durch die digitale Transformation der Wirtschaft. Dies führt dazu, dass eine individuelle Kundenansprache immer mehr an Bedeutung gewinnt, um die Kunden an das Unternehmen / die Marke zu binden und dadurch das Risiko der Kundenabwanderung zu minimieren (vgl. Gouthier, Kern (2021), S.129).\n",
        "Der Wettbewerbsdruck um Kunden ist jedoch nicht für alle Kunden gleich. Je höher der erwartete Customer Lifetime Value eines Kunden ist, desto intensiver ist der Wettbewerb um einen solchen Kunden (vgl. Barak et al. (2020), S.52).\n",
        "Der Customer Lifetime Value erfasst, wie wertvoll ein Kunde für ein Unternehmen ist und bietet somit einen Ansatz zur individuellen Kundenansprache. Denn je größer der Customer Lifetime Value eines Kunden ist, desto rentabler sind Kundenbindungsmaßnahmen, je niedriger der Customer Lifetime Value eines Kunden ist, desto notwendiger sind Maßnahmen zur Minimierung des Abwanderungsrisikos des Kunden (vgl. Engelen, Schneider (2021), S.13)."
      ],
      "metadata": {
        "id": "_79J23MpVO19"
      }
    },
    {
      "cell_type": "markdown",
      "source": [
        "# **Vorgehen**\n",
        "\n",
        "**Schritt 1: Data Preprocessing**\n",
        "\n",
        "Um mit den vorliegenden Daten zielführende Analysen durchführen und Modelle entwickeln zu können, muss im ersten Schritt zunächst eine Aufbereitung der Daten erfolgen.\n",
        "\n",
        "**Schritt 2: Classification**\n",
        "\n",
        "Zunächst gilt es, die Ist-Situation des Kundenstamms zu erfassen. Hierzu entwickeln wir ein Modell, welches auf Basis des Customer Lifetime Values für jeden einzelnen Kunden bestimmt, inwieweit dieser aktuell abwanderungsgefährdet ist (4 Kundenklassen auf Basis des Customer Lifetime Values: sehr abwanderungsgefährdet - gar nicht abwanderungsgefährdet).\n",
        "\n",
        "**Schritt 3: Regression**\n",
        "\n",
        "Um das Unternehmen handlungsfähig zu machen, ist ein Blick in die Zukunft notwendig. Deshalb entwickeln wir im zweiten Schritt ein Modell, welches den Customer Lifetime Value für jeden einzelnen Kunden vorhersagt.\n",
        "\n",
        "**Schritt 4: Clustering**\n",
        "Mit dem Clustering wollen wir herausfinden, nach welchen weiteren Eigenschaften (abgesehen von dem Customer Lifetime Value) die Kunden in Gruppen eingeteilt werden können."
      ],
      "metadata": {
        "id": "0Oi8GkAJWdUF"
      }
    },
    {
      "cell_type": "markdown",
      "source": [
        "##**Schritt 1: Data Preprocessing**"
      ],
      "metadata": {
        "id": "5QVXU1qNmgNU"
      }
    },
    {
      "cell_type": "markdown",
      "source": [
        "Der Code import pandas as pd importiert die pandas-Bibliothek und weist ihr den Alias pd zu.\n",
        "\n",
        "Das Schlüsselwort import ermöglicht es, eine externe Bibliothek oder ein Modul in Python zu laden, um auf dessen Funktionen und Klassen zugreifen zu können. In diesem Fall wird die pandas-Bibliothek importiert. Der Import ermöglicht den Umgang mit Daten in tabellarischer Form, ähnlich wie in einer Excel-Tabelle\n",
        "\n",
        "Durch diesen Alias kann auf die Funktionen und Klassen von pandas zugegriffen werden, indem der Alias vor den entsprechenden Namen gestellt wird. Er erleichtert zudem das Schreiben von Code, da er kürzer und dadurch schneller zu tippen ist.\n",
        "\n",
        "\n",
        "\n",
        "\n",
        "Der Code import numpy as np importiert die numpy-Bibliothek und weist ihr den Alias np zu.\n",
        "\n",
        "numpy ist eine Python-Bibliothek, die numerische Berechnungen und Operationen mit Arrays ermöglicht. Sie stellt leistungsfähige Funktionen für mathematische Operationen, lineare Algebra, Zufallszahlen und andere numerische Operationen bereit.\n",
        "\n",
        "Durch die Verwendung des Aliases np kann auf die Funktionen und Klassen von numpy zugegriffen werden, indem der Alias vor den entsprechenden Namen gestellt wird. Auch hier erleichtert dies das Schreiben von Code, da der Alias kürzer und schneller zu tippen ist als der vollständige Bibliotheksname.\n",
        "\n",
        "\n",
        "\n",
        "Die StandardScaler-Klasse aus sklearn.preprocessing wird zweimal importiert. Dies deutet darauf hin, dass der Code später wahrscheinlich zwei separate Instanzen des StandardScaler-Objekts verwenden wird.\n",
        "\n",
        "Der **StandardScaler** ist ein Werkzeug für die **Datenpräparation**, das häufig in maschinellem Lernen verwendet wird. Es skaliert die Daten, indem es sie zentriert und auf Einheitsvarianz transformiert. Das bedeutet, dass die Daten so umgeformt werden, dass sie einen Durchschnittswert von 0 und eine Standardabweichung von 1 haben."
      ],
      "metadata": {
        "id": "FwmG8G0G4Tc7"
      }
    },
    {
      "cell_type": "code",
      "source": [
        "import pandas as pd\n",
        "import numpy as np\n",
        "from sklearn.preprocessing import StandardScaler\n",
        "from sklearn.preprocessing import StandardScaler"
      ],
      "metadata": {
        "id": "uYiT1IJLKKQ-"
      },
      "execution_count": null,
      "outputs": []
    },
    {
      "cell_type": "markdown",
      "source": [
        "\n",
        "Der Code df = pd.read_csv(\"/content/sample_data/WA_Fn-UseC_-Marketing-Customer-Value-Analysis.csv\") lädt unsere CSV-Datei in ein pandas DataFrame und weist es der Variablen df zu."
      ],
      "metadata": {
        "id": "ihJHSWvz--1N"
      }
    },
    {
      "cell_type": "code",
      "execution_count": null,
      "metadata": {
        "id": "e6QYWUhVGZU-"
      },
      "outputs": [],
      "source": [
        "#Daten einlesen\n",
        "df = pd.read_csv(\"/content/sample_data/WA_Fn-UseC_-Marketing-Customer-Value-Analysis.csv\")"
      ]
    },
    {
      "cell_type": "markdown",
      "source": [
        "Der Code df.columns = df.columns.str.replace(' ', '_') und df.head() führen zwei Operationen auf dem DataFrame df aus.\n",
        "\n",
        "Die Zeile df.columns = df.columns.str.replace(' ', '_') ersetzt alle Leerzeichen in den Spaltennamen unseres DataFrames durch Unterstriche.\n",
        "\n",
        "Die Methode columns gibt die Spaltennamen des DataFrame zurück, und str.replace(' ', '_') wird auf jeden Spaltennamen angewendet, um Leerzeichen durch Unterstriche zu ersetzen. Durch die Zuweisung der veränderten Spaltennamen zurück an df.columns werden die ursprünglichen Spaltennamen im DataFrame aktualisiert.\n",
        "\n",
        "Die Funktion df.head() zeigt uns die ersten fünf Zeilen des DataFrames df an, was uns dabei hilft, einen Überblick über die Struktur und den Inhalt des DataFrames zu erhalten."
      ],
      "metadata": {
        "id": "KTL1pUmH_eWc"
      }
    },
    {
      "cell_type": "markdown",
      "source": [
        "###**Cleansing**"
      ],
      "metadata": {
        "id": "pmQUiQGDm2rN"
      }
    },
    {
      "cell_type": "code",
      "source": [
        "#Überschriften umbenennen\n",
        "df.columns = df.columns.str.replace(' ', '_')\n",
        "df.head()"
      ],
      "metadata": {
        "id": "SpnA5eJnLAUm",
        "colab": {
          "base_uri": "https://localhost:8080/",
          "height": 386
        },
        "outputId": "8ef6b737-4552-48f5-80ff-0149c19d1d03"
      },
      "execution_count": null,
      "outputs": [
        {
          "output_type": "execute_result",
          "data": {
            "text/plain": [
              "  Customer       State  Customer_Lifetime_Value Response  Coverage Education  \\\n",
              "0  BU79786  Washington              2763.519279       No     Basic  Bachelor   \n",
              "1  QZ44356     Arizona              6979.535903       No  Extended  Bachelor   \n",
              "2  AI49188      Nevada             12887.431650       No   Premium  Bachelor   \n",
              "3  WW63253  California              7645.861827       No     Basic  Bachelor   \n",
              "4  HB64268  Washington              2813.692575       No     Basic  Bachelor   \n",
              "\n",
              "  Effective_To_Date EmploymentStatus Gender  Income  ...  \\\n",
              "0           2/24/11         Employed      F   56274  ...   \n",
              "1           1/31/11       Unemployed      F       0  ...   \n",
              "2           2/19/11         Employed      F   48767  ...   \n",
              "3           1/20/11       Unemployed      M       0  ...   \n",
              "4            2/3/11         Employed      M   43836  ...   \n",
              "\n",
              "  Months_Since_Policy_Inception Number_of_Open_Complaints  Number_of_Policies  \\\n",
              "0                             5                         0                   1   \n",
              "1                            42                         0                   8   \n",
              "2                            38                         0                   2   \n",
              "3                            65                         0                   7   \n",
              "4                            44                         0                   1   \n",
              "\n",
              "      Policy_Type        Policy  Renew_Offer_Type  Sales_Channel  \\\n",
              "0  Corporate Auto  Corporate L3            Offer1          Agent   \n",
              "1   Personal Auto   Personal L3            Offer3          Agent   \n",
              "2   Personal Auto   Personal L3            Offer1          Agent   \n",
              "3  Corporate Auto  Corporate L2            Offer1    Call Center   \n",
              "4   Personal Auto   Personal L1            Offer1          Agent   \n",
              "\n",
              "  Total_Claim_Amount  Vehicle_Class Vehicle_Size  \n",
              "0         384.811147   Two-Door Car      Medsize  \n",
              "1        1131.464935  Four-Door Car      Medsize  \n",
              "2         566.472247   Two-Door Car      Medsize  \n",
              "3         529.881344            SUV      Medsize  \n",
              "4         138.130879  Four-Door Car      Medsize  \n",
              "\n",
              "[5 rows x 24 columns]"
            ],
            "text/html": [
              "\n",
              "  <div id=\"df-522b18b0-e208-4e1d-bbdf-261404f1233f\">\n",
              "    <div class=\"colab-df-container\">\n",
              "      <div>\n",
              "<style scoped>\n",
              "    .dataframe tbody tr th:only-of-type {\n",
              "        vertical-align: middle;\n",
              "    }\n",
              "\n",
              "    .dataframe tbody tr th {\n",
              "        vertical-align: top;\n",
              "    }\n",
              "\n",
              "    .dataframe thead th {\n",
              "        text-align: right;\n",
              "    }\n",
              "</style>\n",
              "<table border=\"1\" class=\"dataframe\">\n",
              "  <thead>\n",
              "    <tr style=\"text-align: right;\">\n",
              "      <th></th>\n",
              "      <th>Customer</th>\n",
              "      <th>State</th>\n",
              "      <th>Customer_Lifetime_Value</th>\n",
              "      <th>Response</th>\n",
              "      <th>Coverage</th>\n",
              "      <th>Education</th>\n",
              "      <th>Effective_To_Date</th>\n",
              "      <th>EmploymentStatus</th>\n",
              "      <th>Gender</th>\n",
              "      <th>Income</th>\n",
              "      <th>...</th>\n",
              "      <th>Months_Since_Policy_Inception</th>\n",
              "      <th>Number_of_Open_Complaints</th>\n",
              "      <th>Number_of_Policies</th>\n",
              "      <th>Policy_Type</th>\n",
              "      <th>Policy</th>\n",
              "      <th>Renew_Offer_Type</th>\n",
              "      <th>Sales_Channel</th>\n",
              "      <th>Total_Claim_Amount</th>\n",
              "      <th>Vehicle_Class</th>\n",
              "      <th>Vehicle_Size</th>\n",
              "    </tr>\n",
              "  </thead>\n",
              "  <tbody>\n",
              "    <tr>\n",
              "      <th>0</th>\n",
              "      <td>BU79786</td>\n",
              "      <td>Washington</td>\n",
              "      <td>2763.519279</td>\n",
              "      <td>No</td>\n",
              "      <td>Basic</td>\n",
              "      <td>Bachelor</td>\n",
              "      <td>2/24/11</td>\n",
              "      <td>Employed</td>\n",
              "      <td>F</td>\n",
              "      <td>56274</td>\n",
              "      <td>...</td>\n",
              "      <td>5</td>\n",
              "      <td>0</td>\n",
              "      <td>1</td>\n",
              "      <td>Corporate Auto</td>\n",
              "      <td>Corporate L3</td>\n",
              "      <td>Offer1</td>\n",
              "      <td>Agent</td>\n",
              "      <td>384.811147</td>\n",
              "      <td>Two-Door Car</td>\n",
              "      <td>Medsize</td>\n",
              "    </tr>\n",
              "    <tr>\n",
              "      <th>1</th>\n",
              "      <td>QZ44356</td>\n",
              "      <td>Arizona</td>\n",
              "      <td>6979.535903</td>\n",
              "      <td>No</td>\n",
              "      <td>Extended</td>\n",
              "      <td>Bachelor</td>\n",
              "      <td>1/31/11</td>\n",
              "      <td>Unemployed</td>\n",
              "      <td>F</td>\n",
              "      <td>0</td>\n",
              "      <td>...</td>\n",
              "      <td>42</td>\n",
              "      <td>0</td>\n",
              "      <td>8</td>\n",
              "      <td>Personal Auto</td>\n",
              "      <td>Personal L3</td>\n",
              "      <td>Offer3</td>\n",
              "      <td>Agent</td>\n",
              "      <td>1131.464935</td>\n",
              "      <td>Four-Door Car</td>\n",
              "      <td>Medsize</td>\n",
              "    </tr>\n",
              "    <tr>\n",
              "      <th>2</th>\n",
              "      <td>AI49188</td>\n",
              "      <td>Nevada</td>\n",
              "      <td>12887.431650</td>\n",
              "      <td>No</td>\n",
              "      <td>Premium</td>\n",
              "      <td>Bachelor</td>\n",
              "      <td>2/19/11</td>\n",
              "      <td>Employed</td>\n",
              "      <td>F</td>\n",
              "      <td>48767</td>\n",
              "      <td>...</td>\n",
              "      <td>38</td>\n",
              "      <td>0</td>\n",
              "      <td>2</td>\n",
              "      <td>Personal Auto</td>\n",
              "      <td>Personal L3</td>\n",
              "      <td>Offer1</td>\n",
              "      <td>Agent</td>\n",
              "      <td>566.472247</td>\n",
              "      <td>Two-Door Car</td>\n",
              "      <td>Medsize</td>\n",
              "    </tr>\n",
              "    <tr>\n",
              "      <th>3</th>\n",
              "      <td>WW63253</td>\n",
              "      <td>California</td>\n",
              "      <td>7645.861827</td>\n",
              "      <td>No</td>\n",
              "      <td>Basic</td>\n",
              "      <td>Bachelor</td>\n",
              "      <td>1/20/11</td>\n",
              "      <td>Unemployed</td>\n",
              "      <td>M</td>\n",
              "      <td>0</td>\n",
              "      <td>...</td>\n",
              "      <td>65</td>\n",
              "      <td>0</td>\n",
              "      <td>7</td>\n",
              "      <td>Corporate Auto</td>\n",
              "      <td>Corporate L2</td>\n",
              "      <td>Offer1</td>\n",
              "      <td>Call Center</td>\n",
              "      <td>529.881344</td>\n",
              "      <td>SUV</td>\n",
              "      <td>Medsize</td>\n",
              "    </tr>\n",
              "    <tr>\n",
              "      <th>4</th>\n",
              "      <td>HB64268</td>\n",
              "      <td>Washington</td>\n",
              "      <td>2813.692575</td>\n",
              "      <td>No</td>\n",
              "      <td>Basic</td>\n",
              "      <td>Bachelor</td>\n",
              "      <td>2/3/11</td>\n",
              "      <td>Employed</td>\n",
              "      <td>M</td>\n",
              "      <td>43836</td>\n",
              "      <td>...</td>\n",
              "      <td>44</td>\n",
              "      <td>0</td>\n",
              "      <td>1</td>\n",
              "      <td>Personal Auto</td>\n",
              "      <td>Personal L1</td>\n",
              "      <td>Offer1</td>\n",
              "      <td>Agent</td>\n",
              "      <td>138.130879</td>\n",
              "      <td>Four-Door Car</td>\n",
              "      <td>Medsize</td>\n",
              "    </tr>\n",
              "  </tbody>\n",
              "</table>\n",
              "<p>5 rows × 24 columns</p>\n",
              "</div>\n",
              "      <button class=\"colab-df-convert\" onclick=\"convertToInteractive('df-522b18b0-e208-4e1d-bbdf-261404f1233f')\"\n",
              "              title=\"Convert this dataframe to an interactive table.\"\n",
              "              style=\"display:none;\">\n",
              "        \n",
              "  <svg xmlns=\"http://www.w3.org/2000/svg\" height=\"24px\"viewBox=\"0 0 24 24\"\n",
              "       width=\"24px\">\n",
              "    <path d=\"M0 0h24v24H0V0z\" fill=\"none\"/>\n",
              "    <path d=\"M18.56 5.44l.94 2.06.94-2.06 2.06-.94-2.06-.94-.94-2.06-.94 2.06-2.06.94zm-11 1L8.5 8.5l.94-2.06 2.06-.94-2.06-.94L8.5 2.5l-.94 2.06-2.06.94zm10 10l.94 2.06.94-2.06 2.06-.94-2.06-.94-.94-2.06-.94 2.06-2.06.94z\"/><path d=\"M17.41 7.96l-1.37-1.37c-.4-.4-.92-.59-1.43-.59-.52 0-1.04.2-1.43.59L10.3 9.45l-7.72 7.72c-.78.78-.78 2.05 0 2.83L4 21.41c.39.39.9.59 1.41.59.51 0 1.02-.2 1.41-.59l7.78-7.78 2.81-2.81c.8-.78.8-2.07 0-2.86zM5.41 20L4 18.59l7.72-7.72 1.47 1.35L5.41 20z\"/>\n",
              "  </svg>\n",
              "      </button>\n",
              "      \n",
              "  <style>\n",
              "    .colab-df-container {\n",
              "      display:flex;\n",
              "      flex-wrap:wrap;\n",
              "      gap: 12px;\n",
              "    }\n",
              "\n",
              "    .colab-df-convert {\n",
              "      background-color: #E8F0FE;\n",
              "      border: none;\n",
              "      border-radius: 50%;\n",
              "      cursor: pointer;\n",
              "      display: none;\n",
              "      fill: #1967D2;\n",
              "      height: 32px;\n",
              "      padding: 0 0 0 0;\n",
              "      width: 32px;\n",
              "    }\n",
              "\n",
              "    .colab-df-convert:hover {\n",
              "      background-color: #E2EBFA;\n",
              "      box-shadow: 0px 1px 2px rgba(60, 64, 67, 0.3), 0px 1px 3px 1px rgba(60, 64, 67, 0.15);\n",
              "      fill: #174EA6;\n",
              "    }\n",
              "\n",
              "    [theme=dark] .colab-df-convert {\n",
              "      background-color: #3B4455;\n",
              "      fill: #D2E3FC;\n",
              "    }\n",
              "\n",
              "    [theme=dark] .colab-df-convert:hover {\n",
              "      background-color: #434B5C;\n",
              "      box-shadow: 0px 1px 3px 1px rgba(0, 0, 0, 0.15);\n",
              "      filter: drop-shadow(0px 1px 2px rgba(0, 0, 0, 0.3));\n",
              "      fill: #FFFFFF;\n",
              "    }\n",
              "  </style>\n",
              "\n",
              "      <script>\n",
              "        const buttonEl =\n",
              "          document.querySelector('#df-522b18b0-e208-4e1d-bbdf-261404f1233f button.colab-df-convert');\n",
              "        buttonEl.style.display =\n",
              "          google.colab.kernel.accessAllowed ? 'block' : 'none';\n",
              "\n",
              "        async function convertToInteractive(key) {\n",
              "          const element = document.querySelector('#df-522b18b0-e208-4e1d-bbdf-261404f1233f');\n",
              "          const dataTable =\n",
              "            await google.colab.kernel.invokeFunction('convertToInteractive',\n",
              "                                                     [key], {});\n",
              "          if (!dataTable) return;\n",
              "\n",
              "          const docLinkHtml = 'Like what you see? Visit the ' +\n",
              "            '<a target=\"_blank\" href=https://colab.research.google.com/notebooks/data_table.ipynb>data table notebook</a>'\n",
              "            + ' to learn more about interactive tables.';\n",
              "          element.innerHTML = '';\n",
              "          dataTable['output_type'] = 'display_data';\n",
              "          await google.colab.output.renderOutput(dataTable, element);\n",
              "          const docLink = document.createElement('div');\n",
              "          docLink.innerHTML = docLinkHtml;\n",
              "          element.appendChild(docLink);\n",
              "        }\n",
              "      </script>\n",
              "    </div>\n",
              "  </div>\n",
              "  "
            ]
          },
          "metadata": {},
          "execution_count": 3
        }
      ]
    },
    {
      "cell_type": "markdown",
      "source": [
        "\n",
        "Den Code df.isna().sum() verwenden wir, um die Anzahl der fehlenden Werte (NaN-Werte) für jede Spalte in einem DataFrame df zu ermitteln.\n",
        "\n",
        "Das Ergebnis ist eine Serie, die die Anzahl der fehlenden Werte für jede Spalte im DataFrame anzeigt. Die Indexeinträge der Serie sind die Spaltennamen des DataFrames, die Werte stellen die entsprechenden Anzahl der fehlenden Werte dar."
      ],
      "metadata": {
        "id": "giB2bCTlAQeL"
      }
    },
    {
      "cell_type": "code",
      "source": [
        "# Datensatz auf fehlende Werte überprüfen\n",
        "df.isna().sum()"
      ],
      "metadata": {
        "id": "GZlF1Fu7KV3d",
        "colab": {
          "base_uri": "https://localhost:8080/"
        },
        "outputId": "86bd3607-baa8-4870-9d10-c68de4e75c78"
      },
      "execution_count": null,
      "outputs": [
        {
          "output_type": "execute_result",
          "data": {
            "text/plain": [
              "Customer                         0\n",
              "State                            0\n",
              "Customer_Lifetime_Value          0\n",
              "Response                         0\n",
              "Coverage                         0\n",
              "Education                        0\n",
              "Effective_To_Date                0\n",
              "EmploymentStatus                 0\n",
              "Gender                           0\n",
              "Income                           0\n",
              "Location_Code                    0\n",
              "Marital_Status                   0\n",
              "Monthly_Premium_Auto             0\n",
              "Months_Since_Last_Claim          0\n",
              "Months_Since_Policy_Inception    0\n",
              "Number_of_Open_Complaints        0\n",
              "Number_of_Policies               0\n",
              "Policy_Type                      0\n",
              "Policy                           0\n",
              "Renew_Offer_Type                 0\n",
              "Sales_Channel                    0\n",
              "Total_Claim_Amount               0\n",
              "Vehicle_Class                    0\n",
              "Vehicle_Size                     0\n",
              "dtype: int64"
            ]
          },
          "metadata": {},
          "execution_count": 4
        }
      ]
    },
    {
      "cell_type": "markdown",
      "source": [
        "Mit dem Code df.duplicated() können wir überprüft, ob es im DataFrame df doppelte Zeilen gibt. Dafür werden die Zeilen des DataFrames verglichen. Ist eine Zeile identisch zu einer vorherigen, wird sie als \"dupliziert\" markeirt. In einer booleschen Maske wird angegeben, welche Zeilen dupliziert sind und welche nicht. True steht dabei für duplizierte Zeilen und False für die nicht-duplizierten Zeilen."
      ],
      "metadata": {
        "id": "LDAYgbYdAmIv"
      }
    },
    {
      "cell_type": "code",
      "source": [
        "#Datensatz auf Duplikate überprüfen\n",
        "df.duplicated().sum()"
      ],
      "metadata": {
        "id": "WgzXSM2RMUQC",
        "colab": {
          "base_uri": "https://localhost:8080/"
        },
        "outputId": "850a1175-f88a-49d8-c4e9-f4270d938818"
      },
      "execution_count": null,
      "outputs": [
        {
          "output_type": "execute_result",
          "data": {
            "text/plain": [
              "0"
            ]
          },
          "metadata": {},
          "execution_count": 5
        }
      ]
    },
    {
      "cell_type": "markdown",
      "source": [
        "###**Exploration -> noch ausführlicher?**"
      ],
      "metadata": {
        "id": "ZWdI24PLo0v5"
      }
    },
    {
      "cell_type": "markdown",
      "source": [
        "Der Code df.describe() erzeugt eine statistische Zusammenfassung der numerischen Spalten eines DataFrame df. Es werden verschiedene statistische Kennzahlen wie  Anzahl, Mittelwert (mean), Standardabweichung (std), Minimum (min), 25. Perzentil (25%), Median (50%), 75. Perzentil (75%) und Maximum (max) ausgegeben.\n",
        "\n",
        "Uns hilft dies dabei, schnell einen Überblick über die Verteilung und die wichtigsten statistischen Informationen der Daten in den numerischen Spalten zu bekommt, um ein erstes Verständnis der Daten zu gewinnen und mögliche Ausreißer oder ungewöhnliche Werte zu erkennen."
      ],
      "metadata": {
        "id": "1evMXhILCKYA"
      }
    },
    {
      "cell_type": "code",
      "source": [
        "#Datensatz mit statistischen Informationen\n",
        "df.describe()"
      ],
      "metadata": {
        "id": "K7tVL3UDSP_3",
        "colab": {
          "base_uri": "https://localhost:8080/",
          "height": 364
        },
        "outputId": "ecfbb01e-8983-4f0c-d907-f07e6b9397cb"
      },
      "execution_count": null,
      "outputs": [
        {
          "output_type": "execute_result",
          "data": {
            "text/plain": [
              "       Customer_Lifetime_Value        Income  Monthly_Premium_Auto  \\\n",
              "count              9134.000000   9134.000000           9134.000000   \n",
              "mean               8004.940475  37657.380009             93.219291   \n",
              "std                6870.967608  30379.904734             34.407967   \n",
              "min                1898.007675      0.000000             61.000000   \n",
              "25%                3994.251794      0.000000             68.000000   \n",
              "50%                5780.182197  33889.500000             83.000000   \n",
              "75%                8962.167041  62320.000000            109.000000   \n",
              "max               83325.381190  99981.000000            298.000000   \n",
              "\n",
              "       Months_Since_Last_Claim  Months_Since_Policy_Inception  \\\n",
              "count              9134.000000                    9134.000000   \n",
              "mean                 15.097000                      48.064594   \n",
              "std                  10.073257                      27.905991   \n",
              "min                   0.000000                       0.000000   \n",
              "25%                   6.000000                      24.000000   \n",
              "50%                  14.000000                      48.000000   \n",
              "75%                  23.000000                      71.000000   \n",
              "max                  35.000000                      99.000000   \n",
              "\n",
              "       Number_of_Open_Complaints  Number_of_Policies  Total_Claim_Amount  \n",
              "count                9134.000000         9134.000000         9134.000000  \n",
              "mean                    0.384388            2.966170          434.088794  \n",
              "std                     0.910384            2.390182          290.500092  \n",
              "min                     0.000000            1.000000            0.099007  \n",
              "25%                     0.000000            1.000000          272.258244  \n",
              "50%                     0.000000            2.000000          383.945434  \n",
              "75%                     0.000000            4.000000          547.514839  \n",
              "max                     5.000000            9.000000         2893.239678  "
            ],
            "text/html": [
              "\n",
              "  <div id=\"df-8bdfe81a-2c25-4de3-b9c4-2944b3d56a4b\">\n",
              "    <div class=\"colab-df-container\">\n",
              "      <div>\n",
              "<style scoped>\n",
              "    .dataframe tbody tr th:only-of-type {\n",
              "        vertical-align: middle;\n",
              "    }\n",
              "\n",
              "    .dataframe tbody tr th {\n",
              "        vertical-align: top;\n",
              "    }\n",
              "\n",
              "    .dataframe thead th {\n",
              "        text-align: right;\n",
              "    }\n",
              "</style>\n",
              "<table border=\"1\" class=\"dataframe\">\n",
              "  <thead>\n",
              "    <tr style=\"text-align: right;\">\n",
              "      <th></th>\n",
              "      <th>Customer_Lifetime_Value</th>\n",
              "      <th>Income</th>\n",
              "      <th>Monthly_Premium_Auto</th>\n",
              "      <th>Months_Since_Last_Claim</th>\n",
              "      <th>Months_Since_Policy_Inception</th>\n",
              "      <th>Number_of_Open_Complaints</th>\n",
              "      <th>Number_of_Policies</th>\n",
              "      <th>Total_Claim_Amount</th>\n",
              "    </tr>\n",
              "  </thead>\n",
              "  <tbody>\n",
              "    <tr>\n",
              "      <th>count</th>\n",
              "      <td>9134.000000</td>\n",
              "      <td>9134.000000</td>\n",
              "      <td>9134.000000</td>\n",
              "      <td>9134.000000</td>\n",
              "      <td>9134.000000</td>\n",
              "      <td>9134.000000</td>\n",
              "      <td>9134.000000</td>\n",
              "      <td>9134.000000</td>\n",
              "    </tr>\n",
              "    <tr>\n",
              "      <th>mean</th>\n",
              "      <td>8004.940475</td>\n",
              "      <td>37657.380009</td>\n",
              "      <td>93.219291</td>\n",
              "      <td>15.097000</td>\n",
              "      <td>48.064594</td>\n",
              "      <td>0.384388</td>\n",
              "      <td>2.966170</td>\n",
              "      <td>434.088794</td>\n",
              "    </tr>\n",
              "    <tr>\n",
              "      <th>std</th>\n",
              "      <td>6870.967608</td>\n",
              "      <td>30379.904734</td>\n",
              "      <td>34.407967</td>\n",
              "      <td>10.073257</td>\n",
              "      <td>27.905991</td>\n",
              "      <td>0.910384</td>\n",
              "      <td>2.390182</td>\n",
              "      <td>290.500092</td>\n",
              "    </tr>\n",
              "    <tr>\n",
              "      <th>min</th>\n",
              "      <td>1898.007675</td>\n",
              "      <td>0.000000</td>\n",
              "      <td>61.000000</td>\n",
              "      <td>0.000000</td>\n",
              "      <td>0.000000</td>\n",
              "      <td>0.000000</td>\n",
              "      <td>1.000000</td>\n",
              "      <td>0.099007</td>\n",
              "    </tr>\n",
              "    <tr>\n",
              "      <th>25%</th>\n",
              "      <td>3994.251794</td>\n",
              "      <td>0.000000</td>\n",
              "      <td>68.000000</td>\n",
              "      <td>6.000000</td>\n",
              "      <td>24.000000</td>\n",
              "      <td>0.000000</td>\n",
              "      <td>1.000000</td>\n",
              "      <td>272.258244</td>\n",
              "    </tr>\n",
              "    <tr>\n",
              "      <th>50%</th>\n",
              "      <td>5780.182197</td>\n",
              "      <td>33889.500000</td>\n",
              "      <td>83.000000</td>\n",
              "      <td>14.000000</td>\n",
              "      <td>48.000000</td>\n",
              "      <td>0.000000</td>\n",
              "      <td>2.000000</td>\n",
              "      <td>383.945434</td>\n",
              "    </tr>\n",
              "    <tr>\n",
              "      <th>75%</th>\n",
              "      <td>8962.167041</td>\n",
              "      <td>62320.000000</td>\n",
              "      <td>109.000000</td>\n",
              "      <td>23.000000</td>\n",
              "      <td>71.000000</td>\n",
              "      <td>0.000000</td>\n",
              "      <td>4.000000</td>\n",
              "      <td>547.514839</td>\n",
              "    </tr>\n",
              "    <tr>\n",
              "      <th>max</th>\n",
              "      <td>83325.381190</td>\n",
              "      <td>99981.000000</td>\n",
              "      <td>298.000000</td>\n",
              "      <td>35.000000</td>\n",
              "      <td>99.000000</td>\n",
              "      <td>5.000000</td>\n",
              "      <td>9.000000</td>\n",
              "      <td>2893.239678</td>\n",
              "    </tr>\n",
              "  </tbody>\n",
              "</table>\n",
              "</div>\n",
              "      <button class=\"colab-df-convert\" onclick=\"convertToInteractive('df-8bdfe81a-2c25-4de3-b9c4-2944b3d56a4b')\"\n",
              "              title=\"Convert this dataframe to an interactive table.\"\n",
              "              style=\"display:none;\">\n",
              "        \n",
              "  <svg xmlns=\"http://www.w3.org/2000/svg\" height=\"24px\"viewBox=\"0 0 24 24\"\n",
              "       width=\"24px\">\n",
              "    <path d=\"M0 0h24v24H0V0z\" fill=\"none\"/>\n",
              "    <path d=\"M18.56 5.44l.94 2.06.94-2.06 2.06-.94-2.06-.94-.94-2.06-.94 2.06-2.06.94zm-11 1L8.5 8.5l.94-2.06 2.06-.94-2.06-.94L8.5 2.5l-.94 2.06-2.06.94zm10 10l.94 2.06.94-2.06 2.06-.94-2.06-.94-.94-2.06-.94 2.06-2.06.94z\"/><path d=\"M17.41 7.96l-1.37-1.37c-.4-.4-.92-.59-1.43-.59-.52 0-1.04.2-1.43.59L10.3 9.45l-7.72 7.72c-.78.78-.78 2.05 0 2.83L4 21.41c.39.39.9.59 1.41.59.51 0 1.02-.2 1.41-.59l7.78-7.78 2.81-2.81c.8-.78.8-2.07 0-2.86zM5.41 20L4 18.59l7.72-7.72 1.47 1.35L5.41 20z\"/>\n",
              "  </svg>\n",
              "      </button>\n",
              "      \n",
              "  <style>\n",
              "    .colab-df-container {\n",
              "      display:flex;\n",
              "      flex-wrap:wrap;\n",
              "      gap: 12px;\n",
              "    }\n",
              "\n",
              "    .colab-df-convert {\n",
              "      background-color: #E8F0FE;\n",
              "      border: none;\n",
              "      border-radius: 50%;\n",
              "      cursor: pointer;\n",
              "      display: none;\n",
              "      fill: #1967D2;\n",
              "      height: 32px;\n",
              "      padding: 0 0 0 0;\n",
              "      width: 32px;\n",
              "    }\n",
              "\n",
              "    .colab-df-convert:hover {\n",
              "      background-color: #E2EBFA;\n",
              "      box-shadow: 0px 1px 2px rgba(60, 64, 67, 0.3), 0px 1px 3px 1px rgba(60, 64, 67, 0.15);\n",
              "      fill: #174EA6;\n",
              "    }\n",
              "\n",
              "    [theme=dark] .colab-df-convert {\n",
              "      background-color: #3B4455;\n",
              "      fill: #D2E3FC;\n",
              "    }\n",
              "\n",
              "    [theme=dark] .colab-df-convert:hover {\n",
              "      background-color: #434B5C;\n",
              "      box-shadow: 0px 1px 3px 1px rgba(0, 0, 0, 0.15);\n",
              "      filter: drop-shadow(0px 1px 2px rgba(0, 0, 0, 0.3));\n",
              "      fill: #FFFFFF;\n",
              "    }\n",
              "  </style>\n",
              "\n",
              "      <script>\n",
              "        const buttonEl =\n",
              "          document.querySelector('#df-8bdfe81a-2c25-4de3-b9c4-2944b3d56a4b button.colab-df-convert');\n",
              "        buttonEl.style.display =\n",
              "          google.colab.kernel.accessAllowed ? 'block' : 'none';\n",
              "\n",
              "        async function convertToInteractive(key) {\n",
              "          const element = document.querySelector('#df-8bdfe81a-2c25-4de3-b9c4-2944b3d56a4b');\n",
              "          const dataTable =\n",
              "            await google.colab.kernel.invokeFunction('convertToInteractive',\n",
              "                                                     [key], {});\n",
              "          if (!dataTable) return;\n",
              "\n",
              "          const docLinkHtml = 'Like what you see? Visit the ' +\n",
              "            '<a target=\"_blank\" href=https://colab.research.google.com/notebooks/data_table.ipynb>data table notebook</a>'\n",
              "            + ' to learn more about interactive tables.';\n",
              "          element.innerHTML = '';\n",
              "          dataTable['output_type'] = 'display_data';\n",
              "          await google.colab.output.renderOutput(dataTable, element);\n",
              "          const docLink = document.createElement('div');\n",
              "          docLink.innerHTML = docLinkHtml;\n",
              "          element.appendChild(docLink);\n",
              "        }\n",
              "      </script>\n",
              "    </div>\n",
              "  </div>\n",
              "  "
            ]
          },
          "metadata": {},
          "execution_count": 6
        }
      ]
    },
    {
      "cell_type": "markdown",
      "source": [
        "Der Code df.dtypes gibt die Datentypen der Spalten im DataFrame df zurück.\n",
        "\n",
        "Die Methode dtypes wird auf das DataFrame df angewendet und gibt eine Serie zurück, in der die Spaltennamen des DataFrames den entsprechenden Datentypen zugeordnet sind. In pandas werden Datentypen wie int64 (ganze Zahl), float64 (Gleitkommazahl), object (Zeichenkette) und datetime64 (Datum und Uhrzeit) häufig verwendet.\n",
        "\n",
        "Das Überprüfen der Datentypen einer DataFrame-Spalte ist wichtig für uns, um sicherzustellen, dass die Daten korrekt interpretiert werden und um anschließend geeignete Datenverarbeitungsschritte durchzuführen. Es hilft uns auch bei der Identifizierung von Spalten, die möglicherweise fehlerhafte oder unerwartete Datentypen haben, die möglicherweise angepasst oder bereinigt werden müssen."
      ],
      "metadata": {
        "id": "clbSvhCODTMY"
      }
    },
    {
      "cell_type": "code",
      "source": [
        "df.info()"
      ],
      "metadata": {
        "colab": {
          "base_uri": "https://localhost:8080/"
        },
        "id": "zVl7athbyDsP",
        "outputId": "82f9a5b3-ee07-4e29-9c3e-0c3c07249458"
      },
      "execution_count": null,
      "outputs": [
        {
          "output_type": "stream",
          "name": "stdout",
          "text": [
            "<class 'pandas.core.frame.DataFrame'>\n",
            "RangeIndex: 9134 entries, 0 to 9133\n",
            "Data columns (total 24 columns):\n",
            " #   Column                         Non-Null Count  Dtype  \n",
            "---  ------                         --------------  -----  \n",
            " 0   Customer                       9134 non-null   object \n",
            " 1   State                          9134 non-null   object \n",
            " 2   Customer_Lifetime_Value        9134 non-null   float64\n",
            " 3   Response                       9134 non-null   object \n",
            " 4   Coverage                       9134 non-null   object \n",
            " 5   Education                      9134 non-null   object \n",
            " 6   Effective_To_Date              9134 non-null   object \n",
            " 7   EmploymentStatus               9134 non-null   object \n",
            " 8   Gender                         9134 non-null   object \n",
            " 9   Income                         9134 non-null   int64  \n",
            " 10  Location_Code                  9134 non-null   object \n",
            " 11  Marital_Status                 9134 non-null   object \n",
            " 12  Monthly_Premium_Auto           9134 non-null   int64  \n",
            " 13  Months_Since_Last_Claim        9134 non-null   int64  \n",
            " 14  Months_Since_Policy_Inception  9134 non-null   int64  \n",
            " 15  Number_of_Open_Complaints      9134 non-null   int64  \n",
            " 16  Number_of_Policies             9134 non-null   int64  \n",
            " 17  Policy_Type                    9134 non-null   object \n",
            " 18  Policy                         9134 non-null   object \n",
            " 19  Renew_Offer_Type               9134 non-null   object \n",
            " 20  Sales_Channel                  9134 non-null   object \n",
            " 21  Total_Claim_Amount             9134 non-null   float64\n",
            " 22  Vehicle_Class                  9134 non-null   object \n",
            " 23  Vehicle_Size                   9134 non-null   object \n",
            "dtypes: float64(2), int64(6), object(16)\n",
            "memory usage: 1.7+ MB\n"
          ]
        }
      ]
    },
    {
      "cell_type": "markdown",
      "source": [
        "###**Encoding**"
      ],
      "metadata": {
        "id": "GRsSXx_hnD8S"
      }
    },
    {
      "cell_type": "code",
      "source": [
        "df.Customer_Lifetime_Value.describe()"
      ],
      "metadata": {
        "colab": {
          "base_uri": "https://localhost:8080/"
        },
        "id": "h3GUkKdG6P3m",
        "outputId": "7d796f29-3810-4a36-df87-7d531b9583e7"
      },
      "execution_count": null,
      "outputs": [
        {
          "output_type": "execute_result",
          "data": {
            "text/plain": [
              "count     9134.000000\n",
              "mean      8004.940475\n",
              "std       6870.967608\n",
              "min       1898.007675\n",
              "25%       3994.251794\n",
              "50%       5780.182197\n",
              "75%       8962.167041\n",
              "max      83325.381190\n",
              "Name: Customer_Lifetime_Value, dtype: float64"
            ]
          },
          "metadata": {},
          "execution_count": 8
        }
      ]
    },
    {
      "cell_type": "code",
      "source": [
        "print(df.Customer_Lifetime_Value.min())\n",
        "print(df.Customer_Lifetime_Value.max())"
      ],
      "metadata": {
        "colab": {
          "base_uri": "https://localhost:8080/"
        },
        "id": "VCA9Nx-h2sxL",
        "outputId": "1df78537-6339-49ed-be37-7877eb90f986"
      },
      "execution_count": null,
      "outputs": [
        {
          "output_type": "stream",
          "name": "stdout",
          "text": [
            "1898.007675\n",
            "83325.38119\n"
          ]
        }
      ]
    },
    {
      "cell_type": "code",
      "source": [
        "# Zielvariable bestimmen (mehrere Kategorien)\n",
        "from collections import Counter\n",
        "from matplotlib import pyplot\n",
        "\n",
        "CLV_churn = np.where(df.Customer_Lifetime_Value < 3994, 0, np.where(df.Customer_Lifetime_Value < 5780, 1, np.where(df.Customer_Lifetime_Value < 8962, 2, 3)))\n",
        "CLV_churn"
      ],
      "metadata": {
        "colab": {
          "base_uri": "https://localhost:8080/"
        },
        "id": "Tm3JzPw3XdH9",
        "outputId": "5997c5d0-9206-4e27-bf0f-a10eb1cd83b4"
      },
      "execution_count": null,
      "outputs": [
        {
          "output_type": "execute_result",
          "data": {
            "text/plain": [
              "array([0, 2, 3, ..., 2, 2, 0])"
            ]
          },
          "metadata": {},
          "execution_count": 10
        }
      ]
    },
    {
      "cell_type": "code",
      "source": [
        "# In Data Frame umwandeln\n",
        "df_1 = pd.DataFrame(CLV_churn,\n",
        "                         columns=['CLV_churn'])\n",
        "df_1"
      ],
      "metadata": {
        "colab": {
          "base_uri": "https://localhost:8080/",
          "height": 424
        },
        "id": "8czUepcMY1Ls",
        "outputId": "17bd4cfe-106d-46ed-b017-c8a90ea77a61"
      },
      "execution_count": null,
      "outputs": [
        {
          "output_type": "execute_result",
          "data": {
            "text/plain": [
              "      CLV_churn\n",
              "0             0\n",
              "1             2\n",
              "2             3\n",
              "3             2\n",
              "4             0\n",
              "...         ...\n",
              "9129          3\n",
              "9130          0\n",
              "9131          2\n",
              "9132          2\n",
              "9133          0\n",
              "\n",
              "[9134 rows x 1 columns]"
            ],
            "text/html": [
              "\n",
              "  <div id=\"df-77c6bb94-f1f7-4f40-92c9-d3c1711934b2\">\n",
              "    <div class=\"colab-df-container\">\n",
              "      <div>\n",
              "<style scoped>\n",
              "    .dataframe tbody tr th:only-of-type {\n",
              "        vertical-align: middle;\n",
              "    }\n",
              "\n",
              "    .dataframe tbody tr th {\n",
              "        vertical-align: top;\n",
              "    }\n",
              "\n",
              "    .dataframe thead th {\n",
              "        text-align: right;\n",
              "    }\n",
              "</style>\n",
              "<table border=\"1\" class=\"dataframe\">\n",
              "  <thead>\n",
              "    <tr style=\"text-align: right;\">\n",
              "      <th></th>\n",
              "      <th>CLV_churn</th>\n",
              "    </tr>\n",
              "  </thead>\n",
              "  <tbody>\n",
              "    <tr>\n",
              "      <th>0</th>\n",
              "      <td>0</td>\n",
              "    </tr>\n",
              "    <tr>\n",
              "      <th>1</th>\n",
              "      <td>2</td>\n",
              "    </tr>\n",
              "    <tr>\n",
              "      <th>2</th>\n",
              "      <td>3</td>\n",
              "    </tr>\n",
              "    <tr>\n",
              "      <th>3</th>\n",
              "      <td>2</td>\n",
              "    </tr>\n",
              "    <tr>\n",
              "      <th>4</th>\n",
              "      <td>0</td>\n",
              "    </tr>\n",
              "    <tr>\n",
              "      <th>...</th>\n",
              "      <td>...</td>\n",
              "    </tr>\n",
              "    <tr>\n",
              "      <th>9129</th>\n",
              "      <td>3</td>\n",
              "    </tr>\n",
              "    <tr>\n",
              "      <th>9130</th>\n",
              "      <td>0</td>\n",
              "    </tr>\n",
              "    <tr>\n",
              "      <th>9131</th>\n",
              "      <td>2</td>\n",
              "    </tr>\n",
              "    <tr>\n",
              "      <th>9132</th>\n",
              "      <td>2</td>\n",
              "    </tr>\n",
              "    <tr>\n",
              "      <th>9133</th>\n",
              "      <td>0</td>\n",
              "    </tr>\n",
              "  </tbody>\n",
              "</table>\n",
              "<p>9134 rows × 1 columns</p>\n",
              "</div>\n",
              "      <button class=\"colab-df-convert\" onclick=\"convertToInteractive('df-77c6bb94-f1f7-4f40-92c9-d3c1711934b2')\"\n",
              "              title=\"Convert this dataframe to an interactive table.\"\n",
              "              style=\"display:none;\">\n",
              "        \n",
              "  <svg xmlns=\"http://www.w3.org/2000/svg\" height=\"24px\"viewBox=\"0 0 24 24\"\n",
              "       width=\"24px\">\n",
              "    <path d=\"M0 0h24v24H0V0z\" fill=\"none\"/>\n",
              "    <path d=\"M18.56 5.44l.94 2.06.94-2.06 2.06-.94-2.06-.94-.94-2.06-.94 2.06-2.06.94zm-11 1L8.5 8.5l.94-2.06 2.06-.94-2.06-.94L8.5 2.5l-.94 2.06-2.06.94zm10 10l.94 2.06.94-2.06 2.06-.94-2.06-.94-.94-2.06-.94 2.06-2.06.94z\"/><path d=\"M17.41 7.96l-1.37-1.37c-.4-.4-.92-.59-1.43-.59-.52 0-1.04.2-1.43.59L10.3 9.45l-7.72 7.72c-.78.78-.78 2.05 0 2.83L4 21.41c.39.39.9.59 1.41.59.51 0 1.02-.2 1.41-.59l7.78-7.78 2.81-2.81c.8-.78.8-2.07 0-2.86zM5.41 20L4 18.59l7.72-7.72 1.47 1.35L5.41 20z\"/>\n",
              "  </svg>\n",
              "      </button>\n",
              "      \n",
              "  <style>\n",
              "    .colab-df-container {\n",
              "      display:flex;\n",
              "      flex-wrap:wrap;\n",
              "      gap: 12px;\n",
              "    }\n",
              "\n",
              "    .colab-df-convert {\n",
              "      background-color: #E8F0FE;\n",
              "      border: none;\n",
              "      border-radius: 50%;\n",
              "      cursor: pointer;\n",
              "      display: none;\n",
              "      fill: #1967D2;\n",
              "      height: 32px;\n",
              "      padding: 0 0 0 0;\n",
              "      width: 32px;\n",
              "    }\n",
              "\n",
              "    .colab-df-convert:hover {\n",
              "      background-color: #E2EBFA;\n",
              "      box-shadow: 0px 1px 2px rgba(60, 64, 67, 0.3), 0px 1px 3px 1px rgba(60, 64, 67, 0.15);\n",
              "      fill: #174EA6;\n",
              "    }\n",
              "\n",
              "    [theme=dark] .colab-df-convert {\n",
              "      background-color: #3B4455;\n",
              "      fill: #D2E3FC;\n",
              "    }\n",
              "\n",
              "    [theme=dark] .colab-df-convert:hover {\n",
              "      background-color: #434B5C;\n",
              "      box-shadow: 0px 1px 3px 1px rgba(0, 0, 0, 0.15);\n",
              "      filter: drop-shadow(0px 1px 2px rgba(0, 0, 0, 0.3));\n",
              "      fill: #FFFFFF;\n",
              "    }\n",
              "  </style>\n",
              "\n",
              "      <script>\n",
              "        const buttonEl =\n",
              "          document.querySelector('#df-77c6bb94-f1f7-4f40-92c9-d3c1711934b2 button.colab-df-convert');\n",
              "        buttonEl.style.display =\n",
              "          google.colab.kernel.accessAllowed ? 'block' : 'none';\n",
              "\n",
              "        async function convertToInteractive(key) {\n",
              "          const element = document.querySelector('#df-77c6bb94-f1f7-4f40-92c9-d3c1711934b2');\n",
              "          const dataTable =\n",
              "            await google.colab.kernel.invokeFunction('convertToInteractive',\n",
              "                                                     [key], {});\n",
              "          if (!dataTable) return;\n",
              "\n",
              "          const docLinkHtml = 'Like what you see? Visit the ' +\n",
              "            '<a target=\"_blank\" href=https://colab.research.google.com/notebooks/data_table.ipynb>data table notebook</a>'\n",
              "            + ' to learn more about interactive tables.';\n",
              "          element.innerHTML = '';\n",
              "          dataTable['output_type'] = 'display_data';\n",
              "          await google.colab.output.renderOutput(dataTable, element);\n",
              "          const docLink = document.createElement('div');\n",
              "          docLink.innerHTML = docLinkHtml;\n",
              "          element.appendChild(docLink);\n",
              "        }\n",
              "      </script>\n",
              "    </div>\n",
              "  </div>\n",
              "  "
            ]
          },
          "metadata": {},
          "execution_count": 11
        }
      ]
    },
    {
      "cell_type": "code",
      "source": [
        "# Wieder an Datensatz dran hängen\n",
        "df_1 = pd.concat((df_1, df), axis=1)\n",
        "df_1"
      ],
      "metadata": {
        "colab": {
          "base_uri": "https://localhost:8080/",
          "height": 661
        },
        "id": "zFdGIu5xZBWe",
        "outputId": "a2fcf05e-670d-4f44-e2cb-36c3c2b7685a"
      },
      "execution_count": null,
      "outputs": [
        {
          "output_type": "execute_result",
          "data": {
            "text/plain": [
              "      CLV_churn Customer       State  Customer_Lifetime_Value Response  \\\n",
              "0             0  BU79786  Washington              2763.519279       No   \n",
              "1             2  QZ44356     Arizona              6979.535903       No   \n",
              "2             3  AI49188      Nevada             12887.431650       No   \n",
              "3             2  WW63253  California              7645.861827       No   \n",
              "4             0  HB64268  Washington              2813.692575       No   \n",
              "...         ...      ...         ...                      ...      ...   \n",
              "9129          3  LA72316  California             23405.987980       No   \n",
              "9130          0  PK87824  California              3096.511217      Yes   \n",
              "9131          2  TD14365  California              8163.890428       No   \n",
              "9132          2  UP19263  California              7524.442436       No   \n",
              "9133          0  Y167826  California              2611.836866       No   \n",
              "\n",
              "      Coverage Education Effective_To_Date EmploymentStatus Gender  ...  \\\n",
              "0        Basic  Bachelor           2/24/11         Employed      F  ...   \n",
              "1     Extended  Bachelor           1/31/11       Unemployed      F  ...   \n",
              "2      Premium  Bachelor           2/19/11         Employed      F  ...   \n",
              "3        Basic  Bachelor           1/20/11       Unemployed      M  ...   \n",
              "4        Basic  Bachelor            2/3/11         Employed      M  ...   \n",
              "...        ...       ...               ...              ...    ...  ...   \n",
              "9129     Basic  Bachelor           2/10/11         Employed      M  ...   \n",
              "9130  Extended   College           2/12/11         Employed      F  ...   \n",
              "9131  Extended  Bachelor            2/6/11       Unemployed      M  ...   \n",
              "9132  Extended   College            2/3/11         Employed      M  ...   \n",
              "9133  Extended   College           2/14/11       Unemployed      M  ...   \n",
              "\n",
              "      Months_Since_Policy_Inception Number_of_Open_Complaints  \\\n",
              "0                                 5                         0   \n",
              "1                                42                         0   \n",
              "2                                38                         0   \n",
              "3                                65                         0   \n",
              "4                                44                         0   \n",
              "...                             ...                       ...   \n",
              "9129                             89                         0   \n",
              "9130                             28                         0   \n",
              "9131                             37                         3   \n",
              "9132                              3                         0   \n",
              "9133                             90                         0   \n",
              "\n",
              "     Number_of_Policies     Policy_Type        Policy  Renew_Offer_Type  \\\n",
              "0                     1  Corporate Auto  Corporate L3            Offer1   \n",
              "1                     8   Personal Auto   Personal L3            Offer3   \n",
              "2                     2   Personal Auto   Personal L3            Offer1   \n",
              "3                     7  Corporate Auto  Corporate L2            Offer1   \n",
              "4                     1   Personal Auto   Personal L1            Offer1   \n",
              "...                 ...             ...           ...               ...   \n",
              "9129                  2   Personal Auto   Personal L1            Offer2   \n",
              "9130                  1  Corporate Auto  Corporate L3            Offer1   \n",
              "9131                  2  Corporate Auto  Corporate L2            Offer1   \n",
              "9132                  3   Personal Auto   Personal L2            Offer3   \n",
              "9133                  1  Corporate Auto  Corporate L3            Offer4   \n",
              "\n",
              "      Sales_Channel  Total_Claim_Amount  Vehicle_Class Vehicle_Size  \n",
              "0             Agent          384.811147   Two-Door Car      Medsize  \n",
              "1             Agent         1131.464935  Four-Door Car      Medsize  \n",
              "2             Agent          566.472247   Two-Door Car      Medsize  \n",
              "3       Call Center          529.881344            SUV      Medsize  \n",
              "4             Agent          138.130879  Four-Door Car      Medsize  \n",
              "...             ...                 ...            ...          ...  \n",
              "9129            Web          198.234764  Four-Door Car      Medsize  \n",
              "9130         Branch          379.200000  Four-Door Car      Medsize  \n",
              "9131         Branch          790.784983  Four-Door Car      Medsize  \n",
              "9132         Branch          691.200000  Four-Door Car        Large  \n",
              "9133    Call Center          369.600000   Two-Door Car      Medsize  \n",
              "\n",
              "[9134 rows x 25 columns]"
            ],
            "text/html": [
              "\n",
              "  <div id=\"df-89e6983d-7933-48ba-8855-4ac77c2d382b\">\n",
              "    <div class=\"colab-df-container\">\n",
              "      <div>\n",
              "<style scoped>\n",
              "    .dataframe tbody tr th:only-of-type {\n",
              "        vertical-align: middle;\n",
              "    }\n",
              "\n",
              "    .dataframe tbody tr th {\n",
              "        vertical-align: top;\n",
              "    }\n",
              "\n",
              "    .dataframe thead th {\n",
              "        text-align: right;\n",
              "    }\n",
              "</style>\n",
              "<table border=\"1\" class=\"dataframe\">\n",
              "  <thead>\n",
              "    <tr style=\"text-align: right;\">\n",
              "      <th></th>\n",
              "      <th>CLV_churn</th>\n",
              "      <th>Customer</th>\n",
              "      <th>State</th>\n",
              "      <th>Customer_Lifetime_Value</th>\n",
              "      <th>Response</th>\n",
              "      <th>Coverage</th>\n",
              "      <th>Education</th>\n",
              "      <th>Effective_To_Date</th>\n",
              "      <th>EmploymentStatus</th>\n",
              "      <th>Gender</th>\n",
              "      <th>...</th>\n",
              "      <th>Months_Since_Policy_Inception</th>\n",
              "      <th>Number_of_Open_Complaints</th>\n",
              "      <th>Number_of_Policies</th>\n",
              "      <th>Policy_Type</th>\n",
              "      <th>Policy</th>\n",
              "      <th>Renew_Offer_Type</th>\n",
              "      <th>Sales_Channel</th>\n",
              "      <th>Total_Claim_Amount</th>\n",
              "      <th>Vehicle_Class</th>\n",
              "      <th>Vehicle_Size</th>\n",
              "    </tr>\n",
              "  </thead>\n",
              "  <tbody>\n",
              "    <tr>\n",
              "      <th>0</th>\n",
              "      <td>0</td>\n",
              "      <td>BU79786</td>\n",
              "      <td>Washington</td>\n",
              "      <td>2763.519279</td>\n",
              "      <td>No</td>\n",
              "      <td>Basic</td>\n",
              "      <td>Bachelor</td>\n",
              "      <td>2/24/11</td>\n",
              "      <td>Employed</td>\n",
              "      <td>F</td>\n",
              "      <td>...</td>\n",
              "      <td>5</td>\n",
              "      <td>0</td>\n",
              "      <td>1</td>\n",
              "      <td>Corporate Auto</td>\n",
              "      <td>Corporate L3</td>\n",
              "      <td>Offer1</td>\n",
              "      <td>Agent</td>\n",
              "      <td>384.811147</td>\n",
              "      <td>Two-Door Car</td>\n",
              "      <td>Medsize</td>\n",
              "    </tr>\n",
              "    <tr>\n",
              "      <th>1</th>\n",
              "      <td>2</td>\n",
              "      <td>QZ44356</td>\n",
              "      <td>Arizona</td>\n",
              "      <td>6979.535903</td>\n",
              "      <td>No</td>\n",
              "      <td>Extended</td>\n",
              "      <td>Bachelor</td>\n",
              "      <td>1/31/11</td>\n",
              "      <td>Unemployed</td>\n",
              "      <td>F</td>\n",
              "      <td>...</td>\n",
              "      <td>42</td>\n",
              "      <td>0</td>\n",
              "      <td>8</td>\n",
              "      <td>Personal Auto</td>\n",
              "      <td>Personal L3</td>\n",
              "      <td>Offer3</td>\n",
              "      <td>Agent</td>\n",
              "      <td>1131.464935</td>\n",
              "      <td>Four-Door Car</td>\n",
              "      <td>Medsize</td>\n",
              "    </tr>\n",
              "    <tr>\n",
              "      <th>2</th>\n",
              "      <td>3</td>\n",
              "      <td>AI49188</td>\n",
              "      <td>Nevada</td>\n",
              "      <td>12887.431650</td>\n",
              "      <td>No</td>\n",
              "      <td>Premium</td>\n",
              "      <td>Bachelor</td>\n",
              "      <td>2/19/11</td>\n",
              "      <td>Employed</td>\n",
              "      <td>F</td>\n",
              "      <td>...</td>\n",
              "      <td>38</td>\n",
              "      <td>0</td>\n",
              "      <td>2</td>\n",
              "      <td>Personal Auto</td>\n",
              "      <td>Personal L3</td>\n",
              "      <td>Offer1</td>\n",
              "      <td>Agent</td>\n",
              "      <td>566.472247</td>\n",
              "      <td>Two-Door Car</td>\n",
              "      <td>Medsize</td>\n",
              "    </tr>\n",
              "    <tr>\n",
              "      <th>3</th>\n",
              "      <td>2</td>\n",
              "      <td>WW63253</td>\n",
              "      <td>California</td>\n",
              "      <td>7645.861827</td>\n",
              "      <td>No</td>\n",
              "      <td>Basic</td>\n",
              "      <td>Bachelor</td>\n",
              "      <td>1/20/11</td>\n",
              "      <td>Unemployed</td>\n",
              "      <td>M</td>\n",
              "      <td>...</td>\n",
              "      <td>65</td>\n",
              "      <td>0</td>\n",
              "      <td>7</td>\n",
              "      <td>Corporate Auto</td>\n",
              "      <td>Corporate L2</td>\n",
              "      <td>Offer1</td>\n",
              "      <td>Call Center</td>\n",
              "      <td>529.881344</td>\n",
              "      <td>SUV</td>\n",
              "      <td>Medsize</td>\n",
              "    </tr>\n",
              "    <tr>\n",
              "      <th>4</th>\n",
              "      <td>0</td>\n",
              "      <td>HB64268</td>\n",
              "      <td>Washington</td>\n",
              "      <td>2813.692575</td>\n",
              "      <td>No</td>\n",
              "      <td>Basic</td>\n",
              "      <td>Bachelor</td>\n",
              "      <td>2/3/11</td>\n",
              "      <td>Employed</td>\n",
              "      <td>M</td>\n",
              "      <td>...</td>\n",
              "      <td>44</td>\n",
              "      <td>0</td>\n",
              "      <td>1</td>\n",
              "      <td>Personal Auto</td>\n",
              "      <td>Personal L1</td>\n",
              "      <td>Offer1</td>\n",
              "      <td>Agent</td>\n",
              "      <td>138.130879</td>\n",
              "      <td>Four-Door Car</td>\n",
              "      <td>Medsize</td>\n",
              "    </tr>\n",
              "    <tr>\n",
              "      <th>...</th>\n",
              "      <td>...</td>\n",
              "      <td>...</td>\n",
              "      <td>...</td>\n",
              "      <td>...</td>\n",
              "      <td>...</td>\n",
              "      <td>...</td>\n",
              "      <td>...</td>\n",
              "      <td>...</td>\n",
              "      <td>...</td>\n",
              "      <td>...</td>\n",
              "      <td>...</td>\n",
              "      <td>...</td>\n",
              "      <td>...</td>\n",
              "      <td>...</td>\n",
              "      <td>...</td>\n",
              "      <td>...</td>\n",
              "      <td>...</td>\n",
              "      <td>...</td>\n",
              "      <td>...</td>\n",
              "      <td>...</td>\n",
              "      <td>...</td>\n",
              "    </tr>\n",
              "    <tr>\n",
              "      <th>9129</th>\n",
              "      <td>3</td>\n",
              "      <td>LA72316</td>\n",
              "      <td>California</td>\n",
              "      <td>23405.987980</td>\n",
              "      <td>No</td>\n",
              "      <td>Basic</td>\n",
              "      <td>Bachelor</td>\n",
              "      <td>2/10/11</td>\n",
              "      <td>Employed</td>\n",
              "      <td>M</td>\n",
              "      <td>...</td>\n",
              "      <td>89</td>\n",
              "      <td>0</td>\n",
              "      <td>2</td>\n",
              "      <td>Personal Auto</td>\n",
              "      <td>Personal L1</td>\n",
              "      <td>Offer2</td>\n",
              "      <td>Web</td>\n",
              "      <td>198.234764</td>\n",
              "      <td>Four-Door Car</td>\n",
              "      <td>Medsize</td>\n",
              "    </tr>\n",
              "    <tr>\n",
              "      <th>9130</th>\n",
              "      <td>0</td>\n",
              "      <td>PK87824</td>\n",
              "      <td>California</td>\n",
              "      <td>3096.511217</td>\n",
              "      <td>Yes</td>\n",
              "      <td>Extended</td>\n",
              "      <td>College</td>\n",
              "      <td>2/12/11</td>\n",
              "      <td>Employed</td>\n",
              "      <td>F</td>\n",
              "      <td>...</td>\n",
              "      <td>28</td>\n",
              "      <td>0</td>\n",
              "      <td>1</td>\n",
              "      <td>Corporate Auto</td>\n",
              "      <td>Corporate L3</td>\n",
              "      <td>Offer1</td>\n",
              "      <td>Branch</td>\n",
              "      <td>379.200000</td>\n",
              "      <td>Four-Door Car</td>\n",
              "      <td>Medsize</td>\n",
              "    </tr>\n",
              "    <tr>\n",
              "      <th>9131</th>\n",
              "      <td>2</td>\n",
              "      <td>TD14365</td>\n",
              "      <td>California</td>\n",
              "      <td>8163.890428</td>\n",
              "      <td>No</td>\n",
              "      <td>Extended</td>\n",
              "      <td>Bachelor</td>\n",
              "      <td>2/6/11</td>\n",
              "      <td>Unemployed</td>\n",
              "      <td>M</td>\n",
              "      <td>...</td>\n",
              "      <td>37</td>\n",
              "      <td>3</td>\n",
              "      <td>2</td>\n",
              "      <td>Corporate Auto</td>\n",
              "      <td>Corporate L2</td>\n",
              "      <td>Offer1</td>\n",
              "      <td>Branch</td>\n",
              "      <td>790.784983</td>\n",
              "      <td>Four-Door Car</td>\n",
              "      <td>Medsize</td>\n",
              "    </tr>\n",
              "    <tr>\n",
              "      <th>9132</th>\n",
              "      <td>2</td>\n",
              "      <td>UP19263</td>\n",
              "      <td>California</td>\n",
              "      <td>7524.442436</td>\n",
              "      <td>No</td>\n",
              "      <td>Extended</td>\n",
              "      <td>College</td>\n",
              "      <td>2/3/11</td>\n",
              "      <td>Employed</td>\n",
              "      <td>M</td>\n",
              "      <td>...</td>\n",
              "      <td>3</td>\n",
              "      <td>0</td>\n",
              "      <td>3</td>\n",
              "      <td>Personal Auto</td>\n",
              "      <td>Personal L2</td>\n",
              "      <td>Offer3</td>\n",
              "      <td>Branch</td>\n",
              "      <td>691.200000</td>\n",
              "      <td>Four-Door Car</td>\n",
              "      <td>Large</td>\n",
              "    </tr>\n",
              "    <tr>\n",
              "      <th>9133</th>\n",
              "      <td>0</td>\n",
              "      <td>Y167826</td>\n",
              "      <td>California</td>\n",
              "      <td>2611.836866</td>\n",
              "      <td>No</td>\n",
              "      <td>Extended</td>\n",
              "      <td>College</td>\n",
              "      <td>2/14/11</td>\n",
              "      <td>Unemployed</td>\n",
              "      <td>M</td>\n",
              "      <td>...</td>\n",
              "      <td>90</td>\n",
              "      <td>0</td>\n",
              "      <td>1</td>\n",
              "      <td>Corporate Auto</td>\n",
              "      <td>Corporate L3</td>\n",
              "      <td>Offer4</td>\n",
              "      <td>Call Center</td>\n",
              "      <td>369.600000</td>\n",
              "      <td>Two-Door Car</td>\n",
              "      <td>Medsize</td>\n",
              "    </tr>\n",
              "  </tbody>\n",
              "</table>\n",
              "<p>9134 rows × 25 columns</p>\n",
              "</div>\n",
              "      <button class=\"colab-df-convert\" onclick=\"convertToInteractive('df-89e6983d-7933-48ba-8855-4ac77c2d382b')\"\n",
              "              title=\"Convert this dataframe to an interactive table.\"\n",
              "              style=\"display:none;\">\n",
              "        \n",
              "  <svg xmlns=\"http://www.w3.org/2000/svg\" height=\"24px\"viewBox=\"0 0 24 24\"\n",
              "       width=\"24px\">\n",
              "    <path d=\"M0 0h24v24H0V0z\" fill=\"none\"/>\n",
              "    <path d=\"M18.56 5.44l.94 2.06.94-2.06 2.06-.94-2.06-.94-.94-2.06-.94 2.06-2.06.94zm-11 1L8.5 8.5l.94-2.06 2.06-.94-2.06-.94L8.5 2.5l-.94 2.06-2.06.94zm10 10l.94 2.06.94-2.06 2.06-.94-2.06-.94-.94-2.06-.94 2.06-2.06.94z\"/><path d=\"M17.41 7.96l-1.37-1.37c-.4-.4-.92-.59-1.43-.59-.52 0-1.04.2-1.43.59L10.3 9.45l-7.72 7.72c-.78.78-.78 2.05 0 2.83L4 21.41c.39.39.9.59 1.41.59.51 0 1.02-.2 1.41-.59l7.78-7.78 2.81-2.81c.8-.78.8-2.07 0-2.86zM5.41 20L4 18.59l7.72-7.72 1.47 1.35L5.41 20z\"/>\n",
              "  </svg>\n",
              "      </button>\n",
              "      \n",
              "  <style>\n",
              "    .colab-df-container {\n",
              "      display:flex;\n",
              "      flex-wrap:wrap;\n",
              "      gap: 12px;\n",
              "    }\n",
              "\n",
              "    .colab-df-convert {\n",
              "      background-color: #E8F0FE;\n",
              "      border: none;\n",
              "      border-radius: 50%;\n",
              "      cursor: pointer;\n",
              "      display: none;\n",
              "      fill: #1967D2;\n",
              "      height: 32px;\n",
              "      padding: 0 0 0 0;\n",
              "      width: 32px;\n",
              "    }\n",
              "\n",
              "    .colab-df-convert:hover {\n",
              "      background-color: #E2EBFA;\n",
              "      box-shadow: 0px 1px 2px rgba(60, 64, 67, 0.3), 0px 1px 3px 1px rgba(60, 64, 67, 0.15);\n",
              "      fill: #174EA6;\n",
              "    }\n",
              "\n",
              "    [theme=dark] .colab-df-convert {\n",
              "      background-color: #3B4455;\n",
              "      fill: #D2E3FC;\n",
              "    }\n",
              "\n",
              "    [theme=dark] .colab-df-convert:hover {\n",
              "      background-color: #434B5C;\n",
              "      box-shadow: 0px 1px 3px 1px rgba(0, 0, 0, 0.15);\n",
              "      filter: drop-shadow(0px 1px 2px rgba(0, 0, 0, 0.3));\n",
              "      fill: #FFFFFF;\n",
              "    }\n",
              "  </style>\n",
              "\n",
              "      <script>\n",
              "        const buttonEl =\n",
              "          document.querySelector('#df-89e6983d-7933-48ba-8855-4ac77c2d382b button.colab-df-convert');\n",
              "        buttonEl.style.display =\n",
              "          google.colab.kernel.accessAllowed ? 'block' : 'none';\n",
              "\n",
              "        async function convertToInteractive(key) {\n",
              "          const element = document.querySelector('#df-89e6983d-7933-48ba-8855-4ac77c2d382b');\n",
              "          const dataTable =\n",
              "            await google.colab.kernel.invokeFunction('convertToInteractive',\n",
              "                                                     [key], {});\n",
              "          if (!dataTable) return;\n",
              "\n",
              "          const docLinkHtml = 'Like what you see? Visit the ' +\n",
              "            '<a target=\"_blank\" href=https://colab.research.google.com/notebooks/data_table.ipynb>data table notebook</a>'\n",
              "            + ' to learn more about interactive tables.';\n",
              "          element.innerHTML = '';\n",
              "          dataTable['output_type'] = 'display_data';\n",
              "          await google.colab.output.renderOutput(dataTable, element);\n",
              "          const docLink = document.createElement('div');\n",
              "          docLink.innerHTML = docLinkHtml;\n",
              "          element.appendChild(docLink);\n",
              "        }\n",
              "      </script>\n",
              "    </div>\n",
              "  </div>\n",
              "  "
            ]
          },
          "metadata": {},
          "execution_count": 12
        }
      ]
    },
    {
      "cell_type": "code",
      "source": [
        "#Alt\n",
        "#\"Zielvariable\" bestimmt: Alle mit CLV < 6000 sind Abwanderungsgefährdet (Da es ca. 50% sind) --> als extra Spalte dem Datensatz hinzugefügt\n",
        "#df_1 = df.assign(CLV_churn = np.where(df['Customer_Lifetime_Value']<6000, 1, 0))\n",
        "#df_1\n",
        "#--> hier bei Classification zu hohe Werte"
      ],
      "metadata": {
        "id": "GraoZyQo-wSU"
      },
      "execution_count": null,
      "outputs": []
    },
    {
      "cell_type": "code",
      "source": [
        "#Datentypen anzeigen\n",
        "df_1.dtypes"
      ],
      "metadata": {
        "id": "_Xmodt8jMWVr",
        "colab": {
          "base_uri": "https://localhost:8080/"
        },
        "outputId": "1552f25f-2137-4fa6-fbd6-4b0ea60b3acf"
      },
      "execution_count": null,
      "outputs": [
        {
          "output_type": "execute_result",
          "data": {
            "text/plain": [
              "CLV_churn                          int64\n",
              "Customer                          object\n",
              "State                             object\n",
              "Customer_Lifetime_Value          float64\n",
              "Response                          object\n",
              "Coverage                          object\n",
              "Education                         object\n",
              "Effective_To_Date                 object\n",
              "EmploymentStatus                  object\n",
              "Gender                            object\n",
              "Income                             int64\n",
              "Location_Code                     object\n",
              "Marital_Status                    object\n",
              "Monthly_Premium_Auto               int64\n",
              "Months_Since_Last_Claim            int64\n",
              "Months_Since_Policy_Inception      int64\n",
              "Number_of_Open_Complaints          int64\n",
              "Number_of_Policies                 int64\n",
              "Policy_Type                       object\n",
              "Policy                            object\n",
              "Renew_Offer_Type                  object\n",
              "Sales_Channel                     object\n",
              "Total_Claim_Amount               float64\n",
              "Vehicle_Class                     object\n",
              "Vehicle_Size                      object\n",
              "dtype: object"
            ]
          },
          "metadata": {},
          "execution_count": 14
        }
      ]
    },
    {
      "cell_type": "code",
      "source": [
        "# object in Datum transformiert (Effectiveness_To_Date)\n",
        "df_1['Effective_To_Date'] = pd.to_datetime(df_1['Effective_To_Date'])\n",
        "df_1.dtypes"
      ],
      "metadata": {
        "colab": {
          "base_uri": "https://localhost:8080/"
        },
        "id": "oc9k5xELDVu2",
        "outputId": "3efefb4c-00f6-4df6-a7fb-e0110e2a4f19"
      },
      "execution_count": null,
      "outputs": [
        {
          "output_type": "execute_result",
          "data": {
            "text/plain": [
              "CLV_churn                                 int64\n",
              "Customer                                 object\n",
              "State                                    object\n",
              "Customer_Lifetime_Value                 float64\n",
              "Response                                 object\n",
              "Coverage                                 object\n",
              "Education                                object\n",
              "Effective_To_Date                datetime64[ns]\n",
              "EmploymentStatus                         object\n",
              "Gender                                   object\n",
              "Income                                    int64\n",
              "Location_Code                            object\n",
              "Marital_Status                           object\n",
              "Monthly_Premium_Auto                      int64\n",
              "Months_Since_Last_Claim                   int64\n",
              "Months_Since_Policy_Inception             int64\n",
              "Number_of_Open_Complaints                 int64\n",
              "Number_of_Policies                        int64\n",
              "Policy_Type                              object\n",
              "Policy                                   object\n",
              "Renew_Offer_Type                         object\n",
              "Sales_Channel                            object\n",
              "Total_Claim_Amount                      float64\n",
              "Vehicle_Class                            object\n",
              "Vehicle_Size                             object\n",
              "dtype: object"
            ]
          },
          "metadata": {},
          "execution_count": 15
        }
      ]
    },
    {
      "cell_type": "code",
      "source": [
        "df_1['EmploymentStatus'].unique()"
      ],
      "metadata": {
        "colab": {
          "base_uri": "https://localhost:8080/"
        },
        "id": "jyvj15IfEZLO",
        "outputId": "89a13a2c-d242-4596-c52b-3e307c7cb292"
      },
      "execution_count": null,
      "outputs": [
        {
          "output_type": "execute_result",
          "data": {
            "text/plain": [
              "array(['Employed', 'Unemployed', 'Medical Leave', 'Disabled', 'Retired'],\n",
              "      dtype=object)"
            ]
          },
          "metadata": {},
          "execution_count": 16
        }
      ]
    },
    {
      "cell_type": "markdown",
      "source": [
        "nominal (ohne Reihenfolge): State, EmploymentStatus, Gender, Marital_Status, Policy_Type, Policy, Renew_Offer_Type , Sales_Channel, Vehicle_Class, Response\n",
        "\n",
        "ordinal (mit Reihenfolge): Coverage, Education, Location_Code, Vehicle_Size\n"
      ],
      "metadata": {
        "id": "4n4T5zob2aGy"
      }
    },
    {
      "cell_type": "code",
      "source": [
        "# Für nominal Werte Dummy erzeugen\n",
        "dummy_liste = df_1.loc[:,['State','EmploymentStatus', 'Gender', 'Marital_Status', 'Policy_Type', 'Policy', 'Renew_Offer_Type', 'Sales_Channel', 'Vehicle_Class', 'Response']]\n",
        "dummys=pd.get_dummies(dummy_liste)\n",
        "dummys"
      ],
      "metadata": {
        "id": "Vi_lhmEB2Pyr",
        "colab": {
          "base_uri": "https://localhost:8080/",
          "height": 505
        },
        "outputId": "779defa7-32dc-4616-b704-b38a1b384b3d"
      },
      "execution_count": null,
      "outputs": [
        {
          "output_type": "execute_result",
          "data": {
            "text/plain": [
              "      State_Arizona  State_California  State_Nevada  State_Oregon  \\\n",
              "0                 0                 0             0             0   \n",
              "1                 1                 0             0             0   \n",
              "2                 0                 0             1             0   \n",
              "3                 0                 1             0             0   \n",
              "4                 0                 0             0             0   \n",
              "...             ...               ...           ...           ...   \n",
              "9129              0                 1             0             0   \n",
              "9130              0                 1             0             0   \n",
              "9131              0                 1             0             0   \n",
              "9132              0                 1             0             0   \n",
              "9133              0                 1             0             0   \n",
              "\n",
              "      State_Washington  EmploymentStatus_Disabled  EmploymentStatus_Employed  \\\n",
              "0                    1                          0                          1   \n",
              "1                    0                          0                          0   \n",
              "2                    0                          0                          1   \n",
              "3                    0                          0                          0   \n",
              "4                    1                          0                          1   \n",
              "...                ...                        ...                        ...   \n",
              "9129                 0                          0                          1   \n",
              "9130                 0                          0                          1   \n",
              "9131                 0                          0                          0   \n",
              "9132                 0                          0                          1   \n",
              "9133                 0                          0                          0   \n",
              "\n",
              "      EmploymentStatus_Medical Leave  EmploymentStatus_Retired  \\\n",
              "0                                  0                         0   \n",
              "1                                  0                         0   \n",
              "2                                  0                         0   \n",
              "3                                  0                         0   \n",
              "4                                  0                         0   \n",
              "...                              ...                       ...   \n",
              "9129                               0                         0   \n",
              "9130                               0                         0   \n",
              "9131                               0                         0   \n",
              "9132                               0                         0   \n",
              "9133                               0                         0   \n",
              "\n",
              "      EmploymentStatus_Unemployed  ...  Sales_Channel_Call Center  \\\n",
              "0                               0  ...                          0   \n",
              "1                               1  ...                          0   \n",
              "2                               0  ...                          0   \n",
              "3                               1  ...                          1   \n",
              "4                               0  ...                          0   \n",
              "...                           ...  ...                        ...   \n",
              "9129                            0  ...                          0   \n",
              "9130                            0  ...                          0   \n",
              "9131                            1  ...                          0   \n",
              "9132                            0  ...                          0   \n",
              "9133                            1  ...                          1   \n",
              "\n",
              "      Sales_Channel_Web  Vehicle_Class_Four-Door Car  \\\n",
              "0                     0                            0   \n",
              "1                     0                            1   \n",
              "2                     0                            0   \n",
              "3                     0                            0   \n",
              "4                     0                            1   \n",
              "...                 ...                          ...   \n",
              "9129                  1                            1   \n",
              "9130                  0                            1   \n",
              "9131                  0                            1   \n",
              "9132                  0                            1   \n",
              "9133                  0                            0   \n",
              "\n",
              "      Vehicle_Class_Luxury Car  Vehicle_Class_Luxury SUV  Vehicle_Class_SUV  \\\n",
              "0                            0                         0                  0   \n",
              "1                            0                         0                  0   \n",
              "2                            0                         0                  0   \n",
              "3                            0                         0                  1   \n",
              "4                            0                         0                  0   \n",
              "...                        ...                       ...                ...   \n",
              "9129                         0                         0                  0   \n",
              "9130                         0                         0                  0   \n",
              "9131                         0                         0                  0   \n",
              "9132                         0                         0                  0   \n",
              "9133                         0                         0                  0   \n",
              "\n",
              "      Vehicle_Class_Sports Car  Vehicle_Class_Two-Door Car  Response_No  \\\n",
              "0                            0                           1            1   \n",
              "1                            0                           0            1   \n",
              "2                            0                           1            1   \n",
              "3                            0                           0            1   \n",
              "4                            0                           0            1   \n",
              "...                        ...                         ...          ...   \n",
              "9129                         0                           0            1   \n",
              "9130                         0                           0            0   \n",
              "9131                         0                           0            1   \n",
              "9132                         0                           0            1   \n",
              "9133                         0                           1            1   \n",
              "\n",
              "      Response_Yes  \n",
              "0                0  \n",
              "1                0  \n",
              "2                0  \n",
              "3                0  \n",
              "4                0  \n",
              "...            ...  \n",
              "9129             0  \n",
              "9130             1  \n",
              "9131             0  \n",
              "9132             0  \n",
              "9133             0  \n",
              "\n",
              "[9134 rows x 43 columns]"
            ],
            "text/html": [
              "\n",
              "  <div id=\"df-76b4fed6-0015-42ab-a2c8-d426893cef2f\">\n",
              "    <div class=\"colab-df-container\">\n",
              "      <div>\n",
              "<style scoped>\n",
              "    .dataframe tbody tr th:only-of-type {\n",
              "        vertical-align: middle;\n",
              "    }\n",
              "\n",
              "    .dataframe tbody tr th {\n",
              "        vertical-align: top;\n",
              "    }\n",
              "\n",
              "    .dataframe thead th {\n",
              "        text-align: right;\n",
              "    }\n",
              "</style>\n",
              "<table border=\"1\" class=\"dataframe\">\n",
              "  <thead>\n",
              "    <tr style=\"text-align: right;\">\n",
              "      <th></th>\n",
              "      <th>State_Arizona</th>\n",
              "      <th>State_California</th>\n",
              "      <th>State_Nevada</th>\n",
              "      <th>State_Oregon</th>\n",
              "      <th>State_Washington</th>\n",
              "      <th>EmploymentStatus_Disabled</th>\n",
              "      <th>EmploymentStatus_Employed</th>\n",
              "      <th>EmploymentStatus_Medical Leave</th>\n",
              "      <th>EmploymentStatus_Retired</th>\n",
              "      <th>EmploymentStatus_Unemployed</th>\n",
              "      <th>...</th>\n",
              "      <th>Sales_Channel_Call Center</th>\n",
              "      <th>Sales_Channel_Web</th>\n",
              "      <th>Vehicle_Class_Four-Door Car</th>\n",
              "      <th>Vehicle_Class_Luxury Car</th>\n",
              "      <th>Vehicle_Class_Luxury SUV</th>\n",
              "      <th>Vehicle_Class_SUV</th>\n",
              "      <th>Vehicle_Class_Sports Car</th>\n",
              "      <th>Vehicle_Class_Two-Door Car</th>\n",
              "      <th>Response_No</th>\n",
              "      <th>Response_Yes</th>\n",
              "    </tr>\n",
              "  </thead>\n",
              "  <tbody>\n",
              "    <tr>\n",
              "      <th>0</th>\n",
              "      <td>0</td>\n",
              "      <td>0</td>\n",
              "      <td>0</td>\n",
              "      <td>0</td>\n",
              "      <td>1</td>\n",
              "      <td>0</td>\n",
              "      <td>1</td>\n",
              "      <td>0</td>\n",
              "      <td>0</td>\n",
              "      <td>0</td>\n",
              "      <td>...</td>\n",
              "      <td>0</td>\n",
              "      <td>0</td>\n",
              "      <td>0</td>\n",
              "      <td>0</td>\n",
              "      <td>0</td>\n",
              "      <td>0</td>\n",
              "      <td>0</td>\n",
              "      <td>1</td>\n",
              "      <td>1</td>\n",
              "      <td>0</td>\n",
              "    </tr>\n",
              "    <tr>\n",
              "      <th>1</th>\n",
              "      <td>1</td>\n",
              "      <td>0</td>\n",
              "      <td>0</td>\n",
              "      <td>0</td>\n",
              "      <td>0</td>\n",
              "      <td>0</td>\n",
              "      <td>0</td>\n",
              "      <td>0</td>\n",
              "      <td>0</td>\n",
              "      <td>1</td>\n",
              "      <td>...</td>\n",
              "      <td>0</td>\n",
              "      <td>0</td>\n",
              "      <td>1</td>\n",
              "      <td>0</td>\n",
              "      <td>0</td>\n",
              "      <td>0</td>\n",
              "      <td>0</td>\n",
              "      <td>0</td>\n",
              "      <td>1</td>\n",
              "      <td>0</td>\n",
              "    </tr>\n",
              "    <tr>\n",
              "      <th>2</th>\n",
              "      <td>0</td>\n",
              "      <td>0</td>\n",
              "      <td>1</td>\n",
              "      <td>0</td>\n",
              "      <td>0</td>\n",
              "      <td>0</td>\n",
              "      <td>1</td>\n",
              "      <td>0</td>\n",
              "      <td>0</td>\n",
              "      <td>0</td>\n",
              "      <td>...</td>\n",
              "      <td>0</td>\n",
              "      <td>0</td>\n",
              "      <td>0</td>\n",
              "      <td>0</td>\n",
              "      <td>0</td>\n",
              "      <td>0</td>\n",
              "      <td>0</td>\n",
              "      <td>1</td>\n",
              "      <td>1</td>\n",
              "      <td>0</td>\n",
              "    </tr>\n",
              "    <tr>\n",
              "      <th>3</th>\n",
              "      <td>0</td>\n",
              "      <td>1</td>\n",
              "      <td>0</td>\n",
              "      <td>0</td>\n",
              "      <td>0</td>\n",
              "      <td>0</td>\n",
              "      <td>0</td>\n",
              "      <td>0</td>\n",
              "      <td>0</td>\n",
              "      <td>1</td>\n",
              "      <td>...</td>\n",
              "      <td>1</td>\n",
              "      <td>0</td>\n",
              "      <td>0</td>\n",
              "      <td>0</td>\n",
              "      <td>0</td>\n",
              "      <td>1</td>\n",
              "      <td>0</td>\n",
              "      <td>0</td>\n",
              "      <td>1</td>\n",
              "      <td>0</td>\n",
              "    </tr>\n",
              "    <tr>\n",
              "      <th>4</th>\n",
              "      <td>0</td>\n",
              "      <td>0</td>\n",
              "      <td>0</td>\n",
              "      <td>0</td>\n",
              "      <td>1</td>\n",
              "      <td>0</td>\n",
              "      <td>1</td>\n",
              "      <td>0</td>\n",
              "      <td>0</td>\n",
              "      <td>0</td>\n",
              "      <td>...</td>\n",
              "      <td>0</td>\n",
              "      <td>0</td>\n",
              "      <td>1</td>\n",
              "      <td>0</td>\n",
              "      <td>0</td>\n",
              "      <td>0</td>\n",
              "      <td>0</td>\n",
              "      <td>0</td>\n",
              "      <td>1</td>\n",
              "      <td>0</td>\n",
              "    </tr>\n",
              "    <tr>\n",
              "      <th>...</th>\n",
              "      <td>...</td>\n",
              "      <td>...</td>\n",
              "      <td>...</td>\n",
              "      <td>...</td>\n",
              "      <td>...</td>\n",
              "      <td>...</td>\n",
              "      <td>...</td>\n",
              "      <td>...</td>\n",
              "      <td>...</td>\n",
              "      <td>...</td>\n",
              "      <td>...</td>\n",
              "      <td>...</td>\n",
              "      <td>...</td>\n",
              "      <td>...</td>\n",
              "      <td>...</td>\n",
              "      <td>...</td>\n",
              "      <td>...</td>\n",
              "      <td>...</td>\n",
              "      <td>...</td>\n",
              "      <td>...</td>\n",
              "      <td>...</td>\n",
              "    </tr>\n",
              "    <tr>\n",
              "      <th>9129</th>\n",
              "      <td>0</td>\n",
              "      <td>1</td>\n",
              "      <td>0</td>\n",
              "      <td>0</td>\n",
              "      <td>0</td>\n",
              "      <td>0</td>\n",
              "      <td>1</td>\n",
              "      <td>0</td>\n",
              "      <td>0</td>\n",
              "      <td>0</td>\n",
              "      <td>...</td>\n",
              "      <td>0</td>\n",
              "      <td>1</td>\n",
              "      <td>1</td>\n",
              "      <td>0</td>\n",
              "      <td>0</td>\n",
              "      <td>0</td>\n",
              "      <td>0</td>\n",
              "      <td>0</td>\n",
              "      <td>1</td>\n",
              "      <td>0</td>\n",
              "    </tr>\n",
              "    <tr>\n",
              "      <th>9130</th>\n",
              "      <td>0</td>\n",
              "      <td>1</td>\n",
              "      <td>0</td>\n",
              "      <td>0</td>\n",
              "      <td>0</td>\n",
              "      <td>0</td>\n",
              "      <td>1</td>\n",
              "      <td>0</td>\n",
              "      <td>0</td>\n",
              "      <td>0</td>\n",
              "      <td>...</td>\n",
              "      <td>0</td>\n",
              "      <td>0</td>\n",
              "      <td>1</td>\n",
              "      <td>0</td>\n",
              "      <td>0</td>\n",
              "      <td>0</td>\n",
              "      <td>0</td>\n",
              "      <td>0</td>\n",
              "      <td>0</td>\n",
              "      <td>1</td>\n",
              "    </tr>\n",
              "    <tr>\n",
              "      <th>9131</th>\n",
              "      <td>0</td>\n",
              "      <td>1</td>\n",
              "      <td>0</td>\n",
              "      <td>0</td>\n",
              "      <td>0</td>\n",
              "      <td>0</td>\n",
              "      <td>0</td>\n",
              "      <td>0</td>\n",
              "      <td>0</td>\n",
              "      <td>1</td>\n",
              "      <td>...</td>\n",
              "      <td>0</td>\n",
              "      <td>0</td>\n",
              "      <td>1</td>\n",
              "      <td>0</td>\n",
              "      <td>0</td>\n",
              "      <td>0</td>\n",
              "      <td>0</td>\n",
              "      <td>0</td>\n",
              "      <td>1</td>\n",
              "      <td>0</td>\n",
              "    </tr>\n",
              "    <tr>\n",
              "      <th>9132</th>\n",
              "      <td>0</td>\n",
              "      <td>1</td>\n",
              "      <td>0</td>\n",
              "      <td>0</td>\n",
              "      <td>0</td>\n",
              "      <td>0</td>\n",
              "      <td>1</td>\n",
              "      <td>0</td>\n",
              "      <td>0</td>\n",
              "      <td>0</td>\n",
              "      <td>...</td>\n",
              "      <td>0</td>\n",
              "      <td>0</td>\n",
              "      <td>1</td>\n",
              "      <td>0</td>\n",
              "      <td>0</td>\n",
              "      <td>0</td>\n",
              "      <td>0</td>\n",
              "      <td>0</td>\n",
              "      <td>1</td>\n",
              "      <td>0</td>\n",
              "    </tr>\n",
              "    <tr>\n",
              "      <th>9133</th>\n",
              "      <td>0</td>\n",
              "      <td>1</td>\n",
              "      <td>0</td>\n",
              "      <td>0</td>\n",
              "      <td>0</td>\n",
              "      <td>0</td>\n",
              "      <td>0</td>\n",
              "      <td>0</td>\n",
              "      <td>0</td>\n",
              "      <td>1</td>\n",
              "      <td>...</td>\n",
              "      <td>1</td>\n",
              "      <td>0</td>\n",
              "      <td>0</td>\n",
              "      <td>0</td>\n",
              "      <td>0</td>\n",
              "      <td>0</td>\n",
              "      <td>0</td>\n",
              "      <td>1</td>\n",
              "      <td>1</td>\n",
              "      <td>0</td>\n",
              "    </tr>\n",
              "  </tbody>\n",
              "</table>\n",
              "<p>9134 rows × 43 columns</p>\n",
              "</div>\n",
              "      <button class=\"colab-df-convert\" onclick=\"convertToInteractive('df-76b4fed6-0015-42ab-a2c8-d426893cef2f')\"\n",
              "              title=\"Convert this dataframe to an interactive table.\"\n",
              "              style=\"display:none;\">\n",
              "        \n",
              "  <svg xmlns=\"http://www.w3.org/2000/svg\" height=\"24px\"viewBox=\"0 0 24 24\"\n",
              "       width=\"24px\">\n",
              "    <path d=\"M0 0h24v24H0V0z\" fill=\"none\"/>\n",
              "    <path d=\"M18.56 5.44l.94 2.06.94-2.06 2.06-.94-2.06-.94-.94-2.06-.94 2.06-2.06.94zm-11 1L8.5 8.5l.94-2.06 2.06-.94-2.06-.94L8.5 2.5l-.94 2.06-2.06.94zm10 10l.94 2.06.94-2.06 2.06-.94-2.06-.94-.94-2.06-.94 2.06-2.06.94z\"/><path d=\"M17.41 7.96l-1.37-1.37c-.4-.4-.92-.59-1.43-.59-.52 0-1.04.2-1.43.59L10.3 9.45l-7.72 7.72c-.78.78-.78 2.05 0 2.83L4 21.41c.39.39.9.59 1.41.59.51 0 1.02-.2 1.41-.59l7.78-7.78 2.81-2.81c.8-.78.8-2.07 0-2.86zM5.41 20L4 18.59l7.72-7.72 1.47 1.35L5.41 20z\"/>\n",
              "  </svg>\n",
              "      </button>\n",
              "      \n",
              "  <style>\n",
              "    .colab-df-container {\n",
              "      display:flex;\n",
              "      flex-wrap:wrap;\n",
              "      gap: 12px;\n",
              "    }\n",
              "\n",
              "    .colab-df-convert {\n",
              "      background-color: #E8F0FE;\n",
              "      border: none;\n",
              "      border-radius: 50%;\n",
              "      cursor: pointer;\n",
              "      display: none;\n",
              "      fill: #1967D2;\n",
              "      height: 32px;\n",
              "      padding: 0 0 0 0;\n",
              "      width: 32px;\n",
              "    }\n",
              "\n",
              "    .colab-df-convert:hover {\n",
              "      background-color: #E2EBFA;\n",
              "      box-shadow: 0px 1px 2px rgba(60, 64, 67, 0.3), 0px 1px 3px 1px rgba(60, 64, 67, 0.15);\n",
              "      fill: #174EA6;\n",
              "    }\n",
              "\n",
              "    [theme=dark] .colab-df-convert {\n",
              "      background-color: #3B4455;\n",
              "      fill: #D2E3FC;\n",
              "    }\n",
              "\n",
              "    [theme=dark] .colab-df-convert:hover {\n",
              "      background-color: #434B5C;\n",
              "      box-shadow: 0px 1px 3px 1px rgba(0, 0, 0, 0.15);\n",
              "      filter: drop-shadow(0px 1px 2px rgba(0, 0, 0, 0.3));\n",
              "      fill: #FFFFFF;\n",
              "    }\n",
              "  </style>\n",
              "\n",
              "      <script>\n",
              "        const buttonEl =\n",
              "          document.querySelector('#df-76b4fed6-0015-42ab-a2c8-d426893cef2f button.colab-df-convert');\n",
              "        buttonEl.style.display =\n",
              "          google.colab.kernel.accessAllowed ? 'block' : 'none';\n",
              "\n",
              "        async function convertToInteractive(key) {\n",
              "          const element = document.querySelector('#df-76b4fed6-0015-42ab-a2c8-d426893cef2f');\n",
              "          const dataTable =\n",
              "            await google.colab.kernel.invokeFunction('convertToInteractive',\n",
              "                                                     [key], {});\n",
              "          if (!dataTable) return;\n",
              "\n",
              "          const docLinkHtml = 'Like what you see? Visit the ' +\n",
              "            '<a target=\"_blank\" href=https://colab.research.google.com/notebooks/data_table.ipynb>data table notebook</a>'\n",
              "            + ' to learn more about interactive tables.';\n",
              "          element.innerHTML = '';\n",
              "          dataTable['output_type'] = 'display_data';\n",
              "          await google.colab.output.renderOutput(dataTable, element);\n",
              "          const docLink = document.createElement('div');\n",
              "          docLink.innerHTML = docLinkHtml;\n",
              "          element.appendChild(docLink);\n",
              "        }\n",
              "      </script>\n",
              "    </div>\n",
              "  </div>\n",
              "  "
            ]
          },
          "metadata": {},
          "execution_count": 17
        }
      ]
    },
    {
      "cell_type": "code",
      "source": [
        "# Dummys zu dem Datensatz hinzufügen\n",
        "df_1_mitdummys = pd.concat((df_1, dummys), axis=1)\n",
        "df_1_mitdummys = df_1_mitdummys.drop(['State','EmploymentStatus', 'Gender', 'Marital_Status', 'Policy_Type', 'Policy', 'Renew_Offer_Type', 'Sales_Channel', 'Vehicle_Class', 'Response'],1)\n",
        "df_1_mitdummys.dtypes"
      ],
      "metadata": {
        "id": "zb4Zs1IkHE94",
        "colab": {
          "base_uri": "https://localhost:8080/"
        },
        "outputId": "92c3d890-3e5e-4198-8438-b8eee5837366"
      },
      "execution_count": null,
      "outputs": [
        {
          "output_type": "stream",
          "name": "stderr",
          "text": [
            "<ipython-input-18-c4eb54039908>:3: FutureWarning: In a future version of pandas all arguments of DataFrame.drop except for the argument 'labels' will be keyword-only.\n",
            "  df_1_mitdummys = df_1_mitdummys.drop(['State','EmploymentStatus', 'Gender', 'Marital_Status', 'Policy_Type', 'Policy', 'Renew_Offer_Type', 'Sales_Channel', 'Vehicle_Class', 'Response'],1)\n"
          ]
        },
        {
          "output_type": "execute_result",
          "data": {
            "text/plain": [
              "CLV_churn                                  int64\n",
              "Customer                                  object\n",
              "Customer_Lifetime_Value                  float64\n",
              "Coverage                                  object\n",
              "Education                                 object\n",
              "Effective_To_Date                 datetime64[ns]\n",
              "Income                                     int64\n",
              "Location_Code                             object\n",
              "Monthly_Premium_Auto                       int64\n",
              "Months_Since_Last_Claim                    int64\n",
              "Months_Since_Policy_Inception              int64\n",
              "Number_of_Open_Complaints                  int64\n",
              "Number_of_Policies                         int64\n",
              "Total_Claim_Amount                       float64\n",
              "Vehicle_Size                              object\n",
              "State_Arizona                              uint8\n",
              "State_California                           uint8\n",
              "State_Nevada                               uint8\n",
              "State_Oregon                               uint8\n",
              "State_Washington                           uint8\n",
              "EmploymentStatus_Disabled                  uint8\n",
              "EmploymentStatus_Employed                  uint8\n",
              "EmploymentStatus_Medical Leave             uint8\n",
              "EmploymentStatus_Retired                   uint8\n",
              "EmploymentStatus_Unemployed                uint8\n",
              "Gender_F                                   uint8\n",
              "Gender_M                                   uint8\n",
              "Marital_Status_Divorced                    uint8\n",
              "Marital_Status_Married                     uint8\n",
              "Marital_Status_Single                      uint8\n",
              "Policy_Type_Corporate Auto                 uint8\n",
              "Policy_Type_Personal Auto                  uint8\n",
              "Policy_Type_Special Auto                   uint8\n",
              "Policy_Corporate L1                        uint8\n",
              "Policy_Corporate L2                        uint8\n",
              "Policy_Corporate L3                        uint8\n",
              "Policy_Personal L1                         uint8\n",
              "Policy_Personal L2                         uint8\n",
              "Policy_Personal L3                         uint8\n",
              "Policy_Special L1                          uint8\n",
              "Policy_Special L2                          uint8\n",
              "Policy_Special L3                          uint8\n",
              "Renew_Offer_Type_Offer1                    uint8\n",
              "Renew_Offer_Type_Offer2                    uint8\n",
              "Renew_Offer_Type_Offer3                    uint8\n",
              "Renew_Offer_Type_Offer4                    uint8\n",
              "Sales_Channel_Agent                        uint8\n",
              "Sales_Channel_Branch                       uint8\n",
              "Sales_Channel_Call Center                  uint8\n",
              "Sales_Channel_Web                          uint8\n",
              "Vehicle_Class_Four-Door Car                uint8\n",
              "Vehicle_Class_Luxury Car                   uint8\n",
              "Vehicle_Class_Luxury SUV                   uint8\n",
              "Vehicle_Class_SUV                          uint8\n",
              "Vehicle_Class_Sports Car                   uint8\n",
              "Vehicle_Class_Two-Door Car                 uint8\n",
              "Response_No                                uint8\n",
              "Response_Yes                               uint8\n",
              "dtype: object"
            ]
          },
          "metadata": {},
          "execution_count": 18
        }
      ]
    },
    {
      "cell_type": "code",
      "source": [
        "df_1_mitdummys['Coverage'].unique()"
      ],
      "metadata": {
        "colab": {
          "base_uri": "https://localhost:8080/"
        },
        "id": "F8hLEJ_oOH_z",
        "outputId": "c728d51a-f25c-4487-c04e-17339508a94b"
      },
      "execution_count": null,
      "outputs": [
        {
          "output_type": "execute_result",
          "data": {
            "text/plain": [
              "array(['Basic', 'Extended', 'Premium'], dtype=object)"
            ]
          },
          "metadata": {},
          "execution_count": 19
        }
      ]
    },
    {
      "cell_type": "code",
      "source": [
        "# Für ordinale Daten mapping machen\n",
        "coverage_mapping = {\n",
        "    'Basic': 0,\n",
        "    'Extended': 1,\n",
        "    'Premium': 2,\n",
        "}\n",
        "df_1_mitdummys.Coverage = df_1_mitdummys.Coverage.apply(lambda x: coverage_mapping[x])"
      ],
      "metadata": {
        "id": "jGjglxKOKpnh"
      },
      "execution_count": null,
      "outputs": []
    },
    {
      "cell_type": "code",
      "source": [
        "df_1_mitdummys"
      ],
      "metadata": {
        "colab": {
          "base_uri": "https://localhost:8080/",
          "height": 505
        },
        "id": "HWeUdRROMrqO",
        "outputId": "db27a49b-50c2-4215-b7b5-a67b468a9aa1"
      },
      "execution_count": null,
      "outputs": [
        {
          "output_type": "execute_result",
          "data": {
            "text/plain": [
              "      CLV_churn Customer  Customer_Lifetime_Value  Coverage Education  \\\n",
              "0             0  BU79786              2763.519279         0  Bachelor   \n",
              "1             2  QZ44356              6979.535903         1  Bachelor   \n",
              "2             3  AI49188             12887.431650         2  Bachelor   \n",
              "3             2  WW63253              7645.861827         0  Bachelor   \n",
              "4             0  HB64268              2813.692575         0  Bachelor   \n",
              "...         ...      ...                      ...       ...       ...   \n",
              "9129          3  LA72316             23405.987980         0  Bachelor   \n",
              "9130          0  PK87824              3096.511217         1   College   \n",
              "9131          2  TD14365              8163.890428         1  Bachelor   \n",
              "9132          2  UP19263              7524.442436         1   College   \n",
              "9133          0  Y167826              2611.836866         1   College   \n",
              "\n",
              "     Effective_To_Date  Income Location_Code  Monthly_Premium_Auto  \\\n",
              "0           2011-02-24   56274      Suburban                    69   \n",
              "1           2011-01-31       0      Suburban                    94   \n",
              "2           2011-02-19   48767      Suburban                   108   \n",
              "3           2011-01-20       0      Suburban                   106   \n",
              "4           2011-02-03   43836         Rural                    73   \n",
              "...                ...     ...           ...                   ...   \n",
              "9129        2011-02-10   71941         Urban                    73   \n",
              "9130        2011-02-12   21604      Suburban                    79   \n",
              "9131        2011-02-06       0      Suburban                    85   \n",
              "9132        2011-02-03   21941      Suburban                    96   \n",
              "9133        2011-02-14       0      Suburban                    77   \n",
              "\n",
              "      Months_Since_Last_Claim  ...  Sales_Channel_Call Center  \\\n",
              "0                          32  ...                          0   \n",
              "1                          13  ...                          0   \n",
              "2                          18  ...                          0   \n",
              "3                          18  ...                          1   \n",
              "4                          12  ...                          0   \n",
              "...                       ...  ...                        ...   \n",
              "9129                       18  ...                          0   \n",
              "9130                       14  ...                          0   \n",
              "9131                        9  ...                          0   \n",
              "9132                       34  ...                          0   \n",
              "9133                        3  ...                          1   \n",
              "\n",
              "      Sales_Channel_Web  Vehicle_Class_Four-Door Car  \\\n",
              "0                     0                            0   \n",
              "1                     0                            1   \n",
              "2                     0                            0   \n",
              "3                     0                            0   \n",
              "4                     0                            1   \n",
              "...                 ...                          ...   \n",
              "9129                  1                            1   \n",
              "9130                  0                            1   \n",
              "9131                  0                            1   \n",
              "9132                  0                            1   \n",
              "9133                  0                            0   \n",
              "\n",
              "      Vehicle_Class_Luxury Car Vehicle_Class_Luxury SUV  Vehicle_Class_SUV  \\\n",
              "0                            0                        0                  0   \n",
              "1                            0                        0                  0   \n",
              "2                            0                        0                  0   \n",
              "3                            0                        0                  1   \n",
              "4                            0                        0                  0   \n",
              "...                        ...                      ...                ...   \n",
              "9129                         0                        0                  0   \n",
              "9130                         0                        0                  0   \n",
              "9131                         0                        0                  0   \n",
              "9132                         0                        0                  0   \n",
              "9133                         0                        0                  0   \n",
              "\n",
              "      Vehicle_Class_Sports Car  Vehicle_Class_Two-Door Car  Response_No  \\\n",
              "0                            0                           1            1   \n",
              "1                            0                           0            1   \n",
              "2                            0                           1            1   \n",
              "3                            0                           0            1   \n",
              "4                            0                           0            1   \n",
              "...                        ...                         ...          ...   \n",
              "9129                         0                           0            1   \n",
              "9130                         0                           0            0   \n",
              "9131                         0                           0            1   \n",
              "9132                         0                           0            1   \n",
              "9133                         0                           1            1   \n",
              "\n",
              "      Response_Yes  \n",
              "0                0  \n",
              "1                0  \n",
              "2                0  \n",
              "3                0  \n",
              "4                0  \n",
              "...            ...  \n",
              "9129             0  \n",
              "9130             1  \n",
              "9131             0  \n",
              "9132             0  \n",
              "9133             0  \n",
              "\n",
              "[9134 rows x 58 columns]"
            ],
            "text/html": [
              "\n",
              "  <div id=\"df-45d934c9-2f0e-4630-b33b-dd25e9e2a39e\">\n",
              "    <div class=\"colab-df-container\">\n",
              "      <div>\n",
              "<style scoped>\n",
              "    .dataframe tbody tr th:only-of-type {\n",
              "        vertical-align: middle;\n",
              "    }\n",
              "\n",
              "    .dataframe tbody tr th {\n",
              "        vertical-align: top;\n",
              "    }\n",
              "\n",
              "    .dataframe thead th {\n",
              "        text-align: right;\n",
              "    }\n",
              "</style>\n",
              "<table border=\"1\" class=\"dataframe\">\n",
              "  <thead>\n",
              "    <tr style=\"text-align: right;\">\n",
              "      <th></th>\n",
              "      <th>CLV_churn</th>\n",
              "      <th>Customer</th>\n",
              "      <th>Customer_Lifetime_Value</th>\n",
              "      <th>Coverage</th>\n",
              "      <th>Education</th>\n",
              "      <th>Effective_To_Date</th>\n",
              "      <th>Income</th>\n",
              "      <th>Location_Code</th>\n",
              "      <th>Monthly_Premium_Auto</th>\n",
              "      <th>Months_Since_Last_Claim</th>\n",
              "      <th>...</th>\n",
              "      <th>Sales_Channel_Call Center</th>\n",
              "      <th>Sales_Channel_Web</th>\n",
              "      <th>Vehicle_Class_Four-Door Car</th>\n",
              "      <th>Vehicle_Class_Luxury Car</th>\n",
              "      <th>Vehicle_Class_Luxury SUV</th>\n",
              "      <th>Vehicle_Class_SUV</th>\n",
              "      <th>Vehicle_Class_Sports Car</th>\n",
              "      <th>Vehicle_Class_Two-Door Car</th>\n",
              "      <th>Response_No</th>\n",
              "      <th>Response_Yes</th>\n",
              "    </tr>\n",
              "  </thead>\n",
              "  <tbody>\n",
              "    <tr>\n",
              "      <th>0</th>\n",
              "      <td>0</td>\n",
              "      <td>BU79786</td>\n",
              "      <td>2763.519279</td>\n",
              "      <td>0</td>\n",
              "      <td>Bachelor</td>\n",
              "      <td>2011-02-24</td>\n",
              "      <td>56274</td>\n",
              "      <td>Suburban</td>\n",
              "      <td>69</td>\n",
              "      <td>32</td>\n",
              "      <td>...</td>\n",
              "      <td>0</td>\n",
              "      <td>0</td>\n",
              "      <td>0</td>\n",
              "      <td>0</td>\n",
              "      <td>0</td>\n",
              "      <td>0</td>\n",
              "      <td>0</td>\n",
              "      <td>1</td>\n",
              "      <td>1</td>\n",
              "      <td>0</td>\n",
              "    </tr>\n",
              "    <tr>\n",
              "      <th>1</th>\n",
              "      <td>2</td>\n",
              "      <td>QZ44356</td>\n",
              "      <td>6979.535903</td>\n",
              "      <td>1</td>\n",
              "      <td>Bachelor</td>\n",
              "      <td>2011-01-31</td>\n",
              "      <td>0</td>\n",
              "      <td>Suburban</td>\n",
              "      <td>94</td>\n",
              "      <td>13</td>\n",
              "      <td>...</td>\n",
              "      <td>0</td>\n",
              "      <td>0</td>\n",
              "      <td>1</td>\n",
              "      <td>0</td>\n",
              "      <td>0</td>\n",
              "      <td>0</td>\n",
              "      <td>0</td>\n",
              "      <td>0</td>\n",
              "      <td>1</td>\n",
              "      <td>0</td>\n",
              "    </tr>\n",
              "    <tr>\n",
              "      <th>2</th>\n",
              "      <td>3</td>\n",
              "      <td>AI49188</td>\n",
              "      <td>12887.431650</td>\n",
              "      <td>2</td>\n",
              "      <td>Bachelor</td>\n",
              "      <td>2011-02-19</td>\n",
              "      <td>48767</td>\n",
              "      <td>Suburban</td>\n",
              "      <td>108</td>\n",
              "      <td>18</td>\n",
              "      <td>...</td>\n",
              "      <td>0</td>\n",
              "      <td>0</td>\n",
              "      <td>0</td>\n",
              "      <td>0</td>\n",
              "      <td>0</td>\n",
              "      <td>0</td>\n",
              "      <td>0</td>\n",
              "      <td>1</td>\n",
              "      <td>1</td>\n",
              "      <td>0</td>\n",
              "    </tr>\n",
              "    <tr>\n",
              "      <th>3</th>\n",
              "      <td>2</td>\n",
              "      <td>WW63253</td>\n",
              "      <td>7645.861827</td>\n",
              "      <td>0</td>\n",
              "      <td>Bachelor</td>\n",
              "      <td>2011-01-20</td>\n",
              "      <td>0</td>\n",
              "      <td>Suburban</td>\n",
              "      <td>106</td>\n",
              "      <td>18</td>\n",
              "      <td>...</td>\n",
              "      <td>1</td>\n",
              "      <td>0</td>\n",
              "      <td>0</td>\n",
              "      <td>0</td>\n",
              "      <td>0</td>\n",
              "      <td>1</td>\n",
              "      <td>0</td>\n",
              "      <td>0</td>\n",
              "      <td>1</td>\n",
              "      <td>0</td>\n",
              "    </tr>\n",
              "    <tr>\n",
              "      <th>4</th>\n",
              "      <td>0</td>\n",
              "      <td>HB64268</td>\n",
              "      <td>2813.692575</td>\n",
              "      <td>0</td>\n",
              "      <td>Bachelor</td>\n",
              "      <td>2011-02-03</td>\n",
              "      <td>43836</td>\n",
              "      <td>Rural</td>\n",
              "      <td>73</td>\n",
              "      <td>12</td>\n",
              "      <td>...</td>\n",
              "      <td>0</td>\n",
              "      <td>0</td>\n",
              "      <td>1</td>\n",
              "      <td>0</td>\n",
              "      <td>0</td>\n",
              "      <td>0</td>\n",
              "      <td>0</td>\n",
              "      <td>0</td>\n",
              "      <td>1</td>\n",
              "      <td>0</td>\n",
              "    </tr>\n",
              "    <tr>\n",
              "      <th>...</th>\n",
              "      <td>...</td>\n",
              "      <td>...</td>\n",
              "      <td>...</td>\n",
              "      <td>...</td>\n",
              "      <td>...</td>\n",
              "      <td>...</td>\n",
              "      <td>...</td>\n",
              "      <td>...</td>\n",
              "      <td>...</td>\n",
              "      <td>...</td>\n",
              "      <td>...</td>\n",
              "      <td>...</td>\n",
              "      <td>...</td>\n",
              "      <td>...</td>\n",
              "      <td>...</td>\n",
              "      <td>...</td>\n",
              "      <td>...</td>\n",
              "      <td>...</td>\n",
              "      <td>...</td>\n",
              "      <td>...</td>\n",
              "      <td>...</td>\n",
              "    </tr>\n",
              "    <tr>\n",
              "      <th>9129</th>\n",
              "      <td>3</td>\n",
              "      <td>LA72316</td>\n",
              "      <td>23405.987980</td>\n",
              "      <td>0</td>\n",
              "      <td>Bachelor</td>\n",
              "      <td>2011-02-10</td>\n",
              "      <td>71941</td>\n",
              "      <td>Urban</td>\n",
              "      <td>73</td>\n",
              "      <td>18</td>\n",
              "      <td>...</td>\n",
              "      <td>0</td>\n",
              "      <td>1</td>\n",
              "      <td>1</td>\n",
              "      <td>0</td>\n",
              "      <td>0</td>\n",
              "      <td>0</td>\n",
              "      <td>0</td>\n",
              "      <td>0</td>\n",
              "      <td>1</td>\n",
              "      <td>0</td>\n",
              "    </tr>\n",
              "    <tr>\n",
              "      <th>9130</th>\n",
              "      <td>0</td>\n",
              "      <td>PK87824</td>\n",
              "      <td>3096.511217</td>\n",
              "      <td>1</td>\n",
              "      <td>College</td>\n",
              "      <td>2011-02-12</td>\n",
              "      <td>21604</td>\n",
              "      <td>Suburban</td>\n",
              "      <td>79</td>\n",
              "      <td>14</td>\n",
              "      <td>...</td>\n",
              "      <td>0</td>\n",
              "      <td>0</td>\n",
              "      <td>1</td>\n",
              "      <td>0</td>\n",
              "      <td>0</td>\n",
              "      <td>0</td>\n",
              "      <td>0</td>\n",
              "      <td>0</td>\n",
              "      <td>0</td>\n",
              "      <td>1</td>\n",
              "    </tr>\n",
              "    <tr>\n",
              "      <th>9131</th>\n",
              "      <td>2</td>\n",
              "      <td>TD14365</td>\n",
              "      <td>8163.890428</td>\n",
              "      <td>1</td>\n",
              "      <td>Bachelor</td>\n",
              "      <td>2011-02-06</td>\n",
              "      <td>0</td>\n",
              "      <td>Suburban</td>\n",
              "      <td>85</td>\n",
              "      <td>9</td>\n",
              "      <td>...</td>\n",
              "      <td>0</td>\n",
              "      <td>0</td>\n",
              "      <td>1</td>\n",
              "      <td>0</td>\n",
              "      <td>0</td>\n",
              "      <td>0</td>\n",
              "      <td>0</td>\n",
              "      <td>0</td>\n",
              "      <td>1</td>\n",
              "      <td>0</td>\n",
              "    </tr>\n",
              "    <tr>\n",
              "      <th>9132</th>\n",
              "      <td>2</td>\n",
              "      <td>UP19263</td>\n",
              "      <td>7524.442436</td>\n",
              "      <td>1</td>\n",
              "      <td>College</td>\n",
              "      <td>2011-02-03</td>\n",
              "      <td>21941</td>\n",
              "      <td>Suburban</td>\n",
              "      <td>96</td>\n",
              "      <td>34</td>\n",
              "      <td>...</td>\n",
              "      <td>0</td>\n",
              "      <td>0</td>\n",
              "      <td>1</td>\n",
              "      <td>0</td>\n",
              "      <td>0</td>\n",
              "      <td>0</td>\n",
              "      <td>0</td>\n",
              "      <td>0</td>\n",
              "      <td>1</td>\n",
              "      <td>0</td>\n",
              "    </tr>\n",
              "    <tr>\n",
              "      <th>9133</th>\n",
              "      <td>0</td>\n",
              "      <td>Y167826</td>\n",
              "      <td>2611.836866</td>\n",
              "      <td>1</td>\n",
              "      <td>College</td>\n",
              "      <td>2011-02-14</td>\n",
              "      <td>0</td>\n",
              "      <td>Suburban</td>\n",
              "      <td>77</td>\n",
              "      <td>3</td>\n",
              "      <td>...</td>\n",
              "      <td>1</td>\n",
              "      <td>0</td>\n",
              "      <td>0</td>\n",
              "      <td>0</td>\n",
              "      <td>0</td>\n",
              "      <td>0</td>\n",
              "      <td>0</td>\n",
              "      <td>1</td>\n",
              "      <td>1</td>\n",
              "      <td>0</td>\n",
              "    </tr>\n",
              "  </tbody>\n",
              "</table>\n",
              "<p>9134 rows × 58 columns</p>\n",
              "</div>\n",
              "      <button class=\"colab-df-convert\" onclick=\"convertToInteractive('df-45d934c9-2f0e-4630-b33b-dd25e9e2a39e')\"\n",
              "              title=\"Convert this dataframe to an interactive table.\"\n",
              "              style=\"display:none;\">\n",
              "        \n",
              "  <svg xmlns=\"http://www.w3.org/2000/svg\" height=\"24px\"viewBox=\"0 0 24 24\"\n",
              "       width=\"24px\">\n",
              "    <path d=\"M0 0h24v24H0V0z\" fill=\"none\"/>\n",
              "    <path d=\"M18.56 5.44l.94 2.06.94-2.06 2.06-.94-2.06-.94-.94-2.06-.94 2.06-2.06.94zm-11 1L8.5 8.5l.94-2.06 2.06-.94-2.06-.94L8.5 2.5l-.94 2.06-2.06.94zm10 10l.94 2.06.94-2.06 2.06-.94-2.06-.94-.94-2.06-.94 2.06-2.06.94z\"/><path d=\"M17.41 7.96l-1.37-1.37c-.4-.4-.92-.59-1.43-.59-.52 0-1.04.2-1.43.59L10.3 9.45l-7.72 7.72c-.78.78-.78 2.05 0 2.83L4 21.41c.39.39.9.59 1.41.59.51 0 1.02-.2 1.41-.59l7.78-7.78 2.81-2.81c.8-.78.8-2.07 0-2.86zM5.41 20L4 18.59l7.72-7.72 1.47 1.35L5.41 20z\"/>\n",
              "  </svg>\n",
              "      </button>\n",
              "      \n",
              "  <style>\n",
              "    .colab-df-container {\n",
              "      display:flex;\n",
              "      flex-wrap:wrap;\n",
              "      gap: 12px;\n",
              "    }\n",
              "\n",
              "    .colab-df-convert {\n",
              "      background-color: #E8F0FE;\n",
              "      border: none;\n",
              "      border-radius: 50%;\n",
              "      cursor: pointer;\n",
              "      display: none;\n",
              "      fill: #1967D2;\n",
              "      height: 32px;\n",
              "      padding: 0 0 0 0;\n",
              "      width: 32px;\n",
              "    }\n",
              "\n",
              "    .colab-df-convert:hover {\n",
              "      background-color: #E2EBFA;\n",
              "      box-shadow: 0px 1px 2px rgba(60, 64, 67, 0.3), 0px 1px 3px 1px rgba(60, 64, 67, 0.15);\n",
              "      fill: #174EA6;\n",
              "    }\n",
              "\n",
              "    [theme=dark] .colab-df-convert {\n",
              "      background-color: #3B4455;\n",
              "      fill: #D2E3FC;\n",
              "    }\n",
              "\n",
              "    [theme=dark] .colab-df-convert:hover {\n",
              "      background-color: #434B5C;\n",
              "      box-shadow: 0px 1px 3px 1px rgba(0, 0, 0, 0.15);\n",
              "      filter: drop-shadow(0px 1px 2px rgba(0, 0, 0, 0.3));\n",
              "      fill: #FFFFFF;\n",
              "    }\n",
              "  </style>\n",
              "\n",
              "      <script>\n",
              "        const buttonEl =\n",
              "          document.querySelector('#df-45d934c9-2f0e-4630-b33b-dd25e9e2a39e button.colab-df-convert');\n",
              "        buttonEl.style.display =\n",
              "          google.colab.kernel.accessAllowed ? 'block' : 'none';\n",
              "\n",
              "        async function convertToInteractive(key) {\n",
              "          const element = document.querySelector('#df-45d934c9-2f0e-4630-b33b-dd25e9e2a39e');\n",
              "          const dataTable =\n",
              "            await google.colab.kernel.invokeFunction('convertToInteractive',\n",
              "                                                     [key], {});\n",
              "          if (!dataTable) return;\n",
              "\n",
              "          const docLinkHtml = 'Like what you see? Visit the ' +\n",
              "            '<a target=\"_blank\" href=https://colab.research.google.com/notebooks/data_table.ipynb>data table notebook</a>'\n",
              "            + ' to learn more about interactive tables.';\n",
              "          element.innerHTML = '';\n",
              "          dataTable['output_type'] = 'display_data';\n",
              "          await google.colab.output.renderOutput(dataTable, element);\n",
              "          const docLink = document.createElement('div');\n",
              "          docLink.innerHTML = docLinkHtml;\n",
              "          element.appendChild(docLink);\n",
              "        }\n",
              "      </script>\n",
              "    </div>\n",
              "  </div>\n",
              "  "
            ]
          },
          "metadata": {},
          "execution_count": 21
        }
      ]
    },
    {
      "cell_type": "code",
      "source": [
        "education_mapping = {\n",
        "    'High School or Below': 0,\n",
        "    'College': 1,\n",
        "    'Bachelor': 2,\n",
        "    'Master': 3,\n",
        "    'Doctor': 4,\n",
        "}\n",
        "df_1_mitdummys.Education = df_1_mitdummys.Education.apply(lambda x: education_mapping[x])"
      ],
      "metadata": {
        "id": "OWeFyITJIRyX"
      },
      "execution_count": null,
      "outputs": []
    },
    {
      "cell_type": "code",
      "source": [
        "Vehicle_Size_mapping = {\n",
        "    'Small': 0,\n",
        "    'Medsize': 1,\n",
        "    'Large': 2,\n",
        "}\n",
        "df_1_mitdummys.Vehicle_Size = df_1_mitdummys.Vehicle_Size.apply(lambda x: Vehicle_Size_mapping[x])"
      ],
      "metadata": {
        "id": "bUKUn1VmLhi0"
      },
      "execution_count": null,
      "outputs": []
    },
    {
      "cell_type": "code",
      "source": [
        "Location_Code_mapping = {\n",
        "    'Rural': 0,\n",
        "    'Suburban': 1,\n",
        "    'Urban': 2,\n",
        "}\n",
        "df_1_mitdummys.Location_Code = df_1_mitdummys.Location_Code.apply(lambda x: Location_Code_mapping[x])"
      ],
      "metadata": {
        "id": "9Zn9GIrVLUCw"
      },
      "execution_count": null,
      "outputs": []
    },
    {
      "cell_type": "code",
      "source": [
        "#df_final = pd.concat((df_1_mitdummys, df.Coverage, df.Education, df.Vehicle_Size, df.Location_Code), axis=1)"
      ],
      "metadata": {
        "id": "paoJ0oNzYpJe"
      },
      "execution_count": null,
      "outputs": []
    },
    {
      "cell_type": "code",
      "source": [
        "df_1_mitdummys"
      ],
      "metadata": {
        "colab": {
          "base_uri": "https://localhost:8080/",
          "height": 505
        },
        "id": "znnj0J8-ZpJd",
        "outputId": "ab7747d4-b87a-434f-8d85-29431cfa3c25"
      },
      "execution_count": null,
      "outputs": [
        {
          "output_type": "execute_result",
          "data": {
            "text/plain": [
              "      CLV_churn Customer  Customer_Lifetime_Value  Coverage  Education  \\\n",
              "0             0  BU79786              2763.519279         0          2   \n",
              "1             2  QZ44356              6979.535903         1          2   \n",
              "2             3  AI49188             12887.431650         2          2   \n",
              "3             2  WW63253              7645.861827         0          2   \n",
              "4             0  HB64268              2813.692575         0          2   \n",
              "...         ...      ...                      ...       ...        ...   \n",
              "9129          3  LA72316             23405.987980         0          2   \n",
              "9130          0  PK87824              3096.511217         1          1   \n",
              "9131          2  TD14365              8163.890428         1          2   \n",
              "9132          2  UP19263              7524.442436         1          1   \n",
              "9133          0  Y167826              2611.836866         1          1   \n",
              "\n",
              "     Effective_To_Date  Income  Location_Code  Monthly_Premium_Auto  \\\n",
              "0           2011-02-24   56274              1                    69   \n",
              "1           2011-01-31       0              1                    94   \n",
              "2           2011-02-19   48767              1                   108   \n",
              "3           2011-01-20       0              1                   106   \n",
              "4           2011-02-03   43836              0                    73   \n",
              "...                ...     ...            ...                   ...   \n",
              "9129        2011-02-10   71941              2                    73   \n",
              "9130        2011-02-12   21604              1                    79   \n",
              "9131        2011-02-06       0              1                    85   \n",
              "9132        2011-02-03   21941              1                    96   \n",
              "9133        2011-02-14       0              1                    77   \n",
              "\n",
              "      Months_Since_Last_Claim  ...  Sales_Channel_Call Center  \\\n",
              "0                          32  ...                          0   \n",
              "1                          13  ...                          0   \n",
              "2                          18  ...                          0   \n",
              "3                          18  ...                          1   \n",
              "4                          12  ...                          0   \n",
              "...                       ...  ...                        ...   \n",
              "9129                       18  ...                          0   \n",
              "9130                       14  ...                          0   \n",
              "9131                        9  ...                          0   \n",
              "9132                       34  ...                          0   \n",
              "9133                        3  ...                          1   \n",
              "\n",
              "      Sales_Channel_Web  Vehicle_Class_Four-Door Car  \\\n",
              "0                     0                            0   \n",
              "1                     0                            1   \n",
              "2                     0                            0   \n",
              "3                     0                            0   \n",
              "4                     0                            1   \n",
              "...                 ...                          ...   \n",
              "9129                  1                            1   \n",
              "9130                  0                            1   \n",
              "9131                  0                            1   \n",
              "9132                  0                            1   \n",
              "9133                  0                            0   \n",
              "\n",
              "      Vehicle_Class_Luxury Car  Vehicle_Class_Luxury SUV  Vehicle_Class_SUV  \\\n",
              "0                            0                         0                  0   \n",
              "1                            0                         0                  0   \n",
              "2                            0                         0                  0   \n",
              "3                            0                         0                  1   \n",
              "4                            0                         0                  0   \n",
              "...                        ...                       ...                ...   \n",
              "9129                         0                         0                  0   \n",
              "9130                         0                         0                  0   \n",
              "9131                         0                         0                  0   \n",
              "9132                         0                         0                  0   \n",
              "9133                         0                         0                  0   \n",
              "\n",
              "      Vehicle_Class_Sports Car  Vehicle_Class_Two-Door Car  Response_No  \\\n",
              "0                            0                           1            1   \n",
              "1                            0                           0            1   \n",
              "2                            0                           1            1   \n",
              "3                            0                           0            1   \n",
              "4                            0                           0            1   \n",
              "...                        ...                         ...          ...   \n",
              "9129                         0                           0            1   \n",
              "9130                         0                           0            0   \n",
              "9131                         0                           0            1   \n",
              "9132                         0                           0            1   \n",
              "9133                         0                           1            1   \n",
              "\n",
              "      Response_Yes  \n",
              "0                0  \n",
              "1                0  \n",
              "2                0  \n",
              "3                0  \n",
              "4                0  \n",
              "...            ...  \n",
              "9129             0  \n",
              "9130             1  \n",
              "9131             0  \n",
              "9132             0  \n",
              "9133             0  \n",
              "\n",
              "[9134 rows x 58 columns]"
            ],
            "text/html": [
              "\n",
              "  <div id=\"df-0311d725-d59a-4ddc-ba40-6ebda7852de4\">\n",
              "    <div class=\"colab-df-container\">\n",
              "      <div>\n",
              "<style scoped>\n",
              "    .dataframe tbody tr th:only-of-type {\n",
              "        vertical-align: middle;\n",
              "    }\n",
              "\n",
              "    .dataframe tbody tr th {\n",
              "        vertical-align: top;\n",
              "    }\n",
              "\n",
              "    .dataframe thead th {\n",
              "        text-align: right;\n",
              "    }\n",
              "</style>\n",
              "<table border=\"1\" class=\"dataframe\">\n",
              "  <thead>\n",
              "    <tr style=\"text-align: right;\">\n",
              "      <th></th>\n",
              "      <th>CLV_churn</th>\n",
              "      <th>Customer</th>\n",
              "      <th>Customer_Lifetime_Value</th>\n",
              "      <th>Coverage</th>\n",
              "      <th>Education</th>\n",
              "      <th>Effective_To_Date</th>\n",
              "      <th>Income</th>\n",
              "      <th>Location_Code</th>\n",
              "      <th>Monthly_Premium_Auto</th>\n",
              "      <th>Months_Since_Last_Claim</th>\n",
              "      <th>...</th>\n",
              "      <th>Sales_Channel_Call Center</th>\n",
              "      <th>Sales_Channel_Web</th>\n",
              "      <th>Vehicle_Class_Four-Door Car</th>\n",
              "      <th>Vehicle_Class_Luxury Car</th>\n",
              "      <th>Vehicle_Class_Luxury SUV</th>\n",
              "      <th>Vehicle_Class_SUV</th>\n",
              "      <th>Vehicle_Class_Sports Car</th>\n",
              "      <th>Vehicle_Class_Two-Door Car</th>\n",
              "      <th>Response_No</th>\n",
              "      <th>Response_Yes</th>\n",
              "    </tr>\n",
              "  </thead>\n",
              "  <tbody>\n",
              "    <tr>\n",
              "      <th>0</th>\n",
              "      <td>0</td>\n",
              "      <td>BU79786</td>\n",
              "      <td>2763.519279</td>\n",
              "      <td>0</td>\n",
              "      <td>2</td>\n",
              "      <td>2011-02-24</td>\n",
              "      <td>56274</td>\n",
              "      <td>1</td>\n",
              "      <td>69</td>\n",
              "      <td>32</td>\n",
              "      <td>...</td>\n",
              "      <td>0</td>\n",
              "      <td>0</td>\n",
              "      <td>0</td>\n",
              "      <td>0</td>\n",
              "      <td>0</td>\n",
              "      <td>0</td>\n",
              "      <td>0</td>\n",
              "      <td>1</td>\n",
              "      <td>1</td>\n",
              "      <td>0</td>\n",
              "    </tr>\n",
              "    <tr>\n",
              "      <th>1</th>\n",
              "      <td>2</td>\n",
              "      <td>QZ44356</td>\n",
              "      <td>6979.535903</td>\n",
              "      <td>1</td>\n",
              "      <td>2</td>\n",
              "      <td>2011-01-31</td>\n",
              "      <td>0</td>\n",
              "      <td>1</td>\n",
              "      <td>94</td>\n",
              "      <td>13</td>\n",
              "      <td>...</td>\n",
              "      <td>0</td>\n",
              "      <td>0</td>\n",
              "      <td>1</td>\n",
              "      <td>0</td>\n",
              "      <td>0</td>\n",
              "      <td>0</td>\n",
              "      <td>0</td>\n",
              "      <td>0</td>\n",
              "      <td>1</td>\n",
              "      <td>0</td>\n",
              "    </tr>\n",
              "    <tr>\n",
              "      <th>2</th>\n",
              "      <td>3</td>\n",
              "      <td>AI49188</td>\n",
              "      <td>12887.431650</td>\n",
              "      <td>2</td>\n",
              "      <td>2</td>\n",
              "      <td>2011-02-19</td>\n",
              "      <td>48767</td>\n",
              "      <td>1</td>\n",
              "      <td>108</td>\n",
              "      <td>18</td>\n",
              "      <td>...</td>\n",
              "      <td>0</td>\n",
              "      <td>0</td>\n",
              "      <td>0</td>\n",
              "      <td>0</td>\n",
              "      <td>0</td>\n",
              "      <td>0</td>\n",
              "      <td>0</td>\n",
              "      <td>1</td>\n",
              "      <td>1</td>\n",
              "      <td>0</td>\n",
              "    </tr>\n",
              "    <tr>\n",
              "      <th>3</th>\n",
              "      <td>2</td>\n",
              "      <td>WW63253</td>\n",
              "      <td>7645.861827</td>\n",
              "      <td>0</td>\n",
              "      <td>2</td>\n",
              "      <td>2011-01-20</td>\n",
              "      <td>0</td>\n",
              "      <td>1</td>\n",
              "      <td>106</td>\n",
              "      <td>18</td>\n",
              "      <td>...</td>\n",
              "      <td>1</td>\n",
              "      <td>0</td>\n",
              "      <td>0</td>\n",
              "      <td>0</td>\n",
              "      <td>0</td>\n",
              "      <td>1</td>\n",
              "      <td>0</td>\n",
              "      <td>0</td>\n",
              "      <td>1</td>\n",
              "      <td>0</td>\n",
              "    </tr>\n",
              "    <tr>\n",
              "      <th>4</th>\n",
              "      <td>0</td>\n",
              "      <td>HB64268</td>\n",
              "      <td>2813.692575</td>\n",
              "      <td>0</td>\n",
              "      <td>2</td>\n",
              "      <td>2011-02-03</td>\n",
              "      <td>43836</td>\n",
              "      <td>0</td>\n",
              "      <td>73</td>\n",
              "      <td>12</td>\n",
              "      <td>...</td>\n",
              "      <td>0</td>\n",
              "      <td>0</td>\n",
              "      <td>1</td>\n",
              "      <td>0</td>\n",
              "      <td>0</td>\n",
              "      <td>0</td>\n",
              "      <td>0</td>\n",
              "      <td>0</td>\n",
              "      <td>1</td>\n",
              "      <td>0</td>\n",
              "    </tr>\n",
              "    <tr>\n",
              "      <th>...</th>\n",
              "      <td>...</td>\n",
              "      <td>...</td>\n",
              "      <td>...</td>\n",
              "      <td>...</td>\n",
              "      <td>...</td>\n",
              "      <td>...</td>\n",
              "      <td>...</td>\n",
              "      <td>...</td>\n",
              "      <td>...</td>\n",
              "      <td>...</td>\n",
              "      <td>...</td>\n",
              "      <td>...</td>\n",
              "      <td>...</td>\n",
              "      <td>...</td>\n",
              "      <td>...</td>\n",
              "      <td>...</td>\n",
              "      <td>...</td>\n",
              "      <td>...</td>\n",
              "      <td>...</td>\n",
              "      <td>...</td>\n",
              "      <td>...</td>\n",
              "    </tr>\n",
              "    <tr>\n",
              "      <th>9129</th>\n",
              "      <td>3</td>\n",
              "      <td>LA72316</td>\n",
              "      <td>23405.987980</td>\n",
              "      <td>0</td>\n",
              "      <td>2</td>\n",
              "      <td>2011-02-10</td>\n",
              "      <td>71941</td>\n",
              "      <td>2</td>\n",
              "      <td>73</td>\n",
              "      <td>18</td>\n",
              "      <td>...</td>\n",
              "      <td>0</td>\n",
              "      <td>1</td>\n",
              "      <td>1</td>\n",
              "      <td>0</td>\n",
              "      <td>0</td>\n",
              "      <td>0</td>\n",
              "      <td>0</td>\n",
              "      <td>0</td>\n",
              "      <td>1</td>\n",
              "      <td>0</td>\n",
              "    </tr>\n",
              "    <tr>\n",
              "      <th>9130</th>\n",
              "      <td>0</td>\n",
              "      <td>PK87824</td>\n",
              "      <td>3096.511217</td>\n",
              "      <td>1</td>\n",
              "      <td>1</td>\n",
              "      <td>2011-02-12</td>\n",
              "      <td>21604</td>\n",
              "      <td>1</td>\n",
              "      <td>79</td>\n",
              "      <td>14</td>\n",
              "      <td>...</td>\n",
              "      <td>0</td>\n",
              "      <td>0</td>\n",
              "      <td>1</td>\n",
              "      <td>0</td>\n",
              "      <td>0</td>\n",
              "      <td>0</td>\n",
              "      <td>0</td>\n",
              "      <td>0</td>\n",
              "      <td>0</td>\n",
              "      <td>1</td>\n",
              "    </tr>\n",
              "    <tr>\n",
              "      <th>9131</th>\n",
              "      <td>2</td>\n",
              "      <td>TD14365</td>\n",
              "      <td>8163.890428</td>\n",
              "      <td>1</td>\n",
              "      <td>2</td>\n",
              "      <td>2011-02-06</td>\n",
              "      <td>0</td>\n",
              "      <td>1</td>\n",
              "      <td>85</td>\n",
              "      <td>9</td>\n",
              "      <td>...</td>\n",
              "      <td>0</td>\n",
              "      <td>0</td>\n",
              "      <td>1</td>\n",
              "      <td>0</td>\n",
              "      <td>0</td>\n",
              "      <td>0</td>\n",
              "      <td>0</td>\n",
              "      <td>0</td>\n",
              "      <td>1</td>\n",
              "      <td>0</td>\n",
              "    </tr>\n",
              "    <tr>\n",
              "      <th>9132</th>\n",
              "      <td>2</td>\n",
              "      <td>UP19263</td>\n",
              "      <td>7524.442436</td>\n",
              "      <td>1</td>\n",
              "      <td>1</td>\n",
              "      <td>2011-02-03</td>\n",
              "      <td>21941</td>\n",
              "      <td>1</td>\n",
              "      <td>96</td>\n",
              "      <td>34</td>\n",
              "      <td>...</td>\n",
              "      <td>0</td>\n",
              "      <td>0</td>\n",
              "      <td>1</td>\n",
              "      <td>0</td>\n",
              "      <td>0</td>\n",
              "      <td>0</td>\n",
              "      <td>0</td>\n",
              "      <td>0</td>\n",
              "      <td>1</td>\n",
              "      <td>0</td>\n",
              "    </tr>\n",
              "    <tr>\n",
              "      <th>9133</th>\n",
              "      <td>0</td>\n",
              "      <td>Y167826</td>\n",
              "      <td>2611.836866</td>\n",
              "      <td>1</td>\n",
              "      <td>1</td>\n",
              "      <td>2011-02-14</td>\n",
              "      <td>0</td>\n",
              "      <td>1</td>\n",
              "      <td>77</td>\n",
              "      <td>3</td>\n",
              "      <td>...</td>\n",
              "      <td>1</td>\n",
              "      <td>0</td>\n",
              "      <td>0</td>\n",
              "      <td>0</td>\n",
              "      <td>0</td>\n",
              "      <td>0</td>\n",
              "      <td>0</td>\n",
              "      <td>1</td>\n",
              "      <td>1</td>\n",
              "      <td>0</td>\n",
              "    </tr>\n",
              "  </tbody>\n",
              "</table>\n",
              "<p>9134 rows × 58 columns</p>\n",
              "</div>\n",
              "      <button class=\"colab-df-convert\" onclick=\"convertToInteractive('df-0311d725-d59a-4ddc-ba40-6ebda7852de4')\"\n",
              "              title=\"Convert this dataframe to an interactive table.\"\n",
              "              style=\"display:none;\">\n",
              "        \n",
              "  <svg xmlns=\"http://www.w3.org/2000/svg\" height=\"24px\"viewBox=\"0 0 24 24\"\n",
              "       width=\"24px\">\n",
              "    <path d=\"M0 0h24v24H0V0z\" fill=\"none\"/>\n",
              "    <path d=\"M18.56 5.44l.94 2.06.94-2.06 2.06-.94-2.06-.94-.94-2.06-.94 2.06-2.06.94zm-11 1L8.5 8.5l.94-2.06 2.06-.94-2.06-.94L8.5 2.5l-.94 2.06-2.06.94zm10 10l.94 2.06.94-2.06 2.06-.94-2.06-.94-.94-2.06-.94 2.06-2.06.94z\"/><path d=\"M17.41 7.96l-1.37-1.37c-.4-.4-.92-.59-1.43-.59-.52 0-1.04.2-1.43.59L10.3 9.45l-7.72 7.72c-.78.78-.78 2.05 0 2.83L4 21.41c.39.39.9.59 1.41.59.51 0 1.02-.2 1.41-.59l7.78-7.78 2.81-2.81c.8-.78.8-2.07 0-2.86zM5.41 20L4 18.59l7.72-7.72 1.47 1.35L5.41 20z\"/>\n",
              "  </svg>\n",
              "      </button>\n",
              "      \n",
              "  <style>\n",
              "    .colab-df-container {\n",
              "      display:flex;\n",
              "      flex-wrap:wrap;\n",
              "      gap: 12px;\n",
              "    }\n",
              "\n",
              "    .colab-df-convert {\n",
              "      background-color: #E8F0FE;\n",
              "      border: none;\n",
              "      border-radius: 50%;\n",
              "      cursor: pointer;\n",
              "      display: none;\n",
              "      fill: #1967D2;\n",
              "      height: 32px;\n",
              "      padding: 0 0 0 0;\n",
              "      width: 32px;\n",
              "    }\n",
              "\n",
              "    .colab-df-convert:hover {\n",
              "      background-color: #E2EBFA;\n",
              "      box-shadow: 0px 1px 2px rgba(60, 64, 67, 0.3), 0px 1px 3px 1px rgba(60, 64, 67, 0.15);\n",
              "      fill: #174EA6;\n",
              "    }\n",
              "\n",
              "    [theme=dark] .colab-df-convert {\n",
              "      background-color: #3B4455;\n",
              "      fill: #D2E3FC;\n",
              "    }\n",
              "\n",
              "    [theme=dark] .colab-df-convert:hover {\n",
              "      background-color: #434B5C;\n",
              "      box-shadow: 0px 1px 3px 1px rgba(0, 0, 0, 0.15);\n",
              "      filter: drop-shadow(0px 1px 2px rgba(0, 0, 0, 0.3));\n",
              "      fill: #FFFFFF;\n",
              "    }\n",
              "  </style>\n",
              "\n",
              "      <script>\n",
              "        const buttonEl =\n",
              "          document.querySelector('#df-0311d725-d59a-4ddc-ba40-6ebda7852de4 button.colab-df-convert');\n",
              "        buttonEl.style.display =\n",
              "          google.colab.kernel.accessAllowed ? 'block' : 'none';\n",
              "\n",
              "        async function convertToInteractive(key) {\n",
              "          const element = document.querySelector('#df-0311d725-d59a-4ddc-ba40-6ebda7852de4');\n",
              "          const dataTable =\n",
              "            await google.colab.kernel.invokeFunction('convertToInteractive',\n",
              "                                                     [key], {});\n",
              "          if (!dataTable) return;\n",
              "\n",
              "          const docLinkHtml = 'Like what you see? Visit the ' +\n",
              "            '<a target=\"_blank\" href=https://colab.research.google.com/notebooks/data_table.ipynb>data table notebook</a>'\n",
              "            + ' to learn more about interactive tables.';\n",
              "          element.innerHTML = '';\n",
              "          dataTable['output_type'] = 'display_data';\n",
              "          await google.colab.output.renderOutput(dataTable, element);\n",
              "          const docLink = document.createElement('div');\n",
              "          docLink.innerHTML = docLinkHtml;\n",
              "          element.appendChild(docLink);\n",
              "        }\n",
              "      </script>\n",
              "    </div>\n",
              "  </div>\n",
              "  "
            ]
          },
          "metadata": {},
          "execution_count": 26
        }
      ]
    },
    {
      "cell_type": "code",
      "source": [
        "df_1_mitdummys.dtypes"
      ],
      "metadata": {
        "colab": {
          "base_uri": "https://localhost:8080/"
        },
        "id": "d-M4NVisRAMD",
        "outputId": "4638eb6d-ad17-4b35-c93f-c2fc6dac359d"
      },
      "execution_count": null,
      "outputs": [
        {
          "output_type": "execute_result",
          "data": {
            "text/plain": [
              "CLV_churn                                  int64\n",
              "Customer                                  object\n",
              "Customer_Lifetime_Value                  float64\n",
              "Coverage                                   int64\n",
              "Education                                  int64\n",
              "Effective_To_Date                 datetime64[ns]\n",
              "Income                                     int64\n",
              "Location_Code                              int64\n",
              "Monthly_Premium_Auto                       int64\n",
              "Months_Since_Last_Claim                    int64\n",
              "Months_Since_Policy_Inception              int64\n",
              "Number_of_Open_Complaints                  int64\n",
              "Number_of_Policies                         int64\n",
              "Total_Claim_Amount                       float64\n",
              "Vehicle_Size                               int64\n",
              "State_Arizona                              uint8\n",
              "State_California                           uint8\n",
              "State_Nevada                               uint8\n",
              "State_Oregon                               uint8\n",
              "State_Washington                           uint8\n",
              "EmploymentStatus_Disabled                  uint8\n",
              "EmploymentStatus_Employed                  uint8\n",
              "EmploymentStatus_Medical Leave             uint8\n",
              "EmploymentStatus_Retired                   uint8\n",
              "EmploymentStatus_Unemployed                uint8\n",
              "Gender_F                                   uint8\n",
              "Gender_M                                   uint8\n",
              "Marital_Status_Divorced                    uint8\n",
              "Marital_Status_Married                     uint8\n",
              "Marital_Status_Single                      uint8\n",
              "Policy_Type_Corporate Auto                 uint8\n",
              "Policy_Type_Personal Auto                  uint8\n",
              "Policy_Type_Special Auto                   uint8\n",
              "Policy_Corporate L1                        uint8\n",
              "Policy_Corporate L2                        uint8\n",
              "Policy_Corporate L3                        uint8\n",
              "Policy_Personal L1                         uint8\n",
              "Policy_Personal L2                         uint8\n",
              "Policy_Personal L3                         uint8\n",
              "Policy_Special L1                          uint8\n",
              "Policy_Special L2                          uint8\n",
              "Policy_Special L3                          uint8\n",
              "Renew_Offer_Type_Offer1                    uint8\n",
              "Renew_Offer_Type_Offer2                    uint8\n",
              "Renew_Offer_Type_Offer3                    uint8\n",
              "Renew_Offer_Type_Offer4                    uint8\n",
              "Sales_Channel_Agent                        uint8\n",
              "Sales_Channel_Branch                       uint8\n",
              "Sales_Channel_Call Center                  uint8\n",
              "Sales_Channel_Web                          uint8\n",
              "Vehicle_Class_Four-Door Car                uint8\n",
              "Vehicle_Class_Luxury Car                   uint8\n",
              "Vehicle_Class_Luxury SUV                   uint8\n",
              "Vehicle_Class_SUV                          uint8\n",
              "Vehicle_Class_Sports Car                   uint8\n",
              "Vehicle_Class_Two-Door Car                 uint8\n",
              "Response_No                                uint8\n",
              "Response_Yes                               uint8\n",
              "dtype: object"
            ]
          },
          "metadata": {},
          "execution_count": 27
        }
      ]
    },
    {
      "cell_type": "markdown",
      "source": [
        "Hier sind jetzt alle mapping data in dem Datensatz enthalten (Aber doppelt: 1x als object und 1x als int)"
      ],
      "metadata": {
        "id": "wVHmX0-8amMG"
      }
    },
    {
      "cell_type": "code",
      "source": [
        "#Metrische Variable für Regression\n",
        "target_regression = df_1_mitdummys.loc[:,'Customer_Lifetime_Value']"
      ],
      "metadata": {
        "id": "qm84W2WcEOh1"
      },
      "execution_count": null,
      "outputs": []
    },
    {
      "cell_type": "code",
      "source": [
        "#Customer und CLV gelöscht\n",
        "df_1_mitdummys = df_1_mitdummys.drop(['Customer', 'Customer_Lifetime_Value'],1)\n"
      ],
      "metadata": {
        "colab": {
          "base_uri": "https://localhost:8080/"
        },
        "id": "s2seiHlebFQE",
        "outputId": "996778fe-65ba-4cc0-cac6-1c0a8cd67369"
      },
      "execution_count": null,
      "outputs": [
        {
          "output_type": "stream",
          "name": "stderr",
          "text": [
            "<ipython-input-29-33512760453f>:2: FutureWarning: In a future version of pandas all arguments of DataFrame.drop except for the argument 'labels' will be keyword-only.\n",
            "  df_1_mitdummys = df_1_mitdummys.drop(['Customer', 'Customer_Lifetime_Value'],1)\n"
          ]
        }
      ]
    },
    {
      "cell_type": "code",
      "source": [],
      "metadata": {
        "id": "gT63xJb0QO3W"
      },
      "execution_count": null,
      "outputs": []
    },
    {
      "cell_type": "code",
      "source": [
        "#Löschen von jeweils einem Dummy\n",
        "df_1_mitdummys = df_1_mitdummys.drop(['State_Washington', 'EmploymentStatus_Unemployed', 'Gender_M', 'Marital_Status_Single', 'Policy_Type_Special Auto', 'Policy_Special L3', 'Renew_Offer_Type_Offer4', 'Sales_Channel_Web', 'Vehicle_Class_Two-Door Car', 'Response_Yes'],1)\n"
      ],
      "metadata": {
        "colab": {
          "base_uri": "https://localhost:8080/"
        },
        "id": "sotSDRvCP5db",
        "outputId": "66ea45b8-c8bc-45f1-9be9-7190b2e5e7a6"
      },
      "execution_count": null,
      "outputs": [
        {
          "output_type": "stream",
          "name": "stderr",
          "text": [
            "<ipython-input-30-705fd9f515a6>:2: FutureWarning: In a future version of pandas all arguments of DataFrame.drop except for the argument 'labels' will be keyword-only.\n",
            "  df_1_mitdummys = df_1_mitdummys.drop(['State_Washington', 'EmploymentStatus_Unemployed', 'Gender_M', 'Marital_Status_Single', 'Policy_Type_Special Auto', 'Policy_Special L3', 'Renew_Offer_Type_Offer4', 'Sales_Channel_Web', 'Vehicle_Class_Two-Door Car', 'Response_Yes'],1)\n"
          ]
        }
      ]
    },
    {
      "cell_type": "code",
      "source": [
        "df_1_mitdummys.dtypes"
      ],
      "metadata": {
        "id": "qLCAccEpgLqH",
        "colab": {
          "base_uri": "https://localhost:8080/"
        },
        "outputId": "3a5e0b43-f252-4679-e473-910550a0bb1b"
      },
      "execution_count": null,
      "outputs": [
        {
          "output_type": "execute_result",
          "data": {
            "text/plain": [
              "CLV_churn                                  int64\n",
              "Coverage                                   int64\n",
              "Education                                  int64\n",
              "Effective_To_Date                 datetime64[ns]\n",
              "Income                                     int64\n",
              "Location_Code                              int64\n",
              "Monthly_Premium_Auto                       int64\n",
              "Months_Since_Last_Claim                    int64\n",
              "Months_Since_Policy_Inception              int64\n",
              "Number_of_Open_Complaints                  int64\n",
              "Number_of_Policies                         int64\n",
              "Total_Claim_Amount                       float64\n",
              "Vehicle_Size                               int64\n",
              "State_Arizona                              uint8\n",
              "State_California                           uint8\n",
              "State_Nevada                               uint8\n",
              "State_Oregon                               uint8\n",
              "EmploymentStatus_Disabled                  uint8\n",
              "EmploymentStatus_Employed                  uint8\n",
              "EmploymentStatus_Medical Leave             uint8\n",
              "EmploymentStatus_Retired                   uint8\n",
              "Gender_F                                   uint8\n",
              "Marital_Status_Divorced                    uint8\n",
              "Marital_Status_Married                     uint8\n",
              "Policy_Type_Corporate Auto                 uint8\n",
              "Policy_Type_Personal Auto                  uint8\n",
              "Policy_Corporate L1                        uint8\n",
              "Policy_Corporate L2                        uint8\n",
              "Policy_Corporate L3                        uint8\n",
              "Policy_Personal L1                         uint8\n",
              "Policy_Personal L2                         uint8\n",
              "Policy_Personal L3                         uint8\n",
              "Policy_Special L1                          uint8\n",
              "Policy_Special L2                          uint8\n",
              "Renew_Offer_Type_Offer1                    uint8\n",
              "Renew_Offer_Type_Offer2                    uint8\n",
              "Renew_Offer_Type_Offer3                    uint8\n",
              "Sales_Channel_Agent                        uint8\n",
              "Sales_Channel_Branch                       uint8\n",
              "Sales_Channel_Call Center                  uint8\n",
              "Vehicle_Class_Four-Door Car                uint8\n",
              "Vehicle_Class_Luxury Car                   uint8\n",
              "Vehicle_Class_Luxury SUV                   uint8\n",
              "Vehicle_Class_SUV                          uint8\n",
              "Vehicle_Class_Sports Car                   uint8\n",
              "Response_No                                uint8\n",
              "dtype: object"
            ]
          },
          "metadata": {},
          "execution_count": 31
        }
      ]
    },
    {
      "cell_type": "code",
      "source": [
        "# Versuch die object Duplikate zu löschen --> löscht aber alles\n",
        "#duplikate = data.columns.duplicated(keep='last')\n",
        "#duplikate\n",
        "#zu_loeschende_spalte = data.columns[duplikate]\n",
        "#data = df_final.drop(zu_loeschende_spalte, axis=1)"
      ],
      "metadata": {
        "id": "bhQXubIidqHh"
      },
      "execution_count": null,
      "outputs": []
    },
    {
      "cell_type": "code",
      "source": [
        "#Versuch alle objects zu löschen --> löscht aber alles\n",
        "#object_columns = df_final.select_dtypes(include=['object']).columns\n",
        "#object_columns\n",
        "#df_final = df_final.drop(object_columns, axis=1)"
      ],
      "metadata": {
        "id": "c2WByv41TRAW"
      },
      "execution_count": null,
      "outputs": []
    },
    {
      "cell_type": "markdown",
      "source": [
        "###**Scaling**"
      ],
      "metadata": {
        "id": "uzyGmG7XnI8L"
      }
    },
    {
      "cell_type": "code",
      "source": [
        "data_clean = df_1_mitdummys.copy()\n",
        "data_clean.dtypes"
      ],
      "metadata": {
        "id": "IkhRipSY11s6",
        "colab": {
          "base_uri": "https://localhost:8080/"
        },
        "outputId": "05bf6d5e-4067-4a4f-d8d4-0fa4f5108e25"
      },
      "execution_count": null,
      "outputs": [
        {
          "output_type": "execute_result",
          "data": {
            "text/plain": [
              "CLV_churn                                  int64\n",
              "Coverage                                   int64\n",
              "Education                                  int64\n",
              "Effective_To_Date                 datetime64[ns]\n",
              "Income                                     int64\n",
              "Location_Code                              int64\n",
              "Monthly_Premium_Auto                       int64\n",
              "Months_Since_Last_Claim                    int64\n",
              "Months_Since_Policy_Inception              int64\n",
              "Number_of_Open_Complaints                  int64\n",
              "Number_of_Policies                         int64\n",
              "Total_Claim_Amount                       float64\n",
              "Vehicle_Size                               int64\n",
              "State_Arizona                              uint8\n",
              "State_California                           uint8\n",
              "State_Nevada                               uint8\n",
              "State_Oregon                               uint8\n",
              "EmploymentStatus_Disabled                  uint8\n",
              "EmploymentStatus_Employed                  uint8\n",
              "EmploymentStatus_Medical Leave             uint8\n",
              "EmploymentStatus_Retired                   uint8\n",
              "Gender_F                                   uint8\n",
              "Marital_Status_Divorced                    uint8\n",
              "Marital_Status_Married                     uint8\n",
              "Policy_Type_Corporate Auto                 uint8\n",
              "Policy_Type_Personal Auto                  uint8\n",
              "Policy_Corporate L1                        uint8\n",
              "Policy_Corporate L2                        uint8\n",
              "Policy_Corporate L3                        uint8\n",
              "Policy_Personal L1                         uint8\n",
              "Policy_Personal L2                         uint8\n",
              "Policy_Personal L3                         uint8\n",
              "Policy_Special L1                          uint8\n",
              "Policy_Special L2                          uint8\n",
              "Renew_Offer_Type_Offer1                    uint8\n",
              "Renew_Offer_Type_Offer2                    uint8\n",
              "Renew_Offer_Type_Offer3                    uint8\n",
              "Sales_Channel_Agent                        uint8\n",
              "Sales_Channel_Branch                       uint8\n",
              "Sales_Channel_Call Center                  uint8\n",
              "Vehicle_Class_Four-Door Car                uint8\n",
              "Vehicle_Class_Luxury Car                   uint8\n",
              "Vehicle_Class_Luxury SUV                   uint8\n",
              "Vehicle_Class_SUV                          uint8\n",
              "Vehicle_Class_Sports Car                   uint8\n",
              "Response_No                                uint8\n",
              "dtype: object"
            ]
          },
          "metadata": {},
          "execution_count": 34
        }
      ]
    },
    {
      "cell_type": "markdown",
      "source": [
        "####**Alle X skaliert**"
      ],
      "metadata": {
        "id": "p_xi-iriJ2UJ"
      }
    },
    {
      "cell_type": "code",
      "source": [
        "#Alle features (X) skaliert\n",
        "from sklearn.preprocessing import StandardScaler\n",
        "std_scaler = StandardScaler()\n",
        "\n",
        "columns_to_scale = data_clean.loc[:,['Coverage', 'Education', 'Income', 'Location_Code', 'Monthly_Premium_Auto', 'Months_Since_Last_Claim', 'Months_Since_Policy_Inception', 'Number_of_Open_Complaints', 'Number_of_Policies', 'Vehicle_Size',\n",
        "                                     'State_Arizona','State_California', 'State_Nevada', 'State_Oregon',\n",
        "                                     'EmploymentStatus_Disabled', 'EmploymentStatus_Employed', 'EmploymentStatus_Medical Leave', 'EmploymentStatus_Retired',\n",
        "                                     'Gender_F',\n",
        "                                     'Marital_Status_Divorced', 'Marital_Status_Married',\n",
        "                                     'Policy_Type_Corporate Auto', 'Policy_Type_Personal Auto',\n",
        "                                     'Policy_Corporate L1', 'Policy_Corporate L2', 'Policy_Corporate L3',\n",
        "                                     'Policy_Personal L1', 'Policy_Personal L2', 'Policy_Personal L3',\n",
        "                                     'Policy_Special L1', 'Policy_Special L2',\n",
        "                                     'Renew_Offer_Type_Offer1', 'Renew_Offer_Type_Offer2', 'Renew_Offer_Type_Offer3',\n",
        "                                     'Sales_Channel_Agent', 'Sales_Channel_Branch', 'Sales_Channel_Call Center',\n",
        "                                     'Vehicle_Class_Four-Door Car', 'Vehicle_Class_Luxury Car', 'Vehicle_Class_Luxury SUV', 'Vehicle_Class_SUV', 'Vehicle_Class_Sports Car',\n",
        "                                     'Response_No']]\n",
        "features_std = std_scaler.fit_transform(columns_to_scale)\n",
        "features_std"
      ],
      "metadata": {
        "id": "mEGTiQPWpTCY",
        "colab": {
          "base_uri": "https://localhost:8080/"
        },
        "outputId": "ea7fd67c-390c-4825-ad7c-d2f0519b03c4"
      },
      "execution_count": null,
      "outputs": [
        {
          "output_type": "execute_result",
          "data": {
            "text/plain": [
              "array([[-0.73289946,  0.65895932,  0.61282744, ..., -0.49472552,\n",
              "        -0.23654547,  0.40882171],\n",
              "       [ 0.79199887,  0.65895932, -1.23961684, ..., -0.49472552,\n",
              "        -0.23654547,  0.40882171],\n",
              "       [ 2.31689721,  0.65895932,  0.36570978, ..., -0.49472552,\n",
              "        -0.23654547,  0.40882171],\n",
              "       ...,\n",
              "       [ 0.79199887,  0.65895932, -1.23961684, ..., -0.49472552,\n",
              "        -0.23654547,  0.40882171],\n",
              "       [ 0.79199887, -0.26703059, -0.51735647, ..., -0.49472552,\n",
              "        -0.23654547,  0.40882171],\n",
              "       [ 0.79199887, -0.26703059, -1.23961684, ..., -0.49472552,\n",
              "        -0.23654547,  0.40882171]])"
            ]
          },
          "metadata": {},
          "execution_count": 35
        }
      ]
    },
    {
      "cell_type": "code",
      "source": [
        "# Alle features (X) in Data Frame umgewandelt\n",
        "X = pd.DataFrame(features_std,\n",
        "                         columns=['Coverage', 'Education', 'Income', 'Location_Code', 'Monthly_Premium_Auto', 'Months_Since_Last_Claim', 'Months_Since_Policy_Inception', 'Number_of_Open_Complaints', 'Number_of_Policies', 'Vehicle_Size',\n",
        "                                     'State_Arizona','State_California', 'State_Nevada', 'State_Oregon',\n",
        "                                     'EmploymentStatus_Disabled', 'EmploymentStatus_Employed', 'EmploymentStatus_Medical Leave', 'EmploymentStatus_Retired',\n",
        "                                     'Gender_F',\n",
        "                                     'Marital_Status_Divorced', 'Marital_Status_Married',\n",
        "                                     'Policy_Type_Corporate Auto', 'Policy_Type_Personal Auto',\n",
        "                                     'Policy_Corporate L1', 'Policy_Corporate L2', 'Policy_Corporate L3',\n",
        "                                     'Policy_Personal L1', 'Policy_Personal L2', 'Policy_Personal L3',\n",
        "                                     'Policy_Special L1', 'Policy_Special L2',\n",
        "                                     'Renew_Offer_Type_Offer1', 'Renew_Offer_Type_Offer2', 'Renew_Offer_Type_Offer3',\n",
        "                                     'Sales_Channel_Agent', 'Sales_Channel_Branch', 'Sales_Channel_Call Center',\n",
        "                                     'Vehicle_Class_Four-Door Car', 'Vehicle_Class_Luxury Car', 'Vehicle_Class_Luxury SUV', 'Vehicle_Class_SUV', 'Vehicle_Class_Sports Car',\n",
        "                                     'Response_No'])\n",
        "X.dtypes"
      ],
      "metadata": {
        "id": "bB6KbvwE2yiY",
        "colab": {
          "base_uri": "https://localhost:8080/"
        },
        "outputId": "29cda24c-e989-4a67-83fd-7dc6ceca57b7"
      },
      "execution_count": null,
      "outputs": [
        {
          "output_type": "execute_result",
          "data": {
            "text/plain": [
              "Coverage                          float64\n",
              "Education                         float64\n",
              "Income                            float64\n",
              "Location_Code                     float64\n",
              "Monthly_Premium_Auto              float64\n",
              "Months_Since_Last_Claim           float64\n",
              "Months_Since_Policy_Inception     float64\n",
              "Number_of_Open_Complaints         float64\n",
              "Number_of_Policies                float64\n",
              "Vehicle_Size                      float64\n",
              "State_Arizona                     float64\n",
              "State_California                  float64\n",
              "State_Nevada                      float64\n",
              "State_Oregon                      float64\n",
              "EmploymentStatus_Disabled         float64\n",
              "EmploymentStatus_Employed         float64\n",
              "EmploymentStatus_Medical Leave    float64\n",
              "EmploymentStatus_Retired          float64\n",
              "Gender_F                          float64\n",
              "Marital_Status_Divorced           float64\n",
              "Marital_Status_Married            float64\n",
              "Policy_Type_Corporate Auto        float64\n",
              "Policy_Type_Personal Auto         float64\n",
              "Policy_Corporate L1               float64\n",
              "Policy_Corporate L2               float64\n",
              "Policy_Corporate L3               float64\n",
              "Policy_Personal L1                float64\n",
              "Policy_Personal L2                float64\n",
              "Policy_Personal L3                float64\n",
              "Policy_Special L1                 float64\n",
              "Policy_Special L2                 float64\n",
              "Renew_Offer_Type_Offer1           float64\n",
              "Renew_Offer_Type_Offer2           float64\n",
              "Renew_Offer_Type_Offer3           float64\n",
              "Sales_Channel_Agent               float64\n",
              "Sales_Channel_Branch              float64\n",
              "Sales_Channel_Call Center         float64\n",
              "Vehicle_Class_Four-Door Car       float64\n",
              "Vehicle_Class_Luxury Car          float64\n",
              "Vehicle_Class_Luxury SUV          float64\n",
              "Vehicle_Class_SUV                 float64\n",
              "Vehicle_Class_Sports Car          float64\n",
              "Response_No                       float64\n",
              "dtype: object"
            ]
          },
          "metadata": {},
          "execution_count": 36
        }
      ]
    },
    {
      "cell_type": "markdown",
      "source": [
        "####**Alle X skaliert außer Dummys**"
      ],
      "metadata": {
        "id": "fV43i7n2KAvW"
      }
    },
    {
      "cell_type": "code",
      "source": [
        "#Für Classification und Regression\n",
        "from sklearn.preprocessing import StandardScaler\n",
        "std_scaler = StandardScaler()\n",
        "\n",
        "columns_to_scale_2 = data_clean.loc[:,['Coverage', 'Education', 'Income', 'Location_Code', 'Monthly_Premium_Auto', 'Months_Since_Last_Claim', 'Months_Since_Policy_Inception', 'Number_of_Open_Complaints', 'Number_of_Policies', 'Vehicle_Size']]\n",
        "features_std_2 = std_scaler.fit_transform(columns_to_scale_2)\n",
        "features_std_2"
      ],
      "metadata": {
        "id": "xfZDpGfvKUxm",
        "colab": {
          "base_uri": "https://localhost:8080/"
        },
        "outputId": "072359a8-a1b9-48ed-f855-df2e6636a62b"
      },
      "execution_count": null,
      "outputs": [
        {
          "output_type": "execute_result",
          "data": {
            "text/plain": [
              "array([[-0.73289946,  0.65895932,  0.61282744, ..., -0.42224956,\n",
              "        -0.82264788,  0.16668206],\n",
              "       [ 0.79199887,  0.65895932, -1.23961684, ..., -0.42224956,\n",
              "         2.10615996,  0.16668206],\n",
              "       [ 2.31689721,  0.65895932,  0.36570978, ..., -0.42224956,\n",
              "        -0.40424676,  0.16668206],\n",
              "       ...,\n",
              "       [ 0.79199887,  0.65895932, -1.23961684, ...,  2.87324529,\n",
              "        -0.40424676,  0.16668206],\n",
              "       [ 0.79199887, -0.26703059, -0.51735647, ..., -0.42224956,\n",
              "         0.01415436,  2.0278971 ],\n",
              "       [ 0.79199887, -0.26703059, -1.23961684, ..., -0.42224956,\n",
              "        -0.82264788,  0.16668206]])"
            ]
          },
          "metadata": {},
          "execution_count": 37
        }
      ]
    },
    {
      "cell_type": "code",
      "source": [
        "X_skaliert_ohneDummies = pd.DataFrame(features_std_2,\n",
        "                         columns=['Coverage', 'Education', 'Income', 'Location_Code', 'Monthly_Premium_Auto', 'Months_Since_Last_Claim', 'Months_Since_Policy_Inception', 'Number_of_Open_Complaints', 'Number_of_Policies', 'Vehicle_Size'])\n",
        "X_skaliert_ohneDummies"
      ],
      "metadata": {
        "id": "_Ur5RBfrKdGp",
        "colab": {
          "base_uri": "https://localhost:8080/",
          "height": 488
        },
        "outputId": "94b21954-16f9-4af2-80f0-fd71fa5da59a"
      },
      "execution_count": null,
      "outputs": [
        {
          "output_type": "execute_result",
          "data": {
            "text/plain": [
              "      Coverage  Education    Income  Location_Code  Monthly_Premium_Auto  \\\n",
              "0    -0.732899   0.658959  0.612827       0.034524             -0.703925   \n",
              "1     0.791999   0.658959 -1.239617       0.034524              0.022691   \n",
              "2     2.316897   0.658959  0.365710       0.034524              0.429596   \n",
              "3    -0.732899   0.658959 -1.239617       0.034524              0.371467   \n",
              "4    -0.732899   0.658959  0.203390      -1.616461             -0.587666   \n",
              "...        ...        ...       ...            ...                   ...   \n",
              "9129 -0.732899   0.658959  1.128558       1.685508             -0.587666   \n",
              "9130  0.791999  -0.267031 -0.528450       0.034524             -0.413278   \n",
              "9131  0.791999   0.658959 -1.239617       0.034524             -0.238891   \n",
              "9132  0.791999  -0.267031 -0.517356       0.034524              0.080820   \n",
              "9133  0.791999  -0.267031 -1.239617       0.034524             -0.471408   \n",
              "\n",
              "      Months_Since_Last_Claim  Months_Since_Policy_Inception  \\\n",
              "0                    1.678099                      -1.543287   \n",
              "1                   -0.208186                      -0.217334   \n",
              "2                    0.288205                      -0.360680   \n",
              "3                    0.288205                       0.606907   \n",
              "4                   -0.307465                      -0.145661   \n",
              "...                       ...                            ...   \n",
              "9129                 0.288205                       1.466984   \n",
              "9130                -0.108908                      -0.719046   \n",
              "9131                -0.605299                      -0.396517   \n",
              "9132                 1.876656                      -1.614960   \n",
              "9133                -1.200968                       1.502821   \n",
              "\n",
              "      Number_of_Open_Complaints  Number_of_Policies  Vehicle_Size  \n",
              "0                     -0.422250           -0.822648      0.166682  \n",
              "1                     -0.422250            2.106160      0.166682  \n",
              "2                     -0.422250           -0.404247      0.166682  \n",
              "3                     -0.422250            1.687759      0.166682  \n",
              "4                     -0.422250           -0.822648      0.166682  \n",
              "...                         ...                 ...           ...  \n",
              "9129                  -0.422250           -0.404247      0.166682  \n",
              "9130                  -0.422250           -0.822648      0.166682  \n",
              "9131                   2.873245           -0.404247      0.166682  \n",
              "9132                  -0.422250            0.014154      2.027897  \n",
              "9133                  -0.422250           -0.822648      0.166682  \n",
              "\n",
              "[9134 rows x 10 columns]"
            ],
            "text/html": [
              "\n",
              "  <div id=\"df-0ded07da-121e-4164-8fab-cec3cc4d8804\">\n",
              "    <div class=\"colab-df-container\">\n",
              "      <div>\n",
              "<style scoped>\n",
              "    .dataframe tbody tr th:only-of-type {\n",
              "        vertical-align: middle;\n",
              "    }\n",
              "\n",
              "    .dataframe tbody tr th {\n",
              "        vertical-align: top;\n",
              "    }\n",
              "\n",
              "    .dataframe thead th {\n",
              "        text-align: right;\n",
              "    }\n",
              "</style>\n",
              "<table border=\"1\" class=\"dataframe\">\n",
              "  <thead>\n",
              "    <tr style=\"text-align: right;\">\n",
              "      <th></th>\n",
              "      <th>Coverage</th>\n",
              "      <th>Education</th>\n",
              "      <th>Income</th>\n",
              "      <th>Location_Code</th>\n",
              "      <th>Monthly_Premium_Auto</th>\n",
              "      <th>Months_Since_Last_Claim</th>\n",
              "      <th>Months_Since_Policy_Inception</th>\n",
              "      <th>Number_of_Open_Complaints</th>\n",
              "      <th>Number_of_Policies</th>\n",
              "      <th>Vehicle_Size</th>\n",
              "    </tr>\n",
              "  </thead>\n",
              "  <tbody>\n",
              "    <tr>\n",
              "      <th>0</th>\n",
              "      <td>-0.732899</td>\n",
              "      <td>0.658959</td>\n",
              "      <td>0.612827</td>\n",
              "      <td>0.034524</td>\n",
              "      <td>-0.703925</td>\n",
              "      <td>1.678099</td>\n",
              "      <td>-1.543287</td>\n",
              "      <td>-0.422250</td>\n",
              "      <td>-0.822648</td>\n",
              "      <td>0.166682</td>\n",
              "    </tr>\n",
              "    <tr>\n",
              "      <th>1</th>\n",
              "      <td>0.791999</td>\n",
              "      <td>0.658959</td>\n",
              "      <td>-1.239617</td>\n",
              "      <td>0.034524</td>\n",
              "      <td>0.022691</td>\n",
              "      <td>-0.208186</td>\n",
              "      <td>-0.217334</td>\n",
              "      <td>-0.422250</td>\n",
              "      <td>2.106160</td>\n",
              "      <td>0.166682</td>\n",
              "    </tr>\n",
              "    <tr>\n",
              "      <th>2</th>\n",
              "      <td>2.316897</td>\n",
              "      <td>0.658959</td>\n",
              "      <td>0.365710</td>\n",
              "      <td>0.034524</td>\n",
              "      <td>0.429596</td>\n",
              "      <td>0.288205</td>\n",
              "      <td>-0.360680</td>\n",
              "      <td>-0.422250</td>\n",
              "      <td>-0.404247</td>\n",
              "      <td>0.166682</td>\n",
              "    </tr>\n",
              "    <tr>\n",
              "      <th>3</th>\n",
              "      <td>-0.732899</td>\n",
              "      <td>0.658959</td>\n",
              "      <td>-1.239617</td>\n",
              "      <td>0.034524</td>\n",
              "      <td>0.371467</td>\n",
              "      <td>0.288205</td>\n",
              "      <td>0.606907</td>\n",
              "      <td>-0.422250</td>\n",
              "      <td>1.687759</td>\n",
              "      <td>0.166682</td>\n",
              "    </tr>\n",
              "    <tr>\n",
              "      <th>4</th>\n",
              "      <td>-0.732899</td>\n",
              "      <td>0.658959</td>\n",
              "      <td>0.203390</td>\n",
              "      <td>-1.616461</td>\n",
              "      <td>-0.587666</td>\n",
              "      <td>-0.307465</td>\n",
              "      <td>-0.145661</td>\n",
              "      <td>-0.422250</td>\n",
              "      <td>-0.822648</td>\n",
              "      <td>0.166682</td>\n",
              "    </tr>\n",
              "    <tr>\n",
              "      <th>...</th>\n",
              "      <td>...</td>\n",
              "      <td>...</td>\n",
              "      <td>...</td>\n",
              "      <td>...</td>\n",
              "      <td>...</td>\n",
              "      <td>...</td>\n",
              "      <td>...</td>\n",
              "      <td>...</td>\n",
              "      <td>...</td>\n",
              "      <td>...</td>\n",
              "    </tr>\n",
              "    <tr>\n",
              "      <th>9129</th>\n",
              "      <td>-0.732899</td>\n",
              "      <td>0.658959</td>\n",
              "      <td>1.128558</td>\n",
              "      <td>1.685508</td>\n",
              "      <td>-0.587666</td>\n",
              "      <td>0.288205</td>\n",
              "      <td>1.466984</td>\n",
              "      <td>-0.422250</td>\n",
              "      <td>-0.404247</td>\n",
              "      <td>0.166682</td>\n",
              "    </tr>\n",
              "    <tr>\n",
              "      <th>9130</th>\n",
              "      <td>0.791999</td>\n",
              "      <td>-0.267031</td>\n",
              "      <td>-0.528450</td>\n",
              "      <td>0.034524</td>\n",
              "      <td>-0.413278</td>\n",
              "      <td>-0.108908</td>\n",
              "      <td>-0.719046</td>\n",
              "      <td>-0.422250</td>\n",
              "      <td>-0.822648</td>\n",
              "      <td>0.166682</td>\n",
              "    </tr>\n",
              "    <tr>\n",
              "      <th>9131</th>\n",
              "      <td>0.791999</td>\n",
              "      <td>0.658959</td>\n",
              "      <td>-1.239617</td>\n",
              "      <td>0.034524</td>\n",
              "      <td>-0.238891</td>\n",
              "      <td>-0.605299</td>\n",
              "      <td>-0.396517</td>\n",
              "      <td>2.873245</td>\n",
              "      <td>-0.404247</td>\n",
              "      <td>0.166682</td>\n",
              "    </tr>\n",
              "    <tr>\n",
              "      <th>9132</th>\n",
              "      <td>0.791999</td>\n",
              "      <td>-0.267031</td>\n",
              "      <td>-0.517356</td>\n",
              "      <td>0.034524</td>\n",
              "      <td>0.080820</td>\n",
              "      <td>1.876656</td>\n",
              "      <td>-1.614960</td>\n",
              "      <td>-0.422250</td>\n",
              "      <td>0.014154</td>\n",
              "      <td>2.027897</td>\n",
              "    </tr>\n",
              "    <tr>\n",
              "      <th>9133</th>\n",
              "      <td>0.791999</td>\n",
              "      <td>-0.267031</td>\n",
              "      <td>-1.239617</td>\n",
              "      <td>0.034524</td>\n",
              "      <td>-0.471408</td>\n",
              "      <td>-1.200968</td>\n",
              "      <td>1.502821</td>\n",
              "      <td>-0.422250</td>\n",
              "      <td>-0.822648</td>\n",
              "      <td>0.166682</td>\n",
              "    </tr>\n",
              "  </tbody>\n",
              "</table>\n",
              "<p>9134 rows × 10 columns</p>\n",
              "</div>\n",
              "      <button class=\"colab-df-convert\" onclick=\"convertToInteractive('df-0ded07da-121e-4164-8fab-cec3cc4d8804')\"\n",
              "              title=\"Convert this dataframe to an interactive table.\"\n",
              "              style=\"display:none;\">\n",
              "        \n",
              "  <svg xmlns=\"http://www.w3.org/2000/svg\" height=\"24px\"viewBox=\"0 0 24 24\"\n",
              "       width=\"24px\">\n",
              "    <path d=\"M0 0h24v24H0V0z\" fill=\"none\"/>\n",
              "    <path d=\"M18.56 5.44l.94 2.06.94-2.06 2.06-.94-2.06-.94-.94-2.06-.94 2.06-2.06.94zm-11 1L8.5 8.5l.94-2.06 2.06-.94-2.06-.94L8.5 2.5l-.94 2.06-2.06.94zm10 10l.94 2.06.94-2.06 2.06-.94-2.06-.94-.94-2.06-.94 2.06-2.06.94z\"/><path d=\"M17.41 7.96l-1.37-1.37c-.4-.4-.92-.59-1.43-.59-.52 0-1.04.2-1.43.59L10.3 9.45l-7.72 7.72c-.78.78-.78 2.05 0 2.83L4 21.41c.39.39.9.59 1.41.59.51 0 1.02-.2 1.41-.59l7.78-7.78 2.81-2.81c.8-.78.8-2.07 0-2.86zM5.41 20L4 18.59l7.72-7.72 1.47 1.35L5.41 20z\"/>\n",
              "  </svg>\n",
              "      </button>\n",
              "      \n",
              "  <style>\n",
              "    .colab-df-container {\n",
              "      display:flex;\n",
              "      flex-wrap:wrap;\n",
              "      gap: 12px;\n",
              "    }\n",
              "\n",
              "    .colab-df-convert {\n",
              "      background-color: #E8F0FE;\n",
              "      border: none;\n",
              "      border-radius: 50%;\n",
              "      cursor: pointer;\n",
              "      display: none;\n",
              "      fill: #1967D2;\n",
              "      height: 32px;\n",
              "      padding: 0 0 0 0;\n",
              "      width: 32px;\n",
              "    }\n",
              "\n",
              "    .colab-df-convert:hover {\n",
              "      background-color: #E2EBFA;\n",
              "      box-shadow: 0px 1px 2px rgba(60, 64, 67, 0.3), 0px 1px 3px 1px rgba(60, 64, 67, 0.15);\n",
              "      fill: #174EA6;\n",
              "    }\n",
              "\n",
              "    [theme=dark] .colab-df-convert {\n",
              "      background-color: #3B4455;\n",
              "      fill: #D2E3FC;\n",
              "    }\n",
              "\n",
              "    [theme=dark] .colab-df-convert:hover {\n",
              "      background-color: #434B5C;\n",
              "      box-shadow: 0px 1px 3px 1px rgba(0, 0, 0, 0.15);\n",
              "      filter: drop-shadow(0px 1px 2px rgba(0, 0, 0, 0.3));\n",
              "      fill: #FFFFFF;\n",
              "    }\n",
              "  </style>\n",
              "\n",
              "      <script>\n",
              "        const buttonEl =\n",
              "          document.querySelector('#df-0ded07da-121e-4164-8fab-cec3cc4d8804 button.colab-df-convert');\n",
              "        buttonEl.style.display =\n",
              "          google.colab.kernel.accessAllowed ? 'block' : 'none';\n",
              "\n",
              "        async function convertToInteractive(key) {\n",
              "          const element = document.querySelector('#df-0ded07da-121e-4164-8fab-cec3cc4d8804');\n",
              "          const dataTable =\n",
              "            await google.colab.kernel.invokeFunction('convertToInteractive',\n",
              "                                                     [key], {});\n",
              "          if (!dataTable) return;\n",
              "\n",
              "          const docLinkHtml = 'Like what you see? Visit the ' +\n",
              "            '<a target=\"_blank\" href=https://colab.research.google.com/notebooks/data_table.ipynb>data table notebook</a>'\n",
              "            + ' to learn more about interactive tables.';\n",
              "          element.innerHTML = '';\n",
              "          dataTable['output_type'] = 'display_data';\n",
              "          await google.colab.output.renderOutput(dataTable, element);\n",
              "          const docLink = document.createElement('div');\n",
              "          docLink.innerHTML = docLinkHtml;\n",
              "          element.appendChild(docLink);\n",
              "        }\n",
              "      </script>\n",
              "    </div>\n",
              "  </div>\n",
              "  "
            ]
          },
          "metadata": {},
          "execution_count": 38
        }
      ]
    },
    {
      "cell_type": "code",
      "source": [
        "# Unskalierte Dummies hinzufügen\n",
        "dummys_ohne_referenz = data_clean.loc[:,['State_Arizona','State_California', 'State_Nevada', 'State_Oregon',\n",
        "                                     'EmploymentStatus_Disabled', 'EmploymentStatus_Employed', 'EmploymentStatus_Medical Leave', 'EmploymentStatus_Retired',\n",
        "                                     'Gender_F',\n",
        "                                     'Marital_Status_Divorced', 'Marital_Status_Married',\n",
        "                                     'Policy_Type_Corporate Auto', 'Policy_Type_Personal Auto',\n",
        "                                     'Policy_Corporate L1', 'Policy_Corporate L2', 'Policy_Corporate L3',\n",
        "                                     'Policy_Personal L1', 'Policy_Personal L2', 'Policy_Personal L3',\n",
        "                                     'Policy_Special L1', 'Policy_Special L2',\n",
        "                                     'Renew_Offer_Type_Offer1', 'Renew_Offer_Type_Offer2', 'Renew_Offer_Type_Offer3',\n",
        "                                     'Sales_Channel_Agent', 'Sales_Channel_Branch', 'Sales_Channel_Call Center',\n",
        "                                     'Vehicle_Class_Four-Door Car', 'Vehicle_Class_Luxury Car', 'Vehicle_Class_Luxury SUV', 'Vehicle_Class_SUV', 'Vehicle_Class_Sports Car',\n",
        "                                     'Response_No']]\n",
        "\n",
        "X_skaliert_ohneDummies = pd.concat((X_skaliert_ohneDummies, dummys_ohne_referenz), axis=1)\n",
        "X_skaliert_ohneDummies\n"
      ],
      "metadata": {
        "id": "Lmo8I1VVTxyA",
        "colab": {
          "base_uri": "https://localhost:8080/",
          "height": 505
        },
        "outputId": "96dd6fdc-22db-419e-9646-90c2ee1c1909"
      },
      "execution_count": null,
      "outputs": [
        {
          "output_type": "execute_result",
          "data": {
            "text/plain": [
              "      Coverage  Education    Income  Location_Code  Monthly_Premium_Auto  \\\n",
              "0    -0.732899   0.658959  0.612827       0.034524             -0.703925   \n",
              "1     0.791999   0.658959 -1.239617       0.034524              0.022691   \n",
              "2     2.316897   0.658959  0.365710       0.034524              0.429596   \n",
              "3    -0.732899   0.658959 -1.239617       0.034524              0.371467   \n",
              "4    -0.732899   0.658959  0.203390      -1.616461             -0.587666   \n",
              "...        ...        ...       ...            ...                   ...   \n",
              "9129 -0.732899   0.658959  1.128558       1.685508             -0.587666   \n",
              "9130  0.791999  -0.267031 -0.528450       0.034524             -0.413278   \n",
              "9131  0.791999   0.658959 -1.239617       0.034524             -0.238891   \n",
              "9132  0.791999  -0.267031 -0.517356       0.034524              0.080820   \n",
              "9133  0.791999  -0.267031 -1.239617       0.034524             -0.471408   \n",
              "\n",
              "      Months_Since_Last_Claim  Months_Since_Policy_Inception  \\\n",
              "0                    1.678099                      -1.543287   \n",
              "1                   -0.208186                      -0.217334   \n",
              "2                    0.288205                      -0.360680   \n",
              "3                    0.288205                       0.606907   \n",
              "4                   -0.307465                      -0.145661   \n",
              "...                       ...                            ...   \n",
              "9129                 0.288205                       1.466984   \n",
              "9130                -0.108908                      -0.719046   \n",
              "9131                -0.605299                      -0.396517   \n",
              "9132                 1.876656                      -1.614960   \n",
              "9133                -1.200968                       1.502821   \n",
              "\n",
              "      Number_of_Open_Complaints  Number_of_Policies  Vehicle_Size  ...  \\\n",
              "0                     -0.422250           -0.822648      0.166682  ...   \n",
              "1                     -0.422250            2.106160      0.166682  ...   \n",
              "2                     -0.422250           -0.404247      0.166682  ...   \n",
              "3                     -0.422250            1.687759      0.166682  ...   \n",
              "4                     -0.422250           -0.822648      0.166682  ...   \n",
              "...                         ...                 ...           ...  ...   \n",
              "9129                  -0.422250           -0.404247      0.166682  ...   \n",
              "9130                  -0.422250           -0.822648      0.166682  ...   \n",
              "9131                   2.873245           -0.404247      0.166682  ...   \n",
              "9132                  -0.422250            0.014154      2.027897  ...   \n",
              "9133                  -0.422250           -0.822648      0.166682  ...   \n",
              "\n",
              "      Renew_Offer_Type_Offer3  Sales_Channel_Agent  Sales_Channel_Branch  \\\n",
              "0                           0                    1                     0   \n",
              "1                           1                    1                     0   \n",
              "2                           0                    1                     0   \n",
              "3                           0                    0                     0   \n",
              "4                           0                    1                     0   \n",
              "...                       ...                  ...                   ...   \n",
              "9129                        0                    0                     0   \n",
              "9130                        0                    0                     1   \n",
              "9131                        0                    0                     1   \n",
              "9132                        1                    0                     1   \n",
              "9133                        0                    0                     0   \n",
              "\n",
              "      Sales_Channel_Call Center  Vehicle_Class_Four-Door Car  \\\n",
              "0                             0                            0   \n",
              "1                             0                            1   \n",
              "2                             0                            0   \n",
              "3                             1                            0   \n",
              "4                             0                            1   \n",
              "...                         ...                          ...   \n",
              "9129                          0                            1   \n",
              "9130                          0                            1   \n",
              "9131                          0                            1   \n",
              "9132                          0                            1   \n",
              "9133                          1                            0   \n",
              "\n",
              "      Vehicle_Class_Luxury Car  Vehicle_Class_Luxury SUV  Vehicle_Class_SUV  \\\n",
              "0                            0                         0                  0   \n",
              "1                            0                         0                  0   \n",
              "2                            0                         0                  0   \n",
              "3                            0                         0                  1   \n",
              "4                            0                         0                  0   \n",
              "...                        ...                       ...                ...   \n",
              "9129                         0                         0                  0   \n",
              "9130                         0                         0                  0   \n",
              "9131                         0                         0                  0   \n",
              "9132                         0                         0                  0   \n",
              "9133                         0                         0                  0   \n",
              "\n",
              "      Vehicle_Class_Sports Car  Response_No  \n",
              "0                            0            1  \n",
              "1                            0            1  \n",
              "2                            0            1  \n",
              "3                            0            1  \n",
              "4                            0            1  \n",
              "...                        ...          ...  \n",
              "9129                         0            1  \n",
              "9130                         0            0  \n",
              "9131                         0            1  \n",
              "9132                         0            1  \n",
              "9133                         0            1  \n",
              "\n",
              "[9134 rows x 43 columns]"
            ],
            "text/html": [
              "\n",
              "  <div id=\"df-7c9ceee4-b0c0-42f8-a518-4708ed394948\">\n",
              "    <div class=\"colab-df-container\">\n",
              "      <div>\n",
              "<style scoped>\n",
              "    .dataframe tbody tr th:only-of-type {\n",
              "        vertical-align: middle;\n",
              "    }\n",
              "\n",
              "    .dataframe tbody tr th {\n",
              "        vertical-align: top;\n",
              "    }\n",
              "\n",
              "    .dataframe thead th {\n",
              "        text-align: right;\n",
              "    }\n",
              "</style>\n",
              "<table border=\"1\" class=\"dataframe\">\n",
              "  <thead>\n",
              "    <tr style=\"text-align: right;\">\n",
              "      <th></th>\n",
              "      <th>Coverage</th>\n",
              "      <th>Education</th>\n",
              "      <th>Income</th>\n",
              "      <th>Location_Code</th>\n",
              "      <th>Monthly_Premium_Auto</th>\n",
              "      <th>Months_Since_Last_Claim</th>\n",
              "      <th>Months_Since_Policy_Inception</th>\n",
              "      <th>Number_of_Open_Complaints</th>\n",
              "      <th>Number_of_Policies</th>\n",
              "      <th>Vehicle_Size</th>\n",
              "      <th>...</th>\n",
              "      <th>Renew_Offer_Type_Offer3</th>\n",
              "      <th>Sales_Channel_Agent</th>\n",
              "      <th>Sales_Channel_Branch</th>\n",
              "      <th>Sales_Channel_Call Center</th>\n",
              "      <th>Vehicle_Class_Four-Door Car</th>\n",
              "      <th>Vehicle_Class_Luxury Car</th>\n",
              "      <th>Vehicle_Class_Luxury SUV</th>\n",
              "      <th>Vehicle_Class_SUV</th>\n",
              "      <th>Vehicle_Class_Sports Car</th>\n",
              "      <th>Response_No</th>\n",
              "    </tr>\n",
              "  </thead>\n",
              "  <tbody>\n",
              "    <tr>\n",
              "      <th>0</th>\n",
              "      <td>-0.732899</td>\n",
              "      <td>0.658959</td>\n",
              "      <td>0.612827</td>\n",
              "      <td>0.034524</td>\n",
              "      <td>-0.703925</td>\n",
              "      <td>1.678099</td>\n",
              "      <td>-1.543287</td>\n",
              "      <td>-0.422250</td>\n",
              "      <td>-0.822648</td>\n",
              "      <td>0.166682</td>\n",
              "      <td>...</td>\n",
              "      <td>0</td>\n",
              "      <td>1</td>\n",
              "      <td>0</td>\n",
              "      <td>0</td>\n",
              "      <td>0</td>\n",
              "      <td>0</td>\n",
              "      <td>0</td>\n",
              "      <td>0</td>\n",
              "      <td>0</td>\n",
              "      <td>1</td>\n",
              "    </tr>\n",
              "    <tr>\n",
              "      <th>1</th>\n",
              "      <td>0.791999</td>\n",
              "      <td>0.658959</td>\n",
              "      <td>-1.239617</td>\n",
              "      <td>0.034524</td>\n",
              "      <td>0.022691</td>\n",
              "      <td>-0.208186</td>\n",
              "      <td>-0.217334</td>\n",
              "      <td>-0.422250</td>\n",
              "      <td>2.106160</td>\n",
              "      <td>0.166682</td>\n",
              "      <td>...</td>\n",
              "      <td>1</td>\n",
              "      <td>1</td>\n",
              "      <td>0</td>\n",
              "      <td>0</td>\n",
              "      <td>1</td>\n",
              "      <td>0</td>\n",
              "      <td>0</td>\n",
              "      <td>0</td>\n",
              "      <td>0</td>\n",
              "      <td>1</td>\n",
              "    </tr>\n",
              "    <tr>\n",
              "      <th>2</th>\n",
              "      <td>2.316897</td>\n",
              "      <td>0.658959</td>\n",
              "      <td>0.365710</td>\n",
              "      <td>0.034524</td>\n",
              "      <td>0.429596</td>\n",
              "      <td>0.288205</td>\n",
              "      <td>-0.360680</td>\n",
              "      <td>-0.422250</td>\n",
              "      <td>-0.404247</td>\n",
              "      <td>0.166682</td>\n",
              "      <td>...</td>\n",
              "      <td>0</td>\n",
              "      <td>1</td>\n",
              "      <td>0</td>\n",
              "      <td>0</td>\n",
              "      <td>0</td>\n",
              "      <td>0</td>\n",
              "      <td>0</td>\n",
              "      <td>0</td>\n",
              "      <td>0</td>\n",
              "      <td>1</td>\n",
              "    </tr>\n",
              "    <tr>\n",
              "      <th>3</th>\n",
              "      <td>-0.732899</td>\n",
              "      <td>0.658959</td>\n",
              "      <td>-1.239617</td>\n",
              "      <td>0.034524</td>\n",
              "      <td>0.371467</td>\n",
              "      <td>0.288205</td>\n",
              "      <td>0.606907</td>\n",
              "      <td>-0.422250</td>\n",
              "      <td>1.687759</td>\n",
              "      <td>0.166682</td>\n",
              "      <td>...</td>\n",
              "      <td>0</td>\n",
              "      <td>0</td>\n",
              "      <td>0</td>\n",
              "      <td>1</td>\n",
              "      <td>0</td>\n",
              "      <td>0</td>\n",
              "      <td>0</td>\n",
              "      <td>1</td>\n",
              "      <td>0</td>\n",
              "      <td>1</td>\n",
              "    </tr>\n",
              "    <tr>\n",
              "      <th>4</th>\n",
              "      <td>-0.732899</td>\n",
              "      <td>0.658959</td>\n",
              "      <td>0.203390</td>\n",
              "      <td>-1.616461</td>\n",
              "      <td>-0.587666</td>\n",
              "      <td>-0.307465</td>\n",
              "      <td>-0.145661</td>\n",
              "      <td>-0.422250</td>\n",
              "      <td>-0.822648</td>\n",
              "      <td>0.166682</td>\n",
              "      <td>...</td>\n",
              "      <td>0</td>\n",
              "      <td>1</td>\n",
              "      <td>0</td>\n",
              "      <td>0</td>\n",
              "      <td>1</td>\n",
              "      <td>0</td>\n",
              "      <td>0</td>\n",
              "      <td>0</td>\n",
              "      <td>0</td>\n",
              "      <td>1</td>\n",
              "    </tr>\n",
              "    <tr>\n",
              "      <th>...</th>\n",
              "      <td>...</td>\n",
              "      <td>...</td>\n",
              "      <td>...</td>\n",
              "      <td>...</td>\n",
              "      <td>...</td>\n",
              "      <td>...</td>\n",
              "      <td>...</td>\n",
              "      <td>...</td>\n",
              "      <td>...</td>\n",
              "      <td>...</td>\n",
              "      <td>...</td>\n",
              "      <td>...</td>\n",
              "      <td>...</td>\n",
              "      <td>...</td>\n",
              "      <td>...</td>\n",
              "      <td>...</td>\n",
              "      <td>...</td>\n",
              "      <td>...</td>\n",
              "      <td>...</td>\n",
              "      <td>...</td>\n",
              "      <td>...</td>\n",
              "    </tr>\n",
              "    <tr>\n",
              "      <th>9129</th>\n",
              "      <td>-0.732899</td>\n",
              "      <td>0.658959</td>\n",
              "      <td>1.128558</td>\n",
              "      <td>1.685508</td>\n",
              "      <td>-0.587666</td>\n",
              "      <td>0.288205</td>\n",
              "      <td>1.466984</td>\n",
              "      <td>-0.422250</td>\n",
              "      <td>-0.404247</td>\n",
              "      <td>0.166682</td>\n",
              "      <td>...</td>\n",
              "      <td>0</td>\n",
              "      <td>0</td>\n",
              "      <td>0</td>\n",
              "      <td>0</td>\n",
              "      <td>1</td>\n",
              "      <td>0</td>\n",
              "      <td>0</td>\n",
              "      <td>0</td>\n",
              "      <td>0</td>\n",
              "      <td>1</td>\n",
              "    </tr>\n",
              "    <tr>\n",
              "      <th>9130</th>\n",
              "      <td>0.791999</td>\n",
              "      <td>-0.267031</td>\n",
              "      <td>-0.528450</td>\n",
              "      <td>0.034524</td>\n",
              "      <td>-0.413278</td>\n",
              "      <td>-0.108908</td>\n",
              "      <td>-0.719046</td>\n",
              "      <td>-0.422250</td>\n",
              "      <td>-0.822648</td>\n",
              "      <td>0.166682</td>\n",
              "      <td>...</td>\n",
              "      <td>0</td>\n",
              "      <td>0</td>\n",
              "      <td>1</td>\n",
              "      <td>0</td>\n",
              "      <td>1</td>\n",
              "      <td>0</td>\n",
              "      <td>0</td>\n",
              "      <td>0</td>\n",
              "      <td>0</td>\n",
              "      <td>0</td>\n",
              "    </tr>\n",
              "    <tr>\n",
              "      <th>9131</th>\n",
              "      <td>0.791999</td>\n",
              "      <td>0.658959</td>\n",
              "      <td>-1.239617</td>\n",
              "      <td>0.034524</td>\n",
              "      <td>-0.238891</td>\n",
              "      <td>-0.605299</td>\n",
              "      <td>-0.396517</td>\n",
              "      <td>2.873245</td>\n",
              "      <td>-0.404247</td>\n",
              "      <td>0.166682</td>\n",
              "      <td>...</td>\n",
              "      <td>0</td>\n",
              "      <td>0</td>\n",
              "      <td>1</td>\n",
              "      <td>0</td>\n",
              "      <td>1</td>\n",
              "      <td>0</td>\n",
              "      <td>0</td>\n",
              "      <td>0</td>\n",
              "      <td>0</td>\n",
              "      <td>1</td>\n",
              "    </tr>\n",
              "    <tr>\n",
              "      <th>9132</th>\n",
              "      <td>0.791999</td>\n",
              "      <td>-0.267031</td>\n",
              "      <td>-0.517356</td>\n",
              "      <td>0.034524</td>\n",
              "      <td>0.080820</td>\n",
              "      <td>1.876656</td>\n",
              "      <td>-1.614960</td>\n",
              "      <td>-0.422250</td>\n",
              "      <td>0.014154</td>\n",
              "      <td>2.027897</td>\n",
              "      <td>...</td>\n",
              "      <td>1</td>\n",
              "      <td>0</td>\n",
              "      <td>1</td>\n",
              "      <td>0</td>\n",
              "      <td>1</td>\n",
              "      <td>0</td>\n",
              "      <td>0</td>\n",
              "      <td>0</td>\n",
              "      <td>0</td>\n",
              "      <td>1</td>\n",
              "    </tr>\n",
              "    <tr>\n",
              "      <th>9133</th>\n",
              "      <td>0.791999</td>\n",
              "      <td>-0.267031</td>\n",
              "      <td>-1.239617</td>\n",
              "      <td>0.034524</td>\n",
              "      <td>-0.471408</td>\n",
              "      <td>-1.200968</td>\n",
              "      <td>1.502821</td>\n",
              "      <td>-0.422250</td>\n",
              "      <td>-0.822648</td>\n",
              "      <td>0.166682</td>\n",
              "      <td>...</td>\n",
              "      <td>0</td>\n",
              "      <td>0</td>\n",
              "      <td>0</td>\n",
              "      <td>1</td>\n",
              "      <td>0</td>\n",
              "      <td>0</td>\n",
              "      <td>0</td>\n",
              "      <td>0</td>\n",
              "      <td>0</td>\n",
              "      <td>1</td>\n",
              "    </tr>\n",
              "  </tbody>\n",
              "</table>\n",
              "<p>9134 rows × 43 columns</p>\n",
              "</div>\n",
              "      <button class=\"colab-df-convert\" onclick=\"convertToInteractive('df-7c9ceee4-b0c0-42f8-a518-4708ed394948')\"\n",
              "              title=\"Convert this dataframe to an interactive table.\"\n",
              "              style=\"display:none;\">\n",
              "        \n",
              "  <svg xmlns=\"http://www.w3.org/2000/svg\" height=\"24px\"viewBox=\"0 0 24 24\"\n",
              "       width=\"24px\">\n",
              "    <path d=\"M0 0h24v24H0V0z\" fill=\"none\"/>\n",
              "    <path d=\"M18.56 5.44l.94 2.06.94-2.06 2.06-.94-2.06-.94-.94-2.06-.94 2.06-2.06.94zm-11 1L8.5 8.5l.94-2.06 2.06-.94-2.06-.94L8.5 2.5l-.94 2.06-2.06.94zm10 10l.94 2.06.94-2.06 2.06-.94-2.06-.94-.94-2.06-.94 2.06-2.06.94z\"/><path d=\"M17.41 7.96l-1.37-1.37c-.4-.4-.92-.59-1.43-.59-.52 0-1.04.2-1.43.59L10.3 9.45l-7.72 7.72c-.78.78-.78 2.05 0 2.83L4 21.41c.39.39.9.59 1.41.59.51 0 1.02-.2 1.41-.59l7.78-7.78 2.81-2.81c.8-.78.8-2.07 0-2.86zM5.41 20L4 18.59l7.72-7.72 1.47 1.35L5.41 20z\"/>\n",
              "  </svg>\n",
              "      </button>\n",
              "      \n",
              "  <style>\n",
              "    .colab-df-container {\n",
              "      display:flex;\n",
              "      flex-wrap:wrap;\n",
              "      gap: 12px;\n",
              "    }\n",
              "\n",
              "    .colab-df-convert {\n",
              "      background-color: #E8F0FE;\n",
              "      border: none;\n",
              "      border-radius: 50%;\n",
              "      cursor: pointer;\n",
              "      display: none;\n",
              "      fill: #1967D2;\n",
              "      height: 32px;\n",
              "      padding: 0 0 0 0;\n",
              "      width: 32px;\n",
              "    }\n",
              "\n",
              "    .colab-df-convert:hover {\n",
              "      background-color: #E2EBFA;\n",
              "      box-shadow: 0px 1px 2px rgba(60, 64, 67, 0.3), 0px 1px 3px 1px rgba(60, 64, 67, 0.15);\n",
              "      fill: #174EA6;\n",
              "    }\n",
              "\n",
              "    [theme=dark] .colab-df-convert {\n",
              "      background-color: #3B4455;\n",
              "      fill: #D2E3FC;\n",
              "    }\n",
              "\n",
              "    [theme=dark] .colab-df-convert:hover {\n",
              "      background-color: #434B5C;\n",
              "      box-shadow: 0px 1px 3px 1px rgba(0, 0, 0, 0.15);\n",
              "      filter: drop-shadow(0px 1px 2px rgba(0, 0, 0, 0.3));\n",
              "      fill: #FFFFFF;\n",
              "    }\n",
              "  </style>\n",
              "\n",
              "      <script>\n",
              "        const buttonEl =\n",
              "          document.querySelector('#df-7c9ceee4-b0c0-42f8-a518-4708ed394948 button.colab-df-convert');\n",
              "        buttonEl.style.display =\n",
              "          google.colab.kernel.accessAllowed ? 'block' : 'none';\n",
              "\n",
              "        async function convertToInteractive(key) {\n",
              "          const element = document.querySelector('#df-7c9ceee4-b0c0-42f8-a518-4708ed394948');\n",
              "          const dataTable =\n",
              "            await google.colab.kernel.invokeFunction('convertToInteractive',\n",
              "                                                     [key], {});\n",
              "          if (!dataTable) return;\n",
              "\n",
              "          const docLinkHtml = 'Like what you see? Visit the ' +\n",
              "            '<a target=\"_blank\" href=https://colab.research.google.com/notebooks/data_table.ipynb>data table notebook</a>'\n",
              "            + ' to learn more about interactive tables.';\n",
              "          element.innerHTML = '';\n",
              "          dataTable['output_type'] = 'display_data';\n",
              "          await google.colab.output.renderOutput(dataTable, element);\n",
              "          const docLink = document.createElement('div');\n",
              "          docLink.innerHTML = docLinkHtml;\n",
              "          element.appendChild(docLink);\n",
              "        }\n",
              "      </script>\n",
              "    </div>\n",
              "  </div>\n",
              "  "
            ]
          },
          "metadata": {},
          "execution_count": 39
        }
      ]
    },
    {
      "cell_type": "code",
      "source": [
        "#Für Cluster\n",
        "from sklearn.preprocessing import StandardScaler\n",
        "std_scaler = StandardScaler()\n",
        "\n",
        "columns_to_scale_cluster = data_clean.loc[:,['CLV_churn','Coverage', 'Education', 'Income', 'Location_Code', 'Monthly_Premium_Auto', 'Months_Since_Last_Claim', 'Months_Since_Policy_Inception', 'Number_of_Open_Complaints', 'Number_of_Policies', 'Vehicle_Size']]\n",
        "features_std_cluster = std_scaler.fit_transform(columns_to_scale_cluster)\n",
        "features_std_cluster\n",
        "\n",
        "\n",
        "X_skaliert_ohneDummies_cluster = pd.DataFrame(features_std_cluster,\n",
        "                         columns=['CLV_churn','Coverage', 'Education', 'Income', 'Location_Code', 'Monthly_Premium_Auto', 'Months_Since_Last_Claim', 'Months_Since_Policy_Inception', 'Number_of_Open_Complaints', 'Number_of_Policies', 'Vehicle_Size'])\n",
        "X_skaliert_ohneDummies_cluster\n",
        "\n",
        "\n",
        "\n",
        "dummys_ohne_referenz = data_clean.loc[:,['State_Arizona','State_California', 'State_Nevada', 'State_Oregon',\n",
        "                                     'EmploymentStatus_Disabled', 'EmploymentStatus_Employed', 'EmploymentStatus_Medical Leave', 'EmploymentStatus_Retired',\n",
        "                                     'Gender_F',\n",
        "                                     'Marital_Status_Divorced', 'Marital_Status_Married',\n",
        "                                     'Policy_Type_Corporate Auto', 'Policy_Type_Personal Auto',\n",
        "                                     'Policy_Corporate L1', 'Policy_Corporate L2', 'Policy_Corporate L3',\n",
        "                                     'Policy_Personal L1', 'Policy_Personal L2', 'Policy_Personal L3',\n",
        "                                     'Policy_Special L1', 'Policy_Special L2',\n",
        "                                     'Renew_Offer_Type_Offer1', 'Renew_Offer_Type_Offer2', 'Renew_Offer_Type_Offer3',\n",
        "                                     'Sales_Channel_Agent', 'Sales_Channel_Branch', 'Sales_Channel_Call Center',\n",
        "                                     'Vehicle_Class_Four-Door Car', 'Vehicle_Class_Luxury Car', 'Vehicle_Class_Luxury SUV', 'Vehicle_Class_SUV', 'Vehicle_Class_Sports Car',\n",
        "                                     'Response_No']]\n",
        "\n",
        "X_skaliert_ohneDummies_cluster = pd.concat((X_skaliert_ohneDummies_cluster, dummys_ohne_referenz), axis=1)\n",
        "X_skaliert_ohneDummies_cluster"
      ],
      "metadata": {
        "colab": {
          "base_uri": "https://localhost:8080/",
          "height": 505
        },
        "id": "T_q24TcPgCLM",
        "outputId": "4146da0e-5b59-46ea-f1b0-022ff4410dd3"
      },
      "execution_count": null,
      "outputs": [
        {
          "output_type": "execute_result",
          "data": {
            "text/plain": [
              "      CLV_churn  Coverage  Education    Income  Location_Code  \\\n",
              "0     -1.342013 -0.732899   0.658959  0.612827       0.034524   \n",
              "1      0.446685  0.791999   0.658959 -1.239617       0.034524   \n",
              "2      1.341034  2.316897   0.658959  0.365710       0.034524   \n",
              "3      0.446685 -0.732899   0.658959 -1.239617       0.034524   \n",
              "4     -1.342013 -0.732899   0.658959  0.203390      -1.616461   \n",
              "...         ...       ...        ...       ...            ...   \n",
              "9129   1.341034 -0.732899   0.658959  1.128558       1.685508   \n",
              "9130  -1.342013  0.791999  -0.267031 -0.528450       0.034524   \n",
              "9131   0.446685  0.791999   0.658959 -1.239617       0.034524   \n",
              "9132   0.446685  0.791999  -0.267031 -0.517356       0.034524   \n",
              "9133  -1.342013  0.791999  -0.267031 -1.239617       0.034524   \n",
              "\n",
              "      Monthly_Premium_Auto  Months_Since_Last_Claim  \\\n",
              "0                -0.703925                 1.678099   \n",
              "1                 0.022691                -0.208186   \n",
              "2                 0.429596                 0.288205   \n",
              "3                 0.371467                 0.288205   \n",
              "4                -0.587666                -0.307465   \n",
              "...                    ...                      ...   \n",
              "9129             -0.587666                 0.288205   \n",
              "9130             -0.413278                -0.108908   \n",
              "9131             -0.238891                -0.605299   \n",
              "9132              0.080820                 1.876656   \n",
              "9133             -0.471408                -1.200968   \n",
              "\n",
              "      Months_Since_Policy_Inception  Number_of_Open_Complaints  \\\n",
              "0                         -1.543287                  -0.422250   \n",
              "1                         -0.217334                  -0.422250   \n",
              "2                         -0.360680                  -0.422250   \n",
              "3                          0.606907                  -0.422250   \n",
              "4                         -0.145661                  -0.422250   \n",
              "...                             ...                        ...   \n",
              "9129                       1.466984                  -0.422250   \n",
              "9130                      -0.719046                  -0.422250   \n",
              "9131                      -0.396517                   2.873245   \n",
              "9132                      -1.614960                  -0.422250   \n",
              "9133                       1.502821                  -0.422250   \n",
              "\n",
              "      Number_of_Policies  ...  Renew_Offer_Type_Offer3  Sales_Channel_Agent  \\\n",
              "0              -0.822648  ...                        0                    1   \n",
              "1               2.106160  ...                        1                    1   \n",
              "2              -0.404247  ...                        0                    1   \n",
              "3               1.687759  ...                        0                    0   \n",
              "4              -0.822648  ...                        0                    1   \n",
              "...                  ...  ...                      ...                  ...   \n",
              "9129           -0.404247  ...                        0                    0   \n",
              "9130           -0.822648  ...                        0                    0   \n",
              "9131           -0.404247  ...                        0                    0   \n",
              "9132            0.014154  ...                        1                    0   \n",
              "9133           -0.822648  ...                        0                    0   \n",
              "\n",
              "      Sales_Channel_Branch  Sales_Channel_Call Center  \\\n",
              "0                        0                          0   \n",
              "1                        0                          0   \n",
              "2                        0                          0   \n",
              "3                        0                          1   \n",
              "4                        0                          0   \n",
              "...                    ...                        ...   \n",
              "9129                     0                          0   \n",
              "9130                     1                          0   \n",
              "9131                     1                          0   \n",
              "9132                     1                          0   \n",
              "9133                     0                          1   \n",
              "\n",
              "      Vehicle_Class_Four-Door Car  Vehicle_Class_Luxury Car  \\\n",
              "0                               0                         0   \n",
              "1                               1                         0   \n",
              "2                               0                         0   \n",
              "3                               0                         0   \n",
              "4                               1                         0   \n",
              "...                           ...                       ...   \n",
              "9129                            1                         0   \n",
              "9130                            1                         0   \n",
              "9131                            1                         0   \n",
              "9132                            1                         0   \n",
              "9133                            0                         0   \n",
              "\n",
              "      Vehicle_Class_Luxury SUV  Vehicle_Class_SUV  Vehicle_Class_Sports Car  \\\n",
              "0                            0                  0                         0   \n",
              "1                            0                  0                         0   \n",
              "2                            0                  0                         0   \n",
              "3                            0                  1                         0   \n",
              "4                            0                  0                         0   \n",
              "...                        ...                ...                       ...   \n",
              "9129                         0                  0                         0   \n",
              "9130                         0                  0                         0   \n",
              "9131                         0                  0                         0   \n",
              "9132                         0                  0                         0   \n",
              "9133                         0                  0                         0   \n",
              "\n",
              "      Response_No  \n",
              "0               1  \n",
              "1               1  \n",
              "2               1  \n",
              "3               1  \n",
              "4               1  \n",
              "...           ...  \n",
              "9129            1  \n",
              "9130            0  \n",
              "9131            1  \n",
              "9132            1  \n",
              "9133            1  \n",
              "\n",
              "[9134 rows x 44 columns]"
            ],
            "text/html": [
              "\n",
              "  <div id=\"df-ced174ed-709c-4d5b-82bd-e07ace5e6c49\">\n",
              "    <div class=\"colab-df-container\">\n",
              "      <div>\n",
              "<style scoped>\n",
              "    .dataframe tbody tr th:only-of-type {\n",
              "        vertical-align: middle;\n",
              "    }\n",
              "\n",
              "    .dataframe tbody tr th {\n",
              "        vertical-align: top;\n",
              "    }\n",
              "\n",
              "    .dataframe thead th {\n",
              "        text-align: right;\n",
              "    }\n",
              "</style>\n",
              "<table border=\"1\" class=\"dataframe\">\n",
              "  <thead>\n",
              "    <tr style=\"text-align: right;\">\n",
              "      <th></th>\n",
              "      <th>CLV_churn</th>\n",
              "      <th>Coverage</th>\n",
              "      <th>Education</th>\n",
              "      <th>Income</th>\n",
              "      <th>Location_Code</th>\n",
              "      <th>Monthly_Premium_Auto</th>\n",
              "      <th>Months_Since_Last_Claim</th>\n",
              "      <th>Months_Since_Policy_Inception</th>\n",
              "      <th>Number_of_Open_Complaints</th>\n",
              "      <th>Number_of_Policies</th>\n",
              "      <th>...</th>\n",
              "      <th>Renew_Offer_Type_Offer3</th>\n",
              "      <th>Sales_Channel_Agent</th>\n",
              "      <th>Sales_Channel_Branch</th>\n",
              "      <th>Sales_Channel_Call Center</th>\n",
              "      <th>Vehicle_Class_Four-Door Car</th>\n",
              "      <th>Vehicle_Class_Luxury Car</th>\n",
              "      <th>Vehicle_Class_Luxury SUV</th>\n",
              "      <th>Vehicle_Class_SUV</th>\n",
              "      <th>Vehicle_Class_Sports Car</th>\n",
              "      <th>Response_No</th>\n",
              "    </tr>\n",
              "  </thead>\n",
              "  <tbody>\n",
              "    <tr>\n",
              "      <th>0</th>\n",
              "      <td>-1.342013</td>\n",
              "      <td>-0.732899</td>\n",
              "      <td>0.658959</td>\n",
              "      <td>0.612827</td>\n",
              "      <td>0.034524</td>\n",
              "      <td>-0.703925</td>\n",
              "      <td>1.678099</td>\n",
              "      <td>-1.543287</td>\n",
              "      <td>-0.422250</td>\n",
              "      <td>-0.822648</td>\n",
              "      <td>...</td>\n",
              "      <td>0</td>\n",
              "      <td>1</td>\n",
              "      <td>0</td>\n",
              "      <td>0</td>\n",
              "      <td>0</td>\n",
              "      <td>0</td>\n",
              "      <td>0</td>\n",
              "      <td>0</td>\n",
              "      <td>0</td>\n",
              "      <td>1</td>\n",
              "    </tr>\n",
              "    <tr>\n",
              "      <th>1</th>\n",
              "      <td>0.446685</td>\n",
              "      <td>0.791999</td>\n",
              "      <td>0.658959</td>\n",
              "      <td>-1.239617</td>\n",
              "      <td>0.034524</td>\n",
              "      <td>0.022691</td>\n",
              "      <td>-0.208186</td>\n",
              "      <td>-0.217334</td>\n",
              "      <td>-0.422250</td>\n",
              "      <td>2.106160</td>\n",
              "      <td>...</td>\n",
              "      <td>1</td>\n",
              "      <td>1</td>\n",
              "      <td>0</td>\n",
              "      <td>0</td>\n",
              "      <td>1</td>\n",
              "      <td>0</td>\n",
              "      <td>0</td>\n",
              "      <td>0</td>\n",
              "      <td>0</td>\n",
              "      <td>1</td>\n",
              "    </tr>\n",
              "    <tr>\n",
              "      <th>2</th>\n",
              "      <td>1.341034</td>\n",
              "      <td>2.316897</td>\n",
              "      <td>0.658959</td>\n",
              "      <td>0.365710</td>\n",
              "      <td>0.034524</td>\n",
              "      <td>0.429596</td>\n",
              "      <td>0.288205</td>\n",
              "      <td>-0.360680</td>\n",
              "      <td>-0.422250</td>\n",
              "      <td>-0.404247</td>\n",
              "      <td>...</td>\n",
              "      <td>0</td>\n",
              "      <td>1</td>\n",
              "      <td>0</td>\n",
              "      <td>0</td>\n",
              "      <td>0</td>\n",
              "      <td>0</td>\n",
              "      <td>0</td>\n",
              "      <td>0</td>\n",
              "      <td>0</td>\n",
              "      <td>1</td>\n",
              "    </tr>\n",
              "    <tr>\n",
              "      <th>3</th>\n",
              "      <td>0.446685</td>\n",
              "      <td>-0.732899</td>\n",
              "      <td>0.658959</td>\n",
              "      <td>-1.239617</td>\n",
              "      <td>0.034524</td>\n",
              "      <td>0.371467</td>\n",
              "      <td>0.288205</td>\n",
              "      <td>0.606907</td>\n",
              "      <td>-0.422250</td>\n",
              "      <td>1.687759</td>\n",
              "      <td>...</td>\n",
              "      <td>0</td>\n",
              "      <td>0</td>\n",
              "      <td>0</td>\n",
              "      <td>1</td>\n",
              "      <td>0</td>\n",
              "      <td>0</td>\n",
              "      <td>0</td>\n",
              "      <td>1</td>\n",
              "      <td>0</td>\n",
              "      <td>1</td>\n",
              "    </tr>\n",
              "    <tr>\n",
              "      <th>4</th>\n",
              "      <td>-1.342013</td>\n",
              "      <td>-0.732899</td>\n",
              "      <td>0.658959</td>\n",
              "      <td>0.203390</td>\n",
              "      <td>-1.616461</td>\n",
              "      <td>-0.587666</td>\n",
              "      <td>-0.307465</td>\n",
              "      <td>-0.145661</td>\n",
              "      <td>-0.422250</td>\n",
              "      <td>-0.822648</td>\n",
              "      <td>...</td>\n",
              "      <td>0</td>\n",
              "      <td>1</td>\n",
              "      <td>0</td>\n",
              "      <td>0</td>\n",
              "      <td>1</td>\n",
              "      <td>0</td>\n",
              "      <td>0</td>\n",
              "      <td>0</td>\n",
              "      <td>0</td>\n",
              "      <td>1</td>\n",
              "    </tr>\n",
              "    <tr>\n",
              "      <th>...</th>\n",
              "      <td>...</td>\n",
              "      <td>...</td>\n",
              "      <td>...</td>\n",
              "      <td>...</td>\n",
              "      <td>...</td>\n",
              "      <td>...</td>\n",
              "      <td>...</td>\n",
              "      <td>...</td>\n",
              "      <td>...</td>\n",
              "      <td>...</td>\n",
              "      <td>...</td>\n",
              "      <td>...</td>\n",
              "      <td>...</td>\n",
              "      <td>...</td>\n",
              "      <td>...</td>\n",
              "      <td>...</td>\n",
              "      <td>...</td>\n",
              "      <td>...</td>\n",
              "      <td>...</td>\n",
              "      <td>...</td>\n",
              "      <td>...</td>\n",
              "    </tr>\n",
              "    <tr>\n",
              "      <th>9129</th>\n",
              "      <td>1.341034</td>\n",
              "      <td>-0.732899</td>\n",
              "      <td>0.658959</td>\n",
              "      <td>1.128558</td>\n",
              "      <td>1.685508</td>\n",
              "      <td>-0.587666</td>\n",
              "      <td>0.288205</td>\n",
              "      <td>1.466984</td>\n",
              "      <td>-0.422250</td>\n",
              "      <td>-0.404247</td>\n",
              "      <td>...</td>\n",
              "      <td>0</td>\n",
              "      <td>0</td>\n",
              "      <td>0</td>\n",
              "      <td>0</td>\n",
              "      <td>1</td>\n",
              "      <td>0</td>\n",
              "      <td>0</td>\n",
              "      <td>0</td>\n",
              "      <td>0</td>\n",
              "      <td>1</td>\n",
              "    </tr>\n",
              "    <tr>\n",
              "      <th>9130</th>\n",
              "      <td>-1.342013</td>\n",
              "      <td>0.791999</td>\n",
              "      <td>-0.267031</td>\n",
              "      <td>-0.528450</td>\n",
              "      <td>0.034524</td>\n",
              "      <td>-0.413278</td>\n",
              "      <td>-0.108908</td>\n",
              "      <td>-0.719046</td>\n",
              "      <td>-0.422250</td>\n",
              "      <td>-0.822648</td>\n",
              "      <td>...</td>\n",
              "      <td>0</td>\n",
              "      <td>0</td>\n",
              "      <td>1</td>\n",
              "      <td>0</td>\n",
              "      <td>1</td>\n",
              "      <td>0</td>\n",
              "      <td>0</td>\n",
              "      <td>0</td>\n",
              "      <td>0</td>\n",
              "      <td>0</td>\n",
              "    </tr>\n",
              "    <tr>\n",
              "      <th>9131</th>\n",
              "      <td>0.446685</td>\n",
              "      <td>0.791999</td>\n",
              "      <td>0.658959</td>\n",
              "      <td>-1.239617</td>\n",
              "      <td>0.034524</td>\n",
              "      <td>-0.238891</td>\n",
              "      <td>-0.605299</td>\n",
              "      <td>-0.396517</td>\n",
              "      <td>2.873245</td>\n",
              "      <td>-0.404247</td>\n",
              "      <td>...</td>\n",
              "      <td>0</td>\n",
              "      <td>0</td>\n",
              "      <td>1</td>\n",
              "      <td>0</td>\n",
              "      <td>1</td>\n",
              "      <td>0</td>\n",
              "      <td>0</td>\n",
              "      <td>0</td>\n",
              "      <td>0</td>\n",
              "      <td>1</td>\n",
              "    </tr>\n",
              "    <tr>\n",
              "      <th>9132</th>\n",
              "      <td>0.446685</td>\n",
              "      <td>0.791999</td>\n",
              "      <td>-0.267031</td>\n",
              "      <td>-0.517356</td>\n",
              "      <td>0.034524</td>\n",
              "      <td>0.080820</td>\n",
              "      <td>1.876656</td>\n",
              "      <td>-1.614960</td>\n",
              "      <td>-0.422250</td>\n",
              "      <td>0.014154</td>\n",
              "      <td>...</td>\n",
              "      <td>1</td>\n",
              "      <td>0</td>\n",
              "      <td>1</td>\n",
              "      <td>0</td>\n",
              "      <td>1</td>\n",
              "      <td>0</td>\n",
              "      <td>0</td>\n",
              "      <td>0</td>\n",
              "      <td>0</td>\n",
              "      <td>1</td>\n",
              "    </tr>\n",
              "    <tr>\n",
              "      <th>9133</th>\n",
              "      <td>-1.342013</td>\n",
              "      <td>0.791999</td>\n",
              "      <td>-0.267031</td>\n",
              "      <td>-1.239617</td>\n",
              "      <td>0.034524</td>\n",
              "      <td>-0.471408</td>\n",
              "      <td>-1.200968</td>\n",
              "      <td>1.502821</td>\n",
              "      <td>-0.422250</td>\n",
              "      <td>-0.822648</td>\n",
              "      <td>...</td>\n",
              "      <td>0</td>\n",
              "      <td>0</td>\n",
              "      <td>0</td>\n",
              "      <td>1</td>\n",
              "      <td>0</td>\n",
              "      <td>0</td>\n",
              "      <td>0</td>\n",
              "      <td>0</td>\n",
              "      <td>0</td>\n",
              "      <td>1</td>\n",
              "    </tr>\n",
              "  </tbody>\n",
              "</table>\n",
              "<p>9134 rows × 44 columns</p>\n",
              "</div>\n",
              "      <button class=\"colab-df-convert\" onclick=\"convertToInteractive('df-ced174ed-709c-4d5b-82bd-e07ace5e6c49')\"\n",
              "              title=\"Convert this dataframe to an interactive table.\"\n",
              "              style=\"display:none;\">\n",
              "        \n",
              "  <svg xmlns=\"http://www.w3.org/2000/svg\" height=\"24px\"viewBox=\"0 0 24 24\"\n",
              "       width=\"24px\">\n",
              "    <path d=\"M0 0h24v24H0V0z\" fill=\"none\"/>\n",
              "    <path d=\"M18.56 5.44l.94 2.06.94-2.06 2.06-.94-2.06-.94-.94-2.06-.94 2.06-2.06.94zm-11 1L8.5 8.5l.94-2.06 2.06-.94-2.06-.94L8.5 2.5l-.94 2.06-2.06.94zm10 10l.94 2.06.94-2.06 2.06-.94-2.06-.94-.94-2.06-.94 2.06-2.06.94z\"/><path d=\"M17.41 7.96l-1.37-1.37c-.4-.4-.92-.59-1.43-.59-.52 0-1.04.2-1.43.59L10.3 9.45l-7.72 7.72c-.78.78-.78 2.05 0 2.83L4 21.41c.39.39.9.59 1.41.59.51 0 1.02-.2 1.41-.59l7.78-7.78 2.81-2.81c.8-.78.8-2.07 0-2.86zM5.41 20L4 18.59l7.72-7.72 1.47 1.35L5.41 20z\"/>\n",
              "  </svg>\n",
              "      </button>\n",
              "      \n",
              "  <style>\n",
              "    .colab-df-container {\n",
              "      display:flex;\n",
              "      flex-wrap:wrap;\n",
              "      gap: 12px;\n",
              "    }\n",
              "\n",
              "    .colab-df-convert {\n",
              "      background-color: #E8F0FE;\n",
              "      border: none;\n",
              "      border-radius: 50%;\n",
              "      cursor: pointer;\n",
              "      display: none;\n",
              "      fill: #1967D2;\n",
              "      height: 32px;\n",
              "      padding: 0 0 0 0;\n",
              "      width: 32px;\n",
              "    }\n",
              "\n",
              "    .colab-df-convert:hover {\n",
              "      background-color: #E2EBFA;\n",
              "      box-shadow: 0px 1px 2px rgba(60, 64, 67, 0.3), 0px 1px 3px 1px rgba(60, 64, 67, 0.15);\n",
              "      fill: #174EA6;\n",
              "    }\n",
              "\n",
              "    [theme=dark] .colab-df-convert {\n",
              "      background-color: #3B4455;\n",
              "      fill: #D2E3FC;\n",
              "    }\n",
              "\n",
              "    [theme=dark] .colab-df-convert:hover {\n",
              "      background-color: #434B5C;\n",
              "      box-shadow: 0px 1px 3px 1px rgba(0, 0, 0, 0.15);\n",
              "      filter: drop-shadow(0px 1px 2px rgba(0, 0, 0, 0.3));\n",
              "      fill: #FFFFFF;\n",
              "    }\n",
              "  </style>\n",
              "\n",
              "      <script>\n",
              "        const buttonEl =\n",
              "          document.querySelector('#df-ced174ed-709c-4d5b-82bd-e07ace5e6c49 button.colab-df-convert');\n",
              "        buttonEl.style.display =\n",
              "          google.colab.kernel.accessAllowed ? 'block' : 'none';\n",
              "\n",
              "        async function convertToInteractive(key) {\n",
              "          const element = document.querySelector('#df-ced174ed-709c-4d5b-82bd-e07ace5e6c49');\n",
              "          const dataTable =\n",
              "            await google.colab.kernel.invokeFunction('convertToInteractive',\n",
              "                                                     [key], {});\n",
              "          if (!dataTable) return;\n",
              "\n",
              "          const docLinkHtml = 'Like what you see? Visit the ' +\n",
              "            '<a target=\"_blank\" href=https://colab.research.google.com/notebooks/data_table.ipynb>data table notebook</a>'\n",
              "            + ' to learn more about interactive tables.';\n",
              "          element.innerHTML = '';\n",
              "          dataTable['output_type'] = 'display_data';\n",
              "          await google.colab.output.renderOutput(dataTable, element);\n",
              "          const docLink = document.createElement('div');\n",
              "          docLink.innerHTML = docLinkHtml;\n",
              "          element.appendChild(docLink);\n",
              "        }\n",
              "      </script>\n",
              "    </div>\n",
              "  </div>\n",
              "  "
            ]
          },
          "metadata": {},
          "execution_count": 40
        }
      ]
    },
    {
      "cell_type": "markdown",
      "source": [
        "####**Zielvariable definiert (skaliert und unskaliert)**"
      ],
      "metadata": {
        "id": "Lv-hNxh3KFAh"
      }
    },
    {
      "cell_type": "code",
      "source": [
        "#ZV  unskaliert\n",
        "y_unskaliert = data_clean.loc[:, 'CLV_churn']"
      ],
      "metadata": {
        "id": "_RCnlzU3_mdV"
      },
      "execution_count": null,
      "outputs": []
    },
    {
      "cell_type": "code",
      "source": [
        "#ZV skaliert\n",
        "y_skaliert = data_clean.loc[:,['CLV_churn']]\n",
        "y_skaliert = std_scaler.fit_transform(y_skaliert)\n",
        "y_skaliert = pd.DataFrame(y_skaliert,columns=['CLV_churn']) #in DataFrame umwandeln\n",
        "y_skaliert"
      ],
      "metadata": {
        "id": "R506EBeV_mak",
        "colab": {
          "base_uri": "https://localhost:8080/",
          "height": 424
        },
        "outputId": "16745116-ee8e-4090-cb17-0a11b7eea992"
      },
      "execution_count": null,
      "outputs": [
        {
          "output_type": "execute_result",
          "data": {
            "text/plain": [
              "      CLV_churn\n",
              "0     -1.342013\n",
              "1      0.446685\n",
              "2      1.341034\n",
              "3      0.446685\n",
              "4     -1.342013\n",
              "...         ...\n",
              "9129   1.341034\n",
              "9130  -1.342013\n",
              "9131   0.446685\n",
              "9132   0.446685\n",
              "9133  -1.342013\n",
              "\n",
              "[9134 rows x 1 columns]"
            ],
            "text/html": [
              "\n",
              "  <div id=\"df-019fd0a2-abea-4a21-9055-ccc55956f3ba\">\n",
              "    <div class=\"colab-df-container\">\n",
              "      <div>\n",
              "<style scoped>\n",
              "    .dataframe tbody tr th:only-of-type {\n",
              "        vertical-align: middle;\n",
              "    }\n",
              "\n",
              "    .dataframe tbody tr th {\n",
              "        vertical-align: top;\n",
              "    }\n",
              "\n",
              "    .dataframe thead th {\n",
              "        text-align: right;\n",
              "    }\n",
              "</style>\n",
              "<table border=\"1\" class=\"dataframe\">\n",
              "  <thead>\n",
              "    <tr style=\"text-align: right;\">\n",
              "      <th></th>\n",
              "      <th>CLV_churn</th>\n",
              "    </tr>\n",
              "  </thead>\n",
              "  <tbody>\n",
              "    <tr>\n",
              "      <th>0</th>\n",
              "      <td>-1.342013</td>\n",
              "    </tr>\n",
              "    <tr>\n",
              "      <th>1</th>\n",
              "      <td>0.446685</td>\n",
              "    </tr>\n",
              "    <tr>\n",
              "      <th>2</th>\n",
              "      <td>1.341034</td>\n",
              "    </tr>\n",
              "    <tr>\n",
              "      <th>3</th>\n",
              "      <td>0.446685</td>\n",
              "    </tr>\n",
              "    <tr>\n",
              "      <th>4</th>\n",
              "      <td>-1.342013</td>\n",
              "    </tr>\n",
              "    <tr>\n",
              "      <th>...</th>\n",
              "      <td>...</td>\n",
              "    </tr>\n",
              "    <tr>\n",
              "      <th>9129</th>\n",
              "      <td>1.341034</td>\n",
              "    </tr>\n",
              "    <tr>\n",
              "      <th>9130</th>\n",
              "      <td>-1.342013</td>\n",
              "    </tr>\n",
              "    <tr>\n",
              "      <th>9131</th>\n",
              "      <td>0.446685</td>\n",
              "    </tr>\n",
              "    <tr>\n",
              "      <th>9132</th>\n",
              "      <td>0.446685</td>\n",
              "    </tr>\n",
              "    <tr>\n",
              "      <th>9133</th>\n",
              "      <td>-1.342013</td>\n",
              "    </tr>\n",
              "  </tbody>\n",
              "</table>\n",
              "<p>9134 rows × 1 columns</p>\n",
              "</div>\n",
              "      <button class=\"colab-df-convert\" onclick=\"convertToInteractive('df-019fd0a2-abea-4a21-9055-ccc55956f3ba')\"\n",
              "              title=\"Convert this dataframe to an interactive table.\"\n",
              "              style=\"display:none;\">\n",
              "        \n",
              "  <svg xmlns=\"http://www.w3.org/2000/svg\" height=\"24px\"viewBox=\"0 0 24 24\"\n",
              "       width=\"24px\">\n",
              "    <path d=\"M0 0h24v24H0V0z\" fill=\"none\"/>\n",
              "    <path d=\"M18.56 5.44l.94 2.06.94-2.06 2.06-.94-2.06-.94-.94-2.06-.94 2.06-2.06.94zm-11 1L8.5 8.5l.94-2.06 2.06-.94-2.06-.94L8.5 2.5l-.94 2.06-2.06.94zm10 10l.94 2.06.94-2.06 2.06-.94-2.06-.94-.94-2.06-.94 2.06-2.06.94z\"/><path d=\"M17.41 7.96l-1.37-1.37c-.4-.4-.92-.59-1.43-.59-.52 0-1.04.2-1.43.59L10.3 9.45l-7.72 7.72c-.78.78-.78 2.05 0 2.83L4 21.41c.39.39.9.59 1.41.59.51 0 1.02-.2 1.41-.59l7.78-7.78 2.81-2.81c.8-.78.8-2.07 0-2.86zM5.41 20L4 18.59l7.72-7.72 1.47 1.35L5.41 20z\"/>\n",
              "  </svg>\n",
              "      </button>\n",
              "      \n",
              "  <style>\n",
              "    .colab-df-container {\n",
              "      display:flex;\n",
              "      flex-wrap:wrap;\n",
              "      gap: 12px;\n",
              "    }\n",
              "\n",
              "    .colab-df-convert {\n",
              "      background-color: #E8F0FE;\n",
              "      border: none;\n",
              "      border-radius: 50%;\n",
              "      cursor: pointer;\n",
              "      display: none;\n",
              "      fill: #1967D2;\n",
              "      height: 32px;\n",
              "      padding: 0 0 0 0;\n",
              "      width: 32px;\n",
              "    }\n",
              "\n",
              "    .colab-df-convert:hover {\n",
              "      background-color: #E2EBFA;\n",
              "      box-shadow: 0px 1px 2px rgba(60, 64, 67, 0.3), 0px 1px 3px 1px rgba(60, 64, 67, 0.15);\n",
              "      fill: #174EA6;\n",
              "    }\n",
              "\n",
              "    [theme=dark] .colab-df-convert {\n",
              "      background-color: #3B4455;\n",
              "      fill: #D2E3FC;\n",
              "    }\n",
              "\n",
              "    [theme=dark] .colab-df-convert:hover {\n",
              "      background-color: #434B5C;\n",
              "      box-shadow: 0px 1px 3px 1px rgba(0, 0, 0, 0.15);\n",
              "      filter: drop-shadow(0px 1px 2px rgba(0, 0, 0, 0.3));\n",
              "      fill: #FFFFFF;\n",
              "    }\n",
              "  </style>\n",
              "\n",
              "      <script>\n",
              "        const buttonEl =\n",
              "          document.querySelector('#df-019fd0a2-abea-4a21-9055-ccc55956f3ba button.colab-df-convert');\n",
              "        buttonEl.style.display =\n",
              "          google.colab.kernel.accessAllowed ? 'block' : 'none';\n",
              "\n",
              "        async function convertToInteractive(key) {\n",
              "          const element = document.querySelector('#df-019fd0a2-abea-4a21-9055-ccc55956f3ba');\n",
              "          const dataTable =\n",
              "            await google.colab.kernel.invokeFunction('convertToInteractive',\n",
              "                                                     [key], {});\n",
              "          if (!dataTable) return;\n",
              "\n",
              "          const docLinkHtml = 'Like what you see? Visit the ' +\n",
              "            '<a target=\"_blank\" href=https://colab.research.google.com/notebooks/data_table.ipynb>data table notebook</a>'\n",
              "            + ' to learn more about interactive tables.';\n",
              "          element.innerHTML = '';\n",
              "          dataTable['output_type'] = 'display_data';\n",
              "          await google.colab.output.renderOutput(dataTable, element);\n",
              "          const docLink = document.createElement('div');\n",
              "          docLink.innerHTML = docLinkHtml;\n",
              "          element.appendChild(docLink);\n",
              "        }\n",
              "      </script>\n",
              "    </div>\n",
              "  </div>\n",
              "  "
            ]
          },
          "metadata": {},
          "execution_count": 42
        }
      ]
    },
    {
      "cell_type": "markdown",
      "source": [
        "Alle Features skaliert = X_skaliert\n",
        "\n",
        "Alle Features außer Dummies skaliert = X_skaliert_ohneDummies\n",
        "\n",
        "Zielvariable skaliert = y_skaliert\n",
        "\n",
        "Zielvariable unskaliert = y_unskaliert"
      ],
      "metadata": {
        "id": "ZiCpGjDGA82b"
      }
    },
    {
      "cell_type": "markdown",
      "source": [
        "###**Visualization -> ergänzen wir am Ende (Häufigkeit)**"
      ],
      "metadata": {
        "id": "MNRmfjJxohqz"
      }
    },
    {
      "cell_type": "code",
      "source": [
        "# Verteilung der ZV anschauen\n",
        "import matplotlib.pyplot as plt\n",
        "fig = plt.figure()\n",
        "df_1['CLV_churn'].value_counts(sort=False).sort_index().plot(kind='bar', title='CLV_churn')"
      ],
      "metadata": {
        "colab": {
          "base_uri": "https://localhost:8080/",
          "height": 464
        },
        "id": "l7-1mhc6cloQ",
        "outputId": "0cf6d143-13da-46c9-a6f0-9c46f421220e"
      },
      "execution_count": null,
      "outputs": [
        {
          "output_type": "execute_result",
          "data": {
            "text/plain": [
              "<Axes: title={'center': 'CLV_churn'}>"
            ]
          },
          "metadata": {},
          "execution_count": 43
        },
        {
          "output_type": "display_data",
          "data": {
            "text/plain": [
              "<Figure size 640x480 with 1 Axes>"
            ],
            "image/png": "[encoded data removed]"
          },
          "metadata": {}
        }
      ]
    },
    {
      "cell_type": "markdown",
      "source": [
        "**Hier Quelle suchen** die sagt, dass wenn Datensatz gleich verteilt ist, dass man dann die accuracy anschaut und nicht den f1 Wert --> datensatz ist hier balanciert"
      ],
      "metadata": {
        "id": "BJH4tykXc2AS"
      }
    },
    {
      "cell_type": "markdown",
      "source": [
        "##**Schritt 2: Classification**"
      ],
      "metadata": {
        "id": "WkbNBUnp1IQo"
      }
    },
    {
      "cell_type": "markdown",
      "source": [
        "Immer 3 Varianten je Methode ausprobiert - Ergebnis: y unskaliert und X skaliert ohne Dummies ist das beste Vorgehen bei KNN ansonsten keinen Unterschied"
      ],
      "metadata": {
        "id": "5aSOwcIMdM6p"
      }
    },
    {
      "cell_type": "code",
      "source": [
        "from sklearn.model_selection import train_test_split\n",
        "from sklearn.metrics import classification_report\n",
        "def evaluate(clf, X_test, y_true): #clf = classifier; X_test = neue Variable\n",
        "  y_pred = clf.predict(X_test)\n",
        "  print(classification_report(y_true, y_pred)) #performance von modell evaluieren"
      ],
      "metadata": {
        "id": "07eNiO8qMux0"
      },
      "execution_count": null,
      "outputs": []
    },
    {
      "cell_type": "markdown",
      "source": [
        "###**KNN**"
      ],
      "metadata": {
        "id": "qh7-oaGeeKrg"
      }
    },
    {
      "cell_type": "markdown",
      "source": [
        "####**KNN y skaliert - ohne Ergebnis**"
      ],
      "metadata": {
        "id": "fjwQuNYA9VIe"
      }
    },
    {
      "cell_type": "code",
      "source": [
        "# y skaliert\n",
        "from sklearn.neighbors import KNeighborsClassifier\n",
        "knn = KNeighborsClassifier()\n",
        "X_train, X_test, y_train, y_test = train_test_split(X, y_skaliert, test_size=0.2, random_state=123)"
      ],
      "metadata": {
        "id": "iMfQl43e11qg"
      },
      "execution_count": null,
      "outputs": []
    },
    {
      "cell_type": "code",
      "source": [
        "knn.fit(X_train, y_train)\n",
        "# funktioniert nicht, da  trying to apply a classification algorithm or task on a target variable with numeric values instead of discrete labels."
      ],
      "metadata": {
        "id": "cTXDmprg9sla"
      },
      "execution_count": null,
      "outputs": []
    },
    {
      "cell_type": "markdown",
      "source": [
        "####**KNN y unskaliert**"
      ],
      "metadata": {
        "id": "3CdVGwkyFGL7"
      }
    },
    {
      "cell_type": "code",
      "source": [
        "from sklearn.neighbors import KNeighborsClassifier\n",
        "knn = KNeighborsClassifier()\n",
        "X_train, X_test, y_train, y_test = train_test_split(X, y_unskaliert, test_size=0.2, random_state=123)"
      ],
      "metadata": {
        "id": "4L4X5oSkC3gJ"
      },
      "execution_count": null,
      "outputs": []
    },
    {
      "cell_type": "code",
      "source": [
        "knn.fit(X_train, y_train)"
      ],
      "metadata": {
        "id": "f9qrC70b11lk"
      },
      "execution_count": null,
      "outputs": []
    },
    {
      "cell_type": "code",
      "source": [
        "Ergebnisse_KNN_y_unskaliert = evaluate(knn, X_test, y_test) # 0.46"
      ],
      "metadata": {
        "id": "aKhrJcb_11i0"
      },
      "execution_count": null,
      "outputs": []
    },
    {
      "cell_type": "markdown",
      "source": [
        "####**KNN y unskaliert; X skaliert ohne Dummies**"
      ],
      "metadata": {
        "id": "nmIFrgO0LKl3"
      }
    },
    {
      "cell_type": "code",
      "source": [
        "from sklearn.neighbors import KNeighborsClassifier\n",
        "knn = KNeighborsClassifier()\n",
        "X_train, X_test, y_train, y_test = train_test_split(X_skaliert_ohneDummies, y_unskaliert, test_size=0.2, random_state=123)"
      ],
      "metadata": {
        "id": "BKsVcIYHLQ2A"
      },
      "execution_count": null,
      "outputs": []
    },
    {
      "cell_type": "code",
      "source": [
        "knn.fit(X_train, y_train)"
      ],
      "metadata": {
        "id": "cfZPd5mqLQot"
      },
      "execution_count": null,
      "outputs": []
    },
    {
      "cell_type": "code",
      "source": [
        "Ergebnisse_KNN_y_unskaliert_X_ohne_Dummies = evaluate(knn, X_test, y_test) # 0.6"
      ],
      "metadata": {
        "id": "HUV7JCA8LU6I"
      },
      "execution_count": null,
      "outputs": []
    },
    {
      "cell_type": "markdown",
      "source": [
        "####**Hyperparameter Tuning**"
      ],
      "metadata": {
        "id": "oumDBRzKg6sL"
      }
    },
    {
      "cell_type": "code",
      "source": [
        "# V1\n",
        "from sklearn.model_selection import GridSearchCV\n",
        "model = knn\n",
        "grid_vals = {'n_neighbors': [3, 5, 7], 'weights': ['uniform', 'distance']}\n",
        "\n",
        "grid_lr = GridSearchCV(estimator=knn, param_grid=grid_vals, scoring='accuracy',\n",
        "                       cv=6, refit=True, return_train_score=True)\n",
        "\n",
        "grid_lr.fit(X_train, y_train)\n",
        "preds = grid_lr.best_estimator_.predict(X_test)\n",
        "\n",
        "grid_lr.best_params_\n",
        "\n",
        "evaluate(grid_lr, X_test, y_test) # 0.61 statt 0.6"
      ],
      "metadata": {
        "id": "Pb15R2tFg_km"
      },
      "execution_count": null,
      "outputs": []
    },
    {
      "cell_type": "code",
      "source": [
        "# V2\n",
        "from sklearn.model_selection import GridSearchCV\n",
        "model = knn\n",
        "grid_vals = {\n",
        "    'n_neighbors': [3, 5, 7],\n",
        "    'weights': ['uniform', 'distance'],\n",
        "    'p': [1, 2],\n",
        "}\n",
        "grid_lr = GridSearchCV(estimator=knn, param_grid=grid_vals, scoring='accuracy',\n",
        "                       cv=6, refit=True, return_train_score=True)\n",
        "grid_lr.fit(X_train, y_train)\n",
        "preds = grid_lr.best_estimator_.predict(X_test)\n",
        "\n",
        "grid_lr.best_params_\n",
        "\n",
        "evaluate(grid_lr, X_test, y_test) # 0.64 statt 0.6"
      ],
      "metadata": {
        "id": "TGcW-JUxmAtF"
      },
      "execution_count": null,
      "outputs": []
    },
    {
      "cell_type": "markdown",
      "source": [
        "####**Error Analysis**"
      ],
      "metadata": {
        "id": "_9DBWcT1hAF_"
      }
    },
    {
      "cell_type": "code",
      "source": [
        "#KNN\n",
        "from sklearn.metrics import ConfusionMatrixDisplay\n",
        "ConfusionMatrixDisplay.from_estimator(\n",
        "    grid_lr, X_test, y_test, labels=[0, 1, 2, 3], display_labels=['sehr gefährdet', ' gefährdet', ' nicht gefährdet', ' gar nicht gefährdet'])"
      ],
      "metadata": {
        "id": "_jXB_XoQhDBz"
      },
      "execution_count": null,
      "outputs": []
    },
    {
      "cell_type": "markdown",
      "source": [
        "###**Logistische Regression**"
      ],
      "metadata": {
        "id": "U7giVc50eV6W"
      }
    },
    {
      "cell_type": "markdown",
      "source": [
        "####**Logistische Regression y skaliert - ohne Ergebnis**"
      ],
      "metadata": {
        "id": "bKZMOSO0FsBI"
      }
    },
    {
      "cell_type": "code",
      "source": [
        "from sklearn.linear_model import LogisticRegression\n",
        "logistic = LogisticRegression(random_state=42)\n",
        "X_train, X_test, y_train, y_test = train_test_split(X, y_skaliert, test_size=0.2, random_state=123)"
      ],
      "metadata": {
        "id": "wlh6RuZE11gQ"
      },
      "execution_count": null,
      "outputs": []
    },
    {
      "cell_type": "code",
      "source": [
        "logistic.fit(X_train, y_train)\n",
        "#funktioniert nicht, da  trying to apply a classification algorithm or task on a target variable with numeric values instead of discrete labels."
      ],
      "metadata": {
        "id": "avCD1HZpGXO_"
      },
      "execution_count": null,
      "outputs": []
    },
    {
      "cell_type": "markdown",
      "source": [
        "####**Logistische Regression y unskaliert**"
      ],
      "metadata": {
        "id": "Jk40vV5kGl58"
      }
    },
    {
      "cell_type": "code",
      "source": [
        "from sklearn.linear_model import LogisticRegression\n",
        "logistic = LogisticRegression(random_state=42)\n",
        "X_train, X_test, y_train, y_test = train_test_split(X, y_unskaliert, test_size=0.2, random_state=123)"
      ],
      "metadata": {
        "id": "5UhvRvm1GW-Y"
      },
      "execution_count": null,
      "outputs": []
    },
    {
      "cell_type": "code",
      "source": [
        "logistic.fit(X_train, y_train)"
      ],
      "metadata": {
        "id": "mUd5athrGtt_"
      },
      "execution_count": null,
      "outputs": []
    },
    {
      "cell_type": "code",
      "source": [
        "Ergebnisse_log_y_unskaliert = evaluate(logistic, X_test, y_test) # 0.61"
      ],
      "metadata": {
        "id": "AbnW49FlGwpC"
      },
      "execution_count": null,
      "outputs": []
    },
    {
      "cell_type": "markdown",
      "source": [
        "####**Logistische Regression y unskaliert; X skaliert ohne Dummies**"
      ],
      "metadata": {
        "id": "wCAvEoAPMM-M"
      }
    },
    {
      "cell_type": "code",
      "source": [
        "from sklearn.linear_model import LogisticRegression\n",
        "logistic = LogisticRegression(random_state=42)\n",
        "X_train, X_test, y_train, y_test = train_test_split(X_skaliert_ohneDummies, y_unskaliert, test_size=0.2, random_state=123)"
      ],
      "metadata": {
        "id": "jPxkKOpxMUvS"
      },
      "execution_count": null,
      "outputs": []
    },
    {
      "cell_type": "code",
      "source": [
        "logistic.fit(X_train, y_train)"
      ],
      "metadata": {
        "id": "3ZtlGtJdMUjr"
      },
      "execution_count": null,
      "outputs": []
    },
    {
      "cell_type": "code",
      "source": [
        "Ergebnisse_log_y_unskaliert_X_ohne_Dummies = evaluate(logistic, X_test, y_test) # 0.61"
      ],
      "metadata": {
        "id": "Utreu651MUg-"
      },
      "execution_count": null,
      "outputs": []
    },
    {
      "cell_type": "markdown",
      "source": [
        "####**Hyperparameter Tuning**"
      ],
      "metadata": {
        "id": "wkBw7FAwgoOq"
      }
    },
    {
      "cell_type": "code",
      "source": [
        "import tensorflow as tf\n",
        "tf.test.gpu_device_name()"
      ],
      "metadata": {
        "id": "fIOJH0NztGNW"
      },
      "execution_count": null,
      "outputs": []
    },
    {
      "cell_type": "code",
      "source": [
        "# V1\n",
        "from sklearn.model_selection import GridSearchCV\n",
        "model = logistic\n",
        "grid_vals = {\n",
        "    'penalty': ['l1', 'l2'],\n",
        "    'C': [0.001, 0.01, 0.1, 1, 10],\n",
        "}\n",
        "\n",
        "grid_lr = GridSearchCV(estimator=logistic, param_grid=grid_vals, scoring='accuracy',\n",
        "                       cv=6, refit=True, return_train_score=True)\n",
        "\n",
        "grid_lr.fit(X_train, y_train)\n",
        "preds = grid_lr.best_estimator_.predict(X_test)\n",
        "\n",
        "grid_lr.best_params_\n",
        "\n",
        "evaluate(grid_lr, X_test, y_test) # 0.62 statt 0.61"
      ],
      "metadata": {
        "id": "kVF_ijGXgrJQ"
      },
      "execution_count": null,
      "outputs": []
    },
    {
      "cell_type": "code",
      "source": [
        "# V2\n",
        "from sklearn.model_selection import GridSearchCV\n",
        "model = logistic\n",
        "grid_vals = {\n",
        "    'penalty': ['l1', 'l2'],\n",
        "    'C': [0.001, 0.01, 0.1, 1, 10],\n",
        "}\n",
        "grid_lr = GridSearchCV(estimator=logistic, param_grid=grid_vals, scoring='accuracy',\n",
        "                       cv=6, refit=True, return_train_score=True)\n",
        "grid_lr.fit(X_train, y_train)\n",
        "preds = grid_lr.best_estimator_.predict(X_test)\n",
        "\n",
        "grid_lr.best_params_\n",
        "\n",
        "evaluate(grid_lr, X_test, y_test) # 0.68 statt 0.61"
      ],
      "metadata": {
        "id": "hVgsfcjhgq_8"
      },
      "execution_count": null,
      "outputs": []
    },
    {
      "cell_type": "markdown",
      "source": [
        "####**Error Analysis**"
      ],
      "metadata": {
        "id": "8xpflU3xgrtZ"
      }
    },
    {
      "cell_type": "code",
      "source": [
        "#Logistische Regression\n",
        "from sklearn.metrics import ConfusionMatrixDisplay\n",
        "ConfusionMatrixDisplay.from_estimator(\n",
        "    grid_lr, X_test, y_test, labels=[0, 1, 2, 3], display_labels=['sehr gefährdet', ' gefährdet', ' nicht gefährdet', ' gar nicht gefährdet'])"
      ],
      "metadata": {
        "id": "farEFh-igukH"
      },
      "execution_count": null,
      "outputs": []
    },
    {
      "cell_type": "markdown",
      "source": [
        "###**Decision Tree**"
      ],
      "metadata": {
        "id": "ExXRjN36ecX8"
      }
    },
    {
      "cell_type": "markdown",
      "source": [
        "####**Decision Tree y skaliert - ohne Ergebnis**"
      ],
      "metadata": {
        "id": "DJZMCpMgHFgt"
      }
    },
    {
      "cell_type": "code",
      "source": [
        "from sklearn.tree import DecisionTreeClassifier\n",
        "tree = DecisionTreeClassifier(random_state=42)\n",
        "X_train, X_test, y_train, y_test = train_test_split(X, y_skaliert, test_size=0.2, random_state=123)"
      ],
      "metadata": {
        "id": "9IjkiRQXHUtm"
      },
      "execution_count": null,
      "outputs": []
    },
    {
      "cell_type": "code",
      "source": [
        "tree.fit(X_train, y_train)\n",
        "#funktioniert nicht, da  trying to apply a classification algorithm or task on a target variable with numeric values instead of discrete labels."
      ],
      "metadata": {
        "id": "4dXV7N7sHUrU"
      },
      "execution_count": null,
      "outputs": []
    },
    {
      "cell_type": "markdown",
      "source": [
        "####**Decision Tree y unskaliert**"
      ],
      "metadata": {
        "id": "DU3R84YaHmOv"
      }
    },
    {
      "cell_type": "code",
      "source": [
        "from sklearn.tree import DecisionTreeClassifier\n",
        "tree = DecisionTreeClassifier(random_state=42)\n",
        "X_train, X_test, y_train, y_test = train_test_split(X, y_unskaliert, test_size=0.2, random_state=123)"
      ],
      "metadata": {
        "id": "4nj-sa3tHUoS"
      },
      "execution_count": null,
      "outputs": []
    },
    {
      "cell_type": "code",
      "source": [
        "tree.fit(X_train, y_train)"
      ],
      "metadata": {
        "id": "_F4SWPF3HUhx"
      },
      "execution_count": null,
      "outputs": []
    },
    {
      "cell_type": "code",
      "source": [
        "Ergebnisse_tree_y_unskaliert = evaluate(tree, X_test, y_test) # 0.92"
      ],
      "metadata": {
        "id": "4kgBklWbHrHQ"
      },
      "execution_count": null,
      "outputs": []
    },
    {
      "cell_type": "markdown",
      "source": [
        "####**Decision Tree y unskaliert; X skaliert ohne Dummies**"
      ],
      "metadata": {
        "id": "0JjCB3hyNs6V"
      }
    },
    {
      "cell_type": "code",
      "source": [
        "from sklearn.tree import DecisionTreeClassifier\n",
        "tree = DecisionTreeClassifier(random_state=42)\n",
        "X_train, X_test, y_train, y_test = train_test_split(X_skaliert_ohneDummies, y_unskaliert, test_size=0.2, random_state=123)"
      ],
      "metadata": {
        "id": "1uhtc1PwNzQx"
      },
      "execution_count": null,
      "outputs": []
    },
    {
      "cell_type": "code",
      "source": [
        "tree.fit(X_train, y_train)"
      ],
      "metadata": {
        "id": "ZT1ixLejNzFy"
      },
      "execution_count": null,
      "outputs": []
    },
    {
      "cell_type": "code",
      "source": [
        "Ergebnisse_tree_y_unskaliert_X_ohne_Dummies = evaluate(tree, X_test, y_test) # 0.92"
      ],
      "metadata": {
        "id": "axxmSuFRNy5c"
      },
      "execution_count": null,
      "outputs": []
    },
    {
      "cell_type": "code",
      "source": [
        "from sklearn import tree as sktree\n",
        "import matplotlib.pyplot as plt\n",
        "plt.figure(figsize=(10,10))\n",
        "\n",
        "sktree.plot_tree(tree, max_depth=2, fontsize=10, feature_names=X_skaliert_ohneDummies.columns);"
      ],
      "metadata": {
        "id": "3GzrXmfjpgpZ"
      },
      "execution_count": null,
      "outputs": []
    },
    {
      "cell_type": "markdown",
      "source": [
        "####**Hyperparameter Tuning**"
      ],
      "metadata": {
        "id": "yxgLGECIgYaO"
      }
    },
    {
      "cell_type": "code",
      "source": [
        "# V1\n",
        "from sklearn.model_selection import GridSearchCV\n",
        "model = tree\n",
        "grid_vals = {\n",
        "    'criterion': ['gini', 'entropy'],\n",
        "    'max_depth': [None, 5, 10, 20],\n",
        "}\n",
        "\n",
        "grid_lr = GridSearchCV(estimator=tree, param_grid=grid_vals, scoring='accuracy',\n",
        "                       cv=6, refit=True, return_train_score=True)\n",
        "\n",
        "grid_lr.fit(X_train, y_train)\n",
        "preds = grid_lr.best_estimator_.predict(X_test)\n",
        "\n",
        "grid_lr.best_params_\n",
        "\n",
        "evaluate(grid_lr, X_test, y_test) # 0.92 statt 0.92"
      ],
      "metadata": {
        "id": "21mjja9hgcCD"
      },
      "execution_count": null,
      "outputs": []
    },
    {
      "cell_type": "code",
      "source": [
        "# V2\n",
        "from sklearn.model_selection import GridSearchCV\n",
        "model = tree\n",
        "grid_vals = {\n",
        "    'criterion': ['gini', 'entropy'],\n",
        "    'max_depth': [None, 5, 10, 20],\n",
        "    'min_samples_split': [2, 5, 10],\n",
        "    'min_samples_leaf': [1, 2, 5],\n",
        "}\n",
        "\n",
        "grid_lr = GridSearchCV(estimator=tree, param_grid=grid_vals, scoring='accuracy',\n",
        "                       cv=6, refit=True, return_train_score=True)\n",
        "\n",
        "grid_lr.fit(X_train, y_train)\n",
        "preds = grid_lr.best_estimator_.predict(X_test)\n",
        "\n",
        "grid_lr.best_params_\n",
        "\n",
        "evaluate(grid_lr, X_test, y_test) # 0.93 statt 0.92"
      ],
      "metadata": {
        "id": "I8LfNtrpgcew"
      },
      "execution_count": null,
      "outputs": []
    },
    {
      "cell_type": "code",
      "source": [
        "# V3\n",
        "from sklearn.model_selection import GridSearchCV\n",
        "model = tree\n",
        "grid_vals = {\n",
        "    'criterion': ['gini', 'entropy'],\n",
        "    'max_depth': [None, 5, 10, 20],\n",
        "    'min_samples_split': [2, 5, 10],\n",
        "    'min_samples_leaf': [1, 2, 5],\n",
        "    'max_features': [None, 'sqrt', 'log2']\n",
        "}\n",
        "\n",
        "grid_lr = GridSearchCV(estimator=tree, param_grid=grid_vals, scoring='accuracy',\n",
        "                       cv=6, refit=True, return_train_score=True)\n",
        "\n",
        "grid_lr.fit(X_train, y_train)\n",
        "preds = grid_lr.best_estimator_.predict(X_test)\n",
        "\n",
        "grid_lr.best_params_\n",
        "\n",
        "evaluate(grid_lr, X_test, y_test) # 0.93 statt 0.92"
      ],
      "metadata": {
        "id": "lU3TaCJcvty7"
      },
      "execution_count": null,
      "outputs": []
    },
    {
      "cell_type": "markdown",
      "source": [
        "####**Error Analysis**"
      ],
      "metadata": {
        "id": "GEbALyAYgc8r"
      }
    },
    {
      "cell_type": "code",
      "source": [
        "#Decision Tree\n",
        "from sklearn.metrics import ConfusionMatrixDisplay\n",
        "ConfusionMatrixDisplay.from_estimator(\n",
        "    grid_lr, X_test, y_test, labels=[0, 1, 2, 3], display_labels=['sehr gefährdet', ' gefährdet', ' nicht gefährdet', ' gar nicht gefährdet'])"
      ],
      "metadata": {
        "id": "I8q18FtRgf7N"
      },
      "execution_count": null,
      "outputs": []
    },
    {
      "cell_type": "markdown",
      "source": [
        "###**Random Forest**"
      ],
      "metadata": {
        "id": "IcBU2ByZejBH"
      }
    },
    {
      "cell_type": "markdown",
      "source": [
        "####**Random Forest y skaliert - ohne Ergebnis**"
      ],
      "metadata": {
        "id": "VOnfs1D7H7cg"
      }
    },
    {
      "cell_type": "code",
      "source": [
        "from sklearn.ensemble import RandomForestClassifier\n",
        "random_forest = RandomForestClassifier(random_state=42)\n",
        "X_train, X_test, y_train, y_test = train_test_split(X, y_skaliert, test_size=0.2, random_state=123)"
      ],
      "metadata": {
        "id": "1hc0EJf-H6vZ"
      },
      "execution_count": null,
      "outputs": []
    },
    {
      "cell_type": "code",
      "source": [
        "random_forest.fit(X_train, y_train)\n",
        "#funktioniert nicht, da  trying to apply a classification algorithm or task on a target variable with numeric values instead of discrete labels."
      ],
      "metadata": {
        "id": "DvvCvwQqIfEy"
      },
      "execution_count": null,
      "outputs": []
    },
    {
      "cell_type": "markdown",
      "source": [
        "####**Random Forest y unskaliert**"
      ],
      "metadata": {
        "id": "RH_0bC2OItnj"
      }
    },
    {
      "cell_type": "code",
      "source": [
        "from sklearn.ensemble import RandomForestClassifier\n",
        "random_forest = RandomForestClassifier(random_state=42)\n",
        "X_train, X_test, y_train, y_test = train_test_split(X, y_unskaliert, test_size=0.2, random_state=123)"
      ],
      "metadata": {
        "id": "2610TddhItTv"
      },
      "execution_count": null,
      "outputs": []
    },
    {
      "cell_type": "code",
      "source": [
        "random_forest.fit(X_train, y_train)\n"
      ],
      "metadata": {
        "id": "11vaCGaJI7i8"
      },
      "execution_count": null,
      "outputs": []
    },
    {
      "cell_type": "code",
      "source": [
        "Ergebnisse_forest_y_unskaliert = evaluate(random_forest, X_test, y_test) # 0.93"
      ],
      "metadata": {
        "id": "T8N6JY9fIg8d"
      },
      "execution_count": null,
      "outputs": []
    },
    {
      "cell_type": "markdown",
      "source": [
        "####**Random Forest y unskaliert; X skaliert ohne Dummies**"
      ],
      "metadata": {
        "id": "ImXYvaptOLJ2"
      }
    },
    {
      "cell_type": "code",
      "source": [
        "from sklearn.ensemble import RandomForestClassifier\n",
        "random_forest = RandomForestClassifier(random_state=42)\n",
        "X_train, X_test, y_train, y_test = train_test_split(X_skaliert_ohneDummies, y_unskaliert, test_size=0.2, random_state=123)"
      ],
      "metadata": {
        "id": "xCybeXymOL26"
      },
      "execution_count": null,
      "outputs": []
    },
    {
      "cell_type": "code",
      "source": [
        "random_forest.fit(X_train, y_train)"
      ],
      "metadata": {
        "id": "hqCGYk-lOMcA"
      },
      "execution_count": null,
      "outputs": []
    },
    {
      "cell_type": "code",
      "source": [
        "Ergebnisse_forest_y_unskaliert_X_ohne_Dummies = evaluate(random_forest, X_test, y_test) # 0.93"
      ],
      "metadata": {
        "id": "-pFaIP-pOMTB"
      },
      "execution_count": null,
      "outputs": []
    },
    {
      "cell_type": "markdown",
      "source": [
        "####**Hyperparameter Tuning**"
      ],
      "metadata": {
        "id": "KHv4GFwpgDWF"
      }
    },
    {
      "cell_type": "code",
      "source": [
        "# V1\n",
        "from sklearn.model_selection import GridSearchCV\n",
        "model = random_forest\n",
        "grid_vals = {\n",
        "    'criterion': ['gini', 'entropy'],\n",
        "    'max_depth': [None, 5, 10, 20],\n",
        "}\n",
        "\n",
        "grid_lr = GridSearchCV(estimator=random_forest, param_grid=grid_vals, scoring='accuracy',\n",
        "                       cv=6, refit=True, return_train_score=True)\n",
        "\n",
        "grid_lr.fit(X_train, y_train)\n",
        "preds = grid_lr.best_estimator_.predict(X_test)\n",
        "\n",
        "grid_lr.best_params_\n",
        "\n",
        "evaluate(grid_lr, X_test, y_test) # 0.93 statt 0.93"
      ],
      "metadata": {
        "id": "miwJf2aUgIzX"
      },
      "execution_count": null,
      "outputs": []
    },
    {
      "cell_type": "code",
      "source": [
        "# V2\n",
        "from sklearn.model_selection import GridSearchCV\n",
        "model = random_forest\n",
        "grid_vals = {\n",
        "    'min_samples_leaf': [1, 2, 5],\n",
        "    'max_features': ['sqrt', 'log2'],\n",
        "    'min_samples_split': [2, 5, 10],\n",
        "}\n",
        "\n",
        "grid_lr = GridSearchCV(estimator=random_forest, param_grid=grid_vals, scoring='accuracy',\n",
        "                       cv=6, refit=True, return_train_score=True)\n",
        "\n",
        "grid_lr.fit(X_train, y_train)\n",
        "preds = grid_lr.best_estimator_.predict(X_test)\n",
        "\n",
        "grid_lr.best_params_\n",
        "\n",
        "evaluate(grid_lr, X_test, y_test) # 0.93 statt 0.93"
      ],
      "metadata": {
        "id": "CniC-gCNgIrQ"
      },
      "execution_count": null,
      "outputs": []
    },
    {
      "cell_type": "markdown",
      "source": [
        "####**Error Analysis**"
      ],
      "metadata": {
        "id": "zD18kJwEgJvh"
      }
    },
    {
      "cell_type": "code",
      "source": [
        "#Random Forest\n",
        "from sklearn.metrics import ConfusionMatrixDisplay\n",
        "ConfusionMatrixDisplay.from_estimator(\n",
        "    grid_lr, X_test, y_test, labels=[0, 1, 2, 3], display_labels=['sehr gefährdet', ' gefährdet', ' nicht gefährdet', ' gar nicht gefährdet'])"
      ],
      "metadata": {
        "id": "elZoA8NNgJDS"
      },
      "execution_count": null,
      "outputs": []
    },
    {
      "cell_type": "markdown",
      "source": [
        "###**XG Boost**"
      ],
      "metadata": {
        "id": "9EJNK2vVeqji"
      }
    },
    {
      "cell_type": "markdown",
      "source": [
        "####**XGBoost y skaliert - ohne Ergebnis**"
      ],
      "metadata": {
        "id": "qKPa7vBeJDOe"
      }
    },
    {
      "cell_type": "code",
      "source": [
        "from sklearn.ensemble import GradientBoostingClassifier\n",
        "xgb = GradientBoostingClassifier()\n",
        "X_train, X_test, y_train, y_test = train_test_split(X, y_skaliert, test_size=0.2, random_state=123)"
      ],
      "metadata": {
        "id": "98dGrps1JMMe"
      },
      "execution_count": null,
      "outputs": []
    },
    {
      "cell_type": "code",
      "source": [
        "xgb.fit(X_train, y_train)\n",
        "#funktioniert nicht, da  trying to apply a classification algorithm or task on a target variable with numeric values instead of discrete labels."
      ],
      "metadata": {
        "id": "hXaKONOtJRAr"
      },
      "execution_count": null,
      "outputs": []
    },
    {
      "cell_type": "markdown",
      "source": [
        "####**XGBoost y unskaliert**"
      ],
      "metadata": {
        "id": "N-cyDEVNJWAP"
      }
    },
    {
      "cell_type": "code",
      "source": [
        "from sklearn.ensemble import GradientBoostingClassifier\n",
        "xgb = GradientBoostingClassifier()\n",
        "X_train, X_test, y_train, y_test = train_test_split(X, y_unskaliert, test_size=0.2, random_state=123)"
      ],
      "metadata": {
        "id": "BYO0E9ChJZNB"
      },
      "execution_count": null,
      "outputs": []
    },
    {
      "cell_type": "code",
      "source": [
        "xgb.fit(X_train, y_train)"
      ],
      "metadata": {
        "id": "Zn37bw2eJc-6"
      },
      "execution_count": null,
      "outputs": []
    },
    {
      "cell_type": "code",
      "source": [
        "Ergebnisse_xg_y_unskaliert = evaluate(xgb, X_test, y_test) # 0.93"
      ],
      "metadata": {
        "id": "8iBEY38BJe4Z"
      },
      "execution_count": null,
      "outputs": []
    },
    {
      "cell_type": "markdown",
      "source": [
        "####**XGBoost y unskaliert; X skaliert ohne Dummies**"
      ],
      "metadata": {
        "id": "U1gZFP_1HFbC"
      }
    },
    {
      "cell_type": "code",
      "source": [
        "from sklearn.ensemble import GradientBoostingClassifier\n",
        "xgb = GradientBoostingClassifier()\n",
        "X_train, X_test, y_train, y_test = train_test_split(X_skaliert_ohneDummies, y_unskaliert, test_size=0.2, random_state=123)"
      ],
      "metadata": {
        "id": "Ee0SFd-7Oojx"
      },
      "execution_count": null,
      "outputs": []
    },
    {
      "cell_type": "code",
      "source": [
        "xgb.fit(X_train, y_train)"
      ],
      "metadata": {
        "id": "2RYFbUlsOohQ"
      },
      "execution_count": null,
      "outputs": []
    },
    {
      "cell_type": "code",
      "source": [
        "Ergebnisse_xg_y_unskaliert_X_ohne_Dummies = evaluate(xgb, X_test, y_test) # 0.93"
      ],
      "metadata": {
        "id": "fHANrkPZOoeh"
      },
      "execution_count": null,
      "outputs": []
    },
    {
      "cell_type": "markdown",
      "source": [
        "####**Hyperparameter Tuning**"
      ],
      "metadata": {
        "id": "02WAtPkgf5Kr"
      }
    },
    {
      "cell_type": "code",
      "source": [
        "# V1\n",
        "from sklearn.model_selection import GridSearchCV\n",
        "model = xgb\n",
        "grid_vals = {\n",
        "    'verbose': [0],\n",
        "    'warm_start': [False]\n",
        "}\n",
        "\n",
        "grid_lr = GridSearchCV(estimator=xgb, param_grid=grid_vals, scoring='accuracy',\n",
        "                       cv=6, refit=True, return_train_score=True)\n",
        "\n",
        "grid_lr.fit(X_train, y_train)\n",
        "preds = grid_lr.best_estimator_.predict(X_test)\n",
        "\n",
        "grid_lr.best_params_\n",
        "\n",
        "evaluate(grid_lr, X_test, y_test) # 0.93 statt 0.93"
      ],
      "metadata": {
        "id": "jfQmPsCIgAPP"
      },
      "execution_count": null,
      "outputs": []
    },
    {
      "cell_type": "code",
      "source": [
        "# V2\n",
        "from sklearn.model_selection import GridSearchCV\n",
        "model = xgb\n",
        "grid_vals = {\n",
        "    'max_features': ['auto', 'sqrt', 'log2'],\n",
        "    'max_leaf_nodes': [None],\n",
        "}\n",
        "\n",
        "grid_lr = GridSearchCV(estimator=xgb, param_grid=grid_vals, scoring='accuracy',\n",
        "                       cv=6, refit=True, return_train_score=True)\n",
        "\n",
        "grid_lr.fit(X_train, y_train)\n",
        "preds = grid_lr.best_estimator_.predict(X_test)\n",
        "\n",
        "grid_lr.best_params_\n",
        "\n",
        "evaluate(grid_lr, X_test, y_test) # 0.93 statt 0.93"
      ],
      "metadata": {
        "id": "xpraoKUDf_3l"
      },
      "execution_count": null,
      "outputs": []
    },
    {
      "cell_type": "code",
      "source": [
        "# V3\n",
        "from sklearn.model_selection import GridSearchCV\n",
        "model = xgb\n",
        "grid_vals = {\n",
        "    'max_depth': [3, 5, 7],\n",
        "    'max_features': ['auto', 'sqrt', 'log2'],\n",
        "    'max_leaf_nodes': [None],\n",
        "    'min_impurity_decrease': [0.0, 0.1, 0.2],\n",
        "}\n",
        "\n",
        "grid_lr = GridSearchCV(estimator=xgb, param_grid=grid_vals, scoring='accuracy',\n",
        "                       cv=6, refit=True, return_train_score=True)\n",
        "\n",
        "grid_lr.fit(X_train, y_train)\n",
        "preds = grid_lr.best_estimator_.predict(X_test)\n",
        "\n",
        "grid_lr.best_params_\n",
        "\n",
        "evaluate(grid_lr, X_test, y_test) # 0.94 statt 0.93"
      ],
      "metadata": {
        "id": "e6aboaLX17SJ"
      },
      "execution_count": null,
      "outputs": []
    },
    {
      "cell_type": "markdown",
      "source": [
        "####**Error Analysis**"
      ],
      "metadata": {
        "id": "nqClfYw_RvwH"
      }
    },
    {
      "cell_type": "code",
      "source": [
        "#XG Boost\n",
        "from sklearn.metrics import ConfusionMatrixDisplay\n",
        "ConfusionMatrixDisplay.from_estimator(\n",
        "    grid_lr, X_test, y_test, labels=[0, 1, 2, 3], display_labels=['sehr gefährdet', ' gefährdet', ' nicht gefährdet', ' gar nicht gefährdet'])"
      ],
      "metadata": {
        "id": "hFpr-eBkR4iY"
      },
      "execution_count": null,
      "outputs": []
    },
    {
      "cell_type": "markdown",
      "source": [
        "###Ergebnis der Classification"
      ],
      "metadata": {
        "id": "-3IHEkRJmKEI"
      }
    },
    {
      "cell_type": "markdown",
      "source": [
        "hier ausführlichere Erklärung für was wir uns entschieden haben (X_skaliert_ohneDummies und y unskaliert)"
      ],
      "metadata": {
        "id": "fprdispcveg8"
      }
    },
    {
      "cell_type": "markdown",
      "source": [
        "**--> XG Boost V3 erzielt das beste Ergebnis mit 94% nach der Optimierung**\n",
        "accuracy: wv % wurden richtig vorhergesagt\n",
        "f1 Wert wenn DS sehr unbalanciert sonst accuracy\n"
      ],
      "metadata": {
        "id": "d9hkOCGO4elO"
      }
    },
    {
      "cell_type": "markdown",
      "source": [
        "###**Gesamtvergleich der jeweils besten Methode**"
      ],
      "metadata": {
        "id": "kWBuuFA1J_2k"
      }
    },
    {
      "cell_type": "code",
      "source": [
        "# evaluate(grid_lr, X_test, y_test)"
      ],
      "metadata": {
        "id": "8vEnQLxSKA0b"
      },
      "execution_count": null,
      "outputs": []
    },
    {
      "cell_type": "code",
      "source": [
        "# auf testdatensatz evaluieren"
      ],
      "metadata": {
        "id": "exUaua5FqnbM"
      },
      "execution_count": null,
      "outputs": []
    },
    {
      "cell_type": "markdown",
      "source": [
        "##Schritt 3: Multiple lineare Regression"
      ],
      "metadata": {
        "id": "dp0rhFNcmXmg"
      }
    },
    {
      "cell_type": "code",
      "source": [
        "# Hier noch kein Hyperparameter Tuning & Error Analysis gemacht!!!"
      ],
      "metadata": {
        "id": "7RjsA0E_Dpag"
      },
      "execution_count": null,
      "outputs": []
    },
    {
      "cell_type": "code",
      "source": [
        "from sklearn.linear_model import LinearRegression\n",
        "linear = LinearRegression()"
      ],
      "metadata": {
        "id": "uLABHn4wwJSi"
      },
      "execution_count": null,
      "outputs": []
    },
    {
      "cell_type": "code",
      "source": [
        "# Zielvariable und Features definieren (von Schritt 1 übernommen)\n",
        "#X = X_skaliert_ohneDummies\n",
        "#y = target_regression"
      ],
      "metadata": {
        "id": "Vyu08WnKqm-z"
      },
      "execution_count": null,
      "outputs": []
    },
    {
      "cell_type": "code",
      "source": [
        "# Zielvariable und Features (unskaliert) definieren (von Schritt 1 übernommen)\n",
        "X = columns_to_scale_2\n",
        "y = target_regression"
      ],
      "metadata": {
        "id": "BC-rSC5wxX57"
      },
      "execution_count": null,
      "outputs": []
    },
    {
      "cell_type": "code",
      "source": [
        "# Train-Test-Split\n",
        "from sklearn.model_selection import train_test_split\n",
        "X_train, X_test, y_train, y_test = train_test_split(X, y, test_size=0.2, random_state=42)"
      ],
      "metadata": {
        "id": "Vozv8vrKqm68"
      },
      "execution_count": null,
      "outputs": []
    },
    {
      "cell_type": "code",
      "source": [
        "from sklearn.metrics import r2_score, mean_absolute_error, mean_squared_error, mean_absolute_percentage_error\n",
        "def evaluate(reg, X_test, y_test):\n",
        "  pred = reg.predict(X_test)\n",
        "  print('R2:', r2_score(y_test, pred))\n",
        "  print('MSE:', mean_squared_error(y_test, pred))\n",
        "  print('RMSE:', mean_squared_error(y_test, pred, squared=False))\n",
        "  print('MAPE:', mean_absolute_percentage_error(y_test, pred))"
      ],
      "metadata": {
        "id": "HeEcfLMZqm4C"
      },
      "execution_count": null,
      "outputs": []
    },
    {
      "cell_type": "code",
      "source": [
        "from sklearn.dummy import DummyRegressor\n",
        "dummy = DummyRegressor()\n",
        "dummy.fit(X_train, y_train)\n",
        "evaluate(dummy, X_test, y_test)"
      ],
      "metadata": {
        "id": "Jxa-6s4Wqmgz"
      },
      "execution_count": null,
      "outputs": []
    },
    {
      "cell_type": "markdown",
      "source": [
        "Der R2-Wert ist mit -0,00305 sehr schlecht."
      ],
      "metadata": {
        "id": "gbH23ng7uMbp"
      }
    },
    {
      "cell_type": "markdown",
      "source": [
        "###**Lineare Regression**"
      ],
      "metadata": {
        "id": "T2eRebPvvBLE"
      }
    },
    {
      "cell_type": "markdown",
      "source": [
        "####**Ordinary Least Squares**"
      ],
      "metadata": {
        "id": "QCRzH6BKvM_l"
      }
    },
    {
      "cell_type": "code",
      "source": [
        "from sklearn.preprocessing import StandardScaler\n",
        "scaler = StandardScaler()\n",
        "from sklearn.pipeline import make_pipeline\n",
        "linear_scaled = make_pipeline(scaler, linear)\n",
        "results = linear_scaled.fit(X_train, y_train)\n"
      ],
      "metadata": {
        "id": "L1ZWxyLuqmeA"
      },
      "execution_count": null,
      "outputs": []
    },
    {
      "cell_type": "code",
      "source": [
        "evaluate(linear_scaled, X_test, y_test) #0,273"
      ],
      "metadata": {
        "id": "V3xs7TrGqmWl"
      },
      "execution_count": null,
      "outputs": []
    },
    {
      "cell_type": "markdown",
      "source": [
        "#####**Hyperparameter Tuning**"
      ],
      "metadata": {
        "id": "07_U3HYeyH7G"
      }
    },
    {
      "cell_type": "code",
      "source": [
        "from sklearn.model_selection import RandomizedSearchCV\n"
      ],
      "metadata": {
        "id": "1JFx3o76ySXR"
      },
      "execution_count": null,
      "outputs": []
    },
    {
      "cell_type": "code",
      "source": [
        "grid = {'learning_rate': [0.15, 0.1, 0.05, 0.01, 0.005, 0.001],\n",
        "        'n_estimators': [100, 250, 500, 750, 1000, 1250, 1500, 1750],\n",
        "        'max_depth': [2, 3, 4, 5, 6, 7]}"
      ],
      "metadata": {
        "id": "S-2ilSfsySUJ"
      },
      "execution_count": null,
      "outputs": []
    },
    {
      "cell_type": "code",
      "source": [
        "# setting n_jobs=-1 will ensure that sklearn uses all available cpu cores\n",
        "optimized_xgb = RandomizedSearchCV(xgb, grid, n_iter=1, n_jobs=-1, random_state=42, verbose=3)\n",
        "optimized_xgb.fit(X_train, y_train)"
      ],
      "metadata": {
        "id": "Rt4Poesl6Nn-"
      },
      "execution_count": null,
      "outputs": []
    },
    {
      "cell_type": "code",
      "source": [
        "optimized_xgb.best_params_"
      ],
      "metadata": {
        "id": "1dXIB3nD6S16"
      },
      "execution_count": null,
      "outputs": []
    },
    {
      "cell_type": "code",
      "source": [
        "evaluate(optimized_xgb, X_test, y_test)"
      ],
      "metadata": {
        "id": "pcgsZQ_J6UbI"
      },
      "execution_count": null,
      "outputs": []
    },
    {
      "cell_type": "markdown",
      "source": [
        "####**Ridge Regression**"
      ],
      "metadata": {
        "id": "Vh2ZRYQqyTRF"
      }
    },
    {
      "cell_type": "code",
      "source": [
        "X = X_skaliert_ohneDummies\n",
        "y = y_unskaliert\n",
        "from sklearn.model_selection import train_test_split\n",
        "X_train, X_test, y_train, y_test = train_test_split(X, y, test_size=0.2, random_state=42)"
      ],
      "metadata": {
        "id": "BwOOEaCn0em2"
      },
      "execution_count": null,
      "outputs": []
    },
    {
      "cell_type": "code",
      "source": [
        "from sklearn.linear_model import RidgeCV\n",
        "import numpy as np"
      ],
      "metadata": {
        "id": "iTQD6s-wqmOR"
      },
      "execution_count": null,
      "outputs": []
    },
    {
      "cell_type": "code",
      "source": [
        "n_alphas = 200\n",
        "alphaValues = np.logspace(-10, -1, n_alphas)\n",
        "\n",
        "linear_ridge = make_pipeline(scaler, RidgeCV(alphas=alphaValues))"
      ],
      "metadata": {
        "id": "l7xOcQZnqmLb"
      },
      "execution_count": null,
      "outputs": []
    },
    {
      "cell_type": "code",
      "source": [
        "linear_ridge.fit(X_train, y_train)"
      ],
      "metadata": {
        "id": "EwCKfBOrqmIe"
      },
      "execution_count": null,
      "outputs": []
    },
    {
      "cell_type": "code",
      "source": [
        "evaluate(linear_ridge, X_test,y_test) #0,273 --> skaliert 0,298"
      ],
      "metadata": {
        "id": "tXCSy2OHqmFe"
      },
      "execution_count": null,
      "outputs": []
    },
    {
      "cell_type": "markdown",
      "source": [
        "#####**Hyperparameter Tuning**"
      ],
      "metadata": {
        "id": "LIz2QVem8BpA"
      }
    },
    {
      "cell_type": "code",
      "source": [
        "from sklearn.model_selection import RandomizedSearchCV"
      ],
      "metadata": {
        "id": "1a7DYeXU8Fbi"
      },
      "execution_count": null,
      "outputs": []
    },
    {
      "cell_type": "code",
      "source": [
        "grid = {'learning_rate': [0.15, 0.1, 0.05, 0.01, 0.005, 0.001],\n",
        "        'n_estimators': [100, 250, 500, 750, 1000, 1250, 1500, 1750],\n",
        "        'max_depth': [2, 3, 4, 5, 6, 7]}"
      ],
      "metadata": {
        "id": "y_dZi_zs8FXq"
      },
      "execution_count": null,
      "outputs": []
    },
    {
      "cell_type": "code",
      "source": [
        "optimized_xgb = RandomizedSearchCV(xgb, grid, n_iter=100, n_jobs=-1, random_state=42, verbose=3)\n",
        "optimized_xgb.fit(X_train, y_train)"
      ],
      "metadata": {
        "id": "sRAS2I_-8FNC"
      },
      "execution_count": null,
      "outputs": []
    },
    {
      "cell_type": "code",
      "source": [
        "optimized_xgb.best_params_"
      ],
      "metadata": {
        "id": "H7UjhZm98FCf"
      },
      "execution_count": null,
      "outputs": []
    },
    {
      "cell_type": "code",
      "source": [
        "evaluate(optimized_xgb, X_test, y_test)"
      ],
      "metadata": {
        "id": "zqrpuaxg8NWb"
      },
      "execution_count": null,
      "outputs": []
    },
    {
      "cell_type": "markdown",
      "source": [
        "###**SVM**"
      ],
      "metadata": {
        "id": "Id8G2pK9zdoQ"
      }
    },
    {
      "cell_type": "code",
      "source": [
        "X = X_skaliert_ohneDummies\n",
        "y = y_unskaliert\n",
        "from sklearn.model_selection import train_test_split\n",
        "X_train, X_test, y_train, y_test = train_test_split(X, y, test_size=0.2, random_state=42)"
      ],
      "metadata": {
        "id": "dMfRcZhn0mBQ"
      },
      "execution_count": null,
      "outputs": []
    },
    {
      "cell_type": "code",
      "source": [
        "from sklearn.svm import SVR\n",
        "svm = make_pipeline(scaler, SVR())\n",
        "svm.fit(X_train, y_train)"
      ],
      "metadata": {
        "id": "eMyCL4K1zfYv"
      },
      "execution_count": null,
      "outputs": []
    },
    {
      "cell_type": "code",
      "source": [
        "evaluate(svm, X_test, y_test) #0,584 --> skaliert 0,418"
      ],
      "metadata": {
        "id": "ZfIioteFzmnR"
      },
      "execution_count": null,
      "outputs": []
    },
    {
      "cell_type": "markdown",
      "source": [
        "#####**Hyperparameter Tuning**"
      ],
      "metadata": {
        "id": "cpD6f1rY9Rqg"
      }
    },
    {
      "cell_type": "code",
      "source": [
        "from sklearn.model_selection import RandomizedSearchCV"
      ],
      "metadata": {
        "id": "MJfucjBi9Rqo"
      },
      "execution_count": null,
      "outputs": []
    },
    {
      "cell_type": "code",
      "source": [
        "grid = {'learning_rate': [0.15, 0.1, 0.05, 0.01, 0.005, 0.001],\n",
        "        'n_estimators': [100, 250, 500, 750, 1000, 1250, 1500, 1750],\n",
        "        'max_depth': [2, 3, 4, 5, 6, 7]}"
      ],
      "metadata": {
        "id": "Kshhd77z9Rqp"
      },
      "execution_count": null,
      "outputs": []
    },
    {
      "cell_type": "code",
      "source": [
        "optimized_xgb = RandomizedSearchCV(xgb, grid, n_iter=3, n_jobs=-1, random_state=42, verbose=3)\n",
        "optimized_xgb.fit(X_train, y_train)"
      ],
      "metadata": {
        "id": "2tPABTL19Rqp"
      },
      "execution_count": null,
      "outputs": []
    },
    {
      "cell_type": "code",
      "source": [
        "optimized_xgb.best_params_"
      ],
      "metadata": {
        "id": "2cMXHXoG9Rqp"
      },
      "execution_count": null,
      "outputs": []
    },
    {
      "cell_type": "code",
      "source": [
        "evaluate(optimized_xgb, X_test, y_test) #0,96"
      ],
      "metadata": {
        "id": "08Vfi4ls9Rqp"
      },
      "execution_count": null,
      "outputs": []
    },
    {
      "cell_type": "markdown",
      "source": [
        "###**Decision Tree**"
      ],
      "metadata": {
        "id": "zJRKB1LyztrK"
      }
    },
    {
      "cell_type": "code",
      "source": [
        "X = X_skaliert_ohneDummies\n",
        "y = y_unskaliert\n",
        "from sklearn.model_selection import train_test_split\n",
        "X_train, X_test, y_train, y_test = train_test_split(X, y, test_size=0.2, random_state=42)"
      ],
      "metadata": {
        "id": "VWaLcN1j1NZr"
      },
      "execution_count": null,
      "outputs": []
    },
    {
      "cell_type": "code",
      "source": [
        "from sklearn.tree import DecisionTreeRegressor\n",
        "tree = DecisionTreeRegressor(random_state=42)\n",
        "tree.fit(X_train, y_train)"
      ],
      "metadata": {
        "id": "6TPviIGKzwly"
      },
      "execution_count": null,
      "outputs": []
    },
    {
      "cell_type": "code",
      "source": [
        "evaluate(tree, X_test, y_test) #0,942 --> skaliert 0,942 # hier egal"
      ],
      "metadata": {
        "id": "ti0UKJeh1IAL"
      },
      "execution_count": null,
      "outputs": []
    },
    {
      "cell_type": "code",
      "source": [
        "from sklearn import tree as sktree\n",
        "import matplotlib.pyplot as plt\n",
        "plt.figure(figsize=(10,10))\n",
        "\n",
        "sktree.plot_tree(tree, max_depth=2, fontsize=10, feature_names=X.columns);"
      ],
      "metadata": {
        "id": "99CVNtV21Wqi"
      },
      "execution_count": null,
      "outputs": []
    },
    {
      "cell_type": "code",
      "source": [
        "df['Number_of_Policies'].unique()"
      ],
      "metadata": {
        "id": "rJ7_PUNo4QZk"
      },
      "execution_count": null,
      "outputs": []
    },
    {
      "cell_type": "code",
      "source": [
        "predictions = tree.predict(X_test)\n",
        "df_with_predictions = pd.concat([X_test, y_test], axis='columns')\n",
        "df_with_predictions = pd.concat([df_with_predictions, pd.DataFrame(predictions, columns=['Prediction'], index=df_with_predictions.index)], axis=1)"
      ],
      "metadata": {
        "id": "iaHUVAjx9bdz"
      },
      "execution_count": null,
      "outputs": []
    },
    {
      "cell_type": "code",
      "source": [
        "df_with_predictions = df_with_predictions.sort_values(by='Number_of_Policies')"
      ],
      "metadata": {
        "id": "VwJQZ9ok9dk5"
      },
      "execution_count": null,
      "outputs": []
    },
    {
      "cell_type": "code",
      "source": [
        "ax = df_with_predictions.plot(x='Number_of_Policies', y='CLV_churn', kind='scatter', s=20, edgecolor='black',\n",
        "            c='darkorange', label='data', figsize=(20,5))\n",
        "\n",
        "df_with_predictions.plot(x='Number_of_Policies', y='Prediction', kind='line', color='cornflowerblue',\n",
        "         label='prediction', linewidth=2, ax=ax)\n",
        "\n",
        "ax.set_xlabel('Number_of_Policies')\n",
        "ax.set_ylabel('CLV_churn')\n",
        "ax.set_title('Decision Tree Regression')\n",
        "ax.legend()"
      ],
      "metadata": {
        "id": "qjaXTNIA9fgd"
      },
      "execution_count": null,
      "outputs": []
    },
    {
      "cell_type": "markdown",
      "source": [
        "#####**Hyperparameter Tuning**"
      ],
      "metadata": {
        "id": "kThBMeSN9PwD"
      }
    },
    {
      "cell_type": "code",
      "source": [
        "from sklearn.model_selection import RandomizedSearchCV"
      ],
      "metadata": {
        "id": "GaB8V1lW9PwL"
      },
      "execution_count": null,
      "outputs": []
    },
    {
      "cell_type": "code",
      "source": [
        "grid = {'ccp_alpha': [0.1, 0.2, 0.3],\n",
        "        'criterion': ['gini', 'entropy'],\n",
        "        'max_depth': [None, 10, 20]}"
      ],
      "metadata": {
        "id": "Ocfc5fWH9PwL"
      },
      "execution_count": null,
      "outputs": []
    },
    {
      "cell_type": "code",
      "source": [
        "optimized_tree = RandomizedSearchCV(tree, grid, n_iter=3, n_jobs=-1, random_state=42, verbose=3)\n",
        "optimized_tree.fit(X_train, y_train)"
      ],
      "metadata": {
        "id": "xqMrrHV49PwL"
      },
      "execution_count": null,
      "outputs": []
    },
    {
      "cell_type": "code",
      "source": [
        "optimized_tree.best_params_"
      ],
      "metadata": {
        "id": "_u3HZgym9PwM"
      },
      "execution_count": null,
      "outputs": []
    },
    {
      "cell_type": "code",
      "source": [
        "evaluate(optimized_tree, X_test, y_test) # 0.96"
      ],
      "metadata": {
        "id": "Gc_iuo1a9PwM"
      },
      "execution_count": null,
      "outputs": []
    },
    {
      "cell_type": "markdown",
      "source": [
        "###**Gradient Boosting**"
      ],
      "metadata": {
        "id": "6WTYXS-N4md8"
      }
    },
    {
      "cell_type": "code",
      "source": [
        "X = X_skaliert_ohneDummies\n",
        "y = y_unskaliert\n",
        "from sklearn.model_selection import train_test_split\n",
        "\n",
        "X_train, X_test, y_train, y_test = train_test_split(X, y, test_size=0.2, random_state=42)"
      ],
      "metadata": {
        "id": "DOmNJl3C48uu"
      },
      "execution_count": null,
      "outputs": []
    },
    {
      "cell_type": "code",
      "source": [
        "y"
      ],
      "metadata": {
        "id": "aamER3snX-n9",
        "outputId": "f06be924-95b2-4267-b5c9-acf195f914d6",
        "colab": {
          "base_uri": "https://localhost:8080/"
        }
      },
      "execution_count": null,
      "outputs": [
        {
          "output_type": "execute_result",
          "data": {
            "text/plain": [
              "0       0\n",
              "1       2\n",
              "2       3\n",
              "3       2\n",
              "4       0\n",
              "       ..\n",
              "9129    3\n",
              "9130    0\n",
              "9131    2\n",
              "9132    2\n",
              "9133    0\n",
              "Name: CLV_churn, Length: 9134, dtype: int64"
            ]
          },
          "metadata": {},
          "execution_count": 74
        }
      ]
    },
    {
      "cell_type": "code",
      "source": [
        "from sklearn.ensemble import GradientBoostingRegressor\n",
        "xgb = GradientBoostingRegressor(random_state=42)\n",
        "xgb.fit(X_train, y_train)"
      ],
      "metadata": {
        "id": "b7yEnD8x4lqo",
        "colab": {
          "base_uri": "https://localhost:8080/",
          "height": 75
        },
        "outputId": "53e58504-f6ab-4970-b92a-0297979c74f9"
      },
      "execution_count": null,
      "outputs": [
        {
          "output_type": "execute_result",
          "data": {
            "text/plain": [
              "GradientBoostingRegressor(random_state=42)"
            ],
            "text/html": [
              "<style>#sk-container-id-3 {color: black;background-color: white;}#sk-container-id-3 pre{padding: 0;}#sk-container-id-3 div.sk-toggleable {background-color: white;}#sk-container-id-3 label.sk-toggleable__label {cursor: pointer;display: block;width: 100%;margin-bottom: 0;padding: 0.3em;box-sizing: border-box;text-align: center;}#sk-container-id-3 label.sk-toggleable__label-arrow:before {content: \"▸\";float: left;margin-right: 0.25em;color: #696969;}#sk-container-id-3 label.sk-toggleable__label-arrow:hover:before {color: black;}#sk-container-id-3 div.sk-estimator:hover label.sk-toggleable__label-arrow:before {color: black;}#sk-container-id-3 div.sk-toggleable__content {max-height: 0;max-width: 0;overflow: hidden;text-align: left;background-color: #f0f8ff;}#sk-container-id-3 div.sk-toggleable__content pre {margin: 0.2em;color: black;border-radius: 0.25em;background-color: #f0f8ff;}#sk-container-id-3 input.sk-toggleable__control:checked~div.sk-toggleable__content {max-height: 200px;max-width: 100%;overflow: auto;}#sk-container-id-3 input.sk-toggleable__control:checked~label.sk-toggleable__label-arrow:before {content: \"▾\";}#sk-container-id-3 div.sk-estimator input.sk-toggleable__control:checked~label.sk-toggleable__label {background-color: #d4ebff;}#sk-container-id-3 div.sk-label input.sk-toggleable__control:checked~label.sk-toggleable__label {background-color: #d4ebff;}#sk-container-id-3 input.sk-hidden--visually {border: 0;clip: rect(1px 1px 1px 1px);clip: rect(1px, 1px, 1px, 1px);height: 1px;margin: -1px;overflow: hidden;padding: 0;position: absolute;width: 1px;}#sk-container-id-3 div.sk-estimator {font-family: monospace;background-color: #f0f8ff;border: 1px dotted black;border-radius: 0.25em;box-sizing: border-box;margin-bottom: 0.5em;}#sk-container-id-3 div.sk-estimator:hover {background-color: #d4ebff;}#sk-container-id-3 div.sk-parallel-item::after {content: \"\";width: 100%;border-bottom: 1px solid gray;flex-grow: 1;}#sk-container-id-3 div.sk-label:hover label.sk-toggleable__label {background-color: #d4ebff;}#sk-container-id-3 div.sk-serial::before {content: \"\";position: absolute;border-left: 1px solid gray;box-sizing: border-box;top: 0;bottom: 0;left: 50%;z-index: 0;}#sk-container-id-3 div.sk-serial {display: flex;flex-direction: column;align-items: center;background-color: white;padding-right: 0.2em;padding-left: 0.2em;position: relative;}#sk-container-id-3 div.sk-item {position: relative;z-index: 1;}#sk-container-id-3 div.sk-parallel {display: flex;align-items: stretch;justify-content: center;background-color: white;position: relative;}#sk-container-id-3 div.sk-item::before, #sk-container-id-3 div.sk-parallel-item::before {content: \"\";position: absolute;border-left: 1px solid gray;box-sizing: border-box;top: 0;bottom: 0;left: 50%;z-index: -1;}#sk-container-id-3 div.sk-parallel-item {display: flex;flex-direction: column;z-index: 1;position: relative;background-color: white;}#sk-container-id-3 div.sk-parallel-item:first-child::after {align-self: flex-end;width: 50%;}#sk-container-id-3 div.sk-parallel-item:last-child::after {align-self: flex-start;width: 50%;}#sk-container-id-3 div.sk-parallel-item:only-child::after {width: 0;}#sk-container-id-3 div.sk-dashed-wrapped {border: 1px dashed gray;margin: 0 0.4em 0.5em 0.4em;box-sizing: border-box;padding-bottom: 0.4em;background-color: white;}#sk-container-id-3 div.sk-label label {font-family: monospace;font-weight: bold;display: inline-block;line-height: 1.2em;}#sk-container-id-3 div.sk-label-container {text-align: center;}#sk-container-id-3 div.sk-container {/* jupyter's `normalize.less` sets `[hidden] { display: none; }` but bootstrap.min.css set `[hidden] { display: none !important; }` so we also need the `!important` here to be able to override the default hidden behavior on the sphinx rendered scikit-learn.org. See: https://github.com/scikit-learn/scikit-learn/issues/21755 */display: inline-block !important;position: relative;}#sk-container-id-3 div.sk-text-repr-fallback {display: none;}</style><div id=\"sk-container-id-3\" class=\"sk-top-container\"><div class=\"sk-text-repr-fallback\"><pre>GradientBoostingRegressor(random_state=42)</pre><b>In a Jupyter environment, please rerun this cell to show the HTML representation or trust the notebook. <br />On GitHub, the HTML representation is unable to render, please try loading this page with nbviewer.org.</b></div><div class=\"sk-container\" hidden><div class=\"sk-item\"><div class=\"sk-estimator sk-toggleable\"><input class=\"sk-toggleable__control sk-hidden--visually\" id=\"sk-estimator-id-3\" type=\"checkbox\" checked><label for=\"sk-estimator-id-3\" class=\"sk-toggleable__label sk-toggleable__label-arrow\">GradientBoostingRegressor</label><div class=\"sk-toggleable__content\"><pre>GradientBoostingRegressor(random_state=42)</pre></div></div></div></div></div>"
            ]
          },
          "metadata": {},
          "execution_count": 68
        }
      ]
    },
    {
      "cell_type": "code",
      "source": [
        "evaluate(xgb, X_test, y_test) #0,955 --> skaliert 0,955"
      ],
      "metadata": {
        "id": "y72MebZO43aL",
        "colab": {
          "base_uri": "https://localhost:8080/",
          "height": 312
        },
        "outputId": "b8951760-8f9e-4d07-e5ba-6d014016f910"
      },
      "execution_count": null,
      "outputs": [
        {
          "output_type": "error",
          "ename": "ValueError",
          "evalue": "ignored",
          "traceback": [
            "\u001b[0;31m---------------------------------------------------------------------------\u001b[0m",
            "\u001b[0;31mValueError\u001b[0m                                Traceback (most recent call last)",
            "\u001b[0;32m<ipython-input-66-c08f8376be23>\u001b[0m in \u001b[0;36m<cell line: 1>\u001b[0;34m()\u001b[0m\n\u001b[0;32m----> 1\u001b[0;31m \u001b[0mevaluate\u001b[0m\u001b[0;34m(\u001b[0m\u001b[0mxgb\u001b[0m\u001b[0;34m,\u001b[0m \u001b[0mX_test\u001b[0m\u001b[0;34m,\u001b[0m \u001b[0my_test\u001b[0m\u001b[0;34m)\u001b[0m \u001b[0;31m#0,955 --> skaliert 0,955\u001b[0m\u001b[0;34m\u001b[0m\u001b[0;34m\u001b[0m\u001b[0m\n\u001b[0m",
            "\u001b[0;32m<ipython-input-44-28824aa4d214>\u001b[0m in \u001b[0;36mevaluate\u001b[0;34m(clf, X_test, y_true)\u001b[0m\n\u001b[1;32m      3\u001b[0m \u001b[0;32mdef\u001b[0m \u001b[0mevaluate\u001b[0m\u001b[0;34m(\u001b[0m\u001b[0mclf\u001b[0m\u001b[0;34m,\u001b[0m \u001b[0mX_test\u001b[0m\u001b[0;34m,\u001b[0m \u001b[0my_true\u001b[0m\u001b[0;34m)\u001b[0m\u001b[0;34m:\u001b[0m \u001b[0;31m#clf = classifier; X_test = neue Variable\u001b[0m\u001b[0;34m\u001b[0m\u001b[0;34m\u001b[0m\u001b[0m\n\u001b[1;32m      4\u001b[0m   \u001b[0my_pred\u001b[0m \u001b[0;34m=\u001b[0m \u001b[0mclf\u001b[0m\u001b[0;34m.\u001b[0m\u001b[0mpredict\u001b[0m\u001b[0;34m(\u001b[0m\u001b[0mX_test\u001b[0m\u001b[0;34m)\u001b[0m\u001b[0;34m\u001b[0m\u001b[0;34m\u001b[0m\u001b[0m\n\u001b[0;32m----> 5\u001b[0;31m   \u001b[0mprint\u001b[0m\u001b[0;34m(\u001b[0m\u001b[0mclassification_report\u001b[0m\u001b[0;34m(\u001b[0m\u001b[0my_true\u001b[0m\u001b[0;34m,\u001b[0m \u001b[0my_pred\u001b[0m\u001b[0;34m)\u001b[0m\u001b[0;34m)\u001b[0m \u001b[0;31m#performance von modell evaluieren\u001b[0m\u001b[0;34m\u001b[0m\u001b[0;34m\u001b[0m\u001b[0m\n\u001b[0m",
            "\u001b[0;32m/usr/local/lib/python3.10/dist-packages/sklearn/metrics/_classification.py\u001b[0m in \u001b[0;36mclassification_report\u001b[0;34m(y_true, y_pred, labels, target_names, sample_weight, digits, output_dict, zero_division)\u001b[0m\n\u001b[1;32m   2308\u001b[0m     \"\"\"\n\u001b[1;32m   2309\u001b[0m \u001b[0;34m\u001b[0m\u001b[0m\n\u001b[0;32m-> 2310\u001b[0;31m     \u001b[0my_type\u001b[0m\u001b[0;34m,\u001b[0m \u001b[0my_true\u001b[0m\u001b[0;34m,\u001b[0m \u001b[0my_pred\u001b[0m \u001b[0;34m=\u001b[0m \u001b[0m_check_targets\u001b[0m\u001b[0;34m(\u001b[0m\u001b[0my_true\u001b[0m\u001b[0;34m,\u001b[0m \u001b[0my_pred\u001b[0m\u001b[0;34m)\u001b[0m\u001b[0;34m\u001b[0m\u001b[0;34m\u001b[0m\u001b[0m\n\u001b[0m\u001b[1;32m   2311\u001b[0m \u001b[0;34m\u001b[0m\u001b[0m\n\u001b[1;32m   2312\u001b[0m     \u001b[0;32mif\u001b[0m \u001b[0mlabels\u001b[0m \u001b[0;32mis\u001b[0m \u001b[0;32mNone\u001b[0m\u001b[0;34m:\u001b[0m\u001b[0;34m\u001b[0m\u001b[0;34m\u001b[0m\u001b[0m\n",
            "\u001b[0;32m/usr/local/lib/python3.10/dist-packages/sklearn/metrics/_classification.py\u001b[0m in \u001b[0;36m_check_targets\u001b[0;34m(y_true, y_pred)\u001b[0m\n\u001b[1;32m     93\u001b[0m \u001b[0;34m\u001b[0m\u001b[0m\n\u001b[1;32m     94\u001b[0m     \u001b[0;32mif\u001b[0m \u001b[0mlen\u001b[0m\u001b[0;34m(\u001b[0m\u001b[0my_type\u001b[0m\u001b[0;34m)\u001b[0m \u001b[0;34m>\u001b[0m \u001b[0;36m1\u001b[0m\u001b[0;34m:\u001b[0m\u001b[0;34m\u001b[0m\u001b[0;34m\u001b[0m\u001b[0m\n\u001b[0;32m---> 95\u001b[0;31m         raise ValueError(\n\u001b[0m\u001b[1;32m     96\u001b[0m             \"Classification metrics can't handle a mix of {0} and {1} targets\".format(\n\u001b[1;32m     97\u001b[0m                 \u001b[0mtype_true\u001b[0m\u001b[0;34m,\u001b[0m \u001b[0mtype_pred\u001b[0m\u001b[0;34m\u001b[0m\u001b[0;34m\u001b[0m\u001b[0m\n",
            "\u001b[0;31mValueError\u001b[0m: Classification metrics can't handle a mix of multiclass and continuous targets"
          ]
        }
      ]
    },
    {
      "cell_type": "code",
      "source": [
        "feature_importance = xgb.feature_importances_\n",
        "\n",
        "# get indices sorted by importance\n",
        "sorted_idx = np.argsort(feature_importance)\n",
        "\n",
        "# generate range from 0 to the number of features\n",
        "pos = np.arange(sorted_idx.shape[0])\n",
        "\n",
        "# 'pos' acts as our value for the 'y' axis\n",
        "plt.barh(pos, feature_importance[sorted_idx], align='center')\n",
        "\n",
        "plt.yticks(pos, np.array(X.columns)[sorted_idx])\n",
        "plt.title('Feature Importance (MDI)')\n",
        "plt.show()"
      ],
      "metadata": {
        "id": "v75P1MNgCQj7",
        "colab": {
          "base_uri": "https://localhost:8080/",
          "height": 452
        },
        "outputId": "523c19b9-fecb-4c4a-9a47-db99bf2297eb"
      },
      "execution_count": null,
      "outputs": [
        {
          "output_type": "display_data",
          "data": {
            "text/plain": [
              "<Figure size 640x480 with 1 Axes>"
            ],
            "image/png": "[encoded data removed]"
          },
          "metadata": {}
        }
      ]
    },
    {
      "cell_type": "markdown",
      "source": [
        "#####**Hyperparameter Tuning**"
      ],
      "metadata": {
        "id": "FMiSKao18buS"
      }
    },
    {
      "cell_type": "code",
      "source": [
        "from sklearn.model_selection import RandomizedSearchCV"
      ],
      "metadata": {
        "id": "E3bW7mIH8g1y"
      },
      "execution_count": null,
      "outputs": []
    },
    {
      "cell_type": "code",
      "source": [
        "grid = {'learning_rate': [0.15, 0.1, 0.05, 0.01, 0.005, 0.001],\n",
        "        'n_estimators': [100, 250, 500, 750, 1000, 1250, 1500, 1750],\n",
        "        'max_depth': [2, 3, 4, 5, 6, 7]}"
      ],
      "metadata": {
        "id": "xHPu7wT18g2D"
      },
      "execution_count": null,
      "outputs": []
    },
    {
      "cell_type": "code",
      "source": [
        "optimized_xgb = RandomizedSearchCV(xgb, grid, n_iter=3, n_jobs=-1, random_state=42, verbose=3)\n",
        "optimized_xgb.fit(X_train, y_train)"
      ],
      "metadata": {
        "id": "r2dAwVCL8g2E",
        "colab": {
          "base_uri": "https://localhost:8080/",
          "height": 135
        },
        "outputId": "3a03439c-b054-42da-d94e-575876495c84"
      },
      "execution_count": null,
      "outputs": [
        {
          "output_type": "stream",
          "name": "stdout",
          "text": [
            "Fitting 5 folds for each of 3 candidates, totalling 15 fits\n"
          ]
        },
        {
          "output_type": "execute_result",
          "data": {
            "text/plain": [
              "RandomizedSearchCV(estimator=GradientBoostingRegressor(random_state=42),\n",
              "                   n_iter=3, n_jobs=-1,\n",
              "                   param_distributions={'learning_rate': [0.15, 0.1, 0.05, 0.01,\n",
              "                                                          0.005, 0.001],\n",
              "                                        'max_depth': [2, 3, 4, 5, 6, 7],\n",
              "                                        'n_estimators': [100, 250, 500, 750,\n",
              "                                                         1000, 1250, 1500,\n",
              "                                                         1750]},\n",
              "                   random_state=42, verbose=3)"
            ],
            "text/html": [
              "<style>#sk-container-id-4 {color: black;background-color: white;}#sk-container-id-4 pre{padding: 0;}#sk-container-id-4 div.sk-toggleable {background-color: white;}#sk-container-id-4 label.sk-toggleable__label {cursor: pointer;display: block;width: 100%;margin-bottom: 0;padding: 0.3em;box-sizing: border-box;text-align: center;}#sk-container-id-4 label.sk-toggleable__label-arrow:before {content: \"▸\";float: left;margin-right: 0.25em;color: #696969;}#sk-container-id-4 label.sk-toggleable__label-arrow:hover:before {color: black;}#sk-container-id-4 div.sk-estimator:hover label.sk-toggleable__label-arrow:before {color: black;}#sk-container-id-4 div.sk-toggleable__content {max-height: 0;max-width: 0;overflow: hidden;text-align: left;background-color: #f0f8ff;}#sk-container-id-4 div.sk-toggleable__content pre {margin: 0.2em;color: black;border-radius: 0.25em;background-color: #f0f8ff;}#sk-container-id-4 input.sk-toggleable__control:checked~div.sk-toggleable__content {max-height: 200px;max-width: 100%;overflow: auto;}#sk-container-id-4 input.sk-toggleable__control:checked~label.sk-toggleable__label-arrow:before {content: \"▾\";}#sk-container-id-4 div.sk-estimator input.sk-toggleable__control:checked~label.sk-toggleable__label {background-color: #d4ebff;}#sk-container-id-4 div.sk-label input.sk-toggleable__control:checked~label.sk-toggleable__label {background-color: #d4ebff;}#sk-container-id-4 input.sk-hidden--visually {border: 0;clip: rect(1px 1px 1px 1px);clip: rect(1px, 1px, 1px, 1px);height: 1px;margin: -1px;overflow: hidden;padding: 0;position: absolute;width: 1px;}#sk-container-id-4 div.sk-estimator {font-family: monospace;background-color: #f0f8ff;border: 1px dotted black;border-radius: 0.25em;box-sizing: border-box;margin-bottom: 0.5em;}#sk-container-id-4 div.sk-estimator:hover {background-color: #d4ebff;}#sk-container-id-4 div.sk-parallel-item::after {content: \"\";width: 100%;border-bottom: 1px solid gray;flex-grow: 1;}#sk-container-id-4 div.sk-label:hover label.sk-toggleable__label {background-color: #d4ebff;}#sk-container-id-4 div.sk-serial::before {content: \"\";position: absolute;border-left: 1px solid gray;box-sizing: border-box;top: 0;bottom: 0;left: 50%;z-index: 0;}#sk-container-id-4 div.sk-serial {display: flex;flex-direction: column;align-items: center;background-color: white;padding-right: 0.2em;padding-left: 0.2em;position: relative;}#sk-container-id-4 div.sk-item {position: relative;z-index: 1;}#sk-container-id-4 div.sk-parallel {display: flex;align-items: stretch;justify-content: center;background-color: white;position: relative;}#sk-container-id-4 div.sk-item::before, #sk-container-id-4 div.sk-parallel-item::before {content: \"\";position: absolute;border-left: 1px solid gray;box-sizing: border-box;top: 0;bottom: 0;left: 50%;z-index: -1;}#sk-container-id-4 div.sk-parallel-item {display: flex;flex-direction: column;z-index: 1;position: relative;background-color: white;}#sk-container-id-4 div.sk-parallel-item:first-child::after {align-self: flex-end;width: 50%;}#sk-container-id-4 div.sk-parallel-item:last-child::after {align-self: flex-start;width: 50%;}#sk-container-id-4 div.sk-parallel-item:only-child::after {width: 0;}#sk-container-id-4 div.sk-dashed-wrapped {border: 1px dashed gray;margin: 0 0.4em 0.5em 0.4em;box-sizing: border-box;padding-bottom: 0.4em;background-color: white;}#sk-container-id-4 div.sk-label label {font-family: monospace;font-weight: bold;display: inline-block;line-height: 1.2em;}#sk-container-id-4 div.sk-label-container {text-align: center;}#sk-container-id-4 div.sk-container {/* jupyter's `normalize.less` sets `[hidden] { display: none; }` but bootstrap.min.css set `[hidden] { display: none !important; }` so we also need the `!important` here to be able to override the default hidden behavior on the sphinx rendered scikit-learn.org. See: https://github.com/scikit-learn/scikit-learn/issues/21755 */display: inline-block !important;position: relative;}#sk-container-id-4 div.sk-text-repr-fallback {display: none;}</style><div id=\"sk-container-id-4\" class=\"sk-top-container\"><div class=\"sk-text-repr-fallback\"><pre>RandomizedSearchCV(estimator=GradientBoostingRegressor(random_state=42),\n",
              "                   n_iter=3, n_jobs=-1,\n",
              "                   param_distributions={&#x27;learning_rate&#x27;: [0.15, 0.1, 0.05, 0.01,\n",
              "                                                          0.005, 0.001],\n",
              "                                        &#x27;max_depth&#x27;: [2, 3, 4, 5, 6, 7],\n",
              "                                        &#x27;n_estimators&#x27;: [100, 250, 500, 750,\n",
              "                                                         1000, 1250, 1500,\n",
              "                                                         1750]},\n",
              "                   random_state=42, verbose=3)</pre><b>In a Jupyter environment, please rerun this cell to show the HTML representation or trust the notebook. <br />On GitHub, the HTML representation is unable to render, please try loading this page with nbviewer.org.</b></div><div class=\"sk-container\" hidden><div class=\"sk-item sk-dashed-wrapped\"><div class=\"sk-label-container\"><div class=\"sk-label sk-toggleable\"><input class=\"sk-toggleable__control sk-hidden--visually\" id=\"sk-estimator-id-4\" type=\"checkbox\" ><label for=\"sk-estimator-id-4\" class=\"sk-toggleable__label sk-toggleable__label-arrow\">RandomizedSearchCV</label><div class=\"sk-toggleable__content\"><pre>RandomizedSearchCV(estimator=GradientBoostingRegressor(random_state=42),\n",
              "                   n_iter=3, n_jobs=-1,\n",
              "                   param_distributions={&#x27;learning_rate&#x27;: [0.15, 0.1, 0.05, 0.01,\n",
              "                                                          0.005, 0.001],\n",
              "                                        &#x27;max_depth&#x27;: [2, 3, 4, 5, 6, 7],\n",
              "                                        &#x27;n_estimators&#x27;: [100, 250, 500, 750,\n",
              "                                                         1000, 1250, 1500,\n",
              "                                                         1750]},\n",
              "                   random_state=42, verbose=3)</pre></div></div></div><div class=\"sk-parallel\"><div class=\"sk-parallel-item\"><div class=\"sk-item\"><div class=\"sk-label-container\"><div class=\"sk-label sk-toggleable\"><input class=\"sk-toggleable__control sk-hidden--visually\" id=\"sk-estimator-id-5\" type=\"checkbox\" ><label for=\"sk-estimator-id-5\" class=\"sk-toggleable__label sk-toggleable__label-arrow\">estimator: GradientBoostingRegressor</label><div class=\"sk-toggleable__content\"><pre>GradientBoostingRegressor(random_state=42)</pre></div></div></div><div class=\"sk-serial\"><div class=\"sk-item\"><div class=\"sk-estimator sk-toggleable\"><input class=\"sk-toggleable__control sk-hidden--visually\" id=\"sk-estimator-id-6\" type=\"checkbox\" ><label for=\"sk-estimator-id-6\" class=\"sk-toggleable__label sk-toggleable__label-arrow\">GradientBoostingRegressor</label><div class=\"sk-toggleable__content\"><pre>GradientBoostingRegressor(random_state=42)</pre></div></div></div></div></div></div></div></div></div></div>"
            ]
          },
          "metadata": {},
          "execution_count": 71
        }
      ]
    },
    {
      "cell_type": "code",
      "source": [
        "optimized_xgb.best_params_"
      ],
      "metadata": {
        "id": "gCrzcWWa8g2E",
        "colab": {
          "base_uri": "https://localhost:8080/"
        },
        "outputId": "1a8c0b1f-bb44-4a7c-c09f-ef4965c9cdbd"
      },
      "execution_count": null,
      "outputs": [
        {
          "output_type": "execute_result",
          "data": {
            "text/plain": [
              "{'n_estimators': 1250, 'max_depth': 7, 'learning_rate': 0.15}"
            ]
          },
          "metadata": {},
          "execution_count": 72
        }
      ]
    },
    {
      "cell_type": "code",
      "source": [
        "evaluate(optimized_xgb, X_test, y_test) #0,96"
      ],
      "metadata": {
        "id": "DBnrCh0G8g2E"
      },
      "execution_count": null,
      "outputs": []
    },
    {
      "cell_type": "markdown",
      "source": [
        "#####**Error Analysis**"
      ],
      "metadata": {
        "id": "7O82XqUDEAd1"
      }
    },
    {
      "cell_type": "code",
      "source": [
        "import matplotlib.pyplot as plt\n",
        "import numpy as np"
      ],
      "metadata": {
        "id": "NPGsQsRWFLLz"
      },
      "execution_count": null,
      "outputs": []
    },
    {
      "cell_type": "code",
      "source": [
        "# get best xgb model (after hyperparam tuning)\n",
        "best_xgb = optimized_xgb.best_estimator_\n",
        "# staged_predict returns the error after each stage in the model\n",
        "predictions = best_xgb.staged_predict(X_test)\n",
        "# how many estimators were used for the model\n",
        "n_estimators = optimized_xgb.best_params_['n_estimators']"
      ],
      "metadata": {
        "id": "5Q5vQLTuFNbu"
      },
      "execution_count": null,
      "outputs": []
    },
    {
      "cell_type": "code",
      "source": [
        "# calculate deviance (error) for all examples in test set\n",
        "test_score = np.zeros((n_estimators,), dtype=np.float64)\n",
        "for i, y_pred in enumerate(predictions):\n",
        "    test_score[i] = best_xgb.loss_(y_test, y_pred)\n",
        "    fig = plt.figure(figsize=(6, 6))\n",
        "plt.subplot(1, 1, 1)\n",
        "plt.title('Deviance')\n",
        "plt.plot(np.arange(n_estimators) + 1, best_xgb.train_score_, 'b-',\n",
        "         label='Training Set Deviance')\n",
        "plt.plot(np.arange(n_estimators) + 1, test_score, 'r-',\n",
        "         label='Test Set Deviance')\n",
        "plt.legend(loc='upper right')\n",
        "plt.xlabel('Boosting Iterations')\n",
        "plt.ylabel('Deviance')\n",
        "fig.tight_layout()\n",
        "plt.show()"
      ],
      "metadata": {
        "id": "yQ_rk0HCFRyN"
      },
      "execution_count": null,
      "outputs": []
    },
    {
      "cell_type": "code",
      "source": [
        "predictions = best_xgb.predict(X_test)\n",
        "df_with_predictions = pd.concat([X_test, y_test], axis='columns')\n",
        "df_with_predictions = pd.concat([df_with_predictions, pd.DataFrame(predictions, columns=['Prediction'], index=df_with_predictions.index)], axis=1)"
      ],
      "metadata": {
        "id": "o8sKUZZI8cid"
      },
      "execution_count": null,
      "outputs": []
    },
    {
      "cell_type": "code",
      "source": [
        "df_with_predictions['pred_diff'] = np.abs(df_with_predictions['Life expectancy'] - df_with_predictions.Prediction)"
      ],
      "metadata": {
        "id": "3OYLdX8iE03k"
      },
      "execution_count": null,
      "outputs": []
    },
    {
      "cell_type": "code",
      "source": [
        "df_with_predictions.pred_diff.plot(kind='hist')"
      ],
      "metadata": {
        "id": "QWyqkQB3E2c3"
      },
      "execution_count": null,
      "outputs": []
    },
    {
      "cell_type": "markdown",
      "source": [
        "###**Gesamtvergleich der Methoden**\n"
      ],
      "metadata": {
        "id": "zXxru5wzF02D"
      }
    },
    {
      "cell_type": "code",
      "source": [
        "#evaluate(linear_scaled, X_test, y_test)\n",
        "#score = ridge_best.score(X_test, y_test)\n",
        "#evaluate(optimized_tree, X_test, y_test)\n",
        "#optimized_xgb.fit(X_train, y_train)"
      ],
      "metadata": {
        "id": "BowEb40AGQma"
      },
      "execution_count": null,
      "outputs": []
    },
    {
      "cell_type": "markdown",
      "source": [
        "####**Test auf Signifikanz**"
      ],
      "metadata": {
        "id": "6_UoU7feDC9k"
      }
    },
    {
      "cell_type": "markdown",
      "source": [
        "Das Gradient Boosting Modell erklärt mit x% nach dem Hyperparameter-Tuning die größte Varianz aller hier durchgeführten Modelle.\n",
        "Deshalb wollen wir dieses Modell etwas genauer anschauen und testen im Folgenden, welche Variablen einen signifikanten Einfluss auf den Customer Lifetime Value haben. Die signifikanten Variablen können von dem Unternehmen gezielt gesteuert werden, um den Customer Lifetime Value möglichst positiv zu beeinflussen.\n"
      ],
      "metadata": {
        "id": "R5d_fPinDGAb"
      }
    },
    {
      "cell_type": "code",
      "source": [
        "import scipy.stats as stats\n",
        "from tabulate import tabulate\n",
        "\n",
        "y_pred = optimized_xgb.best_estimator_.predict(X_test)\n",
        "residuals = y_test - y_pred\n",
        "results = []\n",
        "for feature in X.columns:\n",
        "    feature_values = X[feature]\n",
        "    coefficient = optimized_xgb.best_estimator_.feature_importances_[X.columns.get_loc(feature)]\n",
        "    standard_error = np.sqrt(np.mean(residuals**2)) / np.sqrt(np.sum((feature_values - feature_values.mean())**2))\n",
        "    t_value = coefficient / standard_error\n",
        "    degrees_of_freedom = len(y_test) - 2\n",
        "    p_value = 2 * (1 - stats.t.cdf(np.abs(t_value), degrees_of_freedom))\n",
        "    results.append([feature, coefficient, standard_error, t_value, p_value])\n",
        "headers = [\"Feature\", \"Coefficient\", \"Standard Error\", \"t-Value\", \"p-Value\"]\n",
        "print(tabulate(results, headers=headers, tablefmt=\"fancy_grid\"))"
      ],
      "metadata": {
        "id": "TEzL1aKG1IWJ",
        "colab": {
          "base_uri": "https://localhost:8080/"
        },
        "outputId": "249ebb8f-7d4a-46db-9cd2-58a464d3c3ef"
      },
      "execution_count": null,
      "outputs": [
        {
          "output_type": "stream",
          "name": "stdout",
          "text": [
            "╒════════════════════════════════╤═══════════════╤══════════════════╤═══════════════╤═════════════╕\n",
            "│ Feature                        │   Coefficient │   Standard Error │       t-Value │     p-Value │\n",
            "╞════════════════════════════════╪═══════════════╪══════════════════╪═══════════════╪═════════════╡\n",
            "│ Coverage                       │   0.000197006 │       0.00226431 │   0.0870049   │ 0.930677    │\n",
            "├────────────────────────────────┼───────────────┼──────────────────┼───────────────┼─────────────┤\n",
            "│ Education                      │   0.00162542  │       0.00226431 │   0.717846    │ 0.472944    │\n",
            "├────────────────────────────────┼───────────────┼──────────────────┼───────────────┼─────────────┤\n",
            "│ Income                         │   0.0151966   │       0.00226431 │   6.71136     │ 2.56533e-11 │\n",
            "├────────────────────────────────┼───────────────┼──────────────────┼───────────────┼─────────────┤\n",
            "│ Location_Code                  │   0.000402549 │       0.00226431 │   0.17778     │ 0.858915    │\n",
            "├────────────────────────────────┼───────────────┼──────────────────┼───────────────┼─────────────┤\n",
            "│ Monthly_Premium_Auto           │   0.274699    │       0.00226431 │ 121.317       │ 0           │\n",
            "├────────────────────────────────┼───────────────┼──────────────────┼───────────────┼─────────────┤\n",
            "│ Months_Since_Last_Claim        │   0.0035421   │       0.00226431 │   1.56432     │ 0.117916    │\n",
            "├────────────────────────────────┼───────────────┼──────────────────┼───────────────┼─────────────┤\n",
            "│ Months_Since_Policy_Inception  │   0.00476659  │       0.00226431 │   2.1051      │ 0.0354192   │\n",
            "├────────────────────────────────┼───────────────┼──────────────────┼───────────────┼─────────────┤\n",
            "│ Number_of_Open_Complaints      │   0.00237715  │       0.00226431 │   1.04984     │ 0.293933    │\n",
            "├────────────────────────────────┼───────────────┼──────────────────┼───────────────┼─────────────┤\n",
            "│ Number_of_Policies             │   0.680104    │       0.00226431 │ 300.359       │ 0           │\n",
            "├────────────────────────────────┼───────────────┼──────────────────┼───────────────┼─────────────┤\n",
            "│ Vehicle_Size                   │   0.000676217 │       0.00226431 │   0.298642    │ 0.765247    │\n",
            "├────────────────────────────────┼───────────────┼──────────────────┼───────────────┼─────────────┤\n",
            "│ State_Arizona                  │   0.000306442 │       0.00581387 │   0.0527088   │ 0.95797     │\n",
            "├────────────────────────────────┼───────────────┼──────────────────┼───────────────┼─────────────┤\n",
            "│ State_California               │   0.000373935 │       0.00476371 │   0.0784966   │ 0.937442    │\n",
            "├────────────────────────────────┼───────────────┼──────────────────┼───────────────┼─────────────┤\n",
            "│ State_Nevada                   │   0.00038345  │       0.00766624 │   0.050018    │ 0.960114    │\n",
            "├────────────────────────────────┼───────────────┼──────────────────┼───────────────┼─────────────┤\n",
            "│ State_Oregon                   │   0.000241395 │       0.0050173  │   0.0481126   │ 0.961632    │\n",
            "├────────────────────────────────┼───────────────┼──────────────────┼───────────────┼─────────────┤\n",
            "│ EmploymentStatus_Disabled      │   0.000180123 │       0.0109998  │   0.016375    │ 0.986937    │\n",
            "├────────────────────────────────┼───────────────┼──────────────────┼───────────────┼─────────────┤\n",
            "│ EmploymentStatus_Employed      │   0.00564524  │       0.00467421 │   1.20774     │ 0.227304    │\n",
            "├────────────────────────────────┼───────────────┼──────────────────┼───────────────┼─────────────┤\n",
            "│ EmploymentStatus_Medical Leave │   0.000175208 │       0.0106671  │   0.0164252   │ 0.986897    │\n",
            "├────────────────────────────────┼───────────────┼──────────────────┼───────────────┼─────────────┤\n",
            "│ EmploymentStatus_Retired       │   0.000214329 │       0.0130903  │   0.0163731   │ 0.986939    │\n",
            "├────────────────────────────────┼───────────────┼──────────────────┼───────────────┼─────────────┤\n",
            "│ Gender_F                       │   0.000534163 │       0.00452951 │   0.11793     │ 0.906136    │\n",
            "├────────────────────────────────┼───────────────┼──────────────────┼───────────────┼─────────────┤\n",
            "│ Marital_Status_Divorced        │   0.000326704 │       0.00634343 │   0.0515028   │ 0.958931    │\n",
            "├────────────────────────────────┼───────────────┼──────────────────┼───────────────┼─────────────┤\n",
            "│ Marital_Status_Married         │   0.00184734  │       0.00458776 │   0.402668    │ 0.68724     │\n",
            "├────────────────────────────────┼───────────────┼──────────────────┼───────────────┼─────────────┤\n",
            "│ Policy_Type_Corporate Auto     │   6.57034e-05 │       0.00550738 │   0.0119301   │ 0.990483    │\n",
            "├────────────────────────────────┼───────────────┼──────────────────┼───────────────┼─────────────┤\n",
            "│ Policy_Type_Personal Auto      │   0.000125692 │       0.00518276 │   0.024252    │ 0.980654    │\n",
            "├────────────────────────────────┼───────────────┼──────────────────┼───────────────┼─────────────┤\n",
            "│ Policy_Corporate L1            │   0.000311377 │       0.0116527  │   0.0267215   │ 0.978685    │\n",
            "├────────────────────────────────┼───────────────┼──────────────────┼───────────────┼─────────────┤\n",
            "│ Policy_Corporate L2            │   0.000169596 │       0.0091756  │   0.0184833   │ 0.985255    │\n",
            "├────────────────────────────────┼───────────────┼──────────────────┼───────────────┼─────────────┤\n",
            "│ Policy_Corporate L3            │   0.000193681 │       0.00720774 │   0.0268712   │ 0.978565    │\n",
            "├────────────────────────────────┼───────────────┼──────────────────┼───────────────┼─────────────┤\n",
            "│ Policy_Personal L1             │   0.000393221 │       0.00661054 │   0.059484    │ 0.952573    │\n",
            "├────────────────────────────────┼───────────────┼──────────────────┼───────────────┼─────────────┤\n",
            "│ Policy_Personal L2             │   0.00030854  │       0.0053617  │   0.0575451   │ 0.954117    │\n",
            "├────────────────────────────────┼───────────────┼──────────────────┼───────────────┼─────────────┤\n",
            "│ Policy_Personal L3             │   0.000224323 │       0.00467693 │   0.0479637   │ 0.96175     │\n",
            "├────────────────────────────────┼───────────────┼──────────────────┼───────────────┼─────────────┤\n",
            "│ Policy_Special L1              │   5.1803e-05  │       0.0267343  │   0.0019377   │ 0.998454    │\n",
            "├────────────────────────────────┼───────────────┼──────────────────┼───────────────┼─────────────┤\n",
            "│ Policy_Special L2              │   0.000207285 │       0.0170521  │   0.012156    │ 0.990302    │\n",
            "├────────────────────────────────┼───────────────┼──────────────────┼───────────────┼─────────────┤\n",
            "│ Renew_Offer_Type_Offer1        │   0.000486265 │       0.00460249 │   0.105653    │ 0.91587     │\n",
            "├────────────────────────────────┼───────────────┼──────────────────┼───────────────┼─────────────┤\n",
            "│ Renew_Offer_Type_Offer2        │   0.000372937 │       0.0048527  │   0.0768514   │ 0.93875     │\n",
            "├────────────────────────────────┼───────────────┼──────────────────┼───────────────┼─────────────┤\n",
            "│ Renew_Offer_Type_Offer3        │   0.000318469 │       0.00622763 │   0.051138    │ 0.959221    │\n",
            "├────────────────────────────────┼───────────────┼──────────────────┼───────────────┼─────────────┤\n",
            "│ Sales_Channel_Agent            │   0.00028955  │       0.00466338 │   0.0620902   │ 0.950498    │\n",
            "├────────────────────────────────┼───────────────┼──────────────────┼───────────────┼─────────────┤\n",
            "│ Sales_Channel_Branch           │   0.000576321 │       0.00503732 │   0.11441     │ 0.908925    │\n",
            "├────────────────────────────────┼───────────────┼──────────────────┼───────────────┼─────────────┤\n",
            "│ Sales_Channel_Call Center      │   0.000315676 │       0.00573482 │   0.0550455   │ 0.956108    │\n",
            "├────────────────────────────────┼───────────────┼──────────────────┼───────────────┼─────────────┤\n",
            "│ Vehicle_Class_Four-Door Car    │   0.000610967 │       0.00452893 │   0.134903    │ 0.892703    │\n",
            "├────────────────────────────────┼───────────────┼──────────────────┼───────────────┼─────────────┤\n",
            "│ Vehicle_Class_Luxury Car       │   4.56116e-07 │       0.0171034  │   2.66682e-05 │ 0.999979    │\n",
            "├────────────────────────────────┼───────────────┼──────────────────┼───────────────┼─────────────┤\n",
            "│ Vehicle_Class_Luxury SUV       │   3.85636e-07 │       0.0161167  │   2.39277e-05 │ 0.999981    │\n",
            "├────────────────────────────────┼───────────────┼──────────────────┼───────────────┼─────────────┤\n",
            "│ Vehicle_Class_SUV              │   0.000161956 │       0.00569711 │   0.0284278   │ 0.977324    │\n",
            "├────────────────────────────────┼───────────────┼──────────────────┼───────────────┼─────────────┤\n",
            "│ Vehicle_Class_Sports Car       │   8.50415e-05 │       0.010108   │   0.00841328  │ 0.993288    │\n",
            "├────────────────────────────────┼───────────────┼──────────────────┼───────────────┼─────────────┤\n",
            "│ Response_No                    │   0.000915615 │       0.00646432 │   0.141641    │ 0.887379    │\n",
            "╘════════════════════════════════╧═══════════════╧══════════════════╧═══════════════╧═════════════╛\n"
          ]
        }
      ]
    },
    {
      "cell_type": "markdown",
      "source": [
        "Die signifikanten Variablen sind:"
      ],
      "metadata": {
        "id": "ftoYH_1YEaqv"
      }
    },
    {
      "cell_type": "markdown",
      "source": [
        "##Schritt 4: Clustering"
      ],
      "metadata": {
        "id": "sS0fBbOudcQF"
      }
    },
    {
      "cell_type": "markdown",
      "source": [
        "**Ziel des Clusterings:**\n",
        "Wir haben die Kunden bisher nur auf Basis ihres Customer Lifetime Values betrachtet und in Klassen einsortiert (sehr abwanderungsgefährdet bis überhaupt nicht abwanderungsgefährdet). Mit dem Clustering wollen wir nun herausfinden, nach welchen weiteren Eigenschaften die Kunden in Gruppen eingeteilt werden können.\n",
        "Ziel dieses Vorgehens ist es, eine gezieltere Kundenansprache auf Basis der Kundeneigenschaften zu ermöglichen und zudem \"Stellschrauben\" zu identifizieren, mit welchen das Unternehmen die Kundenbeziehung positiv beeinflussen kann.\n",
        "\n",
        "**Vorgehen:**\n",
        "Wir haben uns dazu entschieden, im Rahmen des Clusterings 2 Methoden miteinenader zu vergleichen: K-means und HDBSCAN."
      ],
      "metadata": {
        "id": "-C0XKX7inU92"
      }
    },
    {
      "cell_type": "markdown",
      "source": [
        "###**K-means**"
      ],
      "metadata": {
        "id": "tm_8TxU8sLrC"
      }
    },
    {
      "cell_type": "markdown",
      "source": [
        "Bei dem K-means Verfahren haben wir uns zur Identifikation der Anzahl der optimalen Cluster dazu entschieden, die Elbow Methode zu verwenden."
      ],
      "metadata": {
        "id": "rCgJiwZubVAF"
      }
    },
    {
      "cell_type": "code",
      "source": [
        "#Verwendeter Datensatz (erstellt im Abschnitt Data Preprocessing - Encoding)\n",
        "X_skaliert_ohneDummies_cluster.dtypes # mit CLV_churn ohne CLV"
      ],
      "metadata": {
        "id": "5A3V1o3Sio0s",
        "colab": {
          "base_uri": "https://localhost:8080/"
        },
        "outputId": "97ebb431-8335-4fd3-ecab-40caf575ddf9"
      },
      "execution_count": null,
      "outputs": [
        {
          "output_type": "execute_result",
          "data": {
            "text/plain": [
              "CLV_churn                         float64\n",
              "Coverage                          float64\n",
              "Education                         float64\n",
              "Income                            float64\n",
              "Location_Code                     float64\n",
              "Monthly_Premium_Auto              float64\n",
              "Months_Since_Last_Claim           float64\n",
              "Months_Since_Policy_Inception     float64\n",
              "Number_of_Open_Complaints         float64\n",
              "Number_of_Policies                float64\n",
              "Vehicle_Size                      float64\n",
              "State_Arizona                       uint8\n",
              "State_California                    uint8\n",
              "State_Nevada                        uint8\n",
              "State_Oregon                        uint8\n",
              "EmploymentStatus_Disabled           uint8\n",
              "EmploymentStatus_Employed           uint8\n",
              "EmploymentStatus_Medical Leave      uint8\n",
              "EmploymentStatus_Retired            uint8\n",
              "Gender_F                            uint8\n",
              "Marital_Status_Divorced             uint8\n",
              "Marital_Status_Married              uint8\n",
              "Policy_Type_Corporate Auto          uint8\n",
              "Policy_Type_Personal Auto           uint8\n",
              "Policy_Corporate L1                 uint8\n",
              "Policy_Corporate L2                 uint8\n",
              "Policy_Corporate L3                 uint8\n",
              "Policy_Personal L1                  uint8\n",
              "Policy_Personal L2                  uint8\n",
              "Policy_Personal L3                  uint8\n",
              "Policy_Special L1                   uint8\n",
              "Policy_Special L2                   uint8\n",
              "Renew_Offer_Type_Offer1             uint8\n",
              "Renew_Offer_Type_Offer2             uint8\n",
              "Renew_Offer_Type_Offer3             uint8\n",
              "Sales_Channel_Agent                 uint8\n",
              "Sales_Channel_Branch                uint8\n",
              "Sales_Channel_Call Center           uint8\n",
              "Vehicle_Class_Four-Door Car         uint8\n",
              "Vehicle_Class_Luxury Car            uint8\n",
              "Vehicle_Class_Luxury SUV            uint8\n",
              "Vehicle_Class_SUV                   uint8\n",
              "Vehicle_Class_Sports Car            uint8\n",
              "Response_No                         uint8\n",
              "dtype: object"
            ]
          },
          "metadata": {},
          "execution_count": 56
        }
      ]
    },
    {
      "cell_type": "code",
      "source": [
        "import pandas as pd\n",
        "import numpy as np\n",
        "import matplotlib.pyplot as plt\n",
        "from sklearn.cluster import KMeans\n",
        "from sklearn.preprocessing import StandardScaler"
      ],
      "metadata": {
        "id": "INS_25oOeBNI"
      },
      "execution_count": null,
      "outputs": []
    },
    {
      "cell_type": "code",
      "source": [
        "kmeans_kwargs = {\n",
        "\"init\": \"random\",\n",
        "\"n_init\": 10,\n",
        "\"random_state\": 1,\n",
        "}\n",
        "\n",
        "sse = []\n",
        "for k in range(1, 11):\n",
        "    kmeans = KMeans(n_clusters=k, **kmeans_kwargs)\n",
        "    kmeans.fit(X_skaliert_ohneDummies_cluster)\n",
        "    sse.append(kmeans.inertia_)\n",
        "\n",
        "plt.plot(range(1, 11), sse)\n",
        "plt.xticks(range(1, 11))\n",
        "plt.xlabel(\"Number of Clusters\")\n",
        "plt.ylabel(\"SSE\")\n",
        "plt.show()"
      ],
      "metadata": {
        "id": "XL7aziuidxDh",
        "colab": {
          "base_uri": "https://localhost:8080/",
          "height": 449
        },
        "outputId": "3b497029-405d-4a53-9144-9682bbc3401b"
      },
      "execution_count": null,
      "outputs": [
        {
          "output_type": "display_data",
          "data": {
            "text/plain": [
              "<Figure size 640x480 with 1 Axes>"
            ],
            "image/png": "[encoded data removed]"
          },
          "metadata": {}
        }
      ]
    },
    {
      "cell_type": "markdown",
      "source": [
        "Aus der Grafik lässt sich ablesen, dass **2** die optimale Anzahl an Clustern ist.\n",
        "\n",
        "Aufgrund dessen führen wir das folgende K-means Verfahren mit 2 Clustern durch:"
      ],
      "metadata": {
        "id": "qYTXU42guDmC"
      }
    },
    {
      "cell_type": "code",
      "source": [
        "kmeans = KMeans(init=\"random\", n_clusters=2, n_init=10, random_state=1)\n",
        "\n",
        "kmeans.fit(X_skaliert_ohneDummies_cluster)\n",
        "\n",
        "kmeans.labels_"
      ],
      "metadata": {
        "id": "-jejMUCseeX2",
        "colab": {
          "base_uri": "https://localhost:8080/"
        },
        "outputId": "2354cfb6-6f26-495f-fcc1-10ac5a44893c"
      },
      "execution_count": null,
      "outputs": [
        {
          "output_type": "execute_result",
          "data": {
            "text/plain": [
              "array([1, 0, 0, ..., 0, 0, 1], dtype=int32)"
            ]
          },
          "metadata": {},
          "execution_count": 59
        }
      ]
    },
    {
      "cell_type": "code",
      "source": [
        "#Das Array hängen wir an den unskalierten, bereits bereinigten Datensatz an (siehe Data Preprocessing - Endcoding)\n",
        "df_1[\"cluster\"] = kmeans.labels_\n",
        "\n",
        "print(df_1)"
      ],
      "metadata": {
        "id": "V8t90IDpsgNr",
        "colab": {
          "base_uri": "https://localhost:8080/"
        },
        "outputId": "593e8420-6f8d-4fa5-93d7-8fb6f8b658f2"
      },
      "execution_count": null,
      "outputs": [
        {
          "output_type": "stream",
          "name": "stdout",
          "text": [
            "      CLV_churn Customer       State  Customer_Lifetime_Value Response  \\\n",
            "0             0  BU79786  Washington              2763.519279       No   \n",
            "1             2  QZ44356     Arizona              6979.535903       No   \n",
            "2             3  AI49188      Nevada             12887.431650       No   \n",
            "3             2  WW63253  California              7645.861827       No   \n",
            "4             0  HB64268  Washington              2813.692575       No   \n",
            "...         ...      ...         ...                      ...      ...   \n",
            "9129          3  LA72316  California             23405.987980       No   \n",
            "9130          0  PK87824  California              3096.511217      Yes   \n",
            "9131          2  TD14365  California              8163.890428       No   \n",
            "9132          2  UP19263  California              7524.442436       No   \n",
            "9133          0  Y167826  California              2611.836866       No   \n",
            "\n",
            "      Coverage Education Effective_To_Date EmploymentStatus Gender  ...  \\\n",
            "0        Basic  Bachelor        2011-02-24         Employed      F  ...   \n",
            "1     Extended  Bachelor        2011-01-31       Unemployed      F  ...   \n",
            "2      Premium  Bachelor        2011-02-19         Employed      F  ...   \n",
            "3        Basic  Bachelor        2011-01-20       Unemployed      M  ...   \n",
            "4        Basic  Bachelor        2011-02-03         Employed      M  ...   \n",
            "...        ...       ...               ...              ...    ...  ...   \n",
            "9129     Basic  Bachelor        2011-02-10         Employed      M  ...   \n",
            "9130  Extended   College        2011-02-12         Employed      F  ...   \n",
            "9131  Extended  Bachelor        2011-02-06       Unemployed      M  ...   \n",
            "9132  Extended   College        2011-02-03         Employed      M  ...   \n",
            "9133  Extended   College        2011-02-14       Unemployed      M  ...   \n",
            "\n",
            "      Number_of_Open_Complaints Number_of_Policies     Policy_Type  \\\n",
            "0                             0                  1  Corporate Auto   \n",
            "1                             0                  8   Personal Auto   \n",
            "2                             0                  2   Personal Auto   \n",
            "3                             0                  7  Corporate Auto   \n",
            "4                             0                  1   Personal Auto   \n",
            "...                         ...                ...             ...   \n",
            "9129                          0                  2   Personal Auto   \n",
            "9130                          0                  1  Corporate Auto   \n",
            "9131                          3                  2  Corporate Auto   \n",
            "9132                          0                  3   Personal Auto   \n",
            "9133                          0                  1  Corporate Auto   \n",
            "\n",
            "            Policy  Renew_Offer_Type  Sales_Channel  Total_Claim_Amount  \\\n",
            "0     Corporate L3            Offer1          Agent          384.811147   \n",
            "1      Personal L3            Offer3          Agent         1131.464935   \n",
            "2      Personal L3            Offer1          Agent          566.472247   \n",
            "3     Corporate L2            Offer1    Call Center          529.881344   \n",
            "4      Personal L1            Offer1          Agent          138.130879   \n",
            "...            ...               ...            ...                 ...   \n",
            "9129   Personal L1            Offer2            Web          198.234764   \n",
            "9130  Corporate L3            Offer1         Branch          379.200000   \n",
            "9131  Corporate L2            Offer1         Branch          790.784983   \n",
            "9132   Personal L2            Offer3         Branch          691.200000   \n",
            "9133  Corporate L3            Offer4    Call Center          369.600000   \n",
            "\n",
            "      Vehicle_Class Vehicle_Size cluster  \n",
            "0      Two-Door Car      Medsize       1  \n",
            "1     Four-Door Car      Medsize       0  \n",
            "2      Two-Door Car      Medsize       0  \n",
            "3               SUV      Medsize       0  \n",
            "4     Four-Door Car      Medsize       1  \n",
            "...             ...          ...     ...  \n",
            "9129  Four-Door Car      Medsize       1  \n",
            "9130  Four-Door Car      Medsize       1  \n",
            "9131  Four-Door Car      Medsize       0  \n",
            "9132  Four-Door Car        Large       0  \n",
            "9133   Two-Door Car      Medsize       1  \n",
            "\n",
            "[9134 rows x 26 columns]\n"
          ]
        }
      ]
    },
    {
      "cell_type": "code",
      "source": [
        "#Hier haben wir den Customer Lifetime Value aus dem Datensatz entfernt, da unsere Zielvariable CLV_churn bereits enthalten ist und wir so die Redundanz im Datensatz vermeiden.\n",
        "df_ohneCLV = df_1.drop(\"Customer_Lifetime_Value\",1)"
      ],
      "metadata": {
        "id": "tiUP1SSC4T01",
        "colab": {
          "base_uri": "https://localhost:8080/"
        },
        "outputId": "a04b27d6-ff55-4c72-f208-23a0fa46e6e8"
      },
      "execution_count": null,
      "outputs": [
        {
          "output_type": "stream",
          "name": "stderr",
          "text": [
            "<ipython-input-61-f5a6a25dd906>:2: FutureWarning: In a future version of pandas all arguments of DataFrame.drop except for the argument 'labels' will be keyword-only.\n",
            "  df_ohneCLV = df_1.drop(\"Customer_Lifetime_Value\",1)\n"
          ]
        }
      ]
    },
    {
      "cell_type": "code",
      "source": [
        "df_ohneCLV"
      ],
      "metadata": {
        "id": "nATAvGw75b65",
        "colab": {
          "base_uri": "https://localhost:8080/",
          "height": 661
        },
        "outputId": "5c4d7148-ab8c-475f-d959-40473d7986b1"
      },
      "execution_count": null,
      "outputs": [
        {
          "output_type": "execute_result",
          "data": {
            "text/plain": [
              "      CLV_churn Customer       State Response  Coverage Education  \\\n",
              "0             0  BU79786  Washington       No     Basic  Bachelor   \n",
              "1             2  QZ44356     Arizona       No  Extended  Bachelor   \n",
              "2             3  AI49188      Nevada       No   Premium  Bachelor   \n",
              "3             2  WW63253  California       No     Basic  Bachelor   \n",
              "4             0  HB64268  Washington       No     Basic  Bachelor   \n",
              "...         ...      ...         ...      ...       ...       ...   \n",
              "9129          3  LA72316  California       No     Basic  Bachelor   \n",
              "9130          0  PK87824  California      Yes  Extended   College   \n",
              "9131          2  TD14365  California       No  Extended  Bachelor   \n",
              "9132          2  UP19263  California       No  Extended   College   \n",
              "9133          0  Y167826  California       No  Extended   College   \n",
              "\n",
              "     Effective_To_Date EmploymentStatus Gender  Income  ...  \\\n",
              "0           2011-02-24         Employed      F   56274  ...   \n",
              "1           2011-01-31       Unemployed      F       0  ...   \n",
              "2           2011-02-19         Employed      F   48767  ...   \n",
              "3           2011-01-20       Unemployed      M       0  ...   \n",
              "4           2011-02-03         Employed      M   43836  ...   \n",
              "...                ...              ...    ...     ...  ...   \n",
              "9129        2011-02-10         Employed      M   71941  ...   \n",
              "9130        2011-02-12         Employed      F   21604  ...   \n",
              "9131        2011-02-06       Unemployed      M       0  ...   \n",
              "9132        2011-02-03         Employed      M   21941  ...   \n",
              "9133        2011-02-14       Unemployed      M       0  ...   \n",
              "\n",
              "     Number_of_Open_Complaints Number_of_Policies     Policy_Type  \\\n",
              "0                            0                  1  Corporate Auto   \n",
              "1                            0                  8   Personal Auto   \n",
              "2                            0                  2   Personal Auto   \n",
              "3                            0                  7  Corporate Auto   \n",
              "4                            0                  1   Personal Auto   \n",
              "...                        ...                ...             ...   \n",
              "9129                         0                  2   Personal Auto   \n",
              "9130                         0                  1  Corporate Auto   \n",
              "9131                         3                  2  Corporate Auto   \n",
              "9132                         0                  3   Personal Auto   \n",
              "9133                         0                  1  Corporate Auto   \n",
              "\n",
              "            Policy  Renew_Offer_Type  Sales_Channel  Total_Claim_Amount  \\\n",
              "0     Corporate L3            Offer1          Agent          384.811147   \n",
              "1      Personal L3            Offer3          Agent         1131.464935   \n",
              "2      Personal L3            Offer1          Agent          566.472247   \n",
              "3     Corporate L2            Offer1    Call Center          529.881344   \n",
              "4      Personal L1            Offer1          Agent          138.130879   \n",
              "...            ...               ...            ...                 ...   \n",
              "9129   Personal L1            Offer2            Web          198.234764   \n",
              "9130  Corporate L3            Offer1         Branch          379.200000   \n",
              "9131  Corporate L2            Offer1         Branch          790.784983   \n",
              "9132   Personal L2            Offer3         Branch          691.200000   \n",
              "9133  Corporate L3            Offer4    Call Center          369.600000   \n",
              "\n",
              "      Vehicle_Class Vehicle_Size cluster  \n",
              "0      Two-Door Car      Medsize       1  \n",
              "1     Four-Door Car      Medsize       0  \n",
              "2      Two-Door Car      Medsize       0  \n",
              "3               SUV      Medsize       0  \n",
              "4     Four-Door Car      Medsize       1  \n",
              "...             ...          ...     ...  \n",
              "9129  Four-Door Car      Medsize       1  \n",
              "9130  Four-Door Car      Medsize       1  \n",
              "9131  Four-Door Car      Medsize       0  \n",
              "9132  Four-Door Car        Large       0  \n",
              "9133   Two-Door Car      Medsize       1  \n",
              "\n",
              "[9134 rows x 25 columns]"
            ],
            "text/html": [
              "\n",
              "  <div id=\"df-2890500e-6ac0-407a-b3b6-9d0ac602ae37\">\n",
              "    <div class=\"colab-df-container\">\n",
              "      <div>\n",
              "<style scoped>\n",
              "    .dataframe tbody tr th:only-of-type {\n",
              "        vertical-align: middle;\n",
              "    }\n",
              "\n",
              "    .dataframe tbody tr th {\n",
              "        vertical-align: top;\n",
              "    }\n",
              "\n",
              "    .dataframe thead th {\n",
              "        text-align: right;\n",
              "    }\n",
              "</style>\n",
              "<table border=\"1\" class=\"dataframe\">\n",
              "  <thead>\n",
              "    <tr style=\"text-align: right;\">\n",
              "      <th></th>\n",
              "      <th>CLV_churn</th>\n",
              "      <th>Customer</th>\n",
              "      <th>State</th>\n",
              "      <th>Response</th>\n",
              "      <th>Coverage</th>\n",
              "      <th>Education</th>\n",
              "      <th>Effective_To_Date</th>\n",
              "      <th>EmploymentStatus</th>\n",
              "      <th>Gender</th>\n",
              "      <th>Income</th>\n",
              "      <th>...</th>\n",
              "      <th>Number_of_Open_Complaints</th>\n",
              "      <th>Number_of_Policies</th>\n",
              "      <th>Policy_Type</th>\n",
              "      <th>Policy</th>\n",
              "      <th>Renew_Offer_Type</th>\n",
              "      <th>Sales_Channel</th>\n",
              "      <th>Total_Claim_Amount</th>\n",
              "      <th>Vehicle_Class</th>\n",
              "      <th>Vehicle_Size</th>\n",
              "      <th>cluster</th>\n",
              "    </tr>\n",
              "  </thead>\n",
              "  <tbody>\n",
              "    <tr>\n",
              "      <th>0</th>\n",
              "      <td>0</td>\n",
              "      <td>BU79786</td>\n",
              "      <td>Washington</td>\n",
              "      <td>No</td>\n",
              "      <td>Basic</td>\n",
              "      <td>Bachelor</td>\n",
              "      <td>2011-02-24</td>\n",
              "      <td>Employed</td>\n",
              "      <td>F</td>\n",
              "      <td>56274</td>\n",
              "      <td>...</td>\n",
              "      <td>0</td>\n",
              "      <td>1</td>\n",
              "      <td>Corporate Auto</td>\n",
              "      <td>Corporate L3</td>\n",
              "      <td>Offer1</td>\n",
              "      <td>Agent</td>\n",
              "      <td>384.811147</td>\n",
              "      <td>Two-Door Car</td>\n",
              "      <td>Medsize</td>\n",
              "      <td>1</td>\n",
              "    </tr>\n",
              "    <tr>\n",
              "      <th>1</th>\n",
              "      <td>2</td>\n",
              "      <td>QZ44356</td>\n",
              "      <td>Arizona</td>\n",
              "      <td>No</td>\n",
              "      <td>Extended</td>\n",
              "      <td>Bachelor</td>\n",
              "      <td>2011-01-31</td>\n",
              "      <td>Unemployed</td>\n",
              "      <td>F</td>\n",
              "      <td>0</td>\n",
              "      <td>...</td>\n",
              "      <td>0</td>\n",
              "      <td>8</td>\n",
              "      <td>Personal Auto</td>\n",
              "      <td>Personal L3</td>\n",
              "      <td>Offer3</td>\n",
              "      <td>Agent</td>\n",
              "      <td>1131.464935</td>\n",
              "      <td>Four-Door Car</td>\n",
              "      <td>Medsize</td>\n",
              "      <td>0</td>\n",
              "    </tr>\n",
              "    <tr>\n",
              "      <th>2</th>\n",
              "      <td>3</td>\n",
              "      <td>AI49188</td>\n",
              "      <td>Nevada</td>\n",
              "      <td>No</td>\n",
              "      <td>Premium</td>\n",
              "      <td>Bachelor</td>\n",
              "      <td>2011-02-19</td>\n",
              "      <td>Employed</td>\n",
              "      <td>F</td>\n",
              "      <td>48767</td>\n",
              "      <td>...</td>\n",
              "      <td>0</td>\n",
              "      <td>2</td>\n",
              "      <td>Personal Auto</td>\n",
              "      <td>Personal L3</td>\n",
              "      <td>Offer1</td>\n",
              "      <td>Agent</td>\n",
              "      <td>566.472247</td>\n",
              "      <td>Two-Door Car</td>\n",
              "      <td>Medsize</td>\n",
              "      <td>0</td>\n",
              "    </tr>\n",
              "    <tr>\n",
              "      <th>3</th>\n",
              "      <td>2</td>\n",
              "      <td>WW63253</td>\n",
              "      <td>California</td>\n",
              "      <td>No</td>\n",
              "      <td>Basic</td>\n",
              "      <td>Bachelor</td>\n",
              "      <td>2011-01-20</td>\n",
              "      <td>Unemployed</td>\n",
              "      <td>M</td>\n",
              "      <td>0</td>\n",
              "      <td>...</td>\n",
              "      <td>0</td>\n",
              "      <td>7</td>\n",
              "      <td>Corporate Auto</td>\n",
              "      <td>Corporate L2</td>\n",
              "      <td>Offer1</td>\n",
              "      <td>Call Center</td>\n",
              "      <td>529.881344</td>\n",
              "      <td>SUV</td>\n",
              "      <td>Medsize</td>\n",
              "      <td>0</td>\n",
              "    </tr>\n",
              "    <tr>\n",
              "      <th>4</th>\n",
              "      <td>0</td>\n",
              "      <td>HB64268</td>\n",
              "      <td>Washington</td>\n",
              "      <td>No</td>\n",
              "      <td>Basic</td>\n",
              "      <td>Bachelor</td>\n",
              "      <td>2011-02-03</td>\n",
              "      <td>Employed</td>\n",
              "      <td>M</td>\n",
              "      <td>43836</td>\n",
              "      <td>...</td>\n",
              "      <td>0</td>\n",
              "      <td>1</td>\n",
              "      <td>Personal Auto</td>\n",
              "      <td>Personal L1</td>\n",
              "      <td>Offer1</td>\n",
              "      <td>Agent</td>\n",
              "      <td>138.130879</td>\n",
              "      <td>Four-Door Car</td>\n",
              "      <td>Medsize</td>\n",
              "      <td>1</td>\n",
              "    </tr>\n",
              "    <tr>\n",
              "      <th>...</th>\n",
              "      <td>...</td>\n",
              "      <td>...</td>\n",
              "      <td>...</td>\n",
              "      <td>...</td>\n",
              "      <td>...</td>\n",
              "      <td>...</td>\n",
              "      <td>...</td>\n",
              "      <td>...</td>\n",
              "      <td>...</td>\n",
              "      <td>...</td>\n",
              "      <td>...</td>\n",
              "      <td>...</td>\n",
              "      <td>...</td>\n",
              "      <td>...</td>\n",
              "      <td>...</td>\n",
              "      <td>...</td>\n",
              "      <td>...</td>\n",
              "      <td>...</td>\n",
              "      <td>...</td>\n",
              "      <td>...</td>\n",
              "      <td>...</td>\n",
              "    </tr>\n",
              "    <tr>\n",
              "      <th>9129</th>\n",
              "      <td>3</td>\n",
              "      <td>LA72316</td>\n",
              "      <td>California</td>\n",
              "      <td>No</td>\n",
              "      <td>Basic</td>\n",
              "      <td>Bachelor</td>\n",
              "      <td>2011-02-10</td>\n",
              "      <td>Employed</td>\n",
              "      <td>M</td>\n",
              "      <td>71941</td>\n",
              "      <td>...</td>\n",
              "      <td>0</td>\n",
              "      <td>2</td>\n",
              "      <td>Personal Auto</td>\n",
              "      <td>Personal L1</td>\n",
              "      <td>Offer2</td>\n",
              "      <td>Web</td>\n",
              "      <td>198.234764</td>\n",
              "      <td>Four-Door Car</td>\n",
              "      <td>Medsize</td>\n",
              "      <td>1</td>\n",
              "    </tr>\n",
              "    <tr>\n",
              "      <th>9130</th>\n",
              "      <td>0</td>\n",
              "      <td>PK87824</td>\n",
              "      <td>California</td>\n",
              "      <td>Yes</td>\n",
              "      <td>Extended</td>\n",
              "      <td>College</td>\n",
              "      <td>2011-02-12</td>\n",
              "      <td>Employed</td>\n",
              "      <td>F</td>\n",
              "      <td>21604</td>\n",
              "      <td>...</td>\n",
              "      <td>0</td>\n",
              "      <td>1</td>\n",
              "      <td>Corporate Auto</td>\n",
              "      <td>Corporate L3</td>\n",
              "      <td>Offer1</td>\n",
              "      <td>Branch</td>\n",
              "      <td>379.200000</td>\n",
              "      <td>Four-Door Car</td>\n",
              "      <td>Medsize</td>\n",
              "      <td>1</td>\n",
              "    </tr>\n",
              "    <tr>\n",
              "      <th>9131</th>\n",
              "      <td>2</td>\n",
              "      <td>TD14365</td>\n",
              "      <td>California</td>\n",
              "      <td>No</td>\n",
              "      <td>Extended</td>\n",
              "      <td>Bachelor</td>\n",
              "      <td>2011-02-06</td>\n",
              "      <td>Unemployed</td>\n",
              "      <td>M</td>\n",
              "      <td>0</td>\n",
              "      <td>...</td>\n",
              "      <td>3</td>\n",
              "      <td>2</td>\n",
              "      <td>Corporate Auto</td>\n",
              "      <td>Corporate L2</td>\n",
              "      <td>Offer1</td>\n",
              "      <td>Branch</td>\n",
              "      <td>790.784983</td>\n",
              "      <td>Four-Door Car</td>\n",
              "      <td>Medsize</td>\n",
              "      <td>0</td>\n",
              "    </tr>\n",
              "    <tr>\n",
              "      <th>9132</th>\n",
              "      <td>2</td>\n",
              "      <td>UP19263</td>\n",
              "      <td>California</td>\n",
              "      <td>No</td>\n",
              "      <td>Extended</td>\n",
              "      <td>College</td>\n",
              "      <td>2011-02-03</td>\n",
              "      <td>Employed</td>\n",
              "      <td>M</td>\n",
              "      <td>21941</td>\n",
              "      <td>...</td>\n",
              "      <td>0</td>\n",
              "      <td>3</td>\n",
              "      <td>Personal Auto</td>\n",
              "      <td>Personal L2</td>\n",
              "      <td>Offer3</td>\n",
              "      <td>Branch</td>\n",
              "      <td>691.200000</td>\n",
              "      <td>Four-Door Car</td>\n",
              "      <td>Large</td>\n",
              "      <td>0</td>\n",
              "    </tr>\n",
              "    <tr>\n",
              "      <th>9133</th>\n",
              "      <td>0</td>\n",
              "      <td>Y167826</td>\n",
              "      <td>California</td>\n",
              "      <td>No</td>\n",
              "      <td>Extended</td>\n",
              "      <td>College</td>\n",
              "      <td>2011-02-14</td>\n",
              "      <td>Unemployed</td>\n",
              "      <td>M</td>\n",
              "      <td>0</td>\n",
              "      <td>...</td>\n",
              "      <td>0</td>\n",
              "      <td>1</td>\n",
              "      <td>Corporate Auto</td>\n",
              "      <td>Corporate L3</td>\n",
              "      <td>Offer4</td>\n",
              "      <td>Call Center</td>\n",
              "      <td>369.600000</td>\n",
              "      <td>Two-Door Car</td>\n",
              "      <td>Medsize</td>\n",
              "      <td>1</td>\n",
              "    </tr>\n",
              "  </tbody>\n",
              "</table>\n",
              "<p>9134 rows × 25 columns</p>\n",
              "</div>\n",
              "      <button class=\"colab-df-convert\" onclick=\"convertToInteractive('df-2890500e-6ac0-407a-b3b6-9d0ac602ae37')\"\n",
              "              title=\"Convert this dataframe to an interactive table.\"\n",
              "              style=\"display:none;\">\n",
              "        \n",
              "  <svg xmlns=\"http://www.w3.org/2000/svg\" height=\"24px\"viewBox=\"0 0 24 24\"\n",
              "       width=\"24px\">\n",
              "    <path d=\"M0 0h24v24H0V0z\" fill=\"none\"/>\n",
              "    <path d=\"M18.56 5.44l.94 2.06.94-2.06 2.06-.94-2.06-.94-.94-2.06-.94 2.06-2.06.94zm-11 1L8.5 8.5l.94-2.06 2.06-.94-2.06-.94L8.5 2.5l-.94 2.06-2.06.94zm10 10l.94 2.06.94-2.06 2.06-.94-2.06-.94-.94-2.06-.94 2.06-2.06.94z\"/><path d=\"M17.41 7.96l-1.37-1.37c-.4-.4-.92-.59-1.43-.59-.52 0-1.04.2-1.43.59L10.3 9.45l-7.72 7.72c-.78.78-.78 2.05 0 2.83L4 21.41c.39.39.9.59 1.41.59.51 0 1.02-.2 1.41-.59l7.78-7.78 2.81-2.81c.8-.78.8-2.07 0-2.86zM5.41 20L4 18.59l7.72-7.72 1.47 1.35L5.41 20z\"/>\n",
              "  </svg>\n",
              "      </button>\n",
              "      \n",
              "  <style>\n",
              "    .colab-df-container {\n",
              "      display:flex;\n",
              "      flex-wrap:wrap;\n",
              "      gap: 12px;\n",
              "    }\n",
              "\n",
              "    .colab-df-convert {\n",
              "      background-color: #E8F0FE;\n",
              "      border: none;\n",
              "      border-radius: 50%;\n",
              "      cursor: pointer;\n",
              "      display: none;\n",
              "      fill: #1967D2;\n",
              "      height: 32px;\n",
              "      padding: 0 0 0 0;\n",
              "      width: 32px;\n",
              "    }\n",
              "\n",
              "    .colab-df-convert:hover {\n",
              "      background-color: #E2EBFA;\n",
              "      box-shadow: 0px 1px 2px rgba(60, 64, 67, 0.3), 0px 1px 3px 1px rgba(60, 64, 67, 0.15);\n",
              "      fill: #174EA6;\n",
              "    }\n",
              "\n",
              "    [theme=dark] .colab-df-convert {\n",
              "      background-color: #3B4455;\n",
              "      fill: #D2E3FC;\n",
              "    }\n",
              "\n",
              "    [theme=dark] .colab-df-convert:hover {\n",
              "      background-color: #434B5C;\n",
              "      box-shadow: 0px 1px 3px 1px rgba(0, 0, 0, 0.15);\n",
              "      filter: drop-shadow(0px 1px 2px rgba(0, 0, 0, 0.3));\n",
              "      fill: #FFFFFF;\n",
              "    }\n",
              "  </style>\n",
              "\n",
              "      <script>\n",
              "        const buttonEl =\n",
              "          document.querySelector('#df-2890500e-6ac0-407a-b3b6-9d0ac602ae37 button.colab-df-convert');\n",
              "        buttonEl.style.display =\n",
              "          google.colab.kernel.accessAllowed ? 'block' : 'none';\n",
              "\n",
              "        async function convertToInteractive(key) {\n",
              "          const element = document.querySelector('#df-2890500e-6ac0-407a-b3b6-9d0ac602ae37');\n",
              "          const dataTable =\n",
              "            await google.colab.kernel.invokeFunction('convertToInteractive',\n",
              "                                                     [key], {});\n",
              "          if (!dataTable) return;\n",
              "\n",
              "          const docLinkHtml = 'Like what you see? Visit the ' +\n",
              "            '<a target=\"_blank\" href=https://colab.research.google.com/notebooks/data_table.ipynb>data table notebook</a>'\n",
              "            + ' to learn more about interactive tables.';\n",
              "          element.innerHTML = '';\n",
              "          dataTable['output_type'] = 'display_data';\n",
              "          await google.colab.output.renderOutput(dataTable, element);\n",
              "          const docLink = document.createElement('div');\n",
              "          docLink.innerHTML = docLinkHtml;\n",
              "          element.appendChild(docLink);\n",
              "        }\n",
              "      </script>\n",
              "    </div>\n",
              "  </div>\n",
              "  "
            ]
          },
          "metadata": {},
          "execution_count": 62
        }
      ]
    },
    {
      "cell_type": "code",
      "source": [
        "#Identifikation der Eigenschaften der 2 Cluster\n",
        "\n",
        "def cat_results(df_ohneCLV, cluster_column, column_name):\n",
        "    print(df_ohneCLV.groupby(cluster_column)[column_name].value_counts()/df_ohneCLV.groupby(cluster_column)[column_name].count())\n",
        "    print('\\n')\n",
        "\n",
        "for cat_column in df_ohneCLV.columns[(df_ohneCLV.dtypes == 'object') | (df_ohneCLV.dtypes == 'int64')| (df_ohneCLV.dtypes == 'float64')| (df_ohneCLV.dtypes == 'str')].tolist():\n",
        "    cat_results(df_ohneCLV, 'cluster', cat_column)\n"
      ],
      "metadata": {
        "id": "ssAwh_5NjYRX",
        "colab": {
          "base_uri": "https://localhost:8080/"
        },
        "outputId": "c5f21b8f-2f86-4960-9753-c66b00f7073e"
      },
      "execution_count": null,
      "outputs": [
        {
          "output_type": "stream",
          "name": "stdout",
          "text": [
            "cluster  CLV_churn\n",
            "0        3            0.477204\n",
            "         2            0.392604\n",
            "         1            0.120061\n",
            "         0            0.010132\n",
            "1        0            0.432703\n",
            "         1            0.347860\n",
            "         2            0.142306\n",
            "         3            0.077131\n",
            "Name: CLV_churn, dtype: float64\n",
            "\n",
            "\n",
            "cluster  Customer\n",
            "0        AA10041     0.000253\n",
            "         AA30683     0.000253\n",
            "         AA34092     0.000253\n",
            "         AA35519     0.000253\n",
            "         AA69265     0.000253\n",
            "                       ...   \n",
            "1        ZZ69693     0.000193\n",
            "         ZZ77357     0.000193\n",
            "         ZZ83340     0.000193\n",
            "         ZZ89380     0.000193\n",
            "         ZZ91716     0.000193\n",
            "Name: Customer, Length: 9134, dtype: float64\n",
            "\n",
            "\n",
            "cluster  State     \n",
            "0        California    0.350557\n",
            "         Oregon        0.285208\n",
            "         Arizona       0.183891\n",
            "         Nevada        0.098531\n",
            "         Washington    0.081814\n",
            "1        California    0.340532\n",
            "         Oregon        0.284420\n",
            "         Arizona       0.188392\n",
            "         Nevada        0.095064\n",
            "         Washington    0.091593\n",
            "Name: State, dtype: float64\n",
            "\n",
            "\n",
            "cluster  Response\n",
            "0        No          0.854103\n",
            "         Yes         0.145897\n",
            "1        No          0.858851\n",
            "         Yes         0.141149\n",
            "Name: Response, dtype: float64\n",
            "\n",
            "\n",
            "cluster  Coverage\n",
            "0        Extended    0.508105\n",
            "         Basic       0.283435\n",
            "         Premium     0.208460\n",
            "1        Basic       0.857887\n",
            "         Extended    0.141921\n",
            "         Premium     0.000193\n",
            "Name: Coverage, dtype: float64\n",
            "\n",
            "\n",
            "cluster  Education           \n",
            "0        High School or Below    0.312057\n",
            "         College                 0.295086\n",
            "         Bachelor                0.283181\n",
            "         Master                  0.076748\n",
            "         Doctor                  0.032928\n",
            "1        Bachelor                0.314308\n",
            "         College                 0.292325\n",
            "         High School or Below    0.268029\n",
            "         Master                  0.084458\n",
            "         Doctor                  0.040879\n",
            "Name: Education, dtype: float64\n",
            "\n",
            "\n",
            "cluster  EmploymentStatus\n",
            "0        Employed            0.619554\n",
            "         Unemployed          0.256586\n",
            "         Medical Leave       0.046099\n",
            "         Disabled            0.044326\n",
            "         Retired             0.033435\n",
            "1        Employed            0.627073\n",
            "         Unemployed          0.251446\n",
            "         Medical Leave       0.048207\n",
            "         Disabled            0.044350\n",
            "         Retired             0.028924\n",
            "Name: EmploymentStatus, dtype: float64\n",
            "\n",
            "\n",
            "cluster  Gender\n",
            "0        F         0.508105\n",
            "         M         0.491895\n",
            "1        F         0.511377\n",
            "         M         0.488623\n",
            "Name: Gender, dtype: float64\n",
            "\n",
            "\n",
            "cluster  Income\n",
            "0        0         0.256586\n",
            "         25370     0.001773\n",
            "         33190     0.001773\n",
            "         11432     0.001520\n",
            "         11828     0.001520\n",
            "                     ...   \n",
            "1        99841     0.000193\n",
            "         99874     0.000193\n",
            "         99934     0.000193\n",
            "         99961     0.000193\n",
            "         99981     0.000193\n",
            "Name: Income, Length: 5790, dtype: float64\n",
            "\n",
            "\n",
            "cluster  Location_Code\n",
            "0        Suburban         0.657801\n",
            "         Rural            0.185410\n",
            "         Urban            0.156788\n",
            "1        Suburban         0.613575\n",
            "         Rural            0.200733\n",
            "         Urban            0.185692\n",
            "Name: Location_Code, dtype: float64\n",
            "\n",
            "\n",
            "cluster  Marital_Status\n",
            "0        Married           0.583840\n",
            "         Single            0.266464\n",
            "         Divorced          0.149696\n",
            "1        Married           0.577131\n",
            "         Single            0.272850\n",
            "         Divorced          0.150019\n",
            "Name: Marital_Status, dtype: float64\n",
            "\n",
            "\n",
            "cluster  Monthly_Premium_Auto\n",
            "0        113                     0.024063\n",
            "         102                     0.022543\n",
            "         109                     0.021783\n",
            "         112                     0.021277\n",
            "         106                     0.021023\n",
            "                                   ...   \n",
            "1        111                     0.003278\n",
            "         108                     0.003085\n",
            "         115                     0.001928\n",
            "         121                     0.000193\n",
            "         125                     0.000193\n",
            "Name: Monthly_Premium_Auto, Length: 248, dtype: float64\n",
            "\n",
            "\n",
            "cluster  Months_Since_Last_Claim\n",
            "0        6                          0.039767\n",
            "         1                          0.039514\n",
            "         3                          0.039514\n",
            "         5                          0.039514\n",
            "         2                          0.037234\n",
            "                                      ...   \n",
            "1        30                         0.018126\n",
            "         33                         0.017354\n",
            "         34                         0.017354\n",
            "         32                         0.016390\n",
            "         35                         0.014848\n",
            "Name: Months_Since_Last_Claim, Length: 72, dtype: float64\n",
            "\n",
            "\n",
            "cluster  Months_Since_Policy_Inception\n",
            "0        59                               0.017224\n",
            "         61                               0.014438\n",
            "         50                               0.013678\n",
            "         43                               0.013425\n",
            "         75                               0.013425\n",
            "                                            ...   \n",
            "1        88                               0.006749\n",
            "         82                               0.006556\n",
            "         91                               0.006170\n",
            "         98                               0.005978\n",
            "         97                               0.005592\n",
            "Name: Months_Since_Policy_Inception, Length: 200, dtype: float64\n",
            "\n",
            "\n",
            "cluster  Number_of_Open_Complaints\n",
            "0        0                            0.799645\n",
            "         1                            0.112462\n",
            "         2                            0.043820\n",
            "         3                            0.027862\n",
            "         4                            0.009878\n",
            "         5                            0.006332\n",
            "1        0                            0.789626\n",
            "         1                            0.109333\n",
            "         2                            0.038758\n",
            "         3                            0.035094\n",
            "         4                            0.021211\n",
            "         5                            0.005978\n",
            "Name: Number_of_Open_Complaints, dtype: float64\n",
            "\n",
            "\n",
            "cluster  Number_of_Policies\n",
            "0        2                     0.332067\n",
            "         1                     0.174012\n",
            "         3                     0.154255\n",
            "         7                     0.063070\n",
            "         4                     0.057497\n",
            "         9                     0.057244\n",
            "         8                     0.056738\n",
            "         5                     0.054205\n",
            "         6                     0.050912\n",
            "1        1                     0.494408\n",
            "         2                     0.189549\n",
            "         3                     0.107790\n",
            "         5                     0.037216\n",
            "         9                     0.036637\n",
            "         7                     0.035480\n",
            "         4                     0.035094\n",
            "         6                     0.032973\n",
            "         8                     0.030852\n",
            "Name: Number_of_Policies, dtype: float64\n",
            "\n",
            "\n",
            "cluster  Policy_Type   \n",
            "0        Personal Auto     0.743161\n",
            "         Corporate Auto    0.212766\n",
            "         Special Auto      0.044073\n",
            "1        Personal Auto     0.743155\n",
            "         Corporate Auto    0.217509\n",
            "         Special Auto      0.039337\n",
            "Name: Policy_Type, dtype: float64\n",
            "\n",
            "\n",
            "cluster  Policy      \n",
            "0        Personal L3     0.369807\n",
            "         Personal L2     0.239362\n",
            "         Personal L1     0.133992\n",
            "         Corporate L3    0.106636\n",
            "         Corporate L2    0.065096\n",
            "         Corporate L1    0.041033\n",
            "         Special L2      0.021783\n",
            "         Special L3      0.015198\n",
            "         Special L1      0.007092\n",
            "1        Personal L3     0.379098\n",
            "         Personal L2     0.226957\n",
            "         Personal L1     0.137100\n",
            "         Corporate L3    0.114346\n",
            "         Corporate L2    0.065175\n",
            "         Corporate L1    0.037987\n",
            "         Special L3      0.016969\n",
            "         Special L2      0.015040\n",
            "         Special L1      0.007327\n",
            "Name: Policy, dtype: float64\n",
            "\n",
            "\n",
            "cluster  Renew_Offer_Type\n",
            "0        Offer1              0.481256\n",
            "         Offer2              0.280142\n",
            "         Offer3              0.149949\n",
            "         Offer4              0.088652\n",
            "1        Offer1              0.357115\n",
            "         Offer2              0.350945\n",
            "         Offer3              0.161975\n",
            "         Offer4              0.129965\n",
            "Name: Renew_Offer_Type, dtype: float64\n",
            "\n",
            "\n",
            "cluster  Sales_Channel\n",
            "0        Agent            0.385258\n",
            "         Branch           0.287741\n",
            "         Call Center      0.189970\n",
            "         Web              0.137031\n",
            "1        Agent            0.377169\n",
            "         Branch           0.275935\n",
            "         Call Center      0.195719\n",
            "         Web              0.151176\n",
            "Name: Sales_Channel, dtype: float64\n",
            "\n",
            "\n",
            "cluster  Total_Claim_Amount\n",
            "0        489.600000            0.009878\n",
            "         508.800000            0.009119\n",
            "         556.800000            0.009119\n",
            "         542.400000            0.008865\n",
            "         528.000000            0.008612\n",
            "                                 ...   \n",
            "1        1265.387328           0.000193\n",
            "         1272.546918           0.000193\n",
            "         1301.796063           0.000193\n",
            "         1305.275432           0.000193\n",
            "         1397.954723           0.000193\n",
            "Name: Total_Claim_Amount, Length: 5187, dtype: float64\n",
            "\n",
            "\n",
            "cluster  Vehicle_Class\n",
            "0        SUV              0.360182\n",
            "         Four-Door Car    0.325735\n",
            "         Two-Door Car     0.129939\n",
            "         Sports Car       0.096251\n",
            "         Luxury SUV       0.046606\n",
            "         Luxury Car       0.041287\n",
            "1        Four-Door Car    0.643078\n",
            "         Two-Door Car     0.264751\n",
            "         SUV              0.072117\n",
            "         Sports Car       0.020054\n",
            "Name: Vehicle_Class, dtype: float64\n",
            "\n",
            "\n",
            "cluster  Vehicle_Size\n",
            "0        Medsize         0.713779\n",
            "         Small           0.189716\n",
            "         Large           0.096505\n",
            "1        Medsize         0.695334\n",
            "         Small           0.195719\n",
            "         Large           0.108947\n",
            "Name: Vehicle_Size, dtype: float64\n",
            "\n",
            "\n"
          ]
        }
      ]
    },
    {
      "cell_type": "markdown",
      "source": [
        "**Interpretation der Cluster:**\n",
        "\n",
        "Cluster 0 sind unsere rentablen Kunden. Diese zeichenen sich durch folgende Eigenschaften aus:\n",
        "\n",
        "\n",
        "*   50% weisen bei der Variable Coverage die Ausprägung Extended auf\n",
        "*   36% fahren einen SUV\n",
        "*   48% sind überhaupt nicht abwanderungsgefährdet\n",
        "*   83% haben mehr als einen Vertrag mit dem Unternehmen\n",
        "\n",
        "\n",
        "Cluster 1 sind unsere weniger rentablen und abwanderungsgefährdeten Kunden. Diese zeichenen sich durch folgende Eigenschaften aus:\n",
        "\n",
        "\n",
        "*   85% weisen bei der Variable Coverage die Ausprägung Basic auf\n",
        "*   64% fahren einen Viertürer\n",
        "*   43% sind sehr abwanderungsgefährdet\n",
        "*   59% haben lediglich einen Vertrag mit dem Unternehmen\n",
        "\n",
        "\n",
        "\n",
        "**Herausforderung bei der Interpretation der Cluster:**\n",
        "Es hat sich gezeigt, dass sich die beiden Cluster durch die Variable Renew_Offer_Type ebenfalls voneinander unterscheiden lassen. Da uns jedoch keine weiteren Informationen zu den Ausprägungen dieser Variable vorliegen, können wir sie nicht sinnvoll interpretieren. Aus diesem Grund haben wir die Variable in unserer Interpretation der Cluster nicht berücksichtigt.\n",
        "\n",
        "\n",
        "\n"
      ],
      "metadata": {
        "id": "hkRGCI7kwTKD"
      }
    },
    {
      "cell_type": "code",
      "source": [
        "cluster_1 = df_ohneCLV[((df_ohneCLV.cluster>0))]\n"
      ],
      "metadata": {
        "id": "an1s2-t3X-zH"
      },
      "execution_count": null,
      "outputs": []
    },
    {
      "cell_type": "code",
      "source": [
        "import matplotlib.pyplot as plt\n",
        "\n",
        "#filter rows of original data\n",
        "filtered_label0 = df[label == 0]\n",
        "\n",
        "#plotting the results\n",
        "plt.scatter(filtered_label0[:,0] , filtered_label0[:,1])\n",
        "plt.show()"
      ],
      "metadata": {
        "colab": {
          "base_uri": "https://localhost:8080/",
          "height": 236
        },
        "id": "d8lGinVjdELu",
        "outputId": "4a3982d0-d5e6-4cce-ce6c-70f5b34a1d2f"
      },
      "execution_count": null,
      "outputs": [
        {
          "output_type": "error",
          "ename": "NameError",
          "evalue": "ignored",
          "traceback": [
            "\u001b[0;31m---------------------------------------------------------------------------\u001b[0m",
            "\u001b[0;31mNameError\u001b[0m                                 Traceback (most recent call last)",
            "\u001b[0;32m<ipython-input-65-222c188ac656>\u001b[0m in \u001b[0;36m<cell line: 4>\u001b[0;34m()\u001b[0m\n\u001b[1;32m      2\u001b[0m \u001b[0;34m\u001b[0m\u001b[0m\n\u001b[1;32m      3\u001b[0m \u001b[0;31m#filter rows of original data\u001b[0m\u001b[0;34m\u001b[0m\u001b[0;34m\u001b[0m\u001b[0m\n\u001b[0;32m----> 4\u001b[0;31m \u001b[0mfiltered_label0\u001b[0m \u001b[0;34m=\u001b[0m \u001b[0mdf\u001b[0m\u001b[0;34m[\u001b[0m\u001b[0mlabel\u001b[0m \u001b[0;34m==\u001b[0m \u001b[0;36m0\u001b[0m\u001b[0;34m]\u001b[0m\u001b[0;34m\u001b[0m\u001b[0;34m\u001b[0m\u001b[0m\n\u001b[0m\u001b[1;32m      5\u001b[0m \u001b[0;34m\u001b[0m\u001b[0m\n\u001b[1;32m      6\u001b[0m \u001b[0;31m#plotting the results\u001b[0m\u001b[0;34m\u001b[0m\u001b[0;34m\u001b[0m\u001b[0m\n",
            "\u001b[0;31mNameError\u001b[0m: name 'label' is not defined"
          ]
        }
      ]
    },
    {
      "cell_type": "code",
      "source": [
        "import seaborn as sns\n",
        "custom_palette = [\"green\", \"orange\"]\n",
        "sns.set(rc={\"figure.facecolor\": \"lightblue\"})\n",
        "#sns.set_style(\"darkgrid\")\n",
        "sns.scatterplot(data=df_ohneCLV, x=\"cluster\", y=\"Education\", hue=\"cluster\", palette=custom_palette)"
      ],
      "metadata": {
        "id": "yh4heMK1N9-K"
      },
      "execution_count": null,
      "outputs": []
    },
    {
      "cell_type": "code",
      "source": [
        "import plotnine as pn\n",
        "gg = pn.ggplot(data=df_ohneCLV,mapping=pn.aes(x=\"Coverage\",y='CLV_churn', color='cluster')) + \\\n",
        "     pn.geom_point()\n",
        "print(gg)"
      ],
      "metadata": {
        "id": "p9SSbDml_s2c"
      },
      "execution_count": null,
      "outputs": []
    },
    {
      "cell_type": "code",
      "source": [
        "import plotnine as pn\n",
        "gg = pn.ggplot(data=df_ohneCLV,mapping=pn.aes(x=\"CLV_churn\",y='Number_of_Policies', color='cluster')) + \\\n",
        "     pn.geom_point(size=3, shape=\"s\", alpha=0.5)\n",
        "print(gg)"
      ],
      "metadata": {
        "id": "MSerbve5NG2R"
      },
      "execution_count": null,
      "outputs": []
    },
    {
      "cell_type": "code",
      "source": [
        "import plotly.express as px\n",
        "px.scatter(df_ohneCLV,x='Coverage',y='CLV_churn',color='cluster', title='Distribution', width = 800, height = 400)"
      ],
      "metadata": {
        "id": "O2_yw7IDpvxp"
      },
      "execution_count": null,
      "outputs": []
    },
    {
      "cell_type": "markdown",
      "source": [
        "###**HDBSCAN**"
      ],
      "metadata": {
        "id": "2HrL6pe5C1Wp"
      }
    },
    {
      "cell_type": "code",
      "source": [
        "#Verwendeter Datensatz (erstellt im Abschnitt Data Preprocessing - Encoding). Der Datensatz enthält nach Löschen des Datums ausschließlich numerische Werte.\n",
        "df_hdbscan = df_1_mitdummys.drop('Effective_To_Date', 1) #Datum aufgrund fehlender Interpretierbarkeit gelöscht"
      ],
      "metadata": {
        "id": "cJMcpmbHz4RM"
      },
      "execution_count": null,
      "outputs": []
    },
    {
      "cell_type": "code",
      "source": [
        "pip install hdbscan"
      ],
      "metadata": {
        "id": "8zl3NWSaDiNe"
      },
      "execution_count": null,
      "outputs": []
    },
    {
      "cell_type": "code",
      "source": [
        "import hdbscan"
      ],
      "metadata": {
        "id": "6sfwGN4KEhxj"
      },
      "execution_count": null,
      "outputs": []
    },
    {
      "cell_type": "code",
      "source": [
        "hclusterer = hdbscan.HDBSCAN(min_cluster_size=50).fit(df_hdbscan)"
      ],
      "metadata": {
        "id": "RpFTvSmaGLWZ"
      },
      "execution_count": null,
      "outputs": []
    },
    {
      "cell_type": "code",
      "source": [
        "x = hclusterer.labels_\n",
        "\n",
        "unique, counts = np.unique(x, return_counts=True)\n",
        "print(np.asarray((unique, counts)).T)"
      ],
      "metadata": {
        "id": "5XyR4lkXGUKm"
      },
      "execution_count": null,
      "outputs": []
    },
    {
      "cell_type": "code",
      "source": [
        "df_ohneCLV[\"cluster\"] = x\n",
        "df_ohneCLV"
      ],
      "metadata": {
        "id": "yDz8G01yaf77"
      },
      "execution_count": null,
      "outputs": []
    },
    {
      "cell_type": "code",
      "source": [
        "#Identifikation der Eigenschaften der 2 Cluster\n",
        "\n",
        "def cat_results(df_ohneCLV, cluster_column, column_name):\n",
        "    print(df_ohneCLV.groupby(cluster_column)[column_name].value_counts()/df_ohneCLV.groupby(cluster_column)[column_name].count())\n",
        "    print('\\n')\n",
        "\n",
        "for cat_column in df_ohneCLV.columns[(df_ohneCLV.dtypes == 'object') | (df_ohneCLV.dtypes == 'int64')| (df_ohneCLV.dtypes == 'float64')].tolist():\n",
        "    cat_results(df_ohneCLV, 'cluster', cat_column)\n"
      ],
      "metadata": {
        "id": "5j-ZJhTUaWFd"
      },
      "execution_count": null,
      "outputs": []
    },
    {
      "cell_type": "markdown",
      "source": [
        "**Interpretation der Cluster:**\n",
        "\n",
        "Cluster 0 sind arbeitslose Singles. Diese zeichenen sich durch folgende Eigenschaften aus:\n",
        "\n",
        "\n",
        "*   4% haben einen Master-Abschluss\n",
        "*   91% kommen aus einem Vorort\n",
        "*   100% sind arbeitslos\n",
        "*   58% sind Single\n",
        "\n",
        "\n",
        "Cluster 1 sind verheiratete Erwerbstätige. Diese zeichenen sich durch folgende Eigenschaften aus:\n",
        "\n",
        "\n",
        "*   10% haben einen Maser-Abschluss\n",
        "*   46% wohnen in der Stadt oder auf dem Land\n",
        "*   über 80% sind erwerbstätig\n",
        "*   66% sind verheiratet\n",
        "\n",
        "\n",
        "\n",
        "**Herausforderung bei der Interpretation der Cluster:**\n",
        "Wie bereits bei K-means beschrieben, können wir die Variable Renew_Offer_Type nicht interpretieren.\n",
        "Gleiches gilt für die Variable Response mit den Ausprägungen Yes und No."
      ],
      "metadata": {
        "id": "ny78e82h06nM"
      }
    },
    {
      "cell_type": "code",
      "source": [
        "import seaborn as sns\n",
        "custom_palette = [\"green\", \"orange\"]\n",
        "sns.set(rc={\"figure.facecolor\": \"lightblue\"})\n",
        "#sns.set_style(\"darkgrid\")\n",
        "sns.scatterplot(data=df_ohneCLV, x='Education', y=\"cluster\", hue=\"cluster\", palette=custom_palette)"
      ],
      "metadata": {
        "id": "bC9wWLBCQueb"
      },
      "execution_count": null,
      "outputs": []
    },
    {
      "cell_type": "markdown",
      "source": [
        "###**Vergleich der Methoden**\n",
        "\n",
        "Wir entscheiden uns für das K-means Verfahren, da es aus Unternehmenssicht sinnvoller ist, Kunden anhand ihrer Kunden-Eigenschaften wie der Abwanderungsgefahr oder der Anzahl der Verträge zu clustern.\n",
        "Das ermöglicht eine individuellere Kundenansprache.\n",
        "\n",
        "Mit dem HDBSCAN-Verfahren erhalten wir zwar spannende Insights über die persönlichen Eigenschaften der Kunden, jedoch können wir daraus weniger Erkenntnisse für das Unternehmen und eine gezielte Kundenansprache generieren als aus den Ergebnissen des K-Means-Verfahrens. Hinzu kommt, dass die persönlichen Eigenschaften auf Basis derer die Cluster gebildet wurden vom Unternehmen nicht beeinflusst werden können."
      ],
      "metadata": {
        "id": "hPm6iXlDdTEi"
      }
    },
    {
      "cell_type": "markdown",
      "source": [
        "#**Fazit, Implikationen und Herausforderungen**"
      ],
      "metadata": {
        "id": "MKWCvZUfEpIX"
      }
    },
    {
      "cell_type": "markdown",
      "source": [
        "**Fazit und Implikationen**\n",
        "\n",
        "Mit unserem Projekt konnten wir die Kunden anhand der Abwanderungsgefahr in 4 Klassen einteilen, den Customer Lifetime Value vorhersagen und eine Segmentierung der Kunden anhand weiterer Eigenschaften (zusätzlich zu dem Customer Lifetime Value) vornehmen. Daraus konnten wir viele wertvolle Erkenntnisse erhalten, aus welchen sich für das Unternehmen folgende Implikationen ergeben:\n",
        "\n",
        "\n",
        "*   Den weniger rentablen und abwanderungsgefährdeten Kunden (Cluster 1 bei K-means) sollte das Unternehmen spezielle Angebote bzw. Rabatte für Extended (Variable Coverage) machen.\n",
        "*   Zudem sollte das Unternehmen versuchen, mit diesem Kundensegment weitere Verträge abzuschließen. Da sich gezeigt hat, dass die rentablen Kunden (Cluster 0 bei K-means) überwiegend mindestens 2 Verträge mit dem Unternehmen haben.\n",
        "\n",
        "*   Außerdem hat die Regressionsanalyse gezeigt, dass das Unternehmen durch xxx, xxx den Customer Lifetime Value positiv beeinflussen und damit die Abwanderungsgefahr der Kunden senken kann.\n",
        "\n",
        "\n",
        "\n",
        "**Herausforderungen**\n",
        "\n",
        "*   Recherche eines geeigneten Projekt-Themas\n",
        "*   Wenig Infos zu den Variablen im Datensatz und damit erschwerte Interpretation der Ergebnisse\n",
        "*   Sehr hohe Ergbenis-Werte bei der Classification\n",
        "*   Recherche der Clustering-Methoden\n",
        "\n",
        "\n",
        "\n",
        "\n",
        "\n",
        "\n",
        "\n",
        "\n",
        "\n",
        "\n",
        "\n"
      ],
      "metadata": {
        "id": "ix86OitAExWb"
      }
    }
  ]
}