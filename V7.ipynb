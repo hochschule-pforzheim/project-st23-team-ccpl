{
  "nbformat": 4,
  "nbformat_minor": 0,
  "metadata": {
    "colab": {
      "provenance": [],
      "gpuType": "T4",
      "include_colab_link": true
    },
    "kernelspec": {
      "name": "python3",
      "display_name": "Python 3"
    },
    "language_info": {
      "name": "python"
    },
    "accelerator": "GPU"
  },
  "cells": [
    {
      "cell_type": "markdown",
      "metadata": {
        "id": "view-in-github",
        "colab_type": "text"
      },
      "source": [
        "<a href=\"https://colab.research.google.com/github/hochschule-pforzheim/project-st23-team-ccpl/blob/main/V7.ipynb\" target=\"_parent\"><img src=\"https://colab.research.google.com/assets/colab-badge.svg\" alt=\"Open In Colab\"/></a>"
      ]
    },
    {
      "cell_type": "markdown",
      "source": [
        "Hier: CLV in mehr Klassen aufgeteilt (4 Klassen) - um churn zu identifizieren\n",
        "\n",
        "und\n",
        "\n",
        "jeweils den letzten Dummy gelöscht"
      ],
      "metadata": {
        "id": "WaQDTgwWUb0a"
      }
    },
    {
      "cell_type": "markdown",
      "source": [
        "# **Relevanz des Projekts**\n",
        "Der Wettbewerbsdruck um Kunden steigt – sowohl in Produkt- als auch Dienstleistungsmärkten – seit Jahren, insbesondere getrieben durch die digitale Transformation der Wirtschaft. Dies führt dazu, dass eine individuelle Kundenansprache immer mehr an Bedeutung gewinnt, um die Kunden an das Unternehmen / die Marke zu binden und dadurch das Risiko der Kundenabwanderung zu minimieren (vgl. Gouthier, Kern (2021), S.129).\n",
        "Der Wettbewerbsdruck um Kunden ist jedoch nicht für alle Kunden gleich. Je höher der erwartete Customer Lifetime Value eines Kunden ist, desto intensiver ist der Wettbewerb um einen solchen Kunden (vgl. Barak et al. (2020), S.52).\n",
        "Der Customer Lifetime Value erfasst, wie wertvoll ein Kunde für ein Unternehmen ist und bietet somit einen Ansatz zur individuellen Kundenansprache. Denn je größer der Customer Lifetime Value eines Kunden ist, desto rentabler sind Kundenbindungsmaßnahmen, je niedriger der Customer Lifetime Value eines Kunden ist, desto notwendiger sind Maßnahmen zur Minimierung des Abwanderungsrisikos des Kunden (vgl. Engelen, Schneider (2021), S.13)."
      ],
      "metadata": {
        "id": "_79J23MpVO19"
      }
    },
    {
      "cell_type": "markdown",
      "source": [
        "# **Vorgehen**\n",
        "\n",
        "**Schritt 1: Data Preprocessing**\n",
        "\n",
        "Um mit den vorliegenden Daten zielführende Analysen durchführen und Modelle entwickeln zu können, muss im ersten Schritt zunächst eine Aufbereitung der Daten erfolgen.\n",
        "\n",
        "**Schritt 2: Classification**\n",
        "\n",
        "Zunächst gilt es, die Ist-Situation des Kundenstamms zu erfassen. Hierzu entwickeln wir ein Modell, welches auf Basis des Customer Lifetime Values für jeden einzelnen Kunden bestimmt, inwieweit dieser aktuell abwanderungsgefährdet ist (4 Kundenklassen auf Basis des Customer Lifetime Values: sehr abwanderungsgefährdet - gar nicht abwanderungsgefährdet).\n",
        "\n",
        "**Schritt 3: Regression**\n",
        "\n",
        "Um das Unternehmen handlungsfähig zu machen, ist ein Blick in die Zukunft notwendig. Deshalb entwickeln wir im zweiten Schritt ein Modell, welches den Customer Lifetime Value für jeden einzelnen Kunden für die Zukunft vorhersagt.\n",
        "\n",
        "**Schritt 4: Classification**\n",
        "\n",
        "Um die in Schritt 2 gewonnenenen Erkenntnisse tatsächlich nutzen zu können, erfolgt als nächstes die Entwicklungs eines Modells, welches - identisch zu Schritt 2 - auf Basis des Customer Lifetime Values für jeden einzelnen Kunden bestimmt, ob dieser abwanderungsgefährdet ist (=CLV < ???) oder nicht. Jedoch nicht wie in Schritt 2 auf Basis des aktuellen CLV sondern auf Basis des in Schritt 3 vorhergesagten CLV.\n",
        "\n",
        "**Schritt 5: Neuronales Netz - Frühwarnsystem**\n"
      ],
      "metadata": {
        "id": "0Oi8GkAJWdUF"
      }
    },
    {
      "cell_type": "markdown",
      "source": [
        "##**Schritt 1: Data Preprocessing**"
      ],
      "metadata": {
        "id": "5QVXU1qNmgNU"
      }
    },
    {
      "cell_type": "markdown",
      "source": [
        "Der Code import pandas as pd importiert die pandas-Bibliothek und weist ihr den Alias pd zu.\n",
        "\n",
        "Das Schlüsselwort import ermöglicht es, eine externe Bibliothek oder ein Modul in Python zu laden, um auf dessen Funktionen und Klassen zugreifen zu können. In diesem Fall wird die pandas-Bibliothek importiert. Der Import ermöglicht den Umgang mit Daten in tabellarischer Form, ähnlich wie in einer Excel-Tabelle\n",
        "\n",
        "Durch diesen Alias kann auf die Funktionen und Klassen von pandas zugegriffen werden, indem der Alias vor den entsprechenden Namen gestellt wird. Er erleichtert zudem das Schreiben von Code, da er kürzer und dadurch schneller zu tippen ist.\n",
        "\n",
        "\n",
        "\n",
        "\n",
        "Der Code import numpy as np importiert die numpy-Bibliothek und weist ihr den Alias np zu.\n",
        "\n",
        "numpy ist eine Python-Bibliothek, die numerische Berechnungen und Operationen mit Arrays ermöglicht. Sie stellt leistungsfähige Funktionen für mathematische Operationen, lineare Algebra, Zufallszahlen und andere numerische Operationen bereit.\n",
        "\n",
        "Durch die Verwendung des Aliases np kann auf die Funktionen und Klassen von numpy zugegriffen werden, indem der Alias vor den entsprechenden Namen gestellt wird. Auch hier erleichtert dies das Schreiben von Code, da der Alias kürzer und schneller zu tippen ist als der vollständige Bibliotheksname.\n",
        "\n",
        "\n",
        "\n",
        "Die StandardScaler-Klasse aus sklearn.preprocessing wird zweimal importiert. Dies deutet darauf hin, dass der Code später wahrscheinlich zwei separate Instanzen des StandardScaler-Objekts verwenden wird.\n",
        "\n",
        "Der **StandardScaler** ist ein Werkzeug für die **Datenpräparation**, das häufig in maschinellem Lernen verwendet wird. Es skaliert die Daten, indem es sie zentriert und auf Einheitsvarianz transformiert. Das bedeutet, dass die Daten so umgeformt werden, dass sie einen Durchschnittswert von 0 und eine Standardabweichung von 1 haben."
      ],
      "metadata": {
        "id": "FwmG8G0G4Tc7"
      }
    },
    {
      "cell_type": "code",
      "source": [
        "import pandas as pd\n",
        "import numpy as np\n",
        "from sklearn.preprocessing import StandardScaler\n",
        "from sklearn.preprocessing import StandardScaler"
      ],
      "metadata": {
        "id": "uYiT1IJLKKQ-"
      },
      "execution_count": null,
      "outputs": []
    },
    {
      "cell_type": "markdown",
      "source": [
        "\n",
        "Der Code df = pd.read_csv(\"/content/sample_data/WA_Fn-UseC_-Marketing-Customer-Value-Analysis.csv\") lädt unsere CSV-Datei in ein pandas DataFrame und weist es der Variablen df zu."
      ],
      "metadata": {
        "id": "ihJHSWvz--1N"
      }
    },
    {
      "cell_type": "code",
      "execution_count": null,
      "metadata": {
        "id": "e6QYWUhVGZU-"
      },
      "outputs": [],
      "source": [
        "#Daten einlesen\n",
        "df = pd.read_csv(\"/content/sample_data/WA_Fn-UseC_-Marketing-Customer-Value-Analysis 2.csv\")"
      ]
    },
    {
      "cell_type": "markdown",
      "source": [
        "Der Code df.columns = df.columns.str.replace(' ', '_') und df.head() führen zwei Operationen auf dem DataFrame df aus.\n",
        "\n",
        "Die Zeile df.columns = df.columns.str.replace(' ', '_') ersetzt alle Leerzeichen in den Spaltennamen unseres DataFrames durch Unterstriche.\n",
        "\n",
        "Die Methode columns gibt die Spaltennamen des DataFrame zurück, und str.replace(' ', '_') wird auf jeden Spaltennamen angewendet, um Leerzeichen durch Unterstriche zu ersetzen. Durch die Zuweisung der veränderten Spaltennamen zurück an df.columns werden die ursprünglichen Spaltennamen im DataFrame aktualisiert.\n",
        "\n",
        "Die Funktion df.head() zeigt uns die ersten fünf Zeilen des DataFrames df an, was uns dabei hilft, einen Überblick über die Struktur und den Inhalt des DataFrames zu erhalten."
      ],
      "metadata": {
        "id": "KTL1pUmH_eWc"
      }
    },
    {
      "cell_type": "markdown",
      "source": [
        "###**Cleansing**"
      ],
      "metadata": {
        "id": "pmQUiQGDm2rN"
      }
    },
    {
      "cell_type": "code",
      "source": [
        "#Überschriften umbenennen\n",
        "df.columns = df.columns.str.replace(' ', '_')\n",
        "df.head()"
      ],
      "metadata": {
        "id": "SpnA5eJnLAUm",
        "colab": {
          "base_uri": "https://localhost:8080/",
          "height": 386
        },
        "outputId": "fa4714b4-bf17-4480-9b01-372b930ae22d"
      },
      "execution_count": null,
      "outputs": [
        {
          "output_type": "execute_result",
          "data": {
            "text/plain": [
              "  Customer       State  Customer_Lifetime_Value Response  Coverage Education  \\\n",
              "0  BU79786  Washington              2763.519279       No     Basic  Bachelor   \n",
              "1  QZ44356     Arizona              6979.535903       No  Extended  Bachelor   \n",
              "2  AI49188      Nevada             12887.431650       No   Premium  Bachelor   \n",
              "3  WW63253  California              7645.861827       No     Basic  Bachelor   \n",
              "4  HB64268  Washington              2813.692575       No     Basic  Bachelor   \n",
              "\n",
              "  Effective_To_Date EmploymentStatus Gender  Income  ...  \\\n",
              "0           2/24/11         Employed      F   56274  ...   \n",
              "1           1/31/11       Unemployed      F       0  ...   \n",
              "2           2/19/11         Employed      F   48767  ...   \n",
              "3           1/20/11       Unemployed      M       0  ...   \n",
              "4            2/3/11         Employed      M   43836  ...   \n",
              "\n",
              "  Months_Since_Policy_Inception Number_of_Open_Complaints  Number_of_Policies  \\\n",
              "0                             5                         0                   1   \n",
              "1                            42                         0                   8   \n",
              "2                            38                         0                   2   \n",
              "3                            65                         0                   7   \n",
              "4                            44                         0                   1   \n",
              "\n",
              "      Policy_Type        Policy  Renew_Offer_Type  Sales_Channel  \\\n",
              "0  Corporate Auto  Corporate L3            Offer1          Agent   \n",
              "1   Personal Auto   Personal L3            Offer3          Agent   \n",
              "2   Personal Auto   Personal L3            Offer1          Agent   \n",
              "3  Corporate Auto  Corporate L2            Offer1    Call Center   \n",
              "4   Personal Auto   Personal L1            Offer1          Agent   \n",
              "\n",
              "  Total_Claim_Amount  Vehicle_Class Vehicle_Size  \n",
              "0         384.811147   Two-Door Car      Medsize  \n",
              "1        1131.464935  Four-Door Car      Medsize  \n",
              "2         566.472247   Two-Door Car      Medsize  \n",
              "3         529.881344            SUV      Medsize  \n",
              "4         138.130879  Four-Door Car      Medsize  \n",
              "\n",
              "[5 rows x 24 columns]"
            ],
            "text/html": [
              "\n",
              "  <div id=\"df-5f22a807-3ddf-4f47-a115-fda3ba43e226\">\n",
              "    <div class=\"colab-df-container\">\n",
              "      <div>\n",
              "<style scoped>\n",
              "    .dataframe tbody tr th:only-of-type {\n",
              "        vertical-align: middle;\n",
              "    }\n",
              "\n",
              "    .dataframe tbody tr th {\n",
              "        vertical-align: top;\n",
              "    }\n",
              "\n",
              "    .dataframe thead th {\n",
              "        text-align: right;\n",
              "    }\n",
              "</style>\n",
              "<table border=\"1\" class=\"dataframe\">\n",
              "  <thead>\n",
              "    <tr style=\"text-align: right;\">\n",
              "      <th></th>\n",
              "      <th>Customer</th>\n",
              "      <th>State</th>\n",
              "      <th>Customer_Lifetime_Value</th>\n",
              "      <th>Response</th>\n",
              "      <th>Coverage</th>\n",
              "      <th>Education</th>\n",
              "      <th>Effective_To_Date</th>\n",
              "      <th>EmploymentStatus</th>\n",
              "      <th>Gender</th>\n",
              "      <th>Income</th>\n",
              "      <th>...</th>\n",
              "      <th>Months_Since_Policy_Inception</th>\n",
              "      <th>Number_of_Open_Complaints</th>\n",
              "      <th>Number_of_Policies</th>\n",
              "      <th>Policy_Type</th>\n",
              "      <th>Policy</th>\n",
              "      <th>Renew_Offer_Type</th>\n",
              "      <th>Sales_Channel</th>\n",
              "      <th>Total_Claim_Amount</th>\n",
              "      <th>Vehicle_Class</th>\n",
              "      <th>Vehicle_Size</th>\n",
              "    </tr>\n",
              "  </thead>\n",
              "  <tbody>\n",
              "    <tr>\n",
              "      <th>0</th>\n",
              "      <td>BU79786</td>\n",
              "      <td>Washington</td>\n",
              "      <td>2763.519279</td>\n",
              "      <td>No</td>\n",
              "      <td>Basic</td>\n",
              "      <td>Bachelor</td>\n",
              "      <td>2/24/11</td>\n",
              "      <td>Employed</td>\n",
              "      <td>F</td>\n",
              "      <td>56274</td>\n",
              "      <td>...</td>\n",
              "      <td>5</td>\n",
              "      <td>0</td>\n",
              "      <td>1</td>\n",
              "      <td>Corporate Auto</td>\n",
              "      <td>Corporate L3</td>\n",
              "      <td>Offer1</td>\n",
              "      <td>Agent</td>\n",
              "      <td>384.811147</td>\n",
              "      <td>Two-Door Car</td>\n",
              "      <td>Medsize</td>\n",
              "    </tr>\n",
              "    <tr>\n",
              "      <th>1</th>\n",
              "      <td>QZ44356</td>\n",
              "      <td>Arizona</td>\n",
              "      <td>6979.535903</td>\n",
              "      <td>No</td>\n",
              "      <td>Extended</td>\n",
              "      <td>Bachelor</td>\n",
              "      <td>1/31/11</td>\n",
              "      <td>Unemployed</td>\n",
              "      <td>F</td>\n",
              "      <td>0</td>\n",
              "      <td>...</td>\n",
              "      <td>42</td>\n",
              "      <td>0</td>\n",
              "      <td>8</td>\n",
              "      <td>Personal Auto</td>\n",
              "      <td>Personal L3</td>\n",
              "      <td>Offer3</td>\n",
              "      <td>Agent</td>\n",
              "      <td>1131.464935</td>\n",
              "      <td>Four-Door Car</td>\n",
              "      <td>Medsize</td>\n",
              "    </tr>\n",
              "    <tr>\n",
              "      <th>2</th>\n",
              "      <td>AI49188</td>\n",
              "      <td>Nevada</td>\n",
              "      <td>12887.431650</td>\n",
              "      <td>No</td>\n",
              "      <td>Premium</td>\n",
              "      <td>Bachelor</td>\n",
              "      <td>2/19/11</td>\n",
              "      <td>Employed</td>\n",
              "      <td>F</td>\n",
              "      <td>48767</td>\n",
              "      <td>...</td>\n",
              "      <td>38</td>\n",
              "      <td>0</td>\n",
              "      <td>2</td>\n",
              "      <td>Personal Auto</td>\n",
              "      <td>Personal L3</td>\n",
              "      <td>Offer1</td>\n",
              "      <td>Agent</td>\n",
              "      <td>566.472247</td>\n",
              "      <td>Two-Door Car</td>\n",
              "      <td>Medsize</td>\n",
              "    </tr>\n",
              "    <tr>\n",
              "      <th>3</th>\n",
              "      <td>WW63253</td>\n",
              "      <td>California</td>\n",
              "      <td>7645.861827</td>\n",
              "      <td>No</td>\n",
              "      <td>Basic</td>\n",
              "      <td>Bachelor</td>\n",
              "      <td>1/20/11</td>\n",
              "      <td>Unemployed</td>\n",
              "      <td>M</td>\n",
              "      <td>0</td>\n",
              "      <td>...</td>\n",
              "      <td>65</td>\n",
              "      <td>0</td>\n",
              "      <td>7</td>\n",
              "      <td>Corporate Auto</td>\n",
              "      <td>Corporate L2</td>\n",
              "      <td>Offer1</td>\n",
              "      <td>Call Center</td>\n",
              "      <td>529.881344</td>\n",
              "      <td>SUV</td>\n",
              "      <td>Medsize</td>\n",
              "    </tr>\n",
              "    <tr>\n",
              "      <th>4</th>\n",
              "      <td>HB64268</td>\n",
              "      <td>Washington</td>\n",
              "      <td>2813.692575</td>\n",
              "      <td>No</td>\n",
              "      <td>Basic</td>\n",
              "      <td>Bachelor</td>\n",
              "      <td>2/3/11</td>\n",
              "      <td>Employed</td>\n",
              "      <td>M</td>\n",
              "      <td>43836</td>\n",
              "      <td>...</td>\n",
              "      <td>44</td>\n",
              "      <td>0</td>\n",
              "      <td>1</td>\n",
              "      <td>Personal Auto</td>\n",
              "      <td>Personal L1</td>\n",
              "      <td>Offer1</td>\n",
              "      <td>Agent</td>\n",
              "      <td>138.130879</td>\n",
              "      <td>Four-Door Car</td>\n",
              "      <td>Medsize</td>\n",
              "    </tr>\n",
              "  </tbody>\n",
              "</table>\n",
              "<p>5 rows × 24 columns</p>\n",
              "</div>\n",
              "      <button class=\"colab-df-convert\" onclick=\"convertToInteractive('df-5f22a807-3ddf-4f47-a115-fda3ba43e226')\"\n",
              "              title=\"Convert this dataframe to an interactive table.\"\n",
              "              style=\"display:none;\">\n",
              "        \n",
              "  <svg xmlns=\"http://www.w3.org/2000/svg\" height=\"24px\"viewBox=\"0 0 24 24\"\n",
              "       width=\"24px\">\n",
              "    <path d=\"M0 0h24v24H0V0z\" fill=\"none\"/>\n",
              "    <path d=\"M18.56 5.44l.94 2.06.94-2.06 2.06-.94-2.06-.94-.94-2.06-.94 2.06-2.06.94zm-11 1L8.5 8.5l.94-2.06 2.06-.94-2.06-.94L8.5 2.5l-.94 2.06-2.06.94zm10 10l.94 2.06.94-2.06 2.06-.94-2.06-.94-.94-2.06-.94 2.06-2.06.94z\"/><path d=\"M17.41 7.96l-1.37-1.37c-.4-.4-.92-.59-1.43-.59-.52 0-1.04.2-1.43.59L10.3 9.45l-7.72 7.72c-.78.78-.78 2.05 0 2.83L4 21.41c.39.39.9.59 1.41.59.51 0 1.02-.2 1.41-.59l7.78-7.78 2.81-2.81c.8-.78.8-2.07 0-2.86zM5.41 20L4 18.59l7.72-7.72 1.47 1.35L5.41 20z\"/>\n",
              "  </svg>\n",
              "      </button>\n",
              "      \n",
              "  <style>\n",
              "    .colab-df-container {\n",
              "      display:flex;\n",
              "      flex-wrap:wrap;\n",
              "      gap: 12px;\n",
              "    }\n",
              "\n",
              "    .colab-df-convert {\n",
              "      background-color: #E8F0FE;\n",
              "      border: none;\n",
              "      border-radius: 50%;\n",
              "      cursor: pointer;\n",
              "      display: none;\n",
              "      fill: #1967D2;\n",
              "      height: 32px;\n",
              "      padding: 0 0 0 0;\n",
              "      width: 32px;\n",
              "    }\n",
              "\n",
              "    .colab-df-convert:hover {\n",
              "      background-color: #E2EBFA;\n",
              "      box-shadow: 0px 1px 2px rgba(60, 64, 67, 0.3), 0px 1px 3px 1px rgba(60, 64, 67, 0.15);\n",
              "      fill: #174EA6;\n",
              "    }\n",
              "\n",
              "    [theme=dark] .colab-df-convert {\n",
              "      background-color: #3B4455;\n",
              "      fill: #D2E3FC;\n",
              "    }\n",
              "\n",
              "    [theme=dark] .colab-df-convert:hover {\n",
              "      background-color: #434B5C;\n",
              "      box-shadow: 0px 1px 3px 1px rgba(0, 0, 0, 0.15);\n",
              "      filter: drop-shadow(0px 1px 2px rgba(0, 0, 0, 0.3));\n",
              "      fill: #FFFFFF;\n",
              "    }\n",
              "  </style>\n",
              "\n",
              "      <script>\n",
              "        const buttonEl =\n",
              "          document.querySelector('#df-5f22a807-3ddf-4f47-a115-fda3ba43e226 button.colab-df-convert');\n",
              "        buttonEl.style.display =\n",
              "          google.colab.kernel.accessAllowed ? 'block' : 'none';\n",
              "\n",
              "        async function convertToInteractive(key) {\n",
              "          const element = document.querySelector('#df-5f22a807-3ddf-4f47-a115-fda3ba43e226');\n",
              "          const dataTable =\n",
              "            await google.colab.kernel.invokeFunction('convertToInteractive',\n",
              "                                                     [key], {});\n",
              "          if (!dataTable) return;\n",
              "\n",
              "          const docLinkHtml = 'Like what you see? Visit the ' +\n",
              "            '<a target=\"_blank\" href=https://colab.research.google.com/notebooks/data_table.ipynb>data table notebook</a>'\n",
              "            + ' to learn more about interactive tables.';\n",
              "          element.innerHTML = '';\n",
              "          dataTable['output_type'] = 'display_data';\n",
              "          await google.colab.output.renderOutput(dataTable, element);\n",
              "          const docLink = document.createElement('div');\n",
              "          docLink.innerHTML = docLinkHtml;\n",
              "          element.appendChild(docLink);\n",
              "        }\n",
              "      </script>\n",
              "    </div>\n",
              "  </div>\n",
              "  "
            ]
          },
          "metadata": {},
          "execution_count": 101
        }
      ]
    },
    {
      "cell_type": "markdown",
      "source": [
        "\n",
        "Den Code df.isna().sum() verwenden wir, um die Anzahl der fehlenden Werte (NaN-Werte) für jede Spalte in einem DataFrame df zu ermitteln.\n",
        "\n",
        "Das Ergebnis ist eine Serie, die die Anzahl der fehlenden Werte für jede Spalte im DataFrame anzeigt. Die Indexeinträge der Serie sind die Spaltennamen des DataFrames, die Werte stellen die entsprechenden Anzahl der fehlenden Werte dar."
      ],
      "metadata": {
        "id": "giB2bCTlAQeL"
      }
    },
    {
      "cell_type": "code",
      "source": [
        "# Datensatz auf fehlende Werte überprüfen\n",
        "df.isna().sum()"
      ],
      "metadata": {
        "id": "GZlF1Fu7KV3d",
        "colab": {
          "base_uri": "https://localhost:8080/"
        },
        "outputId": "7a7d2ede-0d7d-4262-a597-c97f800a8b70"
      },
      "execution_count": null,
      "outputs": [
        {
          "output_type": "execute_result",
          "data": {
            "text/plain": [
              "Customer                         0\n",
              "State                            0\n",
              "Customer_Lifetime_Value          0\n",
              "Response                         0\n",
              "Coverage                         0\n",
              "Education                        0\n",
              "Effective_To_Date                0\n",
              "EmploymentStatus                 0\n",
              "Gender                           0\n",
              "Income                           0\n",
              "Location_Code                    0\n",
              "Marital_Status                   0\n",
              "Monthly_Premium_Auto             0\n",
              "Months_Since_Last_Claim          0\n",
              "Months_Since_Policy_Inception    0\n",
              "Number_of_Open_Complaints        0\n",
              "Number_of_Policies               0\n",
              "Policy_Type                      0\n",
              "Policy                           0\n",
              "Renew_Offer_Type                 0\n",
              "Sales_Channel                    0\n",
              "Total_Claim_Amount               0\n",
              "Vehicle_Class                    0\n",
              "Vehicle_Size                     0\n",
              "dtype: int64"
            ]
          },
          "metadata": {},
          "execution_count": 102
        }
      ]
    },
    {
      "cell_type": "markdown",
      "source": [
        "Mit dem Code df.duplicated() können wir überprüft, ob es im DataFrame df doppelte Zeilen gibt. Dafür werden die Zeilen des DataFrames verglichen. Ist eine Zeile identisch zu einer vorherigen, wird sie als \"dupliziert\" markeirt. In einer booleschen Maske wird angegeben, welche Zeilen dupliziert sind und welche nicht. True steht dabei für duplizierte Zeilen und False für die nicht-duplizierten Zeilen."
      ],
      "metadata": {
        "id": "LDAYgbYdAmIv"
      }
    },
    {
      "cell_type": "code",
      "source": [
        "#Datensatz auf Duplikate überprüfen\n",
        "df.duplicated().sum()"
      ],
      "metadata": {
        "id": "WgzXSM2RMUQC",
        "colab": {
          "base_uri": "https://localhost:8080/"
        },
        "outputId": "2a3363bc-c79b-4f86-f26d-dcde49e95ecd"
      },
      "execution_count": null,
      "outputs": [
        {
          "output_type": "execute_result",
          "data": {
            "text/plain": [
              "0"
            ]
          },
          "metadata": {},
          "execution_count": 103
        }
      ]
    },
    {
      "cell_type": "markdown",
      "source": [
        "###**Exploration -> noch ausführlicher?**"
      ],
      "metadata": {
        "id": "ZWdI24PLo0v5"
      }
    },
    {
      "cell_type": "markdown",
      "source": [
        "Der Code df.describe() erzeugt eine statistische Zusammenfassung der numerischen Spalten eines DataFrame df. Es werden verschiedene statistische Kennzahlen wie  Anzahl, Mittelwert (mean), Standardabweichung (std), Minimum (min), 25. Perzentil (25%), Median (50%), 75. Perzentil (75%) und Maximum (max) ausgegeben.\n",
        "\n",
        "Uns hilft dies dabei, schnell einen Überblick über die Verteilung und die wichtigsten statistischen Informationen der Daten in den numerischen Spalten zu bekommt, um ein erstes Verständnis der Daten zu gewinnen und mögliche Ausreißer oder ungewöhnliche Werte zu erkennen."
      ],
      "metadata": {
        "id": "1evMXhILCKYA"
      }
    },
    {
      "cell_type": "code",
      "source": [
        "#Datensatz mit statistischen Informationen\n",
        "df.describe()"
      ],
      "metadata": {
        "id": "K7tVL3UDSP_3",
        "colab": {
          "base_uri": "https://localhost:8080/",
          "height": 364
        },
        "outputId": "9421fd04-0401-4916-82c3-974d1984dbfa"
      },
      "execution_count": null,
      "outputs": [
        {
          "output_type": "execute_result",
          "data": {
            "text/plain": [
              "       Customer_Lifetime_Value        Income  Monthly_Premium_Auto  \\\n",
              "count              9134.000000   9134.000000           9134.000000   \n",
              "mean               8004.940475  37657.380009             93.219291   \n",
              "std                6870.967608  30379.904734             34.407967   \n",
              "min                1898.007675      0.000000             61.000000   \n",
              "25%                3994.251794      0.000000             68.000000   \n",
              "50%                5780.182197  33889.500000             83.000000   \n",
              "75%                8962.167041  62320.000000            109.000000   \n",
              "max               83325.381190  99981.000000            298.000000   \n",
              "\n",
              "       Months_Since_Last_Claim  Months_Since_Policy_Inception  \\\n",
              "count              9134.000000                    9134.000000   \n",
              "mean                 15.097000                      48.064594   \n",
              "std                  10.073257                      27.905991   \n",
              "min                   0.000000                       0.000000   \n",
              "25%                   6.000000                      24.000000   \n",
              "50%                  14.000000                      48.000000   \n",
              "75%                  23.000000                      71.000000   \n",
              "max                  35.000000                      99.000000   \n",
              "\n",
              "       Number_of_Open_Complaints  Number_of_Policies  Total_Claim_Amount  \n",
              "count                9134.000000         9134.000000         9134.000000  \n",
              "mean                    0.384388            2.966170          434.088794  \n",
              "std                     0.910384            2.390182          290.500092  \n",
              "min                     0.000000            1.000000            0.099007  \n",
              "25%                     0.000000            1.000000          272.258244  \n",
              "50%                     0.000000            2.000000          383.945434  \n",
              "75%                     0.000000            4.000000          547.514839  \n",
              "max                     5.000000            9.000000         2893.239678  "
            ],
            "text/html": [
              "\n",
              "  <div id=\"df-01f5269f-873b-40d0-b52c-b244bbc4d838\">\n",
              "    <div class=\"colab-df-container\">\n",
              "      <div>\n",
              "<style scoped>\n",
              "    .dataframe tbody tr th:only-of-type {\n",
              "        vertical-align: middle;\n",
              "    }\n",
              "\n",
              "    .dataframe tbody tr th {\n",
              "        vertical-align: top;\n",
              "    }\n",
              "\n",
              "    .dataframe thead th {\n",
              "        text-align: right;\n",
              "    }\n",
              "</style>\n",
              "<table border=\"1\" class=\"dataframe\">\n",
              "  <thead>\n",
              "    <tr style=\"text-align: right;\">\n",
              "      <th></th>\n",
              "      <th>Customer_Lifetime_Value</th>\n",
              "      <th>Income</th>\n",
              "      <th>Monthly_Premium_Auto</th>\n",
              "      <th>Months_Since_Last_Claim</th>\n",
              "      <th>Months_Since_Policy_Inception</th>\n",
              "      <th>Number_of_Open_Complaints</th>\n",
              "      <th>Number_of_Policies</th>\n",
              "      <th>Total_Claim_Amount</th>\n",
              "    </tr>\n",
              "  </thead>\n",
              "  <tbody>\n",
              "    <tr>\n",
              "      <th>count</th>\n",
              "      <td>9134.000000</td>\n",
              "      <td>9134.000000</td>\n",
              "      <td>9134.000000</td>\n",
              "      <td>9134.000000</td>\n",
              "      <td>9134.000000</td>\n",
              "      <td>9134.000000</td>\n",
              "      <td>9134.000000</td>\n",
              "      <td>9134.000000</td>\n",
              "    </tr>\n",
              "    <tr>\n",
              "      <th>mean</th>\n",
              "      <td>8004.940475</td>\n",
              "      <td>37657.380009</td>\n",
              "      <td>93.219291</td>\n",
              "      <td>15.097000</td>\n",
              "      <td>48.064594</td>\n",
              "      <td>0.384388</td>\n",
              "      <td>2.966170</td>\n",
              "      <td>434.088794</td>\n",
              "    </tr>\n",
              "    <tr>\n",
              "      <th>std</th>\n",
              "      <td>6870.967608</td>\n",
              "      <td>30379.904734</td>\n",
              "      <td>34.407967</td>\n",
              "      <td>10.073257</td>\n",
              "      <td>27.905991</td>\n",
              "      <td>0.910384</td>\n",
              "      <td>2.390182</td>\n",
              "      <td>290.500092</td>\n",
              "    </tr>\n",
              "    <tr>\n",
              "      <th>min</th>\n",
              "      <td>1898.007675</td>\n",
              "      <td>0.000000</td>\n",
              "      <td>61.000000</td>\n",
              "      <td>0.000000</td>\n",
              "      <td>0.000000</td>\n",
              "      <td>0.000000</td>\n",
              "      <td>1.000000</td>\n",
              "      <td>0.099007</td>\n",
              "    </tr>\n",
              "    <tr>\n",
              "      <th>25%</th>\n",
              "      <td>3994.251794</td>\n",
              "      <td>0.000000</td>\n",
              "      <td>68.000000</td>\n",
              "      <td>6.000000</td>\n",
              "      <td>24.000000</td>\n",
              "      <td>0.000000</td>\n",
              "      <td>1.000000</td>\n",
              "      <td>272.258244</td>\n",
              "    </tr>\n",
              "    <tr>\n",
              "      <th>50%</th>\n",
              "      <td>5780.182197</td>\n",
              "      <td>33889.500000</td>\n",
              "      <td>83.000000</td>\n",
              "      <td>14.000000</td>\n",
              "      <td>48.000000</td>\n",
              "      <td>0.000000</td>\n",
              "      <td>2.000000</td>\n",
              "      <td>383.945434</td>\n",
              "    </tr>\n",
              "    <tr>\n",
              "      <th>75%</th>\n",
              "      <td>8962.167041</td>\n",
              "      <td>62320.000000</td>\n",
              "      <td>109.000000</td>\n",
              "      <td>23.000000</td>\n",
              "      <td>71.000000</td>\n",
              "      <td>0.000000</td>\n",
              "      <td>4.000000</td>\n",
              "      <td>547.514839</td>\n",
              "    </tr>\n",
              "    <tr>\n",
              "      <th>max</th>\n",
              "      <td>83325.381190</td>\n",
              "      <td>99981.000000</td>\n",
              "      <td>298.000000</td>\n",
              "      <td>35.000000</td>\n",
              "      <td>99.000000</td>\n",
              "      <td>5.000000</td>\n",
              "      <td>9.000000</td>\n",
              "      <td>2893.239678</td>\n",
              "    </tr>\n",
              "  </tbody>\n",
              "</table>\n",
              "</div>\n",
              "      <button class=\"colab-df-convert\" onclick=\"convertToInteractive('df-01f5269f-873b-40d0-b52c-b244bbc4d838')\"\n",
              "              title=\"Convert this dataframe to an interactive table.\"\n",
              "              style=\"display:none;\">\n",
              "        \n",
              "  <svg xmlns=\"http://www.w3.org/2000/svg\" height=\"24px\"viewBox=\"0 0 24 24\"\n",
              "       width=\"24px\">\n",
              "    <path d=\"M0 0h24v24H0V0z\" fill=\"none\"/>\n",
              "    <path d=\"M18.56 5.44l.94 2.06.94-2.06 2.06-.94-2.06-.94-.94-2.06-.94 2.06-2.06.94zm-11 1L8.5 8.5l.94-2.06 2.06-.94-2.06-.94L8.5 2.5l-.94 2.06-2.06.94zm10 10l.94 2.06.94-2.06 2.06-.94-2.06-.94-.94-2.06-.94 2.06-2.06.94z\"/><path d=\"M17.41 7.96l-1.37-1.37c-.4-.4-.92-.59-1.43-.59-.52 0-1.04.2-1.43.59L10.3 9.45l-7.72 7.72c-.78.78-.78 2.05 0 2.83L4 21.41c.39.39.9.59 1.41.59.51 0 1.02-.2 1.41-.59l7.78-7.78 2.81-2.81c.8-.78.8-2.07 0-2.86zM5.41 20L4 18.59l7.72-7.72 1.47 1.35L5.41 20z\"/>\n",
              "  </svg>\n",
              "      </button>\n",
              "      \n",
              "  <style>\n",
              "    .colab-df-container {\n",
              "      display:flex;\n",
              "      flex-wrap:wrap;\n",
              "      gap: 12px;\n",
              "    }\n",
              "\n",
              "    .colab-df-convert {\n",
              "      background-color: #E8F0FE;\n",
              "      border: none;\n",
              "      border-radius: 50%;\n",
              "      cursor: pointer;\n",
              "      display: none;\n",
              "      fill: #1967D2;\n",
              "      height: 32px;\n",
              "      padding: 0 0 0 0;\n",
              "      width: 32px;\n",
              "    }\n",
              "\n",
              "    .colab-df-convert:hover {\n",
              "      background-color: #E2EBFA;\n",
              "      box-shadow: 0px 1px 2px rgba(60, 64, 67, 0.3), 0px 1px 3px 1px rgba(60, 64, 67, 0.15);\n",
              "      fill: #174EA6;\n",
              "    }\n",
              "\n",
              "    [theme=dark] .colab-df-convert {\n",
              "      background-color: #3B4455;\n",
              "      fill: #D2E3FC;\n",
              "    }\n",
              "\n",
              "    [theme=dark] .colab-df-convert:hover {\n",
              "      background-color: #434B5C;\n",
              "      box-shadow: 0px 1px 3px 1px rgba(0, 0, 0, 0.15);\n",
              "      filter: drop-shadow(0px 1px 2px rgba(0, 0, 0, 0.3));\n",
              "      fill: #FFFFFF;\n",
              "    }\n",
              "  </style>\n",
              "\n",
              "      <script>\n",
              "        const buttonEl =\n",
              "          document.querySelector('#df-01f5269f-873b-40d0-b52c-b244bbc4d838 button.colab-df-convert');\n",
              "        buttonEl.style.display =\n",
              "          google.colab.kernel.accessAllowed ? 'block' : 'none';\n",
              "\n",
              "        async function convertToInteractive(key) {\n",
              "          const element = document.querySelector('#df-01f5269f-873b-40d0-b52c-b244bbc4d838');\n",
              "          const dataTable =\n",
              "            await google.colab.kernel.invokeFunction('convertToInteractive',\n",
              "                                                     [key], {});\n",
              "          if (!dataTable) return;\n",
              "\n",
              "          const docLinkHtml = 'Like what you see? Visit the ' +\n",
              "            '<a target=\"_blank\" href=https://colab.research.google.com/notebooks/data_table.ipynb>data table notebook</a>'\n",
              "            + ' to learn more about interactive tables.';\n",
              "          element.innerHTML = '';\n",
              "          dataTable['output_type'] = 'display_data';\n",
              "          await google.colab.output.renderOutput(dataTable, element);\n",
              "          const docLink = document.createElement('div');\n",
              "          docLink.innerHTML = docLinkHtml;\n",
              "          element.appendChild(docLink);\n",
              "        }\n",
              "      </script>\n",
              "    </div>\n",
              "  </div>\n",
              "  "
            ]
          },
          "metadata": {},
          "execution_count": 104
        }
      ]
    },
    {
      "cell_type": "markdown",
      "source": [
        "Der Code df.dtypes gibt die Datentypen der Spalten im DataFrame df zurück.\n",
        "\n",
        "Die Methode dtypes wird auf das DataFrame df angewendet und gibt eine Serie zurück, in der die Spaltennamen des DataFrames den entsprechenden Datentypen zugeordnet sind. In pandas werden Datentypen wie int64 (ganze Zahl), float64 (Gleitkommazahl), object (Zeichenkette) und datetime64 (Datum und Uhrzeit) häufig verwendet.\n",
        "\n",
        "Das Überprüfen der Datentypen einer DataFrame-Spalte ist wichtig für uns, um sicherzustellen, dass die Daten korrekt interpretiert werden und um anschließend geeignete Datenverarbeitungsschritte durchzuführen. Es hilft uns auch bei der Identifizierung von Spalten, die möglicherweise fehlerhafte oder unerwartete Datentypen haben, die möglicherweise angepasst oder bereinigt werden müssen."
      ],
      "metadata": {
        "id": "clbSvhCODTMY"
      }
    },
    {
      "cell_type": "code",
      "source": [
        "df.info()"
      ],
      "metadata": {
        "colab": {
          "base_uri": "https://localhost:8080/"
        },
        "id": "zVl7athbyDsP",
        "outputId": "100783a0-9f37-4aa0-ea66-54781f3c9b0e"
      },
      "execution_count": null,
      "outputs": [
        {
          "output_type": "stream",
          "name": "stdout",
          "text": [
            "<class 'pandas.core.frame.DataFrame'>\n",
            "RangeIndex: 9134 entries, 0 to 9133\n",
            "Data columns (total 24 columns):\n",
            " #   Column                         Non-Null Count  Dtype  \n",
            "---  ------                         --------------  -----  \n",
            " 0   Customer                       9134 non-null   object \n",
            " 1   State                          9134 non-null   object \n",
            " 2   Customer_Lifetime_Value        9134 non-null   float64\n",
            " 3   Response                       9134 non-null   object \n",
            " 4   Coverage                       9134 non-null   object \n",
            " 5   Education                      9134 non-null   object \n",
            " 6   Effective_To_Date              9134 non-null   object \n",
            " 7   EmploymentStatus               9134 non-null   object \n",
            " 8   Gender                         9134 non-null   object \n",
            " 9   Income                         9134 non-null   int64  \n",
            " 10  Location_Code                  9134 non-null   object \n",
            " 11  Marital_Status                 9134 non-null   object \n",
            " 12  Monthly_Premium_Auto           9134 non-null   int64  \n",
            " 13  Months_Since_Last_Claim        9134 non-null   int64  \n",
            " 14  Months_Since_Policy_Inception  9134 non-null   int64  \n",
            " 15  Number_of_Open_Complaints      9134 non-null   int64  \n",
            " 16  Number_of_Policies             9134 non-null   int64  \n",
            " 17  Policy_Type                    9134 non-null   object \n",
            " 18  Policy                         9134 non-null   object \n",
            " 19  Renew_Offer_Type               9134 non-null   object \n",
            " 20  Sales_Channel                  9134 non-null   object \n",
            " 21  Total_Claim_Amount             9134 non-null   float64\n",
            " 22  Vehicle_Class                  9134 non-null   object \n",
            " 23  Vehicle_Size                   9134 non-null   object \n",
            "dtypes: float64(2), int64(6), object(16)\n",
            "memory usage: 1.7+ MB\n"
          ]
        }
      ]
    },
    {
      "cell_type": "markdown",
      "source": [
        "###**Encoding**"
      ],
      "metadata": {
        "id": "GRsSXx_hnD8S"
      }
    },
    {
      "cell_type": "code",
      "source": [
        "df.Customer_Lifetime_Value.describe()"
      ],
      "metadata": {
        "colab": {
          "base_uri": "https://localhost:8080/"
        },
        "id": "h3GUkKdG6P3m",
        "outputId": "9791c41d-56c4-4270-a338-3fae2a8c7c28"
      },
      "execution_count": null,
      "outputs": [
        {
          "output_type": "execute_result",
          "data": {
            "text/plain": [
              "count     9134.000000\n",
              "mean      8004.940475\n",
              "std       6870.967608\n",
              "min       1898.007675\n",
              "25%       3994.251794\n",
              "50%       5780.182197\n",
              "75%       8962.167041\n",
              "max      83325.381190\n",
              "Name: Customer_Lifetime_Value, dtype: float64"
            ]
          },
          "metadata": {},
          "execution_count": 106
        }
      ]
    },
    {
      "cell_type": "code",
      "source": [
        "print(df.Customer_Lifetime_Value.min())\n",
        "print(df.Customer_Lifetime_Value.max())"
      ],
      "metadata": {
        "colab": {
          "base_uri": "https://localhost:8080/"
        },
        "id": "VCA9Nx-h2sxL",
        "outputId": "27bf84c5-8ed5-4de4-8445-f69cee0c000f"
      },
      "execution_count": null,
      "outputs": [
        {
          "output_type": "stream",
          "name": "stdout",
          "text": [
            "1898.007675\n",
            "83325.38119\n"
          ]
        }
      ]
    },
    {
      "cell_type": "code",
      "source": [
        "# Zielvariable bestimmen (mehrere Kategorien)\n",
        "from collections import Counter\n",
        "from matplotlib import pyplot\n",
        "\n",
        "CLV_churn = np.where(df.Customer_Lifetime_Value < 3994, 0, np.where(df.Customer_Lifetime_Value < 5780, 1, np.where(df.Customer_Lifetime_Value < 8962, 2, 3)))\n",
        "CLV_churn"
      ],
      "metadata": {
        "colab": {
          "base_uri": "https://localhost:8080/"
        },
        "id": "Tm3JzPw3XdH9",
        "outputId": "fff0b17c-ceb2-4033-f626-7a9dccbb373e"
      },
      "execution_count": null,
      "outputs": [
        {
          "output_type": "execute_result",
          "data": {
            "text/plain": [
              "array([0, 2, 3, ..., 2, 2, 0])"
            ]
          },
          "metadata": {},
          "execution_count": 108
        }
      ]
    },
    {
      "cell_type": "code",
      "source": [
        "# In Data Frame umwandeln\n",
        "df_1 = pd.DataFrame(CLV_churn,\n",
        "                         columns=['CLV_churn'])\n",
        "df_1"
      ],
      "metadata": {
        "colab": {
          "base_uri": "https://localhost:8080/",
          "height": 423
        },
        "id": "8czUepcMY1Ls",
        "outputId": "4bc9b54e-e78b-4f34-eddf-156af5b4ba64"
      },
      "execution_count": null,
      "outputs": [
        {
          "output_type": "execute_result",
          "data": {
            "text/plain": [
              "      CLV_churn\n",
              "0             0\n",
              "1             2\n",
              "2             3\n",
              "3             2\n",
              "4             0\n",
              "...         ...\n",
              "9129          3\n",
              "9130          0\n",
              "9131          2\n",
              "9132          2\n",
              "9133          0\n",
              "\n",
              "[9134 rows x 1 columns]"
            ],
            "text/html": [
              "\n",
              "  <div id=\"df-897f5a33-45aa-4e24-bba7-50e570253421\">\n",
              "    <div class=\"colab-df-container\">\n",
              "      <div>\n",
              "<style scoped>\n",
              "    .dataframe tbody tr th:only-of-type {\n",
              "        vertical-align: middle;\n",
              "    }\n",
              "\n",
              "    .dataframe tbody tr th {\n",
              "        vertical-align: top;\n",
              "    }\n",
              "\n",
              "    .dataframe thead th {\n",
              "        text-align: right;\n",
              "    }\n",
              "</style>\n",
              "<table border=\"1\" class=\"dataframe\">\n",
              "  <thead>\n",
              "    <tr style=\"text-align: right;\">\n",
              "      <th></th>\n",
              "      <th>CLV_churn</th>\n",
              "    </tr>\n",
              "  </thead>\n",
              "  <tbody>\n",
              "    <tr>\n",
              "      <th>0</th>\n",
              "      <td>0</td>\n",
              "    </tr>\n",
              "    <tr>\n",
              "      <th>1</th>\n",
              "      <td>2</td>\n",
              "    </tr>\n",
              "    <tr>\n",
              "      <th>2</th>\n",
              "      <td>3</td>\n",
              "    </tr>\n",
              "    <tr>\n",
              "      <th>3</th>\n",
              "      <td>2</td>\n",
              "    </tr>\n",
              "    <tr>\n",
              "      <th>4</th>\n",
              "      <td>0</td>\n",
              "    </tr>\n",
              "    <tr>\n",
              "      <th>...</th>\n",
              "      <td>...</td>\n",
              "    </tr>\n",
              "    <tr>\n",
              "      <th>9129</th>\n",
              "      <td>3</td>\n",
              "    </tr>\n",
              "    <tr>\n",
              "      <th>9130</th>\n",
              "      <td>0</td>\n",
              "    </tr>\n",
              "    <tr>\n",
              "      <th>9131</th>\n",
              "      <td>2</td>\n",
              "    </tr>\n",
              "    <tr>\n",
              "      <th>9132</th>\n",
              "      <td>2</td>\n",
              "    </tr>\n",
              "    <tr>\n",
              "      <th>9133</th>\n",
              "      <td>0</td>\n",
              "    </tr>\n",
              "  </tbody>\n",
              "</table>\n",
              "<p>9134 rows × 1 columns</p>\n",
              "</div>\n",
              "      <button class=\"colab-df-convert\" onclick=\"convertToInteractive('df-897f5a33-45aa-4e24-bba7-50e570253421')\"\n",
              "              title=\"Convert this dataframe to an interactive table.\"\n",
              "              style=\"display:none;\">\n",
              "        \n",
              "  <svg xmlns=\"http://www.w3.org/2000/svg\" height=\"24px\"viewBox=\"0 0 24 24\"\n",
              "       width=\"24px\">\n",
              "    <path d=\"M0 0h24v24H0V0z\" fill=\"none\"/>\n",
              "    <path d=\"M18.56 5.44l.94 2.06.94-2.06 2.06-.94-2.06-.94-.94-2.06-.94 2.06-2.06.94zm-11 1L8.5 8.5l.94-2.06 2.06-.94-2.06-.94L8.5 2.5l-.94 2.06-2.06.94zm10 10l.94 2.06.94-2.06 2.06-.94-2.06-.94-.94-2.06-.94 2.06-2.06.94z\"/><path d=\"M17.41 7.96l-1.37-1.37c-.4-.4-.92-.59-1.43-.59-.52 0-1.04.2-1.43.59L10.3 9.45l-7.72 7.72c-.78.78-.78 2.05 0 2.83L4 21.41c.39.39.9.59 1.41.59.51 0 1.02-.2 1.41-.59l7.78-7.78 2.81-2.81c.8-.78.8-2.07 0-2.86zM5.41 20L4 18.59l7.72-7.72 1.47 1.35L5.41 20z\"/>\n",
              "  </svg>\n",
              "      </button>\n",
              "      \n",
              "  <style>\n",
              "    .colab-df-container {\n",
              "      display:flex;\n",
              "      flex-wrap:wrap;\n",
              "      gap: 12px;\n",
              "    }\n",
              "\n",
              "    .colab-df-convert {\n",
              "      background-color: #E8F0FE;\n",
              "      border: none;\n",
              "      border-radius: 50%;\n",
              "      cursor: pointer;\n",
              "      display: none;\n",
              "      fill: #1967D2;\n",
              "      height: 32px;\n",
              "      padding: 0 0 0 0;\n",
              "      width: 32px;\n",
              "    }\n",
              "\n",
              "    .colab-df-convert:hover {\n",
              "      background-color: #E2EBFA;\n",
              "      box-shadow: 0px 1px 2px rgba(60, 64, 67, 0.3), 0px 1px 3px 1px rgba(60, 64, 67, 0.15);\n",
              "      fill: #174EA6;\n",
              "    }\n",
              "\n",
              "    [theme=dark] .colab-df-convert {\n",
              "      background-color: #3B4455;\n",
              "      fill: #D2E3FC;\n",
              "    }\n",
              "\n",
              "    [theme=dark] .colab-df-convert:hover {\n",
              "      background-color: #434B5C;\n",
              "      box-shadow: 0px 1px 3px 1px rgba(0, 0, 0, 0.15);\n",
              "      filter: drop-shadow(0px 1px 2px rgba(0, 0, 0, 0.3));\n",
              "      fill: #FFFFFF;\n",
              "    }\n",
              "  </style>\n",
              "\n",
              "      <script>\n",
              "        const buttonEl =\n",
              "          document.querySelector('#df-897f5a33-45aa-4e24-bba7-50e570253421 button.colab-df-convert');\n",
              "        buttonEl.style.display =\n",
              "          google.colab.kernel.accessAllowed ? 'block' : 'none';\n",
              "\n",
              "        async function convertToInteractive(key) {\n",
              "          const element = document.querySelector('#df-897f5a33-45aa-4e24-bba7-50e570253421');\n",
              "          const dataTable =\n",
              "            await google.colab.kernel.invokeFunction('convertToInteractive',\n",
              "                                                     [key], {});\n",
              "          if (!dataTable) return;\n",
              "\n",
              "          const docLinkHtml = 'Like what you see? Visit the ' +\n",
              "            '<a target=\"_blank\" href=https://colab.research.google.com/notebooks/data_table.ipynb>data table notebook</a>'\n",
              "            + ' to learn more about interactive tables.';\n",
              "          element.innerHTML = '';\n",
              "          dataTable['output_type'] = 'display_data';\n",
              "          await google.colab.output.renderOutput(dataTable, element);\n",
              "          const docLink = document.createElement('div');\n",
              "          docLink.innerHTML = docLinkHtml;\n",
              "          element.appendChild(docLink);\n",
              "        }\n",
              "      </script>\n",
              "    </div>\n",
              "  </div>\n",
              "  "
            ]
          },
          "metadata": {},
          "execution_count": 109
        }
      ]
    },
    {
      "cell_type": "code",
      "source": [
        "# Wieder an Datensatz dran hängen\n",
        "df_1 = pd.concat((df_1, df), axis=1)\n",
        "df_1"
      ],
      "metadata": {
        "colab": {
          "base_uri": "https://localhost:8080/",
          "height": 661
        },
        "id": "zFdGIu5xZBWe",
        "outputId": "2a35c0d7-6f77-45f1-a8fe-7cf6e2f0ccc2"
      },
      "execution_count": null,
      "outputs": [
        {
          "output_type": "execute_result",
          "data": {
            "text/plain": [
              "      CLV_churn Customer       State  Customer_Lifetime_Value Response  \\\n",
              "0             0  BU79786  Washington              2763.519279       No   \n",
              "1             2  QZ44356     Arizona              6979.535903       No   \n",
              "2             3  AI49188      Nevada             12887.431650       No   \n",
              "3             2  WW63253  California              7645.861827       No   \n",
              "4             0  HB64268  Washington              2813.692575       No   \n",
              "...         ...      ...         ...                      ...      ...   \n",
              "9129          3  LA72316  California             23405.987980       No   \n",
              "9130          0  PK87824  California              3096.511217      Yes   \n",
              "9131          2  TD14365  California              8163.890428       No   \n",
              "9132          2  UP19263  California              7524.442436       No   \n",
              "9133          0  Y167826  California              2611.836866       No   \n",
              "\n",
              "      Coverage Education Effective_To_Date EmploymentStatus Gender  ...  \\\n",
              "0        Basic  Bachelor           2/24/11         Employed      F  ...   \n",
              "1     Extended  Bachelor           1/31/11       Unemployed      F  ...   \n",
              "2      Premium  Bachelor           2/19/11         Employed      F  ...   \n",
              "3        Basic  Bachelor           1/20/11       Unemployed      M  ...   \n",
              "4        Basic  Bachelor            2/3/11         Employed      M  ...   \n",
              "...        ...       ...               ...              ...    ...  ...   \n",
              "9129     Basic  Bachelor           2/10/11         Employed      M  ...   \n",
              "9130  Extended   College           2/12/11         Employed      F  ...   \n",
              "9131  Extended  Bachelor            2/6/11       Unemployed      M  ...   \n",
              "9132  Extended   College            2/3/11         Employed      M  ...   \n",
              "9133  Extended   College           2/14/11       Unemployed      M  ...   \n",
              "\n",
              "      Months_Since_Policy_Inception Number_of_Open_Complaints  \\\n",
              "0                                 5                         0   \n",
              "1                                42                         0   \n",
              "2                                38                         0   \n",
              "3                                65                         0   \n",
              "4                                44                         0   \n",
              "...                             ...                       ...   \n",
              "9129                             89                         0   \n",
              "9130                             28                         0   \n",
              "9131                             37                         3   \n",
              "9132                              3                         0   \n",
              "9133                             90                         0   \n",
              "\n",
              "     Number_of_Policies     Policy_Type        Policy  Renew_Offer_Type  \\\n",
              "0                     1  Corporate Auto  Corporate L3            Offer1   \n",
              "1                     8   Personal Auto   Personal L3            Offer3   \n",
              "2                     2   Personal Auto   Personal L3            Offer1   \n",
              "3                     7  Corporate Auto  Corporate L2            Offer1   \n",
              "4                     1   Personal Auto   Personal L1            Offer1   \n",
              "...                 ...             ...           ...               ...   \n",
              "9129                  2   Personal Auto   Personal L1            Offer2   \n",
              "9130                  1  Corporate Auto  Corporate L3            Offer1   \n",
              "9131                  2  Corporate Auto  Corporate L2            Offer1   \n",
              "9132                  3   Personal Auto   Personal L2            Offer3   \n",
              "9133                  1  Corporate Auto  Corporate L3            Offer4   \n",
              "\n",
              "      Sales_Channel  Total_Claim_Amount  Vehicle_Class Vehicle_Size  \n",
              "0             Agent          384.811147   Two-Door Car      Medsize  \n",
              "1             Agent         1131.464935  Four-Door Car      Medsize  \n",
              "2             Agent          566.472247   Two-Door Car      Medsize  \n",
              "3       Call Center          529.881344            SUV      Medsize  \n",
              "4             Agent          138.130879  Four-Door Car      Medsize  \n",
              "...             ...                 ...            ...          ...  \n",
              "9129            Web          198.234764  Four-Door Car      Medsize  \n",
              "9130         Branch          379.200000  Four-Door Car      Medsize  \n",
              "9131         Branch          790.784983  Four-Door Car      Medsize  \n",
              "9132         Branch          691.200000  Four-Door Car        Large  \n",
              "9133    Call Center          369.600000   Two-Door Car      Medsize  \n",
              "\n",
              "[9134 rows x 25 columns]"
            ],
            "text/html": [
              "\n",
              "  <div id=\"df-2df28af4-2c0c-44af-a20c-d04101edbee0\">\n",
              "    <div class=\"colab-df-container\">\n",
              "      <div>\n",
              "<style scoped>\n",
              "    .dataframe tbody tr th:only-of-type {\n",
              "        vertical-align: middle;\n",
              "    }\n",
              "\n",
              "    .dataframe tbody tr th {\n",
              "        vertical-align: top;\n",
              "    }\n",
              "\n",
              "    .dataframe thead th {\n",
              "        text-align: right;\n",
              "    }\n",
              "</style>\n",
              "<table border=\"1\" class=\"dataframe\">\n",
              "  <thead>\n",
              "    <tr style=\"text-align: right;\">\n",
              "      <th></th>\n",
              "      <th>CLV_churn</th>\n",
              "      <th>Customer</th>\n",
              "      <th>State</th>\n",
              "      <th>Customer_Lifetime_Value</th>\n",
              "      <th>Response</th>\n",
              "      <th>Coverage</th>\n",
              "      <th>Education</th>\n",
              "      <th>Effective_To_Date</th>\n",
              "      <th>EmploymentStatus</th>\n",
              "      <th>Gender</th>\n",
              "      <th>...</th>\n",
              "      <th>Months_Since_Policy_Inception</th>\n",
              "      <th>Number_of_Open_Complaints</th>\n",
              "      <th>Number_of_Policies</th>\n",
              "      <th>Policy_Type</th>\n",
              "      <th>Policy</th>\n",
              "      <th>Renew_Offer_Type</th>\n",
              "      <th>Sales_Channel</th>\n",
              "      <th>Total_Claim_Amount</th>\n",
              "      <th>Vehicle_Class</th>\n",
              "      <th>Vehicle_Size</th>\n",
              "    </tr>\n",
              "  </thead>\n",
              "  <tbody>\n",
              "    <tr>\n",
              "      <th>0</th>\n",
              "      <td>0</td>\n",
              "      <td>BU79786</td>\n",
              "      <td>Washington</td>\n",
              "      <td>2763.519279</td>\n",
              "      <td>No</td>\n",
              "      <td>Basic</td>\n",
              "      <td>Bachelor</td>\n",
              "      <td>2/24/11</td>\n",
              "      <td>Employed</td>\n",
              "      <td>F</td>\n",
              "      <td>...</td>\n",
              "      <td>5</td>\n",
              "      <td>0</td>\n",
              "      <td>1</td>\n",
              "      <td>Corporate Auto</td>\n",
              "      <td>Corporate L3</td>\n",
              "      <td>Offer1</td>\n",
              "      <td>Agent</td>\n",
              "      <td>384.811147</td>\n",
              "      <td>Two-Door Car</td>\n",
              "      <td>Medsize</td>\n",
              "    </tr>\n",
              "    <tr>\n",
              "      <th>1</th>\n",
              "      <td>2</td>\n",
              "      <td>QZ44356</td>\n",
              "      <td>Arizona</td>\n",
              "      <td>6979.535903</td>\n",
              "      <td>No</td>\n",
              "      <td>Extended</td>\n",
              "      <td>Bachelor</td>\n",
              "      <td>1/31/11</td>\n",
              "      <td>Unemployed</td>\n",
              "      <td>F</td>\n",
              "      <td>...</td>\n",
              "      <td>42</td>\n",
              "      <td>0</td>\n",
              "      <td>8</td>\n",
              "      <td>Personal Auto</td>\n",
              "      <td>Personal L3</td>\n",
              "      <td>Offer3</td>\n",
              "      <td>Agent</td>\n",
              "      <td>1131.464935</td>\n",
              "      <td>Four-Door Car</td>\n",
              "      <td>Medsize</td>\n",
              "    </tr>\n",
              "    <tr>\n",
              "      <th>2</th>\n",
              "      <td>3</td>\n",
              "      <td>AI49188</td>\n",
              "      <td>Nevada</td>\n",
              "      <td>12887.431650</td>\n",
              "      <td>No</td>\n",
              "      <td>Premium</td>\n",
              "      <td>Bachelor</td>\n",
              "      <td>2/19/11</td>\n",
              "      <td>Employed</td>\n",
              "      <td>F</td>\n",
              "      <td>...</td>\n",
              "      <td>38</td>\n",
              "      <td>0</td>\n",
              "      <td>2</td>\n",
              "      <td>Personal Auto</td>\n",
              "      <td>Personal L3</td>\n",
              "      <td>Offer1</td>\n",
              "      <td>Agent</td>\n",
              "      <td>566.472247</td>\n",
              "      <td>Two-Door Car</td>\n",
              "      <td>Medsize</td>\n",
              "    </tr>\n",
              "    <tr>\n",
              "      <th>3</th>\n",
              "      <td>2</td>\n",
              "      <td>WW63253</td>\n",
              "      <td>California</td>\n",
              "      <td>7645.861827</td>\n",
              "      <td>No</td>\n",
              "      <td>Basic</td>\n",
              "      <td>Bachelor</td>\n",
              "      <td>1/20/11</td>\n",
              "      <td>Unemployed</td>\n",
              "      <td>M</td>\n",
              "      <td>...</td>\n",
              "      <td>65</td>\n",
              "      <td>0</td>\n",
              "      <td>7</td>\n",
              "      <td>Corporate Auto</td>\n",
              "      <td>Corporate L2</td>\n",
              "      <td>Offer1</td>\n",
              "      <td>Call Center</td>\n",
              "      <td>529.881344</td>\n",
              "      <td>SUV</td>\n",
              "      <td>Medsize</td>\n",
              "    </tr>\n",
              "    <tr>\n",
              "      <th>4</th>\n",
              "      <td>0</td>\n",
              "      <td>HB64268</td>\n",
              "      <td>Washington</td>\n",
              "      <td>2813.692575</td>\n",
              "      <td>No</td>\n",
              "      <td>Basic</td>\n",
              "      <td>Bachelor</td>\n",
              "      <td>2/3/11</td>\n",
              "      <td>Employed</td>\n",
              "      <td>M</td>\n",
              "      <td>...</td>\n",
              "      <td>44</td>\n",
              "      <td>0</td>\n",
              "      <td>1</td>\n",
              "      <td>Personal Auto</td>\n",
              "      <td>Personal L1</td>\n",
              "      <td>Offer1</td>\n",
              "      <td>Agent</td>\n",
              "      <td>138.130879</td>\n",
              "      <td>Four-Door Car</td>\n",
              "      <td>Medsize</td>\n",
              "    </tr>\n",
              "    <tr>\n",
              "      <th>...</th>\n",
              "      <td>...</td>\n",
              "      <td>...</td>\n",
              "      <td>...</td>\n",
              "      <td>...</td>\n",
              "      <td>...</td>\n",
              "      <td>...</td>\n",
              "      <td>...</td>\n",
              "      <td>...</td>\n",
              "      <td>...</td>\n",
              "      <td>...</td>\n",
              "      <td>...</td>\n",
              "      <td>...</td>\n",
              "      <td>...</td>\n",
              "      <td>...</td>\n",
              "      <td>...</td>\n",
              "      <td>...</td>\n",
              "      <td>...</td>\n",
              "      <td>...</td>\n",
              "      <td>...</td>\n",
              "      <td>...</td>\n",
              "      <td>...</td>\n",
              "    </tr>\n",
              "    <tr>\n",
              "      <th>9129</th>\n",
              "      <td>3</td>\n",
              "      <td>LA72316</td>\n",
              "      <td>California</td>\n",
              "      <td>23405.987980</td>\n",
              "      <td>No</td>\n",
              "      <td>Basic</td>\n",
              "      <td>Bachelor</td>\n",
              "      <td>2/10/11</td>\n",
              "      <td>Employed</td>\n",
              "      <td>M</td>\n",
              "      <td>...</td>\n",
              "      <td>89</td>\n",
              "      <td>0</td>\n",
              "      <td>2</td>\n",
              "      <td>Personal Auto</td>\n",
              "      <td>Personal L1</td>\n",
              "      <td>Offer2</td>\n",
              "      <td>Web</td>\n",
              "      <td>198.234764</td>\n",
              "      <td>Four-Door Car</td>\n",
              "      <td>Medsize</td>\n",
              "    </tr>\n",
              "    <tr>\n",
              "      <th>9130</th>\n",
              "      <td>0</td>\n",
              "      <td>PK87824</td>\n",
              "      <td>California</td>\n",
              "      <td>3096.511217</td>\n",
              "      <td>Yes</td>\n",
              "      <td>Extended</td>\n",
              "      <td>College</td>\n",
              "      <td>2/12/11</td>\n",
              "      <td>Employed</td>\n",
              "      <td>F</td>\n",
              "      <td>...</td>\n",
              "      <td>28</td>\n",
              "      <td>0</td>\n",
              "      <td>1</td>\n",
              "      <td>Corporate Auto</td>\n",
              "      <td>Corporate L3</td>\n",
              "      <td>Offer1</td>\n",
              "      <td>Branch</td>\n",
              "      <td>379.200000</td>\n",
              "      <td>Four-Door Car</td>\n",
              "      <td>Medsize</td>\n",
              "    </tr>\n",
              "    <tr>\n",
              "      <th>9131</th>\n",
              "      <td>2</td>\n",
              "      <td>TD14365</td>\n",
              "      <td>California</td>\n",
              "      <td>8163.890428</td>\n",
              "      <td>No</td>\n",
              "      <td>Extended</td>\n",
              "      <td>Bachelor</td>\n",
              "      <td>2/6/11</td>\n",
              "      <td>Unemployed</td>\n",
              "      <td>M</td>\n",
              "      <td>...</td>\n",
              "      <td>37</td>\n",
              "      <td>3</td>\n",
              "      <td>2</td>\n",
              "      <td>Corporate Auto</td>\n",
              "      <td>Corporate L2</td>\n",
              "      <td>Offer1</td>\n",
              "      <td>Branch</td>\n",
              "      <td>790.784983</td>\n",
              "      <td>Four-Door Car</td>\n",
              "      <td>Medsize</td>\n",
              "    </tr>\n",
              "    <tr>\n",
              "      <th>9132</th>\n",
              "      <td>2</td>\n",
              "      <td>UP19263</td>\n",
              "      <td>California</td>\n",
              "      <td>7524.442436</td>\n",
              "      <td>No</td>\n",
              "      <td>Extended</td>\n",
              "      <td>College</td>\n",
              "      <td>2/3/11</td>\n",
              "      <td>Employed</td>\n",
              "      <td>M</td>\n",
              "      <td>...</td>\n",
              "      <td>3</td>\n",
              "      <td>0</td>\n",
              "      <td>3</td>\n",
              "      <td>Personal Auto</td>\n",
              "      <td>Personal L2</td>\n",
              "      <td>Offer3</td>\n",
              "      <td>Branch</td>\n",
              "      <td>691.200000</td>\n",
              "      <td>Four-Door Car</td>\n",
              "      <td>Large</td>\n",
              "    </tr>\n",
              "    <tr>\n",
              "      <th>9133</th>\n",
              "      <td>0</td>\n",
              "      <td>Y167826</td>\n",
              "      <td>California</td>\n",
              "      <td>2611.836866</td>\n",
              "      <td>No</td>\n",
              "      <td>Extended</td>\n",
              "      <td>College</td>\n",
              "      <td>2/14/11</td>\n",
              "      <td>Unemployed</td>\n",
              "      <td>M</td>\n",
              "      <td>...</td>\n",
              "      <td>90</td>\n",
              "      <td>0</td>\n",
              "      <td>1</td>\n",
              "      <td>Corporate Auto</td>\n",
              "      <td>Corporate L3</td>\n",
              "      <td>Offer4</td>\n",
              "      <td>Call Center</td>\n",
              "      <td>369.600000</td>\n",
              "      <td>Two-Door Car</td>\n",
              "      <td>Medsize</td>\n",
              "    </tr>\n",
              "  </tbody>\n",
              "</table>\n",
              "<p>9134 rows × 25 columns</p>\n",
              "</div>\n",
              "      <button class=\"colab-df-convert\" onclick=\"convertToInteractive('df-2df28af4-2c0c-44af-a20c-d04101edbee0')\"\n",
              "              title=\"Convert this dataframe to an interactive table.\"\n",
              "              style=\"display:none;\">\n",
              "        \n",
              "  <svg xmlns=\"http://www.w3.org/2000/svg\" height=\"24px\"viewBox=\"0 0 24 24\"\n",
              "       width=\"24px\">\n",
              "    <path d=\"M0 0h24v24H0V0z\" fill=\"none\"/>\n",
              "    <path d=\"M18.56 5.44l.94 2.06.94-2.06 2.06-.94-2.06-.94-.94-2.06-.94 2.06-2.06.94zm-11 1L8.5 8.5l.94-2.06 2.06-.94-2.06-.94L8.5 2.5l-.94 2.06-2.06.94zm10 10l.94 2.06.94-2.06 2.06-.94-2.06-.94-.94-2.06-.94 2.06-2.06.94z\"/><path d=\"M17.41 7.96l-1.37-1.37c-.4-.4-.92-.59-1.43-.59-.52 0-1.04.2-1.43.59L10.3 9.45l-7.72 7.72c-.78.78-.78 2.05 0 2.83L4 21.41c.39.39.9.59 1.41.59.51 0 1.02-.2 1.41-.59l7.78-7.78 2.81-2.81c.8-.78.8-2.07 0-2.86zM5.41 20L4 18.59l7.72-7.72 1.47 1.35L5.41 20z\"/>\n",
              "  </svg>\n",
              "      </button>\n",
              "      \n",
              "  <style>\n",
              "    .colab-df-container {\n",
              "      display:flex;\n",
              "      flex-wrap:wrap;\n",
              "      gap: 12px;\n",
              "    }\n",
              "\n",
              "    .colab-df-convert {\n",
              "      background-color: #E8F0FE;\n",
              "      border: none;\n",
              "      border-radius: 50%;\n",
              "      cursor: pointer;\n",
              "      display: none;\n",
              "      fill: #1967D2;\n",
              "      height: 32px;\n",
              "      padding: 0 0 0 0;\n",
              "      width: 32px;\n",
              "    }\n",
              "\n",
              "    .colab-df-convert:hover {\n",
              "      background-color: #E2EBFA;\n",
              "      box-shadow: 0px 1px 2px rgba(60, 64, 67, 0.3), 0px 1px 3px 1px rgba(60, 64, 67, 0.15);\n",
              "      fill: #174EA6;\n",
              "    }\n",
              "\n",
              "    [theme=dark] .colab-df-convert {\n",
              "      background-color: #3B4455;\n",
              "      fill: #D2E3FC;\n",
              "    }\n",
              "\n",
              "    [theme=dark] .colab-df-convert:hover {\n",
              "      background-color: #434B5C;\n",
              "      box-shadow: 0px 1px 3px 1px rgba(0, 0, 0, 0.15);\n",
              "      filter: drop-shadow(0px 1px 2px rgba(0, 0, 0, 0.3));\n",
              "      fill: #FFFFFF;\n",
              "    }\n",
              "  </style>\n",
              "\n",
              "      <script>\n",
              "        const buttonEl =\n",
              "          document.querySelector('#df-2df28af4-2c0c-44af-a20c-d04101edbee0 button.colab-df-convert');\n",
              "        buttonEl.style.display =\n",
              "          google.colab.kernel.accessAllowed ? 'block' : 'none';\n",
              "\n",
              "        async function convertToInteractive(key) {\n",
              "          const element = document.querySelector('#df-2df28af4-2c0c-44af-a20c-d04101edbee0');\n",
              "          const dataTable =\n",
              "            await google.colab.kernel.invokeFunction('convertToInteractive',\n",
              "                                                     [key], {});\n",
              "          if (!dataTable) return;\n",
              "\n",
              "          const docLinkHtml = 'Like what you see? Visit the ' +\n",
              "            '<a target=\"_blank\" href=https://colab.research.google.com/notebooks/data_table.ipynb>data table notebook</a>'\n",
              "            + ' to learn more about interactive tables.';\n",
              "          element.innerHTML = '';\n",
              "          dataTable['output_type'] = 'display_data';\n",
              "          await google.colab.output.renderOutput(dataTable, element);\n",
              "          const docLink = document.createElement('div');\n",
              "          docLink.innerHTML = docLinkHtml;\n",
              "          element.appendChild(docLink);\n",
              "        }\n",
              "      </script>\n",
              "    </div>\n",
              "  </div>\n",
              "  "
            ]
          },
          "metadata": {},
          "execution_count": 110
        }
      ]
    },
    {
      "cell_type": "code",
      "source": [
        "#Alt\n",
        "#\"Zielvariable\" bestimmt: Alle mit CLV < 6000 sind Abwanderungsgefährdet (Da es ca. 50% sind) --> als extra Spalte dem Datensatz hinzugefügt\n",
        "#df_1 = df.assign(CLV_churn = np.where(df['Customer_Lifetime_Value']<6000, 1, 0))\n",
        "#df_1\n",
        "#--> hier bei Classification zu hohe Werte"
      ],
      "metadata": {
        "id": "GraoZyQo-wSU"
      },
      "execution_count": null,
      "outputs": []
    },
    {
      "cell_type": "code",
      "source": [
        "#Datentypen anzeigen\n",
        "df_1.dtypes"
      ],
      "metadata": {
        "id": "_Xmodt8jMWVr",
        "colab": {
          "base_uri": "https://localhost:8080/"
        },
        "outputId": "885fe7f1-bb17-4ae4-de5b-bad22e6ec6e8"
      },
      "execution_count": null,
      "outputs": [
        {
          "output_type": "execute_result",
          "data": {
            "text/plain": [
              "CLV_churn                          int64\n",
              "Customer                          object\n",
              "State                             object\n",
              "Customer_Lifetime_Value          float64\n",
              "Response                          object\n",
              "Coverage                          object\n",
              "Education                         object\n",
              "Effective_To_Date                 object\n",
              "EmploymentStatus                  object\n",
              "Gender                            object\n",
              "Income                             int64\n",
              "Location_Code                     object\n",
              "Marital_Status                    object\n",
              "Monthly_Premium_Auto               int64\n",
              "Months_Since_Last_Claim            int64\n",
              "Months_Since_Policy_Inception      int64\n",
              "Number_of_Open_Complaints          int64\n",
              "Number_of_Policies                 int64\n",
              "Policy_Type                       object\n",
              "Policy                            object\n",
              "Renew_Offer_Type                  object\n",
              "Sales_Channel                     object\n",
              "Total_Claim_Amount               float64\n",
              "Vehicle_Class                     object\n",
              "Vehicle_Size                      object\n",
              "dtype: object"
            ]
          },
          "metadata": {},
          "execution_count": 112
        }
      ]
    },
    {
      "cell_type": "code",
      "source": [
        "# object in Datum transformiert (Effectiveness_To_Date)\n",
        "df_1['Effective_To_Date'] = pd.to_datetime(df_1['Effective_To_Date'])\n",
        "df_1.dtypes"
      ],
      "metadata": {
        "colab": {
          "base_uri": "https://localhost:8080/"
        },
        "id": "oc9k5xELDVu2",
        "outputId": "caf6cb99-cbdd-4084-9cfc-4e2a81c78390"
      },
      "execution_count": null,
      "outputs": [
        {
          "output_type": "execute_result",
          "data": {
            "text/plain": [
              "CLV_churn                                 int64\n",
              "Customer                                 object\n",
              "State                                    object\n",
              "Customer_Lifetime_Value                 float64\n",
              "Response                                 object\n",
              "Coverage                                 object\n",
              "Education                                object\n",
              "Effective_To_Date                datetime64[ns]\n",
              "EmploymentStatus                         object\n",
              "Gender                                   object\n",
              "Income                                    int64\n",
              "Location_Code                            object\n",
              "Marital_Status                           object\n",
              "Monthly_Premium_Auto                      int64\n",
              "Months_Since_Last_Claim                   int64\n",
              "Months_Since_Policy_Inception             int64\n",
              "Number_of_Open_Complaints                 int64\n",
              "Number_of_Policies                        int64\n",
              "Policy_Type                              object\n",
              "Policy                                   object\n",
              "Renew_Offer_Type                         object\n",
              "Sales_Channel                            object\n",
              "Total_Claim_Amount                      float64\n",
              "Vehicle_Class                            object\n",
              "Vehicle_Size                             object\n",
              "dtype: object"
            ]
          },
          "metadata": {},
          "execution_count": 113
        }
      ]
    },
    {
      "cell_type": "code",
      "source": [
        "df_1['EmploymentStatus'].unique()"
      ],
      "metadata": {
        "colab": {
          "base_uri": "https://localhost:8080/"
        },
        "id": "jyvj15IfEZLO",
        "outputId": "96aae22f-5d5b-47ba-fbed-7bfd580c7868"
      },
      "execution_count": null,
      "outputs": [
        {
          "output_type": "execute_result",
          "data": {
            "text/plain": [
              "array(['Employed', 'Unemployed', 'Medical Leave', 'Disabled', 'Retired'],\n",
              "      dtype=object)"
            ]
          },
          "metadata": {},
          "execution_count": 114
        }
      ]
    },
    {
      "cell_type": "markdown",
      "source": [
        "nominal (ohne Reihenfolge): State, EmploymentStatus, Gender, Marital_Status, Policy_Type, Policy, Renew_Offer_Type , Sales_Channel, Vehicle_Class, Response\n",
        "\n",
        "ordinal (mit Reihenfolge): Coverage, Education, Location_Code, Vehicle_Size\n"
      ],
      "metadata": {
        "id": "4n4T5zob2aGy"
      }
    },
    {
      "cell_type": "code",
      "source": [
        "# Für nominal Werte Dummy erzeugen\n",
        "dummy_liste = df_1.loc[:,['State','EmploymentStatus', 'Gender', 'Marital_Status', 'Policy_Type', 'Policy', 'Renew_Offer_Type', 'Sales_Channel', 'Vehicle_Class', 'Response']]\n",
        "dummys=pd.get_dummies(dummy_liste)\n",
        "dummys"
      ],
      "metadata": {
        "id": "Vi_lhmEB2Pyr",
        "colab": {
          "base_uri": "https://localhost:8080/",
          "height": 505
        },
        "outputId": "42831ca5-591e-442e-992c-91deeb73b2bd"
      },
      "execution_count": null,
      "outputs": [
        {
          "output_type": "execute_result",
          "data": {
            "text/plain": [
              "      State_Arizona  State_California  State_Nevada  State_Oregon  \\\n",
              "0                 0                 0             0             0   \n",
              "1                 1                 0             0             0   \n",
              "2                 0                 0             1             0   \n",
              "3                 0                 1             0             0   \n",
              "4                 0                 0             0             0   \n",
              "...             ...               ...           ...           ...   \n",
              "9129              0                 1             0             0   \n",
              "9130              0                 1             0             0   \n",
              "9131              0                 1             0             0   \n",
              "9132              0                 1             0             0   \n",
              "9133              0                 1             0             0   \n",
              "\n",
              "      State_Washington  EmploymentStatus_Disabled  EmploymentStatus_Employed  \\\n",
              "0                    1                          0                          1   \n",
              "1                    0                          0                          0   \n",
              "2                    0                          0                          1   \n",
              "3                    0                          0                          0   \n",
              "4                    1                          0                          1   \n",
              "...                ...                        ...                        ...   \n",
              "9129                 0                          0                          1   \n",
              "9130                 0                          0                          1   \n",
              "9131                 0                          0                          0   \n",
              "9132                 0                          0                          1   \n",
              "9133                 0                          0                          0   \n",
              "\n",
              "      EmploymentStatus_Medical Leave  EmploymentStatus_Retired  \\\n",
              "0                                  0                         0   \n",
              "1                                  0                         0   \n",
              "2                                  0                         0   \n",
              "3                                  0                         0   \n",
              "4                                  0                         0   \n",
              "...                              ...                       ...   \n",
              "9129                               0                         0   \n",
              "9130                               0                         0   \n",
              "9131                               0                         0   \n",
              "9132                               0                         0   \n",
              "9133                               0                         0   \n",
              "\n",
              "      EmploymentStatus_Unemployed  ...  Sales_Channel_Call Center  \\\n",
              "0                               0  ...                          0   \n",
              "1                               1  ...                          0   \n",
              "2                               0  ...                          0   \n",
              "3                               1  ...                          1   \n",
              "4                               0  ...                          0   \n",
              "...                           ...  ...                        ...   \n",
              "9129                            0  ...                          0   \n",
              "9130                            0  ...                          0   \n",
              "9131                            1  ...                          0   \n",
              "9132                            0  ...                          0   \n",
              "9133                            1  ...                          1   \n",
              "\n",
              "      Sales_Channel_Web  Vehicle_Class_Four-Door Car  \\\n",
              "0                     0                            0   \n",
              "1                     0                            1   \n",
              "2                     0                            0   \n",
              "3                     0                            0   \n",
              "4                     0                            1   \n",
              "...                 ...                          ...   \n",
              "9129                  1                            1   \n",
              "9130                  0                            1   \n",
              "9131                  0                            1   \n",
              "9132                  0                            1   \n",
              "9133                  0                            0   \n",
              "\n",
              "      Vehicle_Class_Luxury Car  Vehicle_Class_Luxury SUV  Vehicle_Class_SUV  \\\n",
              "0                            0                         0                  0   \n",
              "1                            0                         0                  0   \n",
              "2                            0                         0                  0   \n",
              "3                            0                         0                  1   \n",
              "4                            0                         0                  0   \n",
              "...                        ...                       ...                ...   \n",
              "9129                         0                         0                  0   \n",
              "9130                         0                         0                  0   \n",
              "9131                         0                         0                  0   \n",
              "9132                         0                         0                  0   \n",
              "9133                         0                         0                  0   \n",
              "\n",
              "      Vehicle_Class_Sports Car  Vehicle_Class_Two-Door Car  Response_No  \\\n",
              "0                            0                           1            1   \n",
              "1                            0                           0            1   \n",
              "2                            0                           1            1   \n",
              "3                            0                           0            1   \n",
              "4                            0                           0            1   \n",
              "...                        ...                         ...          ...   \n",
              "9129                         0                           0            1   \n",
              "9130                         0                           0            0   \n",
              "9131                         0                           0            1   \n",
              "9132                         0                           0            1   \n",
              "9133                         0                           1            1   \n",
              "\n",
              "      Response_Yes  \n",
              "0                0  \n",
              "1                0  \n",
              "2                0  \n",
              "3                0  \n",
              "4                0  \n",
              "...            ...  \n",
              "9129             0  \n",
              "9130             1  \n",
              "9131             0  \n",
              "9132             0  \n",
              "9133             0  \n",
              "\n",
              "[9134 rows x 43 columns]"
            ],
            "text/html": [
              "\n",
              "  <div id=\"df-67c234c9-652f-4b0f-999f-fbcff630de1c\">\n",
              "    <div class=\"colab-df-container\">\n",
              "      <div>\n",
              "<style scoped>\n",
              "    .dataframe tbody tr th:only-of-type {\n",
              "        vertical-align: middle;\n",
              "    }\n",
              "\n",
              "    .dataframe tbody tr th {\n",
              "        vertical-align: top;\n",
              "    }\n",
              "\n",
              "    .dataframe thead th {\n",
              "        text-align: right;\n",
              "    }\n",
              "</style>\n",
              "<table border=\"1\" class=\"dataframe\">\n",
              "  <thead>\n",
              "    <tr style=\"text-align: right;\">\n",
              "      <th></th>\n",
              "      <th>State_Arizona</th>\n",
              "      <th>State_California</th>\n",
              "      <th>State_Nevada</th>\n",
              "      <th>State_Oregon</th>\n",
              "      <th>State_Washington</th>\n",
              "      <th>EmploymentStatus_Disabled</th>\n",
              "      <th>EmploymentStatus_Employed</th>\n",
              "      <th>EmploymentStatus_Medical Leave</th>\n",
              "      <th>EmploymentStatus_Retired</th>\n",
              "      <th>EmploymentStatus_Unemployed</th>\n",
              "      <th>...</th>\n",
              "      <th>Sales_Channel_Call Center</th>\n",
              "      <th>Sales_Channel_Web</th>\n",
              "      <th>Vehicle_Class_Four-Door Car</th>\n",
              "      <th>Vehicle_Class_Luxury Car</th>\n",
              "      <th>Vehicle_Class_Luxury SUV</th>\n",
              "      <th>Vehicle_Class_SUV</th>\n",
              "      <th>Vehicle_Class_Sports Car</th>\n",
              "      <th>Vehicle_Class_Two-Door Car</th>\n",
              "      <th>Response_No</th>\n",
              "      <th>Response_Yes</th>\n",
              "    </tr>\n",
              "  </thead>\n",
              "  <tbody>\n",
              "    <tr>\n",
              "      <th>0</th>\n",
              "      <td>0</td>\n",
              "      <td>0</td>\n",
              "      <td>0</td>\n",
              "      <td>0</td>\n",
              "      <td>1</td>\n",
              "      <td>0</td>\n",
              "      <td>1</td>\n",
              "      <td>0</td>\n",
              "      <td>0</td>\n",
              "      <td>0</td>\n",
              "      <td>...</td>\n",
              "      <td>0</td>\n",
              "      <td>0</td>\n",
              "      <td>0</td>\n",
              "      <td>0</td>\n",
              "      <td>0</td>\n",
              "      <td>0</td>\n",
              "      <td>0</td>\n",
              "      <td>1</td>\n",
              "      <td>1</td>\n",
              "      <td>0</td>\n",
              "    </tr>\n",
              "    <tr>\n",
              "      <th>1</th>\n",
              "      <td>1</td>\n",
              "      <td>0</td>\n",
              "      <td>0</td>\n",
              "      <td>0</td>\n",
              "      <td>0</td>\n",
              "      <td>0</td>\n",
              "      <td>0</td>\n",
              "      <td>0</td>\n",
              "      <td>0</td>\n",
              "      <td>1</td>\n",
              "      <td>...</td>\n",
              "      <td>0</td>\n",
              "      <td>0</td>\n",
              "      <td>1</td>\n",
              "      <td>0</td>\n",
              "      <td>0</td>\n",
              "      <td>0</td>\n",
              "      <td>0</td>\n",
              "      <td>0</td>\n",
              "      <td>1</td>\n",
              "      <td>0</td>\n",
              "    </tr>\n",
              "    <tr>\n",
              "      <th>2</th>\n",
              "      <td>0</td>\n",
              "      <td>0</td>\n",
              "      <td>1</td>\n",
              "      <td>0</td>\n",
              "      <td>0</td>\n",
              "      <td>0</td>\n",
              "      <td>1</td>\n",
              "      <td>0</td>\n",
              "      <td>0</td>\n",
              "      <td>0</td>\n",
              "      <td>...</td>\n",
              "      <td>0</td>\n",
              "      <td>0</td>\n",
              "      <td>0</td>\n",
              "      <td>0</td>\n",
              "      <td>0</td>\n",
              "      <td>0</td>\n",
              "      <td>0</td>\n",
              "      <td>1</td>\n",
              "      <td>1</td>\n",
              "      <td>0</td>\n",
              "    </tr>\n",
              "    <tr>\n",
              "      <th>3</th>\n",
              "      <td>0</td>\n",
              "      <td>1</td>\n",
              "      <td>0</td>\n",
              "      <td>0</td>\n",
              "      <td>0</td>\n",
              "      <td>0</td>\n",
              "      <td>0</td>\n",
              "      <td>0</td>\n",
              "      <td>0</td>\n",
              "      <td>1</td>\n",
              "      <td>...</td>\n",
              "      <td>1</td>\n",
              "      <td>0</td>\n",
              "      <td>0</td>\n",
              "      <td>0</td>\n",
              "      <td>0</td>\n",
              "      <td>1</td>\n",
              "      <td>0</td>\n",
              "      <td>0</td>\n",
              "      <td>1</td>\n",
              "      <td>0</td>\n",
              "    </tr>\n",
              "    <tr>\n",
              "      <th>4</th>\n",
              "      <td>0</td>\n",
              "      <td>0</td>\n",
              "      <td>0</td>\n",
              "      <td>0</td>\n",
              "      <td>1</td>\n",
              "      <td>0</td>\n",
              "      <td>1</td>\n",
              "      <td>0</td>\n",
              "      <td>0</td>\n",
              "      <td>0</td>\n",
              "      <td>...</td>\n",
              "      <td>0</td>\n",
              "      <td>0</td>\n",
              "      <td>1</td>\n",
              "      <td>0</td>\n",
              "      <td>0</td>\n",
              "      <td>0</td>\n",
              "      <td>0</td>\n",
              "      <td>0</td>\n",
              "      <td>1</td>\n",
              "      <td>0</td>\n",
              "    </tr>\n",
              "    <tr>\n",
              "      <th>...</th>\n",
              "      <td>...</td>\n",
              "      <td>...</td>\n",
              "      <td>...</td>\n",
              "      <td>...</td>\n",
              "      <td>...</td>\n",
              "      <td>...</td>\n",
              "      <td>...</td>\n",
              "      <td>...</td>\n",
              "      <td>...</td>\n",
              "      <td>...</td>\n",
              "      <td>...</td>\n",
              "      <td>...</td>\n",
              "      <td>...</td>\n",
              "      <td>...</td>\n",
              "      <td>...</td>\n",
              "      <td>...</td>\n",
              "      <td>...</td>\n",
              "      <td>...</td>\n",
              "      <td>...</td>\n",
              "      <td>...</td>\n",
              "      <td>...</td>\n",
              "    </tr>\n",
              "    <tr>\n",
              "      <th>9129</th>\n",
              "      <td>0</td>\n",
              "      <td>1</td>\n",
              "      <td>0</td>\n",
              "      <td>0</td>\n",
              "      <td>0</td>\n",
              "      <td>0</td>\n",
              "      <td>1</td>\n",
              "      <td>0</td>\n",
              "      <td>0</td>\n",
              "      <td>0</td>\n",
              "      <td>...</td>\n",
              "      <td>0</td>\n",
              "      <td>1</td>\n",
              "      <td>1</td>\n",
              "      <td>0</td>\n",
              "      <td>0</td>\n",
              "      <td>0</td>\n",
              "      <td>0</td>\n",
              "      <td>0</td>\n",
              "      <td>1</td>\n",
              "      <td>0</td>\n",
              "    </tr>\n",
              "    <tr>\n",
              "      <th>9130</th>\n",
              "      <td>0</td>\n",
              "      <td>1</td>\n",
              "      <td>0</td>\n",
              "      <td>0</td>\n",
              "      <td>0</td>\n",
              "      <td>0</td>\n",
              "      <td>1</td>\n",
              "      <td>0</td>\n",
              "      <td>0</td>\n",
              "      <td>0</td>\n",
              "      <td>...</td>\n",
              "      <td>0</td>\n",
              "      <td>0</td>\n",
              "      <td>1</td>\n",
              "      <td>0</td>\n",
              "      <td>0</td>\n",
              "      <td>0</td>\n",
              "      <td>0</td>\n",
              "      <td>0</td>\n",
              "      <td>0</td>\n",
              "      <td>1</td>\n",
              "    </tr>\n",
              "    <tr>\n",
              "      <th>9131</th>\n",
              "      <td>0</td>\n",
              "      <td>1</td>\n",
              "      <td>0</td>\n",
              "      <td>0</td>\n",
              "      <td>0</td>\n",
              "      <td>0</td>\n",
              "      <td>0</td>\n",
              "      <td>0</td>\n",
              "      <td>0</td>\n",
              "      <td>1</td>\n",
              "      <td>...</td>\n",
              "      <td>0</td>\n",
              "      <td>0</td>\n",
              "      <td>1</td>\n",
              "      <td>0</td>\n",
              "      <td>0</td>\n",
              "      <td>0</td>\n",
              "      <td>0</td>\n",
              "      <td>0</td>\n",
              "      <td>1</td>\n",
              "      <td>0</td>\n",
              "    </tr>\n",
              "    <tr>\n",
              "      <th>9132</th>\n",
              "      <td>0</td>\n",
              "      <td>1</td>\n",
              "      <td>0</td>\n",
              "      <td>0</td>\n",
              "      <td>0</td>\n",
              "      <td>0</td>\n",
              "      <td>1</td>\n",
              "      <td>0</td>\n",
              "      <td>0</td>\n",
              "      <td>0</td>\n",
              "      <td>...</td>\n",
              "      <td>0</td>\n",
              "      <td>0</td>\n",
              "      <td>1</td>\n",
              "      <td>0</td>\n",
              "      <td>0</td>\n",
              "      <td>0</td>\n",
              "      <td>0</td>\n",
              "      <td>0</td>\n",
              "      <td>1</td>\n",
              "      <td>0</td>\n",
              "    </tr>\n",
              "    <tr>\n",
              "      <th>9133</th>\n",
              "      <td>0</td>\n",
              "      <td>1</td>\n",
              "      <td>0</td>\n",
              "      <td>0</td>\n",
              "      <td>0</td>\n",
              "      <td>0</td>\n",
              "      <td>0</td>\n",
              "      <td>0</td>\n",
              "      <td>0</td>\n",
              "      <td>1</td>\n",
              "      <td>...</td>\n",
              "      <td>1</td>\n",
              "      <td>0</td>\n",
              "      <td>0</td>\n",
              "      <td>0</td>\n",
              "      <td>0</td>\n",
              "      <td>0</td>\n",
              "      <td>0</td>\n",
              "      <td>1</td>\n",
              "      <td>1</td>\n",
              "      <td>0</td>\n",
              "    </tr>\n",
              "  </tbody>\n",
              "</table>\n",
              "<p>9134 rows × 43 columns</p>\n",
              "</div>\n",
              "      <button class=\"colab-df-convert\" onclick=\"convertToInteractive('df-67c234c9-652f-4b0f-999f-fbcff630de1c')\"\n",
              "              title=\"Convert this dataframe to an interactive table.\"\n",
              "              style=\"display:none;\">\n",
              "        \n",
              "  <svg xmlns=\"http://www.w3.org/2000/svg\" height=\"24px\"viewBox=\"0 0 24 24\"\n",
              "       width=\"24px\">\n",
              "    <path d=\"M0 0h24v24H0V0z\" fill=\"none\"/>\n",
              "    <path d=\"M18.56 5.44l.94 2.06.94-2.06 2.06-.94-2.06-.94-.94-2.06-.94 2.06-2.06.94zm-11 1L8.5 8.5l.94-2.06 2.06-.94-2.06-.94L8.5 2.5l-.94 2.06-2.06.94zm10 10l.94 2.06.94-2.06 2.06-.94-2.06-.94-.94-2.06-.94 2.06-2.06.94z\"/><path d=\"M17.41 7.96l-1.37-1.37c-.4-.4-.92-.59-1.43-.59-.52 0-1.04.2-1.43.59L10.3 9.45l-7.72 7.72c-.78.78-.78 2.05 0 2.83L4 21.41c.39.39.9.59 1.41.59.51 0 1.02-.2 1.41-.59l7.78-7.78 2.81-2.81c.8-.78.8-2.07 0-2.86zM5.41 20L4 18.59l7.72-7.72 1.47 1.35L5.41 20z\"/>\n",
              "  </svg>\n",
              "      </button>\n",
              "      \n",
              "  <style>\n",
              "    .colab-df-container {\n",
              "      display:flex;\n",
              "      flex-wrap:wrap;\n",
              "      gap: 12px;\n",
              "    }\n",
              "\n",
              "    .colab-df-convert {\n",
              "      background-color: #E8F0FE;\n",
              "      border: none;\n",
              "      border-radius: 50%;\n",
              "      cursor: pointer;\n",
              "      display: none;\n",
              "      fill: #1967D2;\n",
              "      height: 32px;\n",
              "      padding: 0 0 0 0;\n",
              "      width: 32px;\n",
              "    }\n",
              "\n",
              "    .colab-df-convert:hover {\n",
              "      background-color: #E2EBFA;\n",
              "      box-shadow: 0px 1px 2px rgba(60, 64, 67, 0.3), 0px 1px 3px 1px rgba(60, 64, 67, 0.15);\n",
              "      fill: #174EA6;\n",
              "    }\n",
              "\n",
              "    [theme=dark] .colab-df-convert {\n",
              "      background-color: #3B4455;\n",
              "      fill: #D2E3FC;\n",
              "    }\n",
              "\n",
              "    [theme=dark] .colab-df-convert:hover {\n",
              "      background-color: #434B5C;\n",
              "      box-shadow: 0px 1px 3px 1px rgba(0, 0, 0, 0.15);\n",
              "      filter: drop-shadow(0px 1px 2px rgba(0, 0, 0, 0.3));\n",
              "      fill: #FFFFFF;\n",
              "    }\n",
              "  </style>\n",
              "\n",
              "      <script>\n",
              "        const buttonEl =\n",
              "          document.querySelector('#df-67c234c9-652f-4b0f-999f-fbcff630de1c button.colab-df-convert');\n",
              "        buttonEl.style.display =\n",
              "          google.colab.kernel.accessAllowed ? 'block' : 'none';\n",
              "\n",
              "        async function convertToInteractive(key) {\n",
              "          const element = document.querySelector('#df-67c234c9-652f-4b0f-999f-fbcff630de1c');\n",
              "          const dataTable =\n",
              "            await google.colab.kernel.invokeFunction('convertToInteractive',\n",
              "                                                     [key], {});\n",
              "          if (!dataTable) return;\n",
              "\n",
              "          const docLinkHtml = 'Like what you see? Visit the ' +\n",
              "            '<a target=\"_blank\" href=https://colab.research.google.com/notebooks/data_table.ipynb>data table notebook</a>'\n",
              "            + ' to learn more about interactive tables.';\n",
              "          element.innerHTML = '';\n",
              "          dataTable['output_type'] = 'display_data';\n",
              "          await google.colab.output.renderOutput(dataTable, element);\n",
              "          const docLink = document.createElement('div');\n",
              "          docLink.innerHTML = docLinkHtml;\n",
              "          element.appendChild(docLink);\n",
              "        }\n",
              "      </script>\n",
              "    </div>\n",
              "  </div>\n",
              "  "
            ]
          },
          "metadata": {},
          "execution_count": 115
        }
      ]
    },
    {
      "cell_type": "code",
      "source": [
        "# Dummys zu dem Datensatz hinzufügen\n",
        "df_1_mitdummys = pd.concat((df_1, dummys), axis=1)\n",
        "df_1_mitdummys = df_1_mitdummys.drop(['State','EmploymentStatus', 'Gender', 'Marital_Status', 'Policy_Type', 'Policy', 'Renew_Offer_Type', 'Sales_Channel', 'Vehicle_Class', 'Response'],1)\n",
        "df_1_mitdummys.dtypes"
      ],
      "metadata": {
        "id": "zb4Zs1IkHE94",
        "colab": {
          "base_uri": "https://localhost:8080/"
        },
        "outputId": "b6c9277a-0bf9-4d85-dbf6-d1aec5aa48db"
      },
      "execution_count": null,
      "outputs": [
        {
          "output_type": "stream",
          "name": "stderr",
          "text": [
            "<ipython-input-116-c4eb54039908>:3: FutureWarning: In a future version of pandas all arguments of DataFrame.drop except for the argument 'labels' will be keyword-only.\n",
            "  df_1_mitdummys = df_1_mitdummys.drop(['State','EmploymentStatus', 'Gender', 'Marital_Status', 'Policy_Type', 'Policy', 'Renew_Offer_Type', 'Sales_Channel', 'Vehicle_Class', 'Response'],1)\n"
          ]
        },
        {
          "output_type": "execute_result",
          "data": {
            "text/plain": [
              "CLV_churn                                  int64\n",
              "Customer                                  object\n",
              "Customer_Lifetime_Value                  float64\n",
              "Coverage                                  object\n",
              "Education                                 object\n",
              "Effective_To_Date                 datetime64[ns]\n",
              "Income                                     int64\n",
              "Location_Code                             object\n",
              "Monthly_Premium_Auto                       int64\n",
              "Months_Since_Last_Claim                    int64\n",
              "Months_Since_Policy_Inception              int64\n",
              "Number_of_Open_Complaints                  int64\n",
              "Number_of_Policies                         int64\n",
              "Total_Claim_Amount                       float64\n",
              "Vehicle_Size                              object\n",
              "State_Arizona                              uint8\n",
              "State_California                           uint8\n",
              "State_Nevada                               uint8\n",
              "State_Oregon                               uint8\n",
              "State_Washington                           uint8\n",
              "EmploymentStatus_Disabled                  uint8\n",
              "EmploymentStatus_Employed                  uint8\n",
              "EmploymentStatus_Medical Leave             uint8\n",
              "EmploymentStatus_Retired                   uint8\n",
              "EmploymentStatus_Unemployed                uint8\n",
              "Gender_F                                   uint8\n",
              "Gender_M                                   uint8\n",
              "Marital_Status_Divorced                    uint8\n",
              "Marital_Status_Married                     uint8\n",
              "Marital_Status_Single                      uint8\n",
              "Policy_Type_Corporate Auto                 uint8\n",
              "Policy_Type_Personal Auto                  uint8\n",
              "Policy_Type_Special Auto                   uint8\n",
              "Policy_Corporate L1                        uint8\n",
              "Policy_Corporate L2                        uint8\n",
              "Policy_Corporate L3                        uint8\n",
              "Policy_Personal L1                         uint8\n",
              "Policy_Personal L2                         uint8\n",
              "Policy_Personal L3                         uint8\n",
              "Policy_Special L1                          uint8\n",
              "Policy_Special L2                          uint8\n",
              "Policy_Special L3                          uint8\n",
              "Renew_Offer_Type_Offer1                    uint8\n",
              "Renew_Offer_Type_Offer2                    uint8\n",
              "Renew_Offer_Type_Offer3                    uint8\n",
              "Renew_Offer_Type_Offer4                    uint8\n",
              "Sales_Channel_Agent                        uint8\n",
              "Sales_Channel_Branch                       uint8\n",
              "Sales_Channel_Call Center                  uint8\n",
              "Sales_Channel_Web                          uint8\n",
              "Vehicle_Class_Four-Door Car                uint8\n",
              "Vehicle_Class_Luxury Car                   uint8\n",
              "Vehicle_Class_Luxury SUV                   uint8\n",
              "Vehicle_Class_SUV                          uint8\n",
              "Vehicle_Class_Sports Car                   uint8\n",
              "Vehicle_Class_Two-Door Car                 uint8\n",
              "Response_No                                uint8\n",
              "Response_Yes                               uint8\n",
              "dtype: object"
            ]
          },
          "metadata": {},
          "execution_count": 116
        }
      ]
    },
    {
      "cell_type": "code",
      "source": [
        "df_1_mitdummys['Coverage'].unique()"
      ],
      "metadata": {
        "colab": {
          "base_uri": "https://localhost:8080/"
        },
        "id": "F8hLEJ_oOH_z",
        "outputId": "2aac32fd-fe29-4318-f19c-73198c1fedd7"
      },
      "execution_count": null,
      "outputs": [
        {
          "output_type": "execute_result",
          "data": {
            "text/plain": [
              "array(['Basic', 'Extended', 'Premium'], dtype=object)"
            ]
          },
          "metadata": {},
          "execution_count": 117
        }
      ]
    },
    {
      "cell_type": "code",
      "source": [
        "# Für ordinale Daten mapping machen\n",
        "coverage_mapping = {\n",
        "    'Basic': 0,\n",
        "    'Extended': 1,\n",
        "    'Premium': 2,\n",
        "}\n",
        "df_1_mitdummys.Coverage = df_1_mitdummys.Coverage.apply(lambda x: coverage_mapping[x])"
      ],
      "metadata": {
        "id": "jGjglxKOKpnh"
      },
      "execution_count": null,
      "outputs": []
    },
    {
      "cell_type": "code",
      "source": [
        "df_1_mitdummys"
      ],
      "metadata": {
        "colab": {
          "base_uri": "https://localhost:8080/",
          "height": 505
        },
        "id": "HWeUdRROMrqO",
        "outputId": "8e0f617c-b44a-48fa-d7c9-d111cee9f63a"
      },
      "execution_count": null,
      "outputs": [
        {
          "output_type": "execute_result",
          "data": {
            "text/plain": [
              "      CLV_churn Customer  Customer_Lifetime_Value  Coverage Education  \\\n",
              "0             0  BU79786              2763.519279         0  Bachelor   \n",
              "1             2  QZ44356              6979.535903         1  Bachelor   \n",
              "2             3  AI49188             12887.431650         2  Bachelor   \n",
              "3             2  WW63253              7645.861827         0  Bachelor   \n",
              "4             0  HB64268              2813.692575         0  Bachelor   \n",
              "...         ...      ...                      ...       ...       ...   \n",
              "9129          3  LA72316             23405.987980         0  Bachelor   \n",
              "9130          0  PK87824              3096.511217         1   College   \n",
              "9131          2  TD14365              8163.890428         1  Bachelor   \n",
              "9132          2  UP19263              7524.442436         1   College   \n",
              "9133          0  Y167826              2611.836866         1   College   \n",
              "\n",
              "     Effective_To_Date  Income Location_Code  Monthly_Premium_Auto  \\\n",
              "0           2011-02-24   56274      Suburban                    69   \n",
              "1           2011-01-31       0      Suburban                    94   \n",
              "2           2011-02-19   48767      Suburban                   108   \n",
              "3           2011-01-20       0      Suburban                   106   \n",
              "4           2011-02-03   43836         Rural                    73   \n",
              "...                ...     ...           ...                   ...   \n",
              "9129        2011-02-10   71941         Urban                    73   \n",
              "9130        2011-02-12   21604      Suburban                    79   \n",
              "9131        2011-02-06       0      Suburban                    85   \n",
              "9132        2011-02-03   21941      Suburban                    96   \n",
              "9133        2011-02-14       0      Suburban                    77   \n",
              "\n",
              "      Months_Since_Last_Claim  ...  Sales_Channel_Call Center  \\\n",
              "0                          32  ...                          0   \n",
              "1                          13  ...                          0   \n",
              "2                          18  ...                          0   \n",
              "3                          18  ...                          1   \n",
              "4                          12  ...                          0   \n",
              "...                       ...  ...                        ...   \n",
              "9129                       18  ...                          0   \n",
              "9130                       14  ...                          0   \n",
              "9131                        9  ...                          0   \n",
              "9132                       34  ...                          0   \n",
              "9133                        3  ...                          1   \n",
              "\n",
              "      Sales_Channel_Web  Vehicle_Class_Four-Door Car  \\\n",
              "0                     0                            0   \n",
              "1                     0                            1   \n",
              "2                     0                            0   \n",
              "3                     0                            0   \n",
              "4                     0                            1   \n",
              "...                 ...                          ...   \n",
              "9129                  1                            1   \n",
              "9130                  0                            1   \n",
              "9131                  0                            1   \n",
              "9132                  0                            1   \n",
              "9133                  0                            0   \n",
              "\n",
              "      Vehicle_Class_Luxury Car Vehicle_Class_Luxury SUV  Vehicle_Class_SUV  \\\n",
              "0                            0                        0                  0   \n",
              "1                            0                        0                  0   \n",
              "2                            0                        0                  0   \n",
              "3                            0                        0                  1   \n",
              "4                            0                        0                  0   \n",
              "...                        ...                      ...                ...   \n",
              "9129                         0                        0                  0   \n",
              "9130                         0                        0                  0   \n",
              "9131                         0                        0                  0   \n",
              "9132                         0                        0                  0   \n",
              "9133                         0                        0                  0   \n",
              "\n",
              "      Vehicle_Class_Sports Car  Vehicle_Class_Two-Door Car  Response_No  \\\n",
              "0                            0                           1            1   \n",
              "1                            0                           0            1   \n",
              "2                            0                           1            1   \n",
              "3                            0                           0            1   \n",
              "4                            0                           0            1   \n",
              "...                        ...                         ...          ...   \n",
              "9129                         0                           0            1   \n",
              "9130                         0                           0            0   \n",
              "9131                         0                           0            1   \n",
              "9132                         0                           0            1   \n",
              "9133                         0                           1            1   \n",
              "\n",
              "      Response_Yes  \n",
              "0                0  \n",
              "1                0  \n",
              "2                0  \n",
              "3                0  \n",
              "4                0  \n",
              "...            ...  \n",
              "9129             0  \n",
              "9130             1  \n",
              "9131             0  \n",
              "9132             0  \n",
              "9133             0  \n",
              "\n",
              "[9134 rows x 58 columns]"
            ],
            "text/html": [
              "\n",
              "  <div id=\"df-c1d400d6-c543-4b5b-bcb1-c3009d0be085\">\n",
              "    <div class=\"colab-df-container\">\n",
              "      <div>\n",
              "<style scoped>\n",
              "    .dataframe tbody tr th:only-of-type {\n",
              "        vertical-align: middle;\n",
              "    }\n",
              "\n",
              "    .dataframe tbody tr th {\n",
              "        vertical-align: top;\n",
              "    }\n",
              "\n",
              "    .dataframe thead th {\n",
              "        text-align: right;\n",
              "    }\n",
              "</style>\n",
              "<table border=\"1\" class=\"dataframe\">\n",
              "  <thead>\n",
              "    <tr style=\"text-align: right;\">\n",
              "      <th></th>\n",
              "      <th>CLV_churn</th>\n",
              "      <th>Customer</th>\n",
              "      <th>Customer_Lifetime_Value</th>\n",
              "      <th>Coverage</th>\n",
              "      <th>Education</th>\n",
              "      <th>Effective_To_Date</th>\n",
              "      <th>Income</th>\n",
              "      <th>Location_Code</th>\n",
              "      <th>Monthly_Premium_Auto</th>\n",
              "      <th>Months_Since_Last_Claim</th>\n",
              "      <th>...</th>\n",
              "      <th>Sales_Channel_Call Center</th>\n",
              "      <th>Sales_Channel_Web</th>\n",
              "      <th>Vehicle_Class_Four-Door Car</th>\n",
              "      <th>Vehicle_Class_Luxury Car</th>\n",
              "      <th>Vehicle_Class_Luxury SUV</th>\n",
              "      <th>Vehicle_Class_SUV</th>\n",
              "      <th>Vehicle_Class_Sports Car</th>\n",
              "      <th>Vehicle_Class_Two-Door Car</th>\n",
              "      <th>Response_No</th>\n",
              "      <th>Response_Yes</th>\n",
              "    </tr>\n",
              "  </thead>\n",
              "  <tbody>\n",
              "    <tr>\n",
              "      <th>0</th>\n",
              "      <td>0</td>\n",
              "      <td>BU79786</td>\n",
              "      <td>2763.519279</td>\n",
              "      <td>0</td>\n",
              "      <td>Bachelor</td>\n",
              "      <td>2011-02-24</td>\n",
              "      <td>56274</td>\n",
              "      <td>Suburban</td>\n",
              "      <td>69</td>\n",
              "      <td>32</td>\n",
              "      <td>...</td>\n",
              "      <td>0</td>\n",
              "      <td>0</td>\n",
              "      <td>0</td>\n",
              "      <td>0</td>\n",
              "      <td>0</td>\n",
              "      <td>0</td>\n",
              "      <td>0</td>\n",
              "      <td>1</td>\n",
              "      <td>1</td>\n",
              "      <td>0</td>\n",
              "    </tr>\n",
              "    <tr>\n",
              "      <th>1</th>\n",
              "      <td>2</td>\n",
              "      <td>QZ44356</td>\n",
              "      <td>6979.535903</td>\n",
              "      <td>1</td>\n",
              "      <td>Bachelor</td>\n",
              "      <td>2011-01-31</td>\n",
              "      <td>0</td>\n",
              "      <td>Suburban</td>\n",
              "      <td>94</td>\n",
              "      <td>13</td>\n",
              "      <td>...</td>\n",
              "      <td>0</td>\n",
              "      <td>0</td>\n",
              "      <td>1</td>\n",
              "      <td>0</td>\n",
              "      <td>0</td>\n",
              "      <td>0</td>\n",
              "      <td>0</td>\n",
              "      <td>0</td>\n",
              "      <td>1</td>\n",
              "      <td>0</td>\n",
              "    </tr>\n",
              "    <tr>\n",
              "      <th>2</th>\n",
              "      <td>3</td>\n",
              "      <td>AI49188</td>\n",
              "      <td>12887.431650</td>\n",
              "      <td>2</td>\n",
              "      <td>Bachelor</td>\n",
              "      <td>2011-02-19</td>\n",
              "      <td>48767</td>\n",
              "      <td>Suburban</td>\n",
              "      <td>108</td>\n",
              "      <td>18</td>\n",
              "      <td>...</td>\n",
              "      <td>0</td>\n",
              "      <td>0</td>\n",
              "      <td>0</td>\n",
              "      <td>0</td>\n",
              "      <td>0</td>\n",
              "      <td>0</td>\n",
              "      <td>0</td>\n",
              "      <td>1</td>\n",
              "      <td>1</td>\n",
              "      <td>0</td>\n",
              "    </tr>\n",
              "    <tr>\n",
              "      <th>3</th>\n",
              "      <td>2</td>\n",
              "      <td>WW63253</td>\n",
              "      <td>7645.861827</td>\n",
              "      <td>0</td>\n",
              "      <td>Bachelor</td>\n",
              "      <td>2011-01-20</td>\n",
              "      <td>0</td>\n",
              "      <td>Suburban</td>\n",
              "      <td>106</td>\n",
              "      <td>18</td>\n",
              "      <td>...</td>\n",
              "      <td>1</td>\n",
              "      <td>0</td>\n",
              "      <td>0</td>\n",
              "      <td>0</td>\n",
              "      <td>0</td>\n",
              "      <td>1</td>\n",
              "      <td>0</td>\n",
              "      <td>0</td>\n",
              "      <td>1</td>\n",
              "      <td>0</td>\n",
              "    </tr>\n",
              "    <tr>\n",
              "      <th>4</th>\n",
              "      <td>0</td>\n",
              "      <td>HB64268</td>\n",
              "      <td>2813.692575</td>\n",
              "      <td>0</td>\n",
              "      <td>Bachelor</td>\n",
              "      <td>2011-02-03</td>\n",
              "      <td>43836</td>\n",
              "      <td>Rural</td>\n",
              "      <td>73</td>\n",
              "      <td>12</td>\n",
              "      <td>...</td>\n",
              "      <td>0</td>\n",
              "      <td>0</td>\n",
              "      <td>1</td>\n",
              "      <td>0</td>\n",
              "      <td>0</td>\n",
              "      <td>0</td>\n",
              "      <td>0</td>\n",
              "      <td>0</td>\n",
              "      <td>1</td>\n",
              "      <td>0</td>\n",
              "    </tr>\n",
              "    <tr>\n",
              "      <th>...</th>\n",
              "      <td>...</td>\n",
              "      <td>...</td>\n",
              "      <td>...</td>\n",
              "      <td>...</td>\n",
              "      <td>...</td>\n",
              "      <td>...</td>\n",
              "      <td>...</td>\n",
              "      <td>...</td>\n",
              "      <td>...</td>\n",
              "      <td>...</td>\n",
              "      <td>...</td>\n",
              "      <td>...</td>\n",
              "      <td>...</td>\n",
              "      <td>...</td>\n",
              "      <td>...</td>\n",
              "      <td>...</td>\n",
              "      <td>...</td>\n",
              "      <td>...</td>\n",
              "      <td>...</td>\n",
              "      <td>...</td>\n",
              "      <td>...</td>\n",
              "    </tr>\n",
              "    <tr>\n",
              "      <th>9129</th>\n",
              "      <td>3</td>\n",
              "      <td>LA72316</td>\n",
              "      <td>23405.987980</td>\n",
              "      <td>0</td>\n",
              "      <td>Bachelor</td>\n",
              "      <td>2011-02-10</td>\n",
              "      <td>71941</td>\n",
              "      <td>Urban</td>\n",
              "      <td>73</td>\n",
              "      <td>18</td>\n",
              "      <td>...</td>\n",
              "      <td>0</td>\n",
              "      <td>1</td>\n",
              "      <td>1</td>\n",
              "      <td>0</td>\n",
              "      <td>0</td>\n",
              "      <td>0</td>\n",
              "      <td>0</td>\n",
              "      <td>0</td>\n",
              "      <td>1</td>\n",
              "      <td>0</td>\n",
              "    </tr>\n",
              "    <tr>\n",
              "      <th>9130</th>\n",
              "      <td>0</td>\n",
              "      <td>PK87824</td>\n",
              "      <td>3096.511217</td>\n",
              "      <td>1</td>\n",
              "      <td>College</td>\n",
              "      <td>2011-02-12</td>\n",
              "      <td>21604</td>\n",
              "      <td>Suburban</td>\n",
              "      <td>79</td>\n",
              "      <td>14</td>\n",
              "      <td>...</td>\n",
              "      <td>0</td>\n",
              "      <td>0</td>\n",
              "      <td>1</td>\n",
              "      <td>0</td>\n",
              "      <td>0</td>\n",
              "      <td>0</td>\n",
              "      <td>0</td>\n",
              "      <td>0</td>\n",
              "      <td>0</td>\n",
              "      <td>1</td>\n",
              "    </tr>\n",
              "    <tr>\n",
              "      <th>9131</th>\n",
              "      <td>2</td>\n",
              "      <td>TD14365</td>\n",
              "      <td>8163.890428</td>\n",
              "      <td>1</td>\n",
              "      <td>Bachelor</td>\n",
              "      <td>2011-02-06</td>\n",
              "      <td>0</td>\n",
              "      <td>Suburban</td>\n",
              "      <td>85</td>\n",
              "      <td>9</td>\n",
              "      <td>...</td>\n",
              "      <td>0</td>\n",
              "      <td>0</td>\n",
              "      <td>1</td>\n",
              "      <td>0</td>\n",
              "      <td>0</td>\n",
              "      <td>0</td>\n",
              "      <td>0</td>\n",
              "      <td>0</td>\n",
              "      <td>1</td>\n",
              "      <td>0</td>\n",
              "    </tr>\n",
              "    <tr>\n",
              "      <th>9132</th>\n",
              "      <td>2</td>\n",
              "      <td>UP19263</td>\n",
              "      <td>7524.442436</td>\n",
              "      <td>1</td>\n",
              "      <td>College</td>\n",
              "      <td>2011-02-03</td>\n",
              "      <td>21941</td>\n",
              "      <td>Suburban</td>\n",
              "      <td>96</td>\n",
              "      <td>34</td>\n",
              "      <td>...</td>\n",
              "      <td>0</td>\n",
              "      <td>0</td>\n",
              "      <td>1</td>\n",
              "      <td>0</td>\n",
              "      <td>0</td>\n",
              "      <td>0</td>\n",
              "      <td>0</td>\n",
              "      <td>0</td>\n",
              "      <td>1</td>\n",
              "      <td>0</td>\n",
              "    </tr>\n",
              "    <tr>\n",
              "      <th>9133</th>\n",
              "      <td>0</td>\n",
              "      <td>Y167826</td>\n",
              "      <td>2611.836866</td>\n",
              "      <td>1</td>\n",
              "      <td>College</td>\n",
              "      <td>2011-02-14</td>\n",
              "      <td>0</td>\n",
              "      <td>Suburban</td>\n",
              "      <td>77</td>\n",
              "      <td>3</td>\n",
              "      <td>...</td>\n",
              "      <td>1</td>\n",
              "      <td>0</td>\n",
              "      <td>0</td>\n",
              "      <td>0</td>\n",
              "      <td>0</td>\n",
              "      <td>0</td>\n",
              "      <td>0</td>\n",
              "      <td>1</td>\n",
              "      <td>1</td>\n",
              "      <td>0</td>\n",
              "    </tr>\n",
              "  </tbody>\n",
              "</table>\n",
              "<p>9134 rows × 58 columns</p>\n",
              "</div>\n",
              "      <button class=\"colab-df-convert\" onclick=\"convertToInteractive('df-c1d400d6-c543-4b5b-bcb1-c3009d0be085')\"\n",
              "              title=\"Convert this dataframe to an interactive table.\"\n",
              "              style=\"display:none;\">\n",
              "        \n",
              "  <svg xmlns=\"http://www.w3.org/2000/svg\" height=\"24px\"viewBox=\"0 0 24 24\"\n",
              "       width=\"24px\">\n",
              "    <path d=\"M0 0h24v24H0V0z\" fill=\"none\"/>\n",
              "    <path d=\"M18.56 5.44l.94 2.06.94-2.06 2.06-.94-2.06-.94-.94-2.06-.94 2.06-2.06.94zm-11 1L8.5 8.5l.94-2.06 2.06-.94-2.06-.94L8.5 2.5l-.94 2.06-2.06.94zm10 10l.94 2.06.94-2.06 2.06-.94-2.06-.94-.94-2.06-.94 2.06-2.06.94z\"/><path d=\"M17.41 7.96l-1.37-1.37c-.4-.4-.92-.59-1.43-.59-.52 0-1.04.2-1.43.59L10.3 9.45l-7.72 7.72c-.78.78-.78 2.05 0 2.83L4 21.41c.39.39.9.59 1.41.59.51 0 1.02-.2 1.41-.59l7.78-7.78 2.81-2.81c.8-.78.8-2.07 0-2.86zM5.41 20L4 18.59l7.72-7.72 1.47 1.35L5.41 20z\"/>\n",
              "  </svg>\n",
              "      </button>\n",
              "      \n",
              "  <style>\n",
              "    .colab-df-container {\n",
              "      display:flex;\n",
              "      flex-wrap:wrap;\n",
              "      gap: 12px;\n",
              "    }\n",
              "\n",
              "    .colab-df-convert {\n",
              "      background-color: #E8F0FE;\n",
              "      border: none;\n",
              "      border-radius: 50%;\n",
              "      cursor: pointer;\n",
              "      display: none;\n",
              "      fill: #1967D2;\n",
              "      height: 32px;\n",
              "      padding: 0 0 0 0;\n",
              "      width: 32px;\n",
              "    }\n",
              "\n",
              "    .colab-df-convert:hover {\n",
              "      background-color: #E2EBFA;\n",
              "      box-shadow: 0px 1px 2px rgba(60, 64, 67, 0.3), 0px 1px 3px 1px rgba(60, 64, 67, 0.15);\n",
              "      fill: #174EA6;\n",
              "    }\n",
              "\n",
              "    [theme=dark] .colab-df-convert {\n",
              "      background-color: #3B4455;\n",
              "      fill: #D2E3FC;\n",
              "    }\n",
              "\n",
              "    [theme=dark] .colab-df-convert:hover {\n",
              "      background-color: #434B5C;\n",
              "      box-shadow: 0px 1px 3px 1px rgba(0, 0, 0, 0.15);\n",
              "      filter: drop-shadow(0px 1px 2px rgba(0, 0, 0, 0.3));\n",
              "      fill: #FFFFFF;\n",
              "    }\n",
              "  </style>\n",
              "\n",
              "      <script>\n",
              "        const buttonEl =\n",
              "          document.querySelector('#df-c1d400d6-c543-4b5b-bcb1-c3009d0be085 button.colab-df-convert');\n",
              "        buttonEl.style.display =\n",
              "          google.colab.kernel.accessAllowed ? 'block' : 'none';\n",
              "\n",
              "        async function convertToInteractive(key) {\n",
              "          const element = document.querySelector('#df-c1d400d6-c543-4b5b-bcb1-c3009d0be085');\n",
              "          const dataTable =\n",
              "            await google.colab.kernel.invokeFunction('convertToInteractive',\n",
              "                                                     [key], {});\n",
              "          if (!dataTable) return;\n",
              "\n",
              "          const docLinkHtml = 'Like what you see? Visit the ' +\n",
              "            '<a target=\"_blank\" href=https://colab.research.google.com/notebooks/data_table.ipynb>data table notebook</a>'\n",
              "            + ' to learn more about interactive tables.';\n",
              "          element.innerHTML = '';\n",
              "          dataTable['output_type'] = 'display_data';\n",
              "          await google.colab.output.renderOutput(dataTable, element);\n",
              "          const docLink = document.createElement('div');\n",
              "          docLink.innerHTML = docLinkHtml;\n",
              "          element.appendChild(docLink);\n",
              "        }\n",
              "      </script>\n",
              "    </div>\n",
              "  </div>\n",
              "  "
            ]
          },
          "metadata": {},
          "execution_count": 119
        }
      ]
    },
    {
      "cell_type": "code",
      "source": [
        "education_mapping = {\n",
        "    'High School or Below': 0,\n",
        "    'College': 1,\n",
        "    'Bachelor': 2,\n",
        "    'Master': 3,\n",
        "    'Doctor': 4,\n",
        "}\n",
        "df_1_mitdummys.Education = df_1_mitdummys.Education.apply(lambda x: education_mapping[x])"
      ],
      "metadata": {
        "id": "OWeFyITJIRyX"
      },
      "execution_count": null,
      "outputs": []
    },
    {
      "cell_type": "code",
      "source": [
        "Vehicle_Size_mapping = {\n",
        "    'Small': 0,\n",
        "    'Medsize': 1,\n",
        "    'Large': 2,\n",
        "}\n",
        "df_1_mitdummys.Vehicle_Size = df_1_mitdummys.Vehicle_Size.apply(lambda x: Vehicle_Size_mapping[x])"
      ],
      "metadata": {
        "id": "bUKUn1VmLhi0"
      },
      "execution_count": null,
      "outputs": []
    },
    {
      "cell_type": "code",
      "source": [
        "Location_Code_mapping = {\n",
        "    'Rural': 0,\n",
        "    'Suburban': 1,\n",
        "    'Urban': 2,\n",
        "}\n",
        "df_1_mitdummys.Location_Code = df_1_mitdummys.Location_Code.apply(lambda x: Location_Code_mapping[x])"
      ],
      "metadata": {
        "id": "9Zn9GIrVLUCw"
      },
      "execution_count": null,
      "outputs": []
    },
    {
      "cell_type": "code",
      "source": [
        "#df_final = pd.concat((df_1_mitdummys, df.Coverage, df.Education, df.Vehicle_Size, df.Location_Code), axis=1)"
      ],
      "metadata": {
        "id": "paoJ0oNzYpJe"
      },
      "execution_count": null,
      "outputs": []
    },
    {
      "cell_type": "code",
      "source": [
        "df_1_mitdummys"
      ],
      "metadata": {
        "colab": {
          "base_uri": "https://localhost:8080/",
          "height": 505
        },
        "id": "znnj0J8-ZpJd",
        "outputId": "9381ce7b-95e0-4f13-b355-d0cb9947be43"
      },
      "execution_count": null,
      "outputs": [
        {
          "output_type": "execute_result",
          "data": {
            "text/plain": [
              "      CLV_churn Customer  Customer_Lifetime_Value  Coverage  Education  \\\n",
              "0             0  BU79786              2763.519279         0          2   \n",
              "1             2  QZ44356              6979.535903         1          2   \n",
              "2             3  AI49188             12887.431650         2          2   \n",
              "3             2  WW63253              7645.861827         0          2   \n",
              "4             0  HB64268              2813.692575         0          2   \n",
              "...         ...      ...                      ...       ...        ...   \n",
              "9129          3  LA72316             23405.987980         0          2   \n",
              "9130          0  PK87824              3096.511217         1          1   \n",
              "9131          2  TD14365              8163.890428         1          2   \n",
              "9132          2  UP19263              7524.442436         1          1   \n",
              "9133          0  Y167826              2611.836866         1          1   \n",
              "\n",
              "     Effective_To_Date  Income  Location_Code  Monthly_Premium_Auto  \\\n",
              "0           2011-02-24   56274              1                    69   \n",
              "1           2011-01-31       0              1                    94   \n",
              "2           2011-02-19   48767              1                   108   \n",
              "3           2011-01-20       0              1                   106   \n",
              "4           2011-02-03   43836              0                    73   \n",
              "...                ...     ...            ...                   ...   \n",
              "9129        2011-02-10   71941              2                    73   \n",
              "9130        2011-02-12   21604              1                    79   \n",
              "9131        2011-02-06       0              1                    85   \n",
              "9132        2011-02-03   21941              1                    96   \n",
              "9133        2011-02-14       0              1                    77   \n",
              "\n",
              "      Months_Since_Last_Claim  ...  Sales_Channel_Call Center  \\\n",
              "0                          32  ...                          0   \n",
              "1                          13  ...                          0   \n",
              "2                          18  ...                          0   \n",
              "3                          18  ...                          1   \n",
              "4                          12  ...                          0   \n",
              "...                       ...  ...                        ...   \n",
              "9129                       18  ...                          0   \n",
              "9130                       14  ...                          0   \n",
              "9131                        9  ...                          0   \n",
              "9132                       34  ...                          0   \n",
              "9133                        3  ...                          1   \n",
              "\n",
              "      Sales_Channel_Web  Vehicle_Class_Four-Door Car  \\\n",
              "0                     0                            0   \n",
              "1                     0                            1   \n",
              "2                     0                            0   \n",
              "3                     0                            0   \n",
              "4                     0                            1   \n",
              "...                 ...                          ...   \n",
              "9129                  1                            1   \n",
              "9130                  0                            1   \n",
              "9131                  0                            1   \n",
              "9132                  0                            1   \n",
              "9133                  0                            0   \n",
              "\n",
              "      Vehicle_Class_Luxury Car  Vehicle_Class_Luxury SUV  Vehicle_Class_SUV  \\\n",
              "0                            0                         0                  0   \n",
              "1                            0                         0                  0   \n",
              "2                            0                         0                  0   \n",
              "3                            0                         0                  1   \n",
              "4                            0                         0                  0   \n",
              "...                        ...                       ...                ...   \n",
              "9129                         0                         0                  0   \n",
              "9130                         0                         0                  0   \n",
              "9131                         0                         0                  0   \n",
              "9132                         0                         0                  0   \n",
              "9133                         0                         0                  0   \n",
              "\n",
              "      Vehicle_Class_Sports Car  Vehicle_Class_Two-Door Car  Response_No  \\\n",
              "0                            0                           1            1   \n",
              "1                            0                           0            1   \n",
              "2                            0                           1            1   \n",
              "3                            0                           0            1   \n",
              "4                            0                           0            1   \n",
              "...                        ...                         ...          ...   \n",
              "9129                         0                           0            1   \n",
              "9130                         0                           0            0   \n",
              "9131                         0                           0            1   \n",
              "9132                         0                           0            1   \n",
              "9133                         0                           1            1   \n",
              "\n",
              "      Response_Yes  \n",
              "0                0  \n",
              "1                0  \n",
              "2                0  \n",
              "3                0  \n",
              "4                0  \n",
              "...            ...  \n",
              "9129             0  \n",
              "9130             1  \n",
              "9131             0  \n",
              "9132             0  \n",
              "9133             0  \n",
              "\n",
              "[9134 rows x 58 columns]"
            ],
            "text/html": [
              "\n",
              "  <div id=\"df-a8da4f17-261e-463d-ae10-26d48e21da36\">\n",
              "    <div class=\"colab-df-container\">\n",
              "      <div>\n",
              "<style scoped>\n",
              "    .dataframe tbody tr th:only-of-type {\n",
              "        vertical-align: middle;\n",
              "    }\n",
              "\n",
              "    .dataframe tbody tr th {\n",
              "        vertical-align: top;\n",
              "    }\n",
              "\n",
              "    .dataframe thead th {\n",
              "        text-align: right;\n",
              "    }\n",
              "</style>\n",
              "<table border=\"1\" class=\"dataframe\">\n",
              "  <thead>\n",
              "    <tr style=\"text-align: right;\">\n",
              "      <th></th>\n",
              "      <th>CLV_churn</th>\n",
              "      <th>Customer</th>\n",
              "      <th>Customer_Lifetime_Value</th>\n",
              "      <th>Coverage</th>\n",
              "      <th>Education</th>\n",
              "      <th>Effective_To_Date</th>\n",
              "      <th>Income</th>\n",
              "      <th>Location_Code</th>\n",
              "      <th>Monthly_Premium_Auto</th>\n",
              "      <th>Months_Since_Last_Claim</th>\n",
              "      <th>...</th>\n",
              "      <th>Sales_Channel_Call Center</th>\n",
              "      <th>Sales_Channel_Web</th>\n",
              "      <th>Vehicle_Class_Four-Door Car</th>\n",
              "      <th>Vehicle_Class_Luxury Car</th>\n",
              "      <th>Vehicle_Class_Luxury SUV</th>\n",
              "      <th>Vehicle_Class_SUV</th>\n",
              "      <th>Vehicle_Class_Sports Car</th>\n",
              "      <th>Vehicle_Class_Two-Door Car</th>\n",
              "      <th>Response_No</th>\n",
              "      <th>Response_Yes</th>\n",
              "    </tr>\n",
              "  </thead>\n",
              "  <tbody>\n",
              "    <tr>\n",
              "      <th>0</th>\n",
              "      <td>0</td>\n",
              "      <td>BU79786</td>\n",
              "      <td>2763.519279</td>\n",
              "      <td>0</td>\n",
              "      <td>2</td>\n",
              "      <td>2011-02-24</td>\n",
              "      <td>56274</td>\n",
              "      <td>1</td>\n",
              "      <td>69</td>\n",
              "      <td>32</td>\n",
              "      <td>...</td>\n",
              "      <td>0</td>\n",
              "      <td>0</td>\n",
              "      <td>0</td>\n",
              "      <td>0</td>\n",
              "      <td>0</td>\n",
              "      <td>0</td>\n",
              "      <td>0</td>\n",
              "      <td>1</td>\n",
              "      <td>1</td>\n",
              "      <td>0</td>\n",
              "    </tr>\n",
              "    <tr>\n",
              "      <th>1</th>\n",
              "      <td>2</td>\n",
              "      <td>QZ44356</td>\n",
              "      <td>6979.535903</td>\n",
              "      <td>1</td>\n",
              "      <td>2</td>\n",
              "      <td>2011-01-31</td>\n",
              "      <td>0</td>\n",
              "      <td>1</td>\n",
              "      <td>94</td>\n",
              "      <td>13</td>\n",
              "      <td>...</td>\n",
              "      <td>0</td>\n",
              "      <td>0</td>\n",
              "      <td>1</td>\n",
              "      <td>0</td>\n",
              "      <td>0</td>\n",
              "      <td>0</td>\n",
              "      <td>0</td>\n",
              "      <td>0</td>\n",
              "      <td>1</td>\n",
              "      <td>0</td>\n",
              "    </tr>\n",
              "    <tr>\n",
              "      <th>2</th>\n",
              "      <td>3</td>\n",
              "      <td>AI49188</td>\n",
              "      <td>12887.431650</td>\n",
              "      <td>2</td>\n",
              "      <td>2</td>\n",
              "      <td>2011-02-19</td>\n",
              "      <td>48767</td>\n",
              "      <td>1</td>\n",
              "      <td>108</td>\n",
              "      <td>18</td>\n",
              "      <td>...</td>\n",
              "      <td>0</td>\n",
              "      <td>0</td>\n",
              "      <td>0</td>\n",
              "      <td>0</td>\n",
              "      <td>0</td>\n",
              "      <td>0</td>\n",
              "      <td>0</td>\n",
              "      <td>1</td>\n",
              "      <td>1</td>\n",
              "      <td>0</td>\n",
              "    </tr>\n",
              "    <tr>\n",
              "      <th>3</th>\n",
              "      <td>2</td>\n",
              "      <td>WW63253</td>\n",
              "      <td>7645.861827</td>\n",
              "      <td>0</td>\n",
              "      <td>2</td>\n",
              "      <td>2011-01-20</td>\n",
              "      <td>0</td>\n",
              "      <td>1</td>\n",
              "      <td>106</td>\n",
              "      <td>18</td>\n",
              "      <td>...</td>\n",
              "      <td>1</td>\n",
              "      <td>0</td>\n",
              "      <td>0</td>\n",
              "      <td>0</td>\n",
              "      <td>0</td>\n",
              "      <td>1</td>\n",
              "      <td>0</td>\n",
              "      <td>0</td>\n",
              "      <td>1</td>\n",
              "      <td>0</td>\n",
              "    </tr>\n",
              "    <tr>\n",
              "      <th>4</th>\n",
              "      <td>0</td>\n",
              "      <td>HB64268</td>\n",
              "      <td>2813.692575</td>\n",
              "      <td>0</td>\n",
              "      <td>2</td>\n",
              "      <td>2011-02-03</td>\n",
              "      <td>43836</td>\n",
              "      <td>0</td>\n",
              "      <td>73</td>\n",
              "      <td>12</td>\n",
              "      <td>...</td>\n",
              "      <td>0</td>\n",
              "      <td>0</td>\n",
              "      <td>1</td>\n",
              "      <td>0</td>\n",
              "      <td>0</td>\n",
              "      <td>0</td>\n",
              "      <td>0</td>\n",
              "      <td>0</td>\n",
              "      <td>1</td>\n",
              "      <td>0</td>\n",
              "    </tr>\n",
              "    <tr>\n",
              "      <th>...</th>\n",
              "      <td>...</td>\n",
              "      <td>...</td>\n",
              "      <td>...</td>\n",
              "      <td>...</td>\n",
              "      <td>...</td>\n",
              "      <td>...</td>\n",
              "      <td>...</td>\n",
              "      <td>...</td>\n",
              "      <td>...</td>\n",
              "      <td>...</td>\n",
              "      <td>...</td>\n",
              "      <td>...</td>\n",
              "      <td>...</td>\n",
              "      <td>...</td>\n",
              "      <td>...</td>\n",
              "      <td>...</td>\n",
              "      <td>...</td>\n",
              "      <td>...</td>\n",
              "      <td>...</td>\n",
              "      <td>...</td>\n",
              "      <td>...</td>\n",
              "    </tr>\n",
              "    <tr>\n",
              "      <th>9129</th>\n",
              "      <td>3</td>\n",
              "      <td>LA72316</td>\n",
              "      <td>23405.987980</td>\n",
              "      <td>0</td>\n",
              "      <td>2</td>\n",
              "      <td>2011-02-10</td>\n",
              "      <td>71941</td>\n",
              "      <td>2</td>\n",
              "      <td>73</td>\n",
              "      <td>18</td>\n",
              "      <td>...</td>\n",
              "      <td>0</td>\n",
              "      <td>1</td>\n",
              "      <td>1</td>\n",
              "      <td>0</td>\n",
              "      <td>0</td>\n",
              "      <td>0</td>\n",
              "      <td>0</td>\n",
              "      <td>0</td>\n",
              "      <td>1</td>\n",
              "      <td>0</td>\n",
              "    </tr>\n",
              "    <tr>\n",
              "      <th>9130</th>\n",
              "      <td>0</td>\n",
              "      <td>PK87824</td>\n",
              "      <td>3096.511217</td>\n",
              "      <td>1</td>\n",
              "      <td>1</td>\n",
              "      <td>2011-02-12</td>\n",
              "      <td>21604</td>\n",
              "      <td>1</td>\n",
              "      <td>79</td>\n",
              "      <td>14</td>\n",
              "      <td>...</td>\n",
              "      <td>0</td>\n",
              "      <td>0</td>\n",
              "      <td>1</td>\n",
              "      <td>0</td>\n",
              "      <td>0</td>\n",
              "      <td>0</td>\n",
              "      <td>0</td>\n",
              "      <td>0</td>\n",
              "      <td>0</td>\n",
              "      <td>1</td>\n",
              "    </tr>\n",
              "    <tr>\n",
              "      <th>9131</th>\n",
              "      <td>2</td>\n",
              "      <td>TD14365</td>\n",
              "      <td>8163.890428</td>\n",
              "      <td>1</td>\n",
              "      <td>2</td>\n",
              "      <td>2011-02-06</td>\n",
              "      <td>0</td>\n",
              "      <td>1</td>\n",
              "      <td>85</td>\n",
              "      <td>9</td>\n",
              "      <td>...</td>\n",
              "      <td>0</td>\n",
              "      <td>0</td>\n",
              "      <td>1</td>\n",
              "      <td>0</td>\n",
              "      <td>0</td>\n",
              "      <td>0</td>\n",
              "      <td>0</td>\n",
              "      <td>0</td>\n",
              "      <td>1</td>\n",
              "      <td>0</td>\n",
              "    </tr>\n",
              "    <tr>\n",
              "      <th>9132</th>\n",
              "      <td>2</td>\n",
              "      <td>UP19263</td>\n",
              "      <td>7524.442436</td>\n",
              "      <td>1</td>\n",
              "      <td>1</td>\n",
              "      <td>2011-02-03</td>\n",
              "      <td>21941</td>\n",
              "      <td>1</td>\n",
              "      <td>96</td>\n",
              "      <td>34</td>\n",
              "      <td>...</td>\n",
              "      <td>0</td>\n",
              "      <td>0</td>\n",
              "      <td>1</td>\n",
              "      <td>0</td>\n",
              "      <td>0</td>\n",
              "      <td>0</td>\n",
              "      <td>0</td>\n",
              "      <td>0</td>\n",
              "      <td>1</td>\n",
              "      <td>0</td>\n",
              "    </tr>\n",
              "    <tr>\n",
              "      <th>9133</th>\n",
              "      <td>0</td>\n",
              "      <td>Y167826</td>\n",
              "      <td>2611.836866</td>\n",
              "      <td>1</td>\n",
              "      <td>1</td>\n",
              "      <td>2011-02-14</td>\n",
              "      <td>0</td>\n",
              "      <td>1</td>\n",
              "      <td>77</td>\n",
              "      <td>3</td>\n",
              "      <td>...</td>\n",
              "      <td>1</td>\n",
              "      <td>0</td>\n",
              "      <td>0</td>\n",
              "      <td>0</td>\n",
              "      <td>0</td>\n",
              "      <td>0</td>\n",
              "      <td>0</td>\n",
              "      <td>1</td>\n",
              "      <td>1</td>\n",
              "      <td>0</td>\n",
              "    </tr>\n",
              "  </tbody>\n",
              "</table>\n",
              "<p>9134 rows × 58 columns</p>\n",
              "</div>\n",
              "      <button class=\"colab-df-convert\" onclick=\"convertToInteractive('df-a8da4f17-261e-463d-ae10-26d48e21da36')\"\n",
              "              title=\"Convert this dataframe to an interactive table.\"\n",
              "              style=\"display:none;\">\n",
              "        \n",
              "  <svg xmlns=\"http://www.w3.org/2000/svg\" height=\"24px\"viewBox=\"0 0 24 24\"\n",
              "       width=\"24px\">\n",
              "    <path d=\"M0 0h24v24H0V0z\" fill=\"none\"/>\n",
              "    <path d=\"M18.56 5.44l.94 2.06.94-2.06 2.06-.94-2.06-.94-.94-2.06-.94 2.06-2.06.94zm-11 1L8.5 8.5l.94-2.06 2.06-.94-2.06-.94L8.5 2.5l-.94 2.06-2.06.94zm10 10l.94 2.06.94-2.06 2.06-.94-2.06-.94-.94-2.06-.94 2.06-2.06.94z\"/><path d=\"M17.41 7.96l-1.37-1.37c-.4-.4-.92-.59-1.43-.59-.52 0-1.04.2-1.43.59L10.3 9.45l-7.72 7.72c-.78.78-.78 2.05 0 2.83L4 21.41c.39.39.9.59 1.41.59.51 0 1.02-.2 1.41-.59l7.78-7.78 2.81-2.81c.8-.78.8-2.07 0-2.86zM5.41 20L4 18.59l7.72-7.72 1.47 1.35L5.41 20z\"/>\n",
              "  </svg>\n",
              "      </button>\n",
              "      \n",
              "  <style>\n",
              "    .colab-df-container {\n",
              "      display:flex;\n",
              "      flex-wrap:wrap;\n",
              "      gap: 12px;\n",
              "    }\n",
              "\n",
              "    .colab-df-convert {\n",
              "      background-color: #E8F0FE;\n",
              "      border: none;\n",
              "      border-radius: 50%;\n",
              "      cursor: pointer;\n",
              "      display: none;\n",
              "      fill: #1967D2;\n",
              "      height: 32px;\n",
              "      padding: 0 0 0 0;\n",
              "      width: 32px;\n",
              "    }\n",
              "\n",
              "    .colab-df-convert:hover {\n",
              "      background-color: #E2EBFA;\n",
              "      box-shadow: 0px 1px 2px rgba(60, 64, 67, 0.3), 0px 1px 3px 1px rgba(60, 64, 67, 0.15);\n",
              "      fill: #174EA6;\n",
              "    }\n",
              "\n",
              "    [theme=dark] .colab-df-convert {\n",
              "      background-color: #3B4455;\n",
              "      fill: #D2E3FC;\n",
              "    }\n",
              "\n",
              "    [theme=dark] .colab-df-convert:hover {\n",
              "      background-color: #434B5C;\n",
              "      box-shadow: 0px 1px 3px 1px rgba(0, 0, 0, 0.15);\n",
              "      filter: drop-shadow(0px 1px 2px rgba(0, 0, 0, 0.3));\n",
              "      fill: #FFFFFF;\n",
              "    }\n",
              "  </style>\n",
              "\n",
              "      <script>\n",
              "        const buttonEl =\n",
              "          document.querySelector('#df-a8da4f17-261e-463d-ae10-26d48e21da36 button.colab-df-convert');\n",
              "        buttonEl.style.display =\n",
              "          google.colab.kernel.accessAllowed ? 'block' : 'none';\n",
              "\n",
              "        async function convertToInteractive(key) {\n",
              "          const element = document.querySelector('#df-a8da4f17-261e-463d-ae10-26d48e21da36');\n",
              "          const dataTable =\n",
              "            await google.colab.kernel.invokeFunction('convertToInteractive',\n",
              "                                                     [key], {});\n",
              "          if (!dataTable) return;\n",
              "\n",
              "          const docLinkHtml = 'Like what you see? Visit the ' +\n",
              "            '<a target=\"_blank\" href=https://colab.research.google.com/notebooks/data_table.ipynb>data table notebook</a>'\n",
              "            + ' to learn more about interactive tables.';\n",
              "          element.innerHTML = '';\n",
              "          dataTable['output_type'] = 'display_data';\n",
              "          await google.colab.output.renderOutput(dataTable, element);\n",
              "          const docLink = document.createElement('div');\n",
              "          docLink.innerHTML = docLinkHtml;\n",
              "          element.appendChild(docLink);\n",
              "        }\n",
              "      </script>\n",
              "    </div>\n",
              "  </div>\n",
              "  "
            ]
          },
          "metadata": {},
          "execution_count": 124
        }
      ]
    },
    {
      "cell_type": "markdown",
      "source": [
        "Hier sind jetzt alle mapping data in dem Datensatz enthalten (Aber doppelt: 1x als object und 1x als int)"
      ],
      "metadata": {
        "id": "wVHmX0-8amMG"
      }
    },
    {
      "cell_type": "code",
      "source": [
        "#Metrische Variable für Regression\n",
        "target_regression = df_1_mitdummys.loc[:,'Customer_Lifetime_Value']"
      ],
      "metadata": {
        "id": "qm84W2WcEOh1"
      },
      "execution_count": null,
      "outputs": []
    },
    {
      "cell_type": "code",
      "source": [
        "#Customer und CLV gelöscht\n",
        "df_1_mitdummys = df_1_mitdummys.drop(['Customer', 'Customer_Lifetime_Value'],1)\n"
      ],
      "metadata": {
        "colab": {
          "base_uri": "https://localhost:8080/"
        },
        "id": "s2seiHlebFQE",
        "outputId": "975a16ea-6871-4326-d474-0004668fc290"
      },
      "execution_count": null,
      "outputs": [
        {
          "output_type": "stream",
          "name": "stderr",
          "text": [
            "<ipython-input-126-33512760453f>:2: FutureWarning: In a future version of pandas all arguments of DataFrame.drop except for the argument 'labels' will be keyword-only.\n",
            "  df_1_mitdummys = df_1_mitdummys.drop(['Customer', 'Customer_Lifetime_Value'],1)\n"
          ]
        }
      ]
    },
    {
      "cell_type": "code",
      "source": [],
      "metadata": {
        "id": "gT63xJb0QO3W"
      },
      "execution_count": null,
      "outputs": []
    },
    {
      "cell_type": "code",
      "source": [
        "#Löschen von jeweils einem Dummy\n",
        "df_1_mitdummys = df_1_mitdummys.drop(['State_Washington', 'EmploymentStatus_Unemployed', 'Gender_M', 'Marital_Status_Single', 'Policy_Type_Special Auto', 'Policy_Special L3', 'Renew_Offer_Type_Offer4', 'Sales_Channel_Web', 'Vehicle_Class_Two-Door Car', 'Response_Yes'],1)\n"
      ],
      "metadata": {
        "colab": {
          "base_uri": "https://localhost:8080/"
        },
        "id": "sotSDRvCP5db",
        "outputId": "649a8a37-9e8b-45af-a4e5-a02853719bdf"
      },
      "execution_count": null,
      "outputs": [
        {
          "output_type": "stream",
          "name": "stderr",
          "text": [
            "<ipython-input-127-705fd9f515a6>:2: FutureWarning: In a future version of pandas all arguments of DataFrame.drop except for the argument 'labels' will be keyword-only.\n",
            "  df_1_mitdummys = df_1_mitdummys.drop(['State_Washington', 'EmploymentStatus_Unemployed', 'Gender_M', 'Marital_Status_Single', 'Policy_Type_Special Auto', 'Policy_Special L3', 'Renew_Offer_Type_Offer4', 'Sales_Channel_Web', 'Vehicle_Class_Two-Door Car', 'Response_Yes'],1)\n"
          ]
        }
      ]
    },
    {
      "cell_type": "code",
      "source": [
        "df_1_mitdummys.dtypes"
      ],
      "metadata": {
        "id": "qLCAccEpgLqH",
        "colab": {
          "base_uri": "https://localhost:8080/"
        },
        "outputId": "74054591-2562-4eb3-dec7-7e54445f0d47"
      },
      "execution_count": null,
      "outputs": [
        {
          "output_type": "execute_result",
          "data": {
            "text/plain": [
              "CLV_churn                                  int64\n",
              "Coverage                                   int64\n",
              "Education                                  int64\n",
              "Effective_To_Date                 datetime64[ns]\n",
              "Income                                     int64\n",
              "Location_Code                              int64\n",
              "Monthly_Premium_Auto                       int64\n",
              "Months_Since_Last_Claim                    int64\n",
              "Months_Since_Policy_Inception              int64\n",
              "Number_of_Open_Complaints                  int64\n",
              "Number_of_Policies                         int64\n",
              "Total_Claim_Amount                       float64\n",
              "Vehicle_Size                               int64\n",
              "State_Arizona                              uint8\n",
              "State_California                           uint8\n",
              "State_Nevada                               uint8\n",
              "State_Oregon                               uint8\n",
              "EmploymentStatus_Disabled                  uint8\n",
              "EmploymentStatus_Employed                  uint8\n",
              "EmploymentStatus_Medical Leave             uint8\n",
              "EmploymentStatus_Retired                   uint8\n",
              "Gender_F                                   uint8\n",
              "Marital_Status_Divorced                    uint8\n",
              "Marital_Status_Married                     uint8\n",
              "Policy_Type_Corporate Auto                 uint8\n",
              "Policy_Type_Personal Auto                  uint8\n",
              "Policy_Corporate L1                        uint8\n",
              "Policy_Corporate L2                        uint8\n",
              "Policy_Corporate L3                        uint8\n",
              "Policy_Personal L1                         uint8\n",
              "Policy_Personal L2                         uint8\n",
              "Policy_Personal L3                         uint8\n",
              "Policy_Special L1                          uint8\n",
              "Policy_Special L2                          uint8\n",
              "Renew_Offer_Type_Offer1                    uint8\n",
              "Renew_Offer_Type_Offer2                    uint8\n",
              "Renew_Offer_Type_Offer3                    uint8\n",
              "Sales_Channel_Agent                        uint8\n",
              "Sales_Channel_Branch                       uint8\n",
              "Sales_Channel_Call Center                  uint8\n",
              "Vehicle_Class_Four-Door Car                uint8\n",
              "Vehicle_Class_Luxury Car                   uint8\n",
              "Vehicle_Class_Luxury SUV                   uint8\n",
              "Vehicle_Class_SUV                          uint8\n",
              "Vehicle_Class_Sports Car                   uint8\n",
              "Response_No                                uint8\n",
              "dtype: object"
            ]
          },
          "metadata": {},
          "execution_count": 128
        }
      ]
    },
    {
      "cell_type": "code",
      "source": [
        "# Versuch die object Duplikate zu löschen --> löscht aber alles\n",
        "#duplikate = data.columns.duplicated(keep='last')\n",
        "#duplikate\n",
        "#zu_loeschende_spalte = data.columns[duplikate]\n",
        "#data = df_final.drop(zu_loeschende_spalte, axis=1)"
      ],
      "metadata": {
        "id": "bhQXubIidqHh"
      },
      "execution_count": null,
      "outputs": []
    },
    {
      "cell_type": "code",
      "source": [
        "#Versuch alle objects zu löschen --> löscht aber alles\n",
        "#object_columns = df_final.select_dtypes(include=['object']).columns\n",
        "#object_columns\n",
        "#df_final = df_final.drop(object_columns, axis=1)"
      ],
      "metadata": {
        "id": "c2WByv41TRAW"
      },
      "execution_count": null,
      "outputs": []
    },
    {
      "cell_type": "markdown",
      "source": [
        "###**Scaling**"
      ],
      "metadata": {
        "id": "uzyGmG7XnI8L"
      }
    },
    {
      "cell_type": "code",
      "source": [
        "data_clean = df_1_mitdummys.copy()\n",
        "data_clean.dtypes"
      ],
      "metadata": {
        "id": "IkhRipSY11s6",
        "colab": {
          "base_uri": "https://localhost:8080/"
        },
        "outputId": "a06d8557-cdfb-46a4-b437-1e8c141c273f"
      },
      "execution_count": null,
      "outputs": [
        {
          "output_type": "execute_result",
          "data": {
            "text/plain": [
              "CLV_churn                                  int64\n",
              "Coverage                                   int64\n",
              "Education                                  int64\n",
              "Effective_To_Date                 datetime64[ns]\n",
              "Income                                     int64\n",
              "Location_Code                              int64\n",
              "Monthly_Premium_Auto                       int64\n",
              "Months_Since_Last_Claim                    int64\n",
              "Months_Since_Policy_Inception              int64\n",
              "Number_of_Open_Complaints                  int64\n",
              "Number_of_Policies                         int64\n",
              "Total_Claim_Amount                       float64\n",
              "Vehicle_Size                               int64\n",
              "State_Arizona                              uint8\n",
              "State_California                           uint8\n",
              "State_Nevada                               uint8\n",
              "State_Oregon                               uint8\n",
              "EmploymentStatus_Disabled                  uint8\n",
              "EmploymentStatus_Employed                  uint8\n",
              "EmploymentStatus_Medical Leave             uint8\n",
              "EmploymentStatus_Retired                   uint8\n",
              "Gender_F                                   uint8\n",
              "Marital_Status_Divorced                    uint8\n",
              "Marital_Status_Married                     uint8\n",
              "Policy_Type_Corporate Auto                 uint8\n",
              "Policy_Type_Personal Auto                  uint8\n",
              "Policy_Corporate L1                        uint8\n",
              "Policy_Corporate L2                        uint8\n",
              "Policy_Corporate L3                        uint8\n",
              "Policy_Personal L1                         uint8\n",
              "Policy_Personal L2                         uint8\n",
              "Policy_Personal L3                         uint8\n",
              "Policy_Special L1                          uint8\n",
              "Policy_Special L2                          uint8\n",
              "Renew_Offer_Type_Offer1                    uint8\n",
              "Renew_Offer_Type_Offer2                    uint8\n",
              "Renew_Offer_Type_Offer3                    uint8\n",
              "Sales_Channel_Agent                        uint8\n",
              "Sales_Channel_Branch                       uint8\n",
              "Sales_Channel_Call Center                  uint8\n",
              "Vehicle_Class_Four-Door Car                uint8\n",
              "Vehicle_Class_Luxury Car                   uint8\n",
              "Vehicle_Class_Luxury SUV                   uint8\n",
              "Vehicle_Class_SUV                          uint8\n",
              "Vehicle_Class_Sports Car                   uint8\n",
              "Response_No                                uint8\n",
              "dtype: object"
            ]
          },
          "metadata": {},
          "execution_count": 131
        }
      ]
    },
    {
      "cell_type": "markdown",
      "source": [
        "####**Alle X skaliert**"
      ],
      "metadata": {
        "id": "p_xi-iriJ2UJ"
      }
    },
    {
      "cell_type": "code",
      "source": [
        "#Alle features (X) skaliert\n",
        "from sklearn.preprocessing import StandardScaler\n",
        "std_scaler = StandardScaler()\n",
        "\n",
        "columns_to_scale = data_clean.loc[:,['Coverage', 'Education', 'Income', 'Location_Code', 'Monthly_Premium_Auto', 'Months_Since_Last_Claim', 'Months_Since_Policy_Inception', 'Number_of_Open_Complaints', 'Number_of_Policies', 'Vehicle_Size',\n",
        "                                     'State_Arizona','State_California', 'State_Nevada', 'State_Oregon',\n",
        "                                     'EmploymentStatus_Disabled', 'EmploymentStatus_Employed', 'EmploymentStatus_Medical Leave', 'EmploymentStatus_Retired',\n",
        "                                     'Gender_F',\n",
        "                                     'Marital_Status_Divorced', 'Marital_Status_Married',\n",
        "                                     'Policy_Type_Corporate Auto', 'Policy_Type_Personal Auto',\n",
        "                                     'Policy_Corporate L1', 'Policy_Corporate L2', 'Policy_Corporate L3',\n",
        "                                     'Policy_Personal L1', 'Policy_Personal L2', 'Policy_Personal L3',\n",
        "                                     'Policy_Special L1', 'Policy_Special L2',\n",
        "                                     'Renew_Offer_Type_Offer1', 'Renew_Offer_Type_Offer2', 'Renew_Offer_Type_Offer3',\n",
        "                                     'Sales_Channel_Agent', 'Sales_Channel_Branch', 'Sales_Channel_Call Center',\n",
        "                                     'Vehicle_Class_Four-Door Car', 'Vehicle_Class_Luxury Car', 'Vehicle_Class_Luxury SUV', 'Vehicle_Class_SUV', 'Vehicle_Class_Sports Car',\n",
        "                                     'Response_No']]\n",
        "features_std = std_scaler.fit_transform(columns_to_scale)\n",
        "features_std"
      ],
      "metadata": {
        "id": "mEGTiQPWpTCY",
        "colab": {
          "base_uri": "https://localhost:8080/"
        },
        "outputId": "9dcc1adf-1a12-4c8e-a3dc-15b7a3ba937a"
      },
      "execution_count": null,
      "outputs": [
        {
          "output_type": "execute_result",
          "data": {
            "text/plain": [
              "array([[-0.73289946,  0.65895932,  0.61282744, ..., -0.49472552,\n",
              "        -0.23654547,  0.40882171],\n",
              "       [ 0.79199887,  0.65895932, -1.23961684, ..., -0.49472552,\n",
              "        -0.23654547,  0.40882171],\n",
              "       [ 2.31689721,  0.65895932,  0.36570978, ..., -0.49472552,\n",
              "        -0.23654547,  0.40882171],\n",
              "       ...,\n",
              "       [ 0.79199887,  0.65895932, -1.23961684, ..., -0.49472552,\n",
              "        -0.23654547,  0.40882171],\n",
              "       [ 0.79199887, -0.26703059, -0.51735647, ..., -0.49472552,\n",
              "        -0.23654547,  0.40882171],\n",
              "       [ 0.79199887, -0.26703059, -1.23961684, ..., -0.49472552,\n",
              "        -0.23654547,  0.40882171]])"
            ]
          },
          "metadata": {},
          "execution_count": 132
        }
      ]
    },
    {
      "cell_type": "code",
      "source": [
        "# Alle features (X) in Data Frame umgewandelt\n",
        "X = pd.DataFrame(features_std,\n",
        "                         columns=['Coverage', 'Education', 'Income', 'Location_Code', 'Monthly_Premium_Auto', 'Months_Since_Last_Claim', 'Months_Since_Policy_Inception', 'Number_of_Open_Complaints', 'Number_of_Policies', 'Vehicle_Size',\n",
        "                                     'State_Arizona','State_California', 'State_Nevada', 'State_Oregon',\n",
        "                                     'EmploymentStatus_Disabled', 'EmploymentStatus_Employed', 'EmploymentStatus_Medical Leave', 'EmploymentStatus_Retired',\n",
        "                                     'Gender_F',\n",
        "                                     'Marital_Status_Divorced', 'Marital_Status_Married',\n",
        "                                     'Policy_Type_Corporate Auto', 'Policy_Type_Personal Auto',\n",
        "                                     'Policy_Corporate L1', 'Policy_Corporate L2', 'Policy_Corporate L3',\n",
        "                                     'Policy_Personal L1', 'Policy_Personal L2', 'Policy_Personal L3',\n",
        "                                     'Policy_Special L1', 'Policy_Special L2',\n",
        "                                     'Renew_Offer_Type_Offer1', 'Renew_Offer_Type_Offer2', 'Renew_Offer_Type_Offer3',\n",
        "                                     'Sales_Channel_Agent', 'Sales_Channel_Branch', 'Sales_Channel_Call Center',\n",
        "                                     'Vehicle_Class_Four-Door Car', 'Vehicle_Class_Luxury Car', 'Vehicle_Class_Luxury SUV', 'Vehicle_Class_SUV', 'Vehicle_Class_Sports Car',\n",
        "                                     'Response_No'])\n",
        "X.dtypes"
      ],
      "metadata": {
        "id": "bB6KbvwE2yiY",
        "colab": {
          "base_uri": "https://localhost:8080/"
        },
        "outputId": "67901f07-3b3c-4ac2-ac63-1bb077afa28f"
      },
      "execution_count": null,
      "outputs": [
        {
          "output_type": "execute_result",
          "data": {
            "text/plain": [
              "Coverage                          float64\n",
              "Education                         float64\n",
              "Income                            float64\n",
              "Location_Code                     float64\n",
              "Monthly_Premium_Auto              float64\n",
              "Months_Since_Last_Claim           float64\n",
              "Months_Since_Policy_Inception     float64\n",
              "Number_of_Open_Complaints         float64\n",
              "Number_of_Policies                float64\n",
              "Vehicle_Size                      float64\n",
              "State_Arizona                     float64\n",
              "State_California                  float64\n",
              "State_Nevada                      float64\n",
              "State_Oregon                      float64\n",
              "EmploymentStatus_Disabled         float64\n",
              "EmploymentStatus_Employed         float64\n",
              "EmploymentStatus_Medical Leave    float64\n",
              "EmploymentStatus_Retired          float64\n",
              "Gender_F                          float64\n",
              "Marital_Status_Divorced           float64\n",
              "Marital_Status_Married            float64\n",
              "Policy_Type_Corporate Auto        float64\n",
              "Policy_Type_Personal Auto         float64\n",
              "Policy_Corporate L1               float64\n",
              "Policy_Corporate L2               float64\n",
              "Policy_Corporate L3               float64\n",
              "Policy_Personal L1                float64\n",
              "Policy_Personal L2                float64\n",
              "Policy_Personal L3                float64\n",
              "Policy_Special L1                 float64\n",
              "Policy_Special L2                 float64\n",
              "Renew_Offer_Type_Offer1           float64\n",
              "Renew_Offer_Type_Offer2           float64\n",
              "Renew_Offer_Type_Offer3           float64\n",
              "Sales_Channel_Agent               float64\n",
              "Sales_Channel_Branch              float64\n",
              "Sales_Channel_Call Center         float64\n",
              "Vehicle_Class_Four-Door Car       float64\n",
              "Vehicle_Class_Luxury Car          float64\n",
              "Vehicle_Class_Luxury SUV          float64\n",
              "Vehicle_Class_SUV                 float64\n",
              "Vehicle_Class_Sports Car          float64\n",
              "Response_No                       float64\n",
              "dtype: object"
            ]
          },
          "metadata": {},
          "execution_count": 133
        }
      ]
    },
    {
      "cell_type": "markdown",
      "source": [
        "####**Alle X skaliert außer Dummys**"
      ],
      "metadata": {
        "id": "fV43i7n2KAvW"
      }
    },
    {
      "cell_type": "code",
      "source": [
        "from sklearn.preprocessing import StandardScaler\n",
        "std_scaler = StandardScaler()\n",
        "\n",
        "columns_to_scale_2 = data_clean.loc[:,['Coverage', 'Education', 'Income', 'Location_Code', 'Monthly_Premium_Auto', 'Months_Since_Last_Claim', 'Months_Since_Policy_Inception', 'Number_of_Open_Complaints', 'Number_of_Policies', 'Vehicle_Size']]\n",
        "features_std_2 = std_scaler.fit_transform(columns_to_scale_2)\n",
        "features_std_2"
      ],
      "metadata": {
        "id": "xfZDpGfvKUxm",
        "colab": {
          "base_uri": "https://localhost:8080/"
        },
        "outputId": "6047d584-f7d4-42e6-ba19-4a5fd364b2c9"
      },
      "execution_count": null,
      "outputs": [
        {
          "output_type": "execute_result",
          "data": {
            "text/plain": [
              "array([[-0.73289946,  0.65895932,  0.61282744, ..., -0.42224956,\n",
              "        -0.82264788,  0.16668206],\n",
              "       [ 0.79199887,  0.65895932, -1.23961684, ..., -0.42224956,\n",
              "         2.10615996,  0.16668206],\n",
              "       [ 2.31689721,  0.65895932,  0.36570978, ..., -0.42224956,\n",
              "        -0.40424676,  0.16668206],\n",
              "       ...,\n",
              "       [ 0.79199887,  0.65895932, -1.23961684, ...,  2.87324529,\n",
              "        -0.40424676,  0.16668206],\n",
              "       [ 0.79199887, -0.26703059, -0.51735647, ..., -0.42224956,\n",
              "         0.01415436,  2.0278971 ],\n",
              "       [ 0.79199887, -0.26703059, -1.23961684, ..., -0.42224956,\n",
              "        -0.82264788,  0.16668206]])"
            ]
          },
          "metadata": {},
          "execution_count": 134
        }
      ]
    },
    {
      "cell_type": "code",
      "source": [
        "X_skaliert_ohneDummies = pd.DataFrame(features_std_2,\n",
        "                         columns=['Coverage', 'Education', 'Income', 'Location_Code', 'Monthly_Premium_Auto', 'Months_Since_Last_Claim', 'Months_Since_Policy_Inception', 'Number_of_Open_Complaints', 'Number_of_Policies', 'Vehicle_Size'])\n",
        "X_skaliert_ohneDummies"
      ],
      "metadata": {
        "id": "_Ur5RBfrKdGp",
        "colab": {
          "base_uri": "https://localhost:8080/",
          "height": 487
        },
        "outputId": "ddc024dc-5ee2-46f2-f37e-6489195a381e"
      },
      "execution_count": null,
      "outputs": [
        {
          "output_type": "execute_result",
          "data": {
            "text/plain": [
              "      Coverage  Education    Income  Location_Code  Monthly_Premium_Auto  \\\n",
              "0    -0.732899   0.658959  0.612827       0.034524             -0.703925   \n",
              "1     0.791999   0.658959 -1.239617       0.034524              0.022691   \n",
              "2     2.316897   0.658959  0.365710       0.034524              0.429596   \n",
              "3    -0.732899   0.658959 -1.239617       0.034524              0.371467   \n",
              "4    -0.732899   0.658959  0.203390      -1.616461             -0.587666   \n",
              "...        ...        ...       ...            ...                   ...   \n",
              "9129 -0.732899   0.658959  1.128558       1.685508             -0.587666   \n",
              "9130  0.791999  -0.267031 -0.528450       0.034524             -0.413278   \n",
              "9131  0.791999   0.658959 -1.239617       0.034524             -0.238891   \n",
              "9132  0.791999  -0.267031 -0.517356       0.034524              0.080820   \n",
              "9133  0.791999  -0.267031 -1.239617       0.034524             -0.471408   \n",
              "\n",
              "      Months_Since_Last_Claim  Months_Since_Policy_Inception  \\\n",
              "0                    1.678099                      -1.543287   \n",
              "1                   -0.208186                      -0.217334   \n",
              "2                    0.288205                      -0.360680   \n",
              "3                    0.288205                       0.606907   \n",
              "4                   -0.307465                      -0.145661   \n",
              "...                       ...                            ...   \n",
              "9129                 0.288205                       1.466984   \n",
              "9130                -0.108908                      -0.719046   \n",
              "9131                -0.605299                      -0.396517   \n",
              "9132                 1.876656                      -1.614960   \n",
              "9133                -1.200968                       1.502821   \n",
              "\n",
              "      Number_of_Open_Complaints  Number_of_Policies  Vehicle_Size  \n",
              "0                     -0.422250           -0.822648      0.166682  \n",
              "1                     -0.422250            2.106160      0.166682  \n",
              "2                     -0.422250           -0.404247      0.166682  \n",
              "3                     -0.422250            1.687759      0.166682  \n",
              "4                     -0.422250           -0.822648      0.166682  \n",
              "...                         ...                 ...           ...  \n",
              "9129                  -0.422250           -0.404247      0.166682  \n",
              "9130                  -0.422250           -0.822648      0.166682  \n",
              "9131                   2.873245           -0.404247      0.166682  \n",
              "9132                  -0.422250            0.014154      2.027897  \n",
              "9133                  -0.422250           -0.822648      0.166682  \n",
              "\n",
              "[9134 rows x 10 columns]"
            ],
            "text/html": [
              "\n",
              "  <div id=\"df-1a0c538c-bc33-4ff8-9d02-1cc112548d5b\">\n",
              "    <div class=\"colab-df-container\">\n",
              "      <div>\n",
              "<style scoped>\n",
              "    .dataframe tbody tr th:only-of-type {\n",
              "        vertical-align: middle;\n",
              "    }\n",
              "\n",
              "    .dataframe tbody tr th {\n",
              "        vertical-align: top;\n",
              "    }\n",
              "\n",
              "    .dataframe thead th {\n",
              "        text-align: right;\n",
              "    }\n",
              "</style>\n",
              "<table border=\"1\" class=\"dataframe\">\n",
              "  <thead>\n",
              "    <tr style=\"text-align: right;\">\n",
              "      <th></th>\n",
              "      <th>Coverage</th>\n",
              "      <th>Education</th>\n",
              "      <th>Income</th>\n",
              "      <th>Location_Code</th>\n",
              "      <th>Monthly_Premium_Auto</th>\n",
              "      <th>Months_Since_Last_Claim</th>\n",
              "      <th>Months_Since_Policy_Inception</th>\n",
              "      <th>Number_of_Open_Complaints</th>\n",
              "      <th>Number_of_Policies</th>\n",
              "      <th>Vehicle_Size</th>\n",
              "    </tr>\n",
              "  </thead>\n",
              "  <tbody>\n",
              "    <tr>\n",
              "      <th>0</th>\n",
              "      <td>-0.732899</td>\n",
              "      <td>0.658959</td>\n",
              "      <td>0.612827</td>\n",
              "      <td>0.034524</td>\n",
              "      <td>-0.703925</td>\n",
              "      <td>1.678099</td>\n",
              "      <td>-1.543287</td>\n",
              "      <td>-0.422250</td>\n",
              "      <td>-0.822648</td>\n",
              "      <td>0.166682</td>\n",
              "    </tr>\n",
              "    <tr>\n",
              "      <th>1</th>\n",
              "      <td>0.791999</td>\n",
              "      <td>0.658959</td>\n",
              "      <td>-1.239617</td>\n",
              "      <td>0.034524</td>\n",
              "      <td>0.022691</td>\n",
              "      <td>-0.208186</td>\n",
              "      <td>-0.217334</td>\n",
              "      <td>-0.422250</td>\n",
              "      <td>2.106160</td>\n",
              "      <td>0.166682</td>\n",
              "    </tr>\n",
              "    <tr>\n",
              "      <th>2</th>\n",
              "      <td>2.316897</td>\n",
              "      <td>0.658959</td>\n",
              "      <td>0.365710</td>\n",
              "      <td>0.034524</td>\n",
              "      <td>0.429596</td>\n",
              "      <td>0.288205</td>\n",
              "      <td>-0.360680</td>\n",
              "      <td>-0.422250</td>\n",
              "      <td>-0.404247</td>\n",
              "      <td>0.166682</td>\n",
              "    </tr>\n",
              "    <tr>\n",
              "      <th>3</th>\n",
              "      <td>-0.732899</td>\n",
              "      <td>0.658959</td>\n",
              "      <td>-1.239617</td>\n",
              "      <td>0.034524</td>\n",
              "      <td>0.371467</td>\n",
              "      <td>0.288205</td>\n",
              "      <td>0.606907</td>\n",
              "      <td>-0.422250</td>\n",
              "      <td>1.687759</td>\n",
              "      <td>0.166682</td>\n",
              "    </tr>\n",
              "    <tr>\n",
              "      <th>4</th>\n",
              "      <td>-0.732899</td>\n",
              "      <td>0.658959</td>\n",
              "      <td>0.203390</td>\n",
              "      <td>-1.616461</td>\n",
              "      <td>-0.587666</td>\n",
              "      <td>-0.307465</td>\n",
              "      <td>-0.145661</td>\n",
              "      <td>-0.422250</td>\n",
              "      <td>-0.822648</td>\n",
              "      <td>0.166682</td>\n",
              "    </tr>\n",
              "    <tr>\n",
              "      <th>...</th>\n",
              "      <td>...</td>\n",
              "      <td>...</td>\n",
              "      <td>...</td>\n",
              "      <td>...</td>\n",
              "      <td>...</td>\n",
              "      <td>...</td>\n",
              "      <td>...</td>\n",
              "      <td>...</td>\n",
              "      <td>...</td>\n",
              "      <td>...</td>\n",
              "    </tr>\n",
              "    <tr>\n",
              "      <th>9129</th>\n",
              "      <td>-0.732899</td>\n",
              "      <td>0.658959</td>\n",
              "      <td>1.128558</td>\n",
              "      <td>1.685508</td>\n",
              "      <td>-0.587666</td>\n",
              "      <td>0.288205</td>\n",
              "      <td>1.466984</td>\n",
              "      <td>-0.422250</td>\n",
              "      <td>-0.404247</td>\n",
              "      <td>0.166682</td>\n",
              "    </tr>\n",
              "    <tr>\n",
              "      <th>9130</th>\n",
              "      <td>0.791999</td>\n",
              "      <td>-0.267031</td>\n",
              "      <td>-0.528450</td>\n",
              "      <td>0.034524</td>\n",
              "      <td>-0.413278</td>\n",
              "      <td>-0.108908</td>\n",
              "      <td>-0.719046</td>\n",
              "      <td>-0.422250</td>\n",
              "      <td>-0.822648</td>\n",
              "      <td>0.166682</td>\n",
              "    </tr>\n",
              "    <tr>\n",
              "      <th>9131</th>\n",
              "      <td>0.791999</td>\n",
              "      <td>0.658959</td>\n",
              "      <td>-1.239617</td>\n",
              "      <td>0.034524</td>\n",
              "      <td>-0.238891</td>\n",
              "      <td>-0.605299</td>\n",
              "      <td>-0.396517</td>\n",
              "      <td>2.873245</td>\n",
              "      <td>-0.404247</td>\n",
              "      <td>0.166682</td>\n",
              "    </tr>\n",
              "    <tr>\n",
              "      <th>9132</th>\n",
              "      <td>0.791999</td>\n",
              "      <td>-0.267031</td>\n",
              "      <td>-0.517356</td>\n",
              "      <td>0.034524</td>\n",
              "      <td>0.080820</td>\n",
              "      <td>1.876656</td>\n",
              "      <td>-1.614960</td>\n",
              "      <td>-0.422250</td>\n",
              "      <td>0.014154</td>\n",
              "      <td>2.027897</td>\n",
              "    </tr>\n",
              "    <tr>\n",
              "      <th>9133</th>\n",
              "      <td>0.791999</td>\n",
              "      <td>-0.267031</td>\n",
              "      <td>-1.239617</td>\n",
              "      <td>0.034524</td>\n",
              "      <td>-0.471408</td>\n",
              "      <td>-1.200968</td>\n",
              "      <td>1.502821</td>\n",
              "      <td>-0.422250</td>\n",
              "      <td>-0.822648</td>\n",
              "      <td>0.166682</td>\n",
              "    </tr>\n",
              "  </tbody>\n",
              "</table>\n",
              "<p>9134 rows × 10 columns</p>\n",
              "</div>\n",
              "      <button class=\"colab-df-convert\" onclick=\"convertToInteractive('df-1a0c538c-bc33-4ff8-9d02-1cc112548d5b')\"\n",
              "              title=\"Convert this dataframe to an interactive table.\"\n",
              "              style=\"display:none;\">\n",
              "        \n",
              "  <svg xmlns=\"http://www.w3.org/2000/svg\" height=\"24px\"viewBox=\"0 0 24 24\"\n",
              "       width=\"24px\">\n",
              "    <path d=\"M0 0h24v24H0V0z\" fill=\"none\"/>\n",
              "    <path d=\"M18.56 5.44l.94 2.06.94-2.06 2.06-.94-2.06-.94-.94-2.06-.94 2.06-2.06.94zm-11 1L8.5 8.5l.94-2.06 2.06-.94-2.06-.94L8.5 2.5l-.94 2.06-2.06.94zm10 10l.94 2.06.94-2.06 2.06-.94-2.06-.94-.94-2.06-.94 2.06-2.06.94z\"/><path d=\"M17.41 7.96l-1.37-1.37c-.4-.4-.92-.59-1.43-.59-.52 0-1.04.2-1.43.59L10.3 9.45l-7.72 7.72c-.78.78-.78 2.05 0 2.83L4 21.41c.39.39.9.59 1.41.59.51 0 1.02-.2 1.41-.59l7.78-7.78 2.81-2.81c.8-.78.8-2.07 0-2.86zM5.41 20L4 18.59l7.72-7.72 1.47 1.35L5.41 20z\"/>\n",
              "  </svg>\n",
              "      </button>\n",
              "      \n",
              "  <style>\n",
              "    .colab-df-container {\n",
              "      display:flex;\n",
              "      flex-wrap:wrap;\n",
              "      gap: 12px;\n",
              "    }\n",
              "\n",
              "    .colab-df-convert {\n",
              "      background-color: #E8F0FE;\n",
              "      border: none;\n",
              "      border-radius: 50%;\n",
              "      cursor: pointer;\n",
              "      display: none;\n",
              "      fill: #1967D2;\n",
              "      height: 32px;\n",
              "      padding: 0 0 0 0;\n",
              "      width: 32px;\n",
              "    }\n",
              "\n",
              "    .colab-df-convert:hover {\n",
              "      background-color: #E2EBFA;\n",
              "      box-shadow: 0px 1px 2px rgba(60, 64, 67, 0.3), 0px 1px 3px 1px rgba(60, 64, 67, 0.15);\n",
              "      fill: #174EA6;\n",
              "    }\n",
              "\n",
              "    [theme=dark] .colab-df-convert {\n",
              "      background-color: #3B4455;\n",
              "      fill: #D2E3FC;\n",
              "    }\n",
              "\n",
              "    [theme=dark] .colab-df-convert:hover {\n",
              "      background-color: #434B5C;\n",
              "      box-shadow: 0px 1px 3px 1px rgba(0, 0, 0, 0.15);\n",
              "      filter: drop-shadow(0px 1px 2px rgba(0, 0, 0, 0.3));\n",
              "      fill: #FFFFFF;\n",
              "    }\n",
              "  </style>\n",
              "\n",
              "      <script>\n",
              "        const buttonEl =\n",
              "          document.querySelector('#df-1a0c538c-bc33-4ff8-9d02-1cc112548d5b button.colab-df-convert');\n",
              "        buttonEl.style.display =\n",
              "          google.colab.kernel.accessAllowed ? 'block' : 'none';\n",
              "\n",
              "        async function convertToInteractive(key) {\n",
              "          const element = document.querySelector('#df-1a0c538c-bc33-4ff8-9d02-1cc112548d5b');\n",
              "          const dataTable =\n",
              "            await google.colab.kernel.invokeFunction('convertToInteractive',\n",
              "                                                     [key], {});\n",
              "          if (!dataTable) return;\n",
              "\n",
              "          const docLinkHtml = 'Like what you see? Visit the ' +\n",
              "            '<a target=\"_blank\" href=https://colab.research.google.com/notebooks/data_table.ipynb>data table notebook</a>'\n",
              "            + ' to learn more about interactive tables.';\n",
              "          element.innerHTML = '';\n",
              "          dataTable['output_type'] = 'display_data';\n",
              "          await google.colab.output.renderOutput(dataTable, element);\n",
              "          const docLink = document.createElement('div');\n",
              "          docLink.innerHTML = docLinkHtml;\n",
              "          element.appendChild(docLink);\n",
              "        }\n",
              "      </script>\n",
              "    </div>\n",
              "  </div>\n",
              "  "
            ]
          },
          "metadata": {},
          "execution_count": 135
        }
      ]
    },
    {
      "cell_type": "code",
      "source": [
        "# Unskalierte Dummies hinzufügen\n",
        "dummys_ohne_referenz = data_clean.loc[:,['State_Arizona','State_California', 'State_Nevada', 'State_Oregon',\n",
        "                                     'EmploymentStatus_Disabled', 'EmploymentStatus_Employed', 'EmploymentStatus_Medical Leave', 'EmploymentStatus_Retired',\n",
        "                                     'Gender_F',\n",
        "                                     'Marital_Status_Divorced', 'Marital_Status_Married',\n",
        "                                     'Policy_Type_Corporate Auto', 'Policy_Type_Personal Auto',\n",
        "                                     'Policy_Corporate L1', 'Policy_Corporate L2', 'Policy_Corporate L3',\n",
        "                                     'Policy_Personal L1', 'Policy_Personal L2', 'Policy_Personal L3',\n",
        "                                     'Policy_Special L1', 'Policy_Special L2',\n",
        "                                     'Renew_Offer_Type_Offer1', 'Renew_Offer_Type_Offer2', 'Renew_Offer_Type_Offer3',\n",
        "                                     'Sales_Channel_Agent', 'Sales_Channel_Branch', 'Sales_Channel_Call Center',\n",
        "                                     'Vehicle_Class_Four-Door Car', 'Vehicle_Class_Luxury Car', 'Vehicle_Class_Luxury SUV', 'Vehicle_Class_SUV', 'Vehicle_Class_Sports Car',\n",
        "                                     'Response_No']]\n",
        "\n",
        "X_skaliert_ohneDummies = pd.concat((X_skaliert_ohneDummies, dummys_ohne_referenz), axis=1)\n",
        "X_skaliert_ohneDummies\n"
      ],
      "metadata": {
        "id": "Lmo8I1VVTxyA",
        "colab": {
          "base_uri": "https://localhost:8080/",
          "height": 505
        },
        "outputId": "dc407aec-780b-46bf-b834-2272f2d9a713"
      },
      "execution_count": null,
      "outputs": [
        {
          "output_type": "execute_result",
          "data": {
            "text/plain": [
              "      Coverage  Education    Income  Location_Code  Monthly_Premium_Auto  \\\n",
              "0    -0.732899   0.658959  0.612827       0.034524             -0.703925   \n",
              "1     0.791999   0.658959 -1.239617       0.034524              0.022691   \n",
              "2     2.316897   0.658959  0.365710       0.034524              0.429596   \n",
              "3    -0.732899   0.658959 -1.239617       0.034524              0.371467   \n",
              "4    -0.732899   0.658959  0.203390      -1.616461             -0.587666   \n",
              "...        ...        ...       ...            ...                   ...   \n",
              "9129 -0.732899   0.658959  1.128558       1.685508             -0.587666   \n",
              "9130  0.791999  -0.267031 -0.528450       0.034524             -0.413278   \n",
              "9131  0.791999   0.658959 -1.239617       0.034524             -0.238891   \n",
              "9132  0.791999  -0.267031 -0.517356       0.034524              0.080820   \n",
              "9133  0.791999  -0.267031 -1.239617       0.034524             -0.471408   \n",
              "\n",
              "      Months_Since_Last_Claim  Months_Since_Policy_Inception  \\\n",
              "0                    1.678099                      -1.543287   \n",
              "1                   -0.208186                      -0.217334   \n",
              "2                    0.288205                      -0.360680   \n",
              "3                    0.288205                       0.606907   \n",
              "4                   -0.307465                      -0.145661   \n",
              "...                       ...                            ...   \n",
              "9129                 0.288205                       1.466984   \n",
              "9130                -0.108908                      -0.719046   \n",
              "9131                -0.605299                      -0.396517   \n",
              "9132                 1.876656                      -1.614960   \n",
              "9133                -1.200968                       1.502821   \n",
              "\n",
              "      Number_of_Open_Complaints  Number_of_Policies  Vehicle_Size  ...  \\\n",
              "0                     -0.422250           -0.822648      0.166682  ...   \n",
              "1                     -0.422250            2.106160      0.166682  ...   \n",
              "2                     -0.422250           -0.404247      0.166682  ...   \n",
              "3                     -0.422250            1.687759      0.166682  ...   \n",
              "4                     -0.422250           -0.822648      0.166682  ...   \n",
              "...                         ...                 ...           ...  ...   \n",
              "9129                  -0.422250           -0.404247      0.166682  ...   \n",
              "9130                  -0.422250           -0.822648      0.166682  ...   \n",
              "9131                   2.873245           -0.404247      0.166682  ...   \n",
              "9132                  -0.422250            0.014154      2.027897  ...   \n",
              "9133                  -0.422250           -0.822648      0.166682  ...   \n",
              "\n",
              "      Renew_Offer_Type_Offer3  Sales_Channel_Agent  Sales_Channel_Branch  \\\n",
              "0                           0                    1                     0   \n",
              "1                           1                    1                     0   \n",
              "2                           0                    1                     0   \n",
              "3                           0                    0                     0   \n",
              "4                           0                    1                     0   \n",
              "...                       ...                  ...                   ...   \n",
              "9129                        0                    0                     0   \n",
              "9130                        0                    0                     1   \n",
              "9131                        0                    0                     1   \n",
              "9132                        1                    0                     1   \n",
              "9133                        0                    0                     0   \n",
              "\n",
              "      Sales_Channel_Call Center  Vehicle_Class_Four-Door Car  \\\n",
              "0                             0                            0   \n",
              "1                             0                            1   \n",
              "2                             0                            0   \n",
              "3                             1                            0   \n",
              "4                             0                            1   \n",
              "...                         ...                          ...   \n",
              "9129                          0                            1   \n",
              "9130                          0                            1   \n",
              "9131                          0                            1   \n",
              "9132                          0                            1   \n",
              "9133                          1                            0   \n",
              "\n",
              "      Vehicle_Class_Luxury Car  Vehicle_Class_Luxury SUV  Vehicle_Class_SUV  \\\n",
              "0                            0                         0                  0   \n",
              "1                            0                         0                  0   \n",
              "2                            0                         0                  0   \n",
              "3                            0                         0                  1   \n",
              "4                            0                         0                  0   \n",
              "...                        ...                       ...                ...   \n",
              "9129                         0                         0                  0   \n",
              "9130                         0                         0                  0   \n",
              "9131                         0                         0                  0   \n",
              "9132                         0                         0                  0   \n",
              "9133                         0                         0                  0   \n",
              "\n",
              "      Vehicle_Class_Sports Car  Response_No  \n",
              "0                            0            1  \n",
              "1                            0            1  \n",
              "2                            0            1  \n",
              "3                            0            1  \n",
              "4                            0            1  \n",
              "...                        ...          ...  \n",
              "9129                         0            1  \n",
              "9130                         0            0  \n",
              "9131                         0            1  \n",
              "9132                         0            1  \n",
              "9133                         0            1  \n",
              "\n",
              "[9134 rows x 43 columns]"
            ],
            "text/html": [
              "\n",
              "  <div id=\"df-8307659e-d517-4d61-ba68-3eb02dbcfa79\">\n",
              "    <div class=\"colab-df-container\">\n",
              "      <div>\n",
              "<style scoped>\n",
              "    .dataframe tbody tr th:only-of-type {\n",
              "        vertical-align: middle;\n",
              "    }\n",
              "\n",
              "    .dataframe tbody tr th {\n",
              "        vertical-align: top;\n",
              "    }\n",
              "\n",
              "    .dataframe thead th {\n",
              "        text-align: right;\n",
              "    }\n",
              "</style>\n",
              "<table border=\"1\" class=\"dataframe\">\n",
              "  <thead>\n",
              "    <tr style=\"text-align: right;\">\n",
              "      <th></th>\n",
              "      <th>Coverage</th>\n",
              "      <th>Education</th>\n",
              "      <th>Income</th>\n",
              "      <th>Location_Code</th>\n",
              "      <th>Monthly_Premium_Auto</th>\n",
              "      <th>Months_Since_Last_Claim</th>\n",
              "      <th>Months_Since_Policy_Inception</th>\n",
              "      <th>Number_of_Open_Complaints</th>\n",
              "      <th>Number_of_Policies</th>\n",
              "      <th>Vehicle_Size</th>\n",
              "      <th>...</th>\n",
              "      <th>Renew_Offer_Type_Offer3</th>\n",
              "      <th>Sales_Channel_Agent</th>\n",
              "      <th>Sales_Channel_Branch</th>\n",
              "      <th>Sales_Channel_Call Center</th>\n",
              "      <th>Vehicle_Class_Four-Door Car</th>\n",
              "      <th>Vehicle_Class_Luxury Car</th>\n",
              "      <th>Vehicle_Class_Luxury SUV</th>\n",
              "      <th>Vehicle_Class_SUV</th>\n",
              "      <th>Vehicle_Class_Sports Car</th>\n",
              "      <th>Response_No</th>\n",
              "    </tr>\n",
              "  </thead>\n",
              "  <tbody>\n",
              "    <tr>\n",
              "      <th>0</th>\n",
              "      <td>-0.732899</td>\n",
              "      <td>0.658959</td>\n",
              "      <td>0.612827</td>\n",
              "      <td>0.034524</td>\n",
              "      <td>-0.703925</td>\n",
              "      <td>1.678099</td>\n",
              "      <td>-1.543287</td>\n",
              "      <td>-0.422250</td>\n",
              "      <td>-0.822648</td>\n",
              "      <td>0.166682</td>\n",
              "      <td>...</td>\n",
              "      <td>0</td>\n",
              "      <td>1</td>\n",
              "      <td>0</td>\n",
              "      <td>0</td>\n",
              "      <td>0</td>\n",
              "      <td>0</td>\n",
              "      <td>0</td>\n",
              "      <td>0</td>\n",
              "      <td>0</td>\n",
              "      <td>1</td>\n",
              "    </tr>\n",
              "    <tr>\n",
              "      <th>1</th>\n",
              "      <td>0.791999</td>\n",
              "      <td>0.658959</td>\n",
              "      <td>-1.239617</td>\n",
              "      <td>0.034524</td>\n",
              "      <td>0.022691</td>\n",
              "      <td>-0.208186</td>\n",
              "      <td>-0.217334</td>\n",
              "      <td>-0.422250</td>\n",
              "      <td>2.106160</td>\n",
              "      <td>0.166682</td>\n",
              "      <td>...</td>\n",
              "      <td>1</td>\n",
              "      <td>1</td>\n",
              "      <td>0</td>\n",
              "      <td>0</td>\n",
              "      <td>1</td>\n",
              "      <td>0</td>\n",
              "      <td>0</td>\n",
              "      <td>0</td>\n",
              "      <td>0</td>\n",
              "      <td>1</td>\n",
              "    </tr>\n",
              "    <tr>\n",
              "      <th>2</th>\n",
              "      <td>2.316897</td>\n",
              "      <td>0.658959</td>\n",
              "      <td>0.365710</td>\n",
              "      <td>0.034524</td>\n",
              "      <td>0.429596</td>\n",
              "      <td>0.288205</td>\n",
              "      <td>-0.360680</td>\n",
              "      <td>-0.422250</td>\n",
              "      <td>-0.404247</td>\n",
              "      <td>0.166682</td>\n",
              "      <td>...</td>\n",
              "      <td>0</td>\n",
              "      <td>1</td>\n",
              "      <td>0</td>\n",
              "      <td>0</td>\n",
              "      <td>0</td>\n",
              "      <td>0</td>\n",
              "      <td>0</td>\n",
              "      <td>0</td>\n",
              "      <td>0</td>\n",
              "      <td>1</td>\n",
              "    </tr>\n",
              "    <tr>\n",
              "      <th>3</th>\n",
              "      <td>-0.732899</td>\n",
              "      <td>0.658959</td>\n",
              "      <td>-1.239617</td>\n",
              "      <td>0.034524</td>\n",
              "      <td>0.371467</td>\n",
              "      <td>0.288205</td>\n",
              "      <td>0.606907</td>\n",
              "      <td>-0.422250</td>\n",
              "      <td>1.687759</td>\n",
              "      <td>0.166682</td>\n",
              "      <td>...</td>\n",
              "      <td>0</td>\n",
              "      <td>0</td>\n",
              "      <td>0</td>\n",
              "      <td>1</td>\n",
              "      <td>0</td>\n",
              "      <td>0</td>\n",
              "      <td>0</td>\n",
              "      <td>1</td>\n",
              "      <td>0</td>\n",
              "      <td>1</td>\n",
              "    </tr>\n",
              "    <tr>\n",
              "      <th>4</th>\n",
              "      <td>-0.732899</td>\n",
              "      <td>0.658959</td>\n",
              "      <td>0.203390</td>\n",
              "      <td>-1.616461</td>\n",
              "      <td>-0.587666</td>\n",
              "      <td>-0.307465</td>\n",
              "      <td>-0.145661</td>\n",
              "      <td>-0.422250</td>\n",
              "      <td>-0.822648</td>\n",
              "      <td>0.166682</td>\n",
              "      <td>...</td>\n",
              "      <td>0</td>\n",
              "      <td>1</td>\n",
              "      <td>0</td>\n",
              "      <td>0</td>\n",
              "      <td>1</td>\n",
              "      <td>0</td>\n",
              "      <td>0</td>\n",
              "      <td>0</td>\n",
              "      <td>0</td>\n",
              "      <td>1</td>\n",
              "    </tr>\n",
              "    <tr>\n",
              "      <th>...</th>\n",
              "      <td>...</td>\n",
              "      <td>...</td>\n",
              "      <td>...</td>\n",
              "      <td>...</td>\n",
              "      <td>...</td>\n",
              "      <td>...</td>\n",
              "      <td>...</td>\n",
              "      <td>...</td>\n",
              "      <td>...</td>\n",
              "      <td>...</td>\n",
              "      <td>...</td>\n",
              "      <td>...</td>\n",
              "      <td>...</td>\n",
              "      <td>...</td>\n",
              "      <td>...</td>\n",
              "      <td>...</td>\n",
              "      <td>...</td>\n",
              "      <td>...</td>\n",
              "      <td>...</td>\n",
              "      <td>...</td>\n",
              "      <td>...</td>\n",
              "    </tr>\n",
              "    <tr>\n",
              "      <th>9129</th>\n",
              "      <td>-0.732899</td>\n",
              "      <td>0.658959</td>\n",
              "      <td>1.128558</td>\n",
              "      <td>1.685508</td>\n",
              "      <td>-0.587666</td>\n",
              "      <td>0.288205</td>\n",
              "      <td>1.466984</td>\n",
              "      <td>-0.422250</td>\n",
              "      <td>-0.404247</td>\n",
              "      <td>0.166682</td>\n",
              "      <td>...</td>\n",
              "      <td>0</td>\n",
              "      <td>0</td>\n",
              "      <td>0</td>\n",
              "      <td>0</td>\n",
              "      <td>1</td>\n",
              "      <td>0</td>\n",
              "      <td>0</td>\n",
              "      <td>0</td>\n",
              "      <td>0</td>\n",
              "      <td>1</td>\n",
              "    </tr>\n",
              "    <tr>\n",
              "      <th>9130</th>\n",
              "      <td>0.791999</td>\n",
              "      <td>-0.267031</td>\n",
              "      <td>-0.528450</td>\n",
              "      <td>0.034524</td>\n",
              "      <td>-0.413278</td>\n",
              "      <td>-0.108908</td>\n",
              "      <td>-0.719046</td>\n",
              "      <td>-0.422250</td>\n",
              "      <td>-0.822648</td>\n",
              "      <td>0.166682</td>\n",
              "      <td>...</td>\n",
              "      <td>0</td>\n",
              "      <td>0</td>\n",
              "      <td>1</td>\n",
              "      <td>0</td>\n",
              "      <td>1</td>\n",
              "      <td>0</td>\n",
              "      <td>0</td>\n",
              "      <td>0</td>\n",
              "      <td>0</td>\n",
              "      <td>0</td>\n",
              "    </tr>\n",
              "    <tr>\n",
              "      <th>9131</th>\n",
              "      <td>0.791999</td>\n",
              "      <td>0.658959</td>\n",
              "      <td>-1.239617</td>\n",
              "      <td>0.034524</td>\n",
              "      <td>-0.238891</td>\n",
              "      <td>-0.605299</td>\n",
              "      <td>-0.396517</td>\n",
              "      <td>2.873245</td>\n",
              "      <td>-0.404247</td>\n",
              "      <td>0.166682</td>\n",
              "      <td>...</td>\n",
              "      <td>0</td>\n",
              "      <td>0</td>\n",
              "      <td>1</td>\n",
              "      <td>0</td>\n",
              "      <td>1</td>\n",
              "      <td>0</td>\n",
              "      <td>0</td>\n",
              "      <td>0</td>\n",
              "      <td>0</td>\n",
              "      <td>1</td>\n",
              "    </tr>\n",
              "    <tr>\n",
              "      <th>9132</th>\n",
              "      <td>0.791999</td>\n",
              "      <td>-0.267031</td>\n",
              "      <td>-0.517356</td>\n",
              "      <td>0.034524</td>\n",
              "      <td>0.080820</td>\n",
              "      <td>1.876656</td>\n",
              "      <td>-1.614960</td>\n",
              "      <td>-0.422250</td>\n",
              "      <td>0.014154</td>\n",
              "      <td>2.027897</td>\n",
              "      <td>...</td>\n",
              "      <td>1</td>\n",
              "      <td>0</td>\n",
              "      <td>1</td>\n",
              "      <td>0</td>\n",
              "      <td>1</td>\n",
              "      <td>0</td>\n",
              "      <td>0</td>\n",
              "      <td>0</td>\n",
              "      <td>0</td>\n",
              "      <td>1</td>\n",
              "    </tr>\n",
              "    <tr>\n",
              "      <th>9133</th>\n",
              "      <td>0.791999</td>\n",
              "      <td>-0.267031</td>\n",
              "      <td>-1.239617</td>\n",
              "      <td>0.034524</td>\n",
              "      <td>-0.471408</td>\n",
              "      <td>-1.200968</td>\n",
              "      <td>1.502821</td>\n",
              "      <td>-0.422250</td>\n",
              "      <td>-0.822648</td>\n",
              "      <td>0.166682</td>\n",
              "      <td>...</td>\n",
              "      <td>0</td>\n",
              "      <td>0</td>\n",
              "      <td>0</td>\n",
              "      <td>1</td>\n",
              "      <td>0</td>\n",
              "      <td>0</td>\n",
              "      <td>0</td>\n",
              "      <td>0</td>\n",
              "      <td>0</td>\n",
              "      <td>1</td>\n",
              "    </tr>\n",
              "  </tbody>\n",
              "</table>\n",
              "<p>9134 rows × 43 columns</p>\n",
              "</div>\n",
              "      <button class=\"colab-df-convert\" onclick=\"convertToInteractive('df-8307659e-d517-4d61-ba68-3eb02dbcfa79')\"\n",
              "              title=\"Convert this dataframe to an interactive table.\"\n",
              "              style=\"display:none;\">\n",
              "        \n",
              "  <svg xmlns=\"http://www.w3.org/2000/svg\" height=\"24px\"viewBox=\"0 0 24 24\"\n",
              "       width=\"24px\">\n",
              "    <path d=\"M0 0h24v24H0V0z\" fill=\"none\"/>\n",
              "    <path d=\"M18.56 5.44l.94 2.06.94-2.06 2.06-.94-2.06-.94-.94-2.06-.94 2.06-2.06.94zm-11 1L8.5 8.5l.94-2.06 2.06-.94-2.06-.94L8.5 2.5l-.94 2.06-2.06.94zm10 10l.94 2.06.94-2.06 2.06-.94-2.06-.94-.94-2.06-.94 2.06-2.06.94z\"/><path d=\"M17.41 7.96l-1.37-1.37c-.4-.4-.92-.59-1.43-.59-.52 0-1.04.2-1.43.59L10.3 9.45l-7.72 7.72c-.78.78-.78 2.05 0 2.83L4 21.41c.39.39.9.59 1.41.59.51 0 1.02-.2 1.41-.59l7.78-7.78 2.81-2.81c.8-.78.8-2.07 0-2.86zM5.41 20L4 18.59l7.72-7.72 1.47 1.35L5.41 20z\"/>\n",
              "  </svg>\n",
              "      </button>\n",
              "      \n",
              "  <style>\n",
              "    .colab-df-container {\n",
              "      display:flex;\n",
              "      flex-wrap:wrap;\n",
              "      gap: 12px;\n",
              "    }\n",
              "\n",
              "    .colab-df-convert {\n",
              "      background-color: #E8F0FE;\n",
              "      border: none;\n",
              "      border-radius: 50%;\n",
              "      cursor: pointer;\n",
              "      display: none;\n",
              "      fill: #1967D2;\n",
              "      height: 32px;\n",
              "      padding: 0 0 0 0;\n",
              "      width: 32px;\n",
              "    }\n",
              "\n",
              "    .colab-df-convert:hover {\n",
              "      background-color: #E2EBFA;\n",
              "      box-shadow: 0px 1px 2px rgba(60, 64, 67, 0.3), 0px 1px 3px 1px rgba(60, 64, 67, 0.15);\n",
              "      fill: #174EA6;\n",
              "    }\n",
              "\n",
              "    [theme=dark] .colab-df-convert {\n",
              "      background-color: #3B4455;\n",
              "      fill: #D2E3FC;\n",
              "    }\n",
              "\n",
              "    [theme=dark] .colab-df-convert:hover {\n",
              "      background-color: #434B5C;\n",
              "      box-shadow: 0px 1px 3px 1px rgba(0, 0, 0, 0.15);\n",
              "      filter: drop-shadow(0px 1px 2px rgba(0, 0, 0, 0.3));\n",
              "      fill: #FFFFFF;\n",
              "    }\n",
              "  </style>\n",
              "\n",
              "      <script>\n",
              "        const buttonEl =\n",
              "          document.querySelector('#df-8307659e-d517-4d61-ba68-3eb02dbcfa79 button.colab-df-convert');\n",
              "        buttonEl.style.display =\n",
              "          google.colab.kernel.accessAllowed ? 'block' : 'none';\n",
              "\n",
              "        async function convertToInteractive(key) {\n",
              "          const element = document.querySelector('#df-8307659e-d517-4d61-ba68-3eb02dbcfa79');\n",
              "          const dataTable =\n",
              "            await google.colab.kernel.invokeFunction('convertToInteractive',\n",
              "                                                     [key], {});\n",
              "          if (!dataTable) return;\n",
              "\n",
              "          const docLinkHtml = 'Like what you see? Visit the ' +\n",
              "            '<a target=\"_blank\" href=https://colab.research.google.com/notebooks/data_table.ipynb>data table notebook</a>'\n",
              "            + ' to learn more about interactive tables.';\n",
              "          element.innerHTML = '';\n",
              "          dataTable['output_type'] = 'display_data';\n",
              "          await google.colab.output.renderOutput(dataTable, element);\n",
              "          const docLink = document.createElement('div');\n",
              "          docLink.innerHTML = docLinkHtml;\n",
              "          element.appendChild(docLink);\n",
              "        }\n",
              "      </script>\n",
              "    </div>\n",
              "  </div>\n",
              "  "
            ]
          },
          "metadata": {},
          "execution_count": 136
        }
      ]
    },
    {
      "cell_type": "markdown",
      "source": [
        "####**Zielvariable definiert (skaliert und unskaliert)**"
      ],
      "metadata": {
        "id": "Lv-hNxh3KFAh"
      }
    },
    {
      "cell_type": "code",
      "source": [
        "#ZV  unskaliert\n",
        "y_unskaliert = data_clean.loc[:, 'CLV_churn']"
      ],
      "metadata": {
        "id": "_RCnlzU3_mdV"
      },
      "execution_count": null,
      "outputs": []
    },
    {
      "cell_type": "code",
      "source": [
        "#ZV skaliert\n",
        "y_skaliert = data_clean.loc[:,['CLV_churn']]\n",
        "y_skaliert = std_scaler.fit_transform(y_skaliert)\n",
        "y_skaliert = pd.DataFrame(y_skaliert,columns=['CLV_churn']) #in DataFrame umwandeln\n",
        "y_skaliert"
      ],
      "metadata": {
        "id": "R506EBeV_mak",
        "colab": {
          "base_uri": "https://localhost:8080/",
          "height": 423
        },
        "outputId": "78ff2d12-dbe6-4bfe-febf-39bcf716798a"
      },
      "execution_count": null,
      "outputs": [
        {
          "output_type": "execute_result",
          "data": {
            "text/plain": [
              "      CLV_churn\n",
              "0     -1.342013\n",
              "1      0.446685\n",
              "2      1.341034\n",
              "3      0.446685\n",
              "4     -1.342013\n",
              "...         ...\n",
              "9129   1.341034\n",
              "9130  -1.342013\n",
              "9131   0.446685\n",
              "9132   0.446685\n",
              "9133  -1.342013\n",
              "\n",
              "[9134 rows x 1 columns]"
            ],
            "text/html": [
              "\n",
              "  <div id=\"df-8152c264-454c-4804-baa3-97ebb1e2419f\">\n",
              "    <div class=\"colab-df-container\">\n",
              "      <div>\n",
              "<style scoped>\n",
              "    .dataframe tbody tr th:only-of-type {\n",
              "        vertical-align: middle;\n",
              "    }\n",
              "\n",
              "    .dataframe tbody tr th {\n",
              "        vertical-align: top;\n",
              "    }\n",
              "\n",
              "    .dataframe thead th {\n",
              "        text-align: right;\n",
              "    }\n",
              "</style>\n",
              "<table border=\"1\" class=\"dataframe\">\n",
              "  <thead>\n",
              "    <tr style=\"text-align: right;\">\n",
              "      <th></th>\n",
              "      <th>CLV_churn</th>\n",
              "    </tr>\n",
              "  </thead>\n",
              "  <tbody>\n",
              "    <tr>\n",
              "      <th>0</th>\n",
              "      <td>-1.342013</td>\n",
              "    </tr>\n",
              "    <tr>\n",
              "      <th>1</th>\n",
              "      <td>0.446685</td>\n",
              "    </tr>\n",
              "    <tr>\n",
              "      <th>2</th>\n",
              "      <td>1.341034</td>\n",
              "    </tr>\n",
              "    <tr>\n",
              "      <th>3</th>\n",
              "      <td>0.446685</td>\n",
              "    </tr>\n",
              "    <tr>\n",
              "      <th>4</th>\n",
              "      <td>-1.342013</td>\n",
              "    </tr>\n",
              "    <tr>\n",
              "      <th>...</th>\n",
              "      <td>...</td>\n",
              "    </tr>\n",
              "    <tr>\n",
              "      <th>9129</th>\n",
              "      <td>1.341034</td>\n",
              "    </tr>\n",
              "    <tr>\n",
              "      <th>9130</th>\n",
              "      <td>-1.342013</td>\n",
              "    </tr>\n",
              "    <tr>\n",
              "      <th>9131</th>\n",
              "      <td>0.446685</td>\n",
              "    </tr>\n",
              "    <tr>\n",
              "      <th>9132</th>\n",
              "      <td>0.446685</td>\n",
              "    </tr>\n",
              "    <tr>\n",
              "      <th>9133</th>\n",
              "      <td>-1.342013</td>\n",
              "    </tr>\n",
              "  </tbody>\n",
              "</table>\n",
              "<p>9134 rows × 1 columns</p>\n",
              "</div>\n",
              "      <button class=\"colab-df-convert\" onclick=\"convertToInteractive('df-8152c264-454c-4804-baa3-97ebb1e2419f')\"\n",
              "              title=\"Convert this dataframe to an interactive table.\"\n",
              "              style=\"display:none;\">\n",
              "        \n",
              "  <svg xmlns=\"http://www.w3.org/2000/svg\" height=\"24px\"viewBox=\"0 0 24 24\"\n",
              "       width=\"24px\">\n",
              "    <path d=\"M0 0h24v24H0V0z\" fill=\"none\"/>\n",
              "    <path d=\"M18.56 5.44l.94 2.06.94-2.06 2.06-.94-2.06-.94-.94-2.06-.94 2.06-2.06.94zm-11 1L8.5 8.5l.94-2.06 2.06-.94-2.06-.94L8.5 2.5l-.94 2.06-2.06.94zm10 10l.94 2.06.94-2.06 2.06-.94-2.06-.94-.94-2.06-.94 2.06-2.06.94z\"/><path d=\"M17.41 7.96l-1.37-1.37c-.4-.4-.92-.59-1.43-.59-.52 0-1.04.2-1.43.59L10.3 9.45l-7.72 7.72c-.78.78-.78 2.05 0 2.83L4 21.41c.39.39.9.59 1.41.59.51 0 1.02-.2 1.41-.59l7.78-7.78 2.81-2.81c.8-.78.8-2.07 0-2.86zM5.41 20L4 18.59l7.72-7.72 1.47 1.35L5.41 20z\"/>\n",
              "  </svg>\n",
              "      </button>\n",
              "      \n",
              "  <style>\n",
              "    .colab-df-container {\n",
              "      display:flex;\n",
              "      flex-wrap:wrap;\n",
              "      gap: 12px;\n",
              "    }\n",
              "\n",
              "    .colab-df-convert {\n",
              "      background-color: #E8F0FE;\n",
              "      border: none;\n",
              "      border-radius: 50%;\n",
              "      cursor: pointer;\n",
              "      display: none;\n",
              "      fill: #1967D2;\n",
              "      height: 32px;\n",
              "      padding: 0 0 0 0;\n",
              "      width: 32px;\n",
              "    }\n",
              "\n",
              "    .colab-df-convert:hover {\n",
              "      background-color: #E2EBFA;\n",
              "      box-shadow: 0px 1px 2px rgba(60, 64, 67, 0.3), 0px 1px 3px 1px rgba(60, 64, 67, 0.15);\n",
              "      fill: #174EA6;\n",
              "    }\n",
              "\n",
              "    [theme=dark] .colab-df-convert {\n",
              "      background-color: #3B4455;\n",
              "      fill: #D2E3FC;\n",
              "    }\n",
              "\n",
              "    [theme=dark] .colab-df-convert:hover {\n",
              "      background-color: #434B5C;\n",
              "      box-shadow: 0px 1px 3px 1px rgba(0, 0, 0, 0.15);\n",
              "      filter: drop-shadow(0px 1px 2px rgba(0, 0, 0, 0.3));\n",
              "      fill: #FFFFFF;\n",
              "    }\n",
              "  </style>\n",
              "\n",
              "      <script>\n",
              "        const buttonEl =\n",
              "          document.querySelector('#df-8152c264-454c-4804-baa3-97ebb1e2419f button.colab-df-convert');\n",
              "        buttonEl.style.display =\n",
              "          google.colab.kernel.accessAllowed ? 'block' : 'none';\n",
              "\n",
              "        async function convertToInteractive(key) {\n",
              "          const element = document.querySelector('#df-8152c264-454c-4804-baa3-97ebb1e2419f');\n",
              "          const dataTable =\n",
              "            await google.colab.kernel.invokeFunction('convertToInteractive',\n",
              "                                                     [key], {});\n",
              "          if (!dataTable) return;\n",
              "\n",
              "          const docLinkHtml = 'Like what you see? Visit the ' +\n",
              "            '<a target=\"_blank\" href=https://colab.research.google.com/notebooks/data_table.ipynb>data table notebook</a>'\n",
              "            + ' to learn more about interactive tables.';\n",
              "          element.innerHTML = '';\n",
              "          dataTable['output_type'] = 'display_data';\n",
              "          await google.colab.output.renderOutput(dataTable, element);\n",
              "          const docLink = document.createElement('div');\n",
              "          docLink.innerHTML = docLinkHtml;\n",
              "          element.appendChild(docLink);\n",
              "        }\n",
              "      </script>\n",
              "    </div>\n",
              "  </div>\n",
              "  "
            ]
          },
          "metadata": {},
          "execution_count": 138
        }
      ]
    },
    {
      "cell_type": "markdown",
      "source": [
        "Alle Features skaliert = X_skaliert\n",
        "\n",
        "Alle Features außer Dummies skaliert = X_skaliert_ohneDummies\n",
        "\n",
        "Zielvariable skaliert = y_skaliert\n",
        "\n",
        "Zielvariable unskaliert = y_unskaliert"
      ],
      "metadata": {
        "id": "ZiCpGjDGA82b"
      }
    },
    {
      "cell_type": "markdown",
      "source": [
        "###**Visualization -> ergänzen wir am Ende (Häufigkeit)**"
      ],
      "metadata": {
        "id": "MNRmfjJxohqz"
      }
    },
    {
      "cell_type": "code",
      "source": [
        "# Verteilung der ZV anschauen\n",
        "import matplotlib.pyplot as plt\n",
        "fig = plt.figure()\n",
        "df_1['CLV_churn'].value_counts(sort=False).sort_index().plot(kind='bar', title='CLV_churn')"
      ],
      "metadata": {
        "colab": {
          "base_uri": "https://localhost:8080/",
          "height": 465
        },
        "id": "l7-1mhc6cloQ",
        "outputId": "89e00f46-9c91-4a38-c788-84029ee30428"
      },
      "execution_count": null,
      "outputs": [
        {
          "output_type": "execute_result",
          "data": {
            "text/plain": [
              "<Axes: title={'center': 'CLV_churn'}>"
            ]
          },
          "metadata": {},
          "execution_count": 139
        },
        {
          "output_type": "display_data",
          "data": {
            "text/plain": [
              "<Figure size 640x480 with 1 Axes>"
            ],
            "image/png": "[encoded data removed]"
          },
          "metadata": {}
        }
      ]
    },
    {
      "cell_type": "markdown",
      "source": [
        "**Hier Quelle suchen** die sagt, dass wenn Datensatz gleich verteilt ist, dass man dann die accuracy anschaut und nicht den f1 Wert --> datensatz ist hier balanciert"
      ],
      "metadata": {
        "id": "BJH4tykXc2AS"
      }
    },
    {
      "cell_type": "markdown",
      "source": [
        "##**Schritt 2: Classification**"
      ],
      "metadata": {
        "id": "WkbNBUnp1IQo"
      }
    },
    {
      "cell_type": "markdown",
      "source": [
        "Immer 3 Varianten je Methode ausprobiert - Ergebnis: y unskaliert und X skaliert ohne Dummies ist das beste Vorgehen bei KNN ansonsten keinen Unterschied"
      ],
      "metadata": {
        "id": "5aSOwcIMdM6p"
      }
    },
    {
      "cell_type": "code",
      "source": [
        "from sklearn.model_selection import train_test_split\n",
        "from sklearn.metrics import classification_report\n",
        "def evaluate(clf, X_test, y_true): #clf = classifier; X_test = neue Variable\n",
        "  y_pred = clf.predict(X_test)\n",
        "  print(classification_report(y_true, y_pred)) #performance von modell evaluieren"
      ],
      "metadata": {
        "id": "07eNiO8qMux0"
      },
      "execution_count": null,
      "outputs": []
    },
    {
      "cell_type": "markdown",
      "source": [
        "###**KNN**"
      ],
      "metadata": {
        "id": "qh7-oaGeeKrg"
      }
    },
    {
      "cell_type": "markdown",
      "source": [
        "####**KNN y skaliert - ohne Ergebnis**"
      ],
      "metadata": {
        "id": "fjwQuNYA9VIe"
      }
    },
    {
      "cell_type": "code",
      "source": [
        "# y skaliert\n",
        "from sklearn.neighbors import KNeighborsClassifier\n",
        "knn = KNeighborsClassifier()\n",
        "X_train, X_test, y_train, y_test = train_test_split(X, y_skaliert, test_size=0.2, random_state=123)"
      ],
      "metadata": {
        "id": "iMfQl43e11qg"
      },
      "execution_count": null,
      "outputs": []
    },
    {
      "cell_type": "code",
      "source": [
        "knn.fit(X_train, y_train)\n",
        "# funktioniert nicht, da  trying to apply a classification algorithm or task on a target variable with numeric values instead of discrete labels."
      ],
      "metadata": {
        "id": "cTXDmprg9sla",
        "colab": {
          "base_uri": "https://localhost:8080/",
          "height": 409
        },
        "outputId": "bf2ff6fd-a14d-44f7-eaf9-6e39516037d7"
      },
      "execution_count": null,
      "outputs": [
        {
          "output_type": "stream",
          "name": "stderr",
          "text": [
            "/usr/local/lib/python3.10/dist-packages/sklearn/neighbors/_classification.py:215: DataConversionWarning: A column-vector y was passed when a 1d array was expected. Please change the shape of y to (n_samples,), for example using ravel().\n",
            "  return self._fit(X, y)\n"
          ]
        },
        {
          "output_type": "error",
          "ename": "ValueError",
          "evalue": "ignored",
          "traceback": [
            "\u001b[0;31m---------------------------------------------------------------------------\u001b[0m",
            "\u001b[0;31mValueError\u001b[0m                                Traceback (most recent call last)",
            "\u001b[0;32m<ipython-input-142-9a32635c9bb9>\u001b[0m in \u001b[0;36m<cell line: 1>\u001b[0;34m()\u001b[0m\n\u001b[0;32m----> 1\u001b[0;31m \u001b[0mknn\u001b[0m\u001b[0;34m.\u001b[0m\u001b[0mfit\u001b[0m\u001b[0;34m(\u001b[0m\u001b[0mX_train\u001b[0m\u001b[0;34m,\u001b[0m \u001b[0my_train\u001b[0m\u001b[0;34m)\u001b[0m\u001b[0;34m\u001b[0m\u001b[0;34m\u001b[0m\u001b[0m\n\u001b[0m\u001b[1;32m      2\u001b[0m \u001b[0;31m# funktioniert nicht, da  trying to apply a classification algorithm or task on a target variable with numeric values instead of discrete labels.\u001b[0m\u001b[0;34m\u001b[0m\u001b[0;34m\u001b[0m\u001b[0m\n",
            "\u001b[0;32m/usr/local/lib/python3.10/dist-packages/sklearn/neighbors/_classification.py\u001b[0m in \u001b[0;36mfit\u001b[0;34m(self, X, y)\u001b[0m\n\u001b[1;32m    213\u001b[0m         \u001b[0mself\u001b[0m\u001b[0;34m.\u001b[0m\u001b[0m_validate_params\u001b[0m\u001b[0;34m(\u001b[0m\u001b[0;34m)\u001b[0m\u001b[0;34m\u001b[0m\u001b[0;34m\u001b[0m\u001b[0m\n\u001b[1;32m    214\u001b[0m \u001b[0;34m\u001b[0m\u001b[0m\n\u001b[0;32m--> 215\u001b[0;31m         \u001b[0;32mreturn\u001b[0m \u001b[0mself\u001b[0m\u001b[0;34m.\u001b[0m\u001b[0m_fit\u001b[0m\u001b[0;34m(\u001b[0m\u001b[0mX\u001b[0m\u001b[0;34m,\u001b[0m \u001b[0my\u001b[0m\u001b[0;34m)\u001b[0m\u001b[0;34m\u001b[0m\u001b[0;34m\u001b[0m\u001b[0m\n\u001b[0m\u001b[1;32m    216\u001b[0m \u001b[0;34m\u001b[0m\u001b[0m\n\u001b[1;32m    217\u001b[0m     \u001b[0;32mdef\u001b[0m \u001b[0mpredict\u001b[0m\u001b[0;34m(\u001b[0m\u001b[0mself\u001b[0m\u001b[0;34m,\u001b[0m \u001b[0mX\u001b[0m\u001b[0;34m)\u001b[0m\u001b[0;34m:\u001b[0m\u001b[0;34m\u001b[0m\u001b[0;34m\u001b[0m\u001b[0m\n",
            "\u001b[0;32m/usr/local/lib/python3.10/dist-packages/sklearn/neighbors/_base.py\u001b[0m in \u001b[0;36m_fit\u001b[0;34m(self, X, y)\u001b[0m\n\u001b[1;32m    474\u001b[0m                     \u001b[0mself\u001b[0m\u001b[0;34m.\u001b[0m\u001b[0moutputs_2d_\u001b[0m \u001b[0;34m=\u001b[0m \u001b[0;32mTrue\u001b[0m\u001b[0;34m\u001b[0m\u001b[0;34m\u001b[0m\u001b[0m\n\u001b[1;32m    475\u001b[0m \u001b[0;34m\u001b[0m\u001b[0m\n\u001b[0;32m--> 476\u001b[0;31m                 \u001b[0mcheck_classification_targets\u001b[0m\u001b[0;34m(\u001b[0m\u001b[0my\u001b[0m\u001b[0;34m)\u001b[0m\u001b[0;34m\u001b[0m\u001b[0;34m\u001b[0m\u001b[0m\n\u001b[0m\u001b[1;32m    477\u001b[0m                 \u001b[0mself\u001b[0m\u001b[0;34m.\u001b[0m\u001b[0mclasses_\u001b[0m \u001b[0;34m=\u001b[0m \u001b[0;34m[\u001b[0m\u001b[0;34m]\u001b[0m\u001b[0;34m\u001b[0m\u001b[0;34m\u001b[0m\u001b[0m\n\u001b[1;32m    478\u001b[0m                 \u001b[0mself\u001b[0m\u001b[0;34m.\u001b[0m\u001b[0m_y\u001b[0m \u001b[0;34m=\u001b[0m \u001b[0mnp\u001b[0m\u001b[0;34m.\u001b[0m\u001b[0mempty\u001b[0m\u001b[0;34m(\u001b[0m\u001b[0my\u001b[0m\u001b[0;34m.\u001b[0m\u001b[0mshape\u001b[0m\u001b[0;34m,\u001b[0m \u001b[0mdtype\u001b[0m\u001b[0;34m=\u001b[0m\u001b[0mint\u001b[0m\u001b[0;34m)\u001b[0m\u001b[0;34m\u001b[0m\u001b[0;34m\u001b[0m\u001b[0m\n",
            "\u001b[0;32m/usr/local/lib/python3.10/dist-packages/sklearn/utils/multiclass.py\u001b[0m in \u001b[0;36mcheck_classification_targets\u001b[0;34m(y)\u001b[0m\n\u001b[1;32m    216\u001b[0m         \u001b[0;34m\"multilabel-sequences\"\u001b[0m\u001b[0;34m,\u001b[0m\u001b[0;34m\u001b[0m\u001b[0;34m\u001b[0m\u001b[0m\n\u001b[1;32m    217\u001b[0m     ]:\n\u001b[0;32m--> 218\u001b[0;31m         \u001b[0;32mraise\u001b[0m \u001b[0mValueError\u001b[0m\u001b[0;34m(\u001b[0m\u001b[0;34m\"Unknown label type: %r\"\u001b[0m \u001b[0;34m%\u001b[0m \u001b[0my_type\u001b[0m\u001b[0;34m)\u001b[0m\u001b[0;34m\u001b[0m\u001b[0;34m\u001b[0m\u001b[0m\n\u001b[0m\u001b[1;32m    219\u001b[0m \u001b[0;34m\u001b[0m\u001b[0m\n\u001b[1;32m    220\u001b[0m \u001b[0;34m\u001b[0m\u001b[0m\n",
            "\u001b[0;31mValueError\u001b[0m: Unknown label type: 'continuous'"
          ]
        }
      ]
    },
    {
      "cell_type": "markdown",
      "source": [
        "####**KNN y unskaliert**"
      ],
      "metadata": {
        "id": "3CdVGwkyFGL7"
      }
    },
    {
      "cell_type": "code",
      "source": [
        "from sklearn.neighbors import KNeighborsClassifier\n",
        "knn = KNeighborsClassifier()\n",
        "X_train, X_test, y_train, y_test = train_test_split(X, y_unskaliert, test_size=0.2, random_state=123)"
      ],
      "metadata": {
        "id": "4L4X5oSkC3gJ"
      },
      "execution_count": null,
      "outputs": []
    },
    {
      "cell_type": "code",
      "source": [
        "knn.fit(X_train, y_train)"
      ],
      "metadata": {
        "id": "f9qrC70b11lk"
      },
      "execution_count": null,
      "outputs": []
    },
    {
      "cell_type": "code",
      "source": [
        "Ergebnisse_KNN_y_unskaliert = evaluate(knn, X_test, y_test) # 0.46"
      ],
      "metadata": {
        "id": "aKhrJcb_11i0"
      },
      "execution_count": null,
      "outputs": []
    },
    {
      "cell_type": "markdown",
      "source": [
        "####**KNN y unskaliert; X skaliert ohne Dummies**"
      ],
      "metadata": {
        "id": "nmIFrgO0LKl3"
      }
    },
    {
      "cell_type": "code",
      "source": [
        "from sklearn.neighbors import KNeighborsClassifier\n",
        "knn = KNeighborsClassifier()\n",
        "X_train, X_test, y_train, y_test = train_test_split(X_skaliert_ohneDummies, y_unskaliert, test_size=0.2, random_state=123)"
      ],
      "metadata": {
        "id": "BKsVcIYHLQ2A"
      },
      "execution_count": null,
      "outputs": []
    },
    {
      "cell_type": "code",
      "source": [
        "knn.fit(X_train, y_train)"
      ],
      "metadata": {
        "id": "cfZPd5mqLQot"
      },
      "execution_count": null,
      "outputs": []
    },
    {
      "cell_type": "code",
      "source": [
        "Ergebnisse_KNN_y_unskaliert_X_ohne_Dummies = evaluate(knn, X_test, y_test) # 0.6"
      ],
      "metadata": {
        "id": "HUV7JCA8LU6I"
      },
      "execution_count": null,
      "outputs": []
    },
    {
      "cell_type": "markdown",
      "source": [
        "####**Hyperparameter Tuning**"
      ],
      "metadata": {
        "id": "oumDBRzKg6sL"
      }
    },
    {
      "cell_type": "code",
      "source": [
        "# V1\n",
        "from sklearn.model_selection import GridSearchCV\n",
        "model = knn\n",
        "grid_vals = {'n_neighbors': [3, 5, 7], 'weights': ['uniform', 'distance']}\n",
        "\n",
        "grid_lr = GridSearchCV(estimator=knn, param_grid=grid_vals, scoring='accuracy',\n",
        "                       cv=6, refit=True, return_train_score=True)\n",
        "\n",
        "grid_lr.fit(X_train, y_train)\n",
        "preds = grid_lr.best_estimator_.predict(X_test)\n",
        "\n",
        "grid_lr.best_params_\n",
        "\n",
        "evaluate(grid_lr, X_test, y_test) # 0.61 statt 0.6"
      ],
      "metadata": {
        "id": "Pb15R2tFg_km"
      },
      "execution_count": null,
      "outputs": []
    },
    {
      "cell_type": "code",
      "source": [
        "# V2\n",
        "from sklearn.model_selection import GridSearchCV\n",
        "model = knn\n",
        "grid_vals = {\n",
        "    'n_neighbors': [3, 5, 7],\n",
        "    'weights': ['uniform', 'distance'],\n",
        "    'p': [1, 2],\n",
        "}\n",
        "grid_lr = GridSearchCV(estimator=knn, param_grid=grid_vals, scoring='accuracy',\n",
        "                       cv=6, refit=True, return_train_score=True)\n",
        "grid_lr.fit(X_train, y_train)\n",
        "preds = grid_lr.best_estimator_.predict(X_test)\n",
        "\n",
        "grid_lr.best_params_\n",
        "\n",
        "evaluate(grid_lr, X_test, y_test) # 0.64 statt 0.6"
      ],
      "metadata": {
        "id": "TGcW-JUxmAtF"
      },
      "execution_count": null,
      "outputs": []
    },
    {
      "cell_type": "markdown",
      "source": [
        "####**Error Analysis**"
      ],
      "metadata": {
        "id": "_9DBWcT1hAF_"
      }
    },
    {
      "cell_type": "code",
      "source": [
        "#KNN\n",
        "from sklearn.metrics import ConfusionMatrixDisplay\n",
        "ConfusionMatrixDisplay.from_estimator(\n",
        "    grid_lr, X_test, y_test, labels=[0, 1, 2, 3], display_labels=['sehr gefährdet', ' gefährdet', ' nicht gefährdet', ' gar nicht gefährdet'])"
      ],
      "metadata": {
        "id": "_jXB_XoQhDBz"
      },
      "execution_count": null,
      "outputs": []
    },
    {
      "cell_type": "markdown",
      "source": [
        "###**Logistische Regression**"
      ],
      "metadata": {
        "id": "U7giVc50eV6W"
      }
    },
    {
      "cell_type": "markdown",
      "source": [
        "####**Logistische Regression y skaliert - ohne Ergebnis**"
      ],
      "metadata": {
        "id": "bKZMOSO0FsBI"
      }
    },
    {
      "cell_type": "code",
      "source": [
        "from sklearn.linear_model import LogisticRegression\n",
        "logistic = LogisticRegression(random_state=42)\n",
        "X_train, X_test, y_train, y_test = train_test_split(X, y_skaliert, test_size=0.2, random_state=123)"
      ],
      "metadata": {
        "id": "wlh6RuZE11gQ"
      },
      "execution_count": null,
      "outputs": []
    },
    {
      "cell_type": "code",
      "source": [
        "logistic.fit(X_train, y_train)\n",
        "#funktioniert nicht, da  trying to apply a classification algorithm or task on a target variable with numeric values instead of discrete labels."
      ],
      "metadata": {
        "id": "avCD1HZpGXO_"
      },
      "execution_count": null,
      "outputs": []
    },
    {
      "cell_type": "markdown",
      "source": [
        "####**Logistische Regression y unskaliert**"
      ],
      "metadata": {
        "id": "Jk40vV5kGl58"
      }
    },
    {
      "cell_type": "code",
      "source": [
        "from sklearn.linear_model import LogisticRegression\n",
        "logistic = LogisticRegression(random_state=42)\n",
        "X_train, X_test, y_train, y_test = train_test_split(X, y_unskaliert, test_size=0.2, random_state=123)"
      ],
      "metadata": {
        "id": "5UhvRvm1GW-Y"
      },
      "execution_count": null,
      "outputs": []
    },
    {
      "cell_type": "code",
      "source": [
        "logistic.fit(X_train, y_train)"
      ],
      "metadata": {
        "id": "mUd5athrGtt_"
      },
      "execution_count": null,
      "outputs": []
    },
    {
      "cell_type": "code",
      "source": [
        "Ergebnisse_log_y_unskaliert = evaluate(logistic, X_test, y_test) # 0.61"
      ],
      "metadata": {
        "id": "AbnW49FlGwpC"
      },
      "execution_count": null,
      "outputs": []
    },
    {
      "cell_type": "markdown",
      "source": [
        "####**Logistische Regression y unskaliert; X skaliert ohne Dummies**"
      ],
      "metadata": {
        "id": "wCAvEoAPMM-M"
      }
    },
    {
      "cell_type": "code",
      "source": [
        "from sklearn.linear_model import LogisticRegression\n",
        "logistic = LogisticRegression(random_state=42)\n",
        "X_train, X_test, y_train, y_test = train_test_split(X_skaliert_ohneDummies, y_unskaliert, test_size=0.2, random_state=123)"
      ],
      "metadata": {
        "id": "jPxkKOpxMUvS"
      },
      "execution_count": null,
      "outputs": []
    },
    {
      "cell_type": "code",
      "source": [
        "logistic.fit(X_train, y_train)"
      ],
      "metadata": {
        "id": "3ZtlGtJdMUjr"
      },
      "execution_count": null,
      "outputs": []
    },
    {
      "cell_type": "code",
      "source": [
        "Ergebnisse_log_y_unskaliert_X_ohne_Dummies = evaluate(logistic, X_test, y_test) # 0.61"
      ],
      "metadata": {
        "id": "Utreu651MUg-"
      },
      "execution_count": null,
      "outputs": []
    },
    {
      "cell_type": "markdown",
      "source": [
        "####**Hyperparameter Tuning**"
      ],
      "metadata": {
        "id": "wkBw7FAwgoOq"
      }
    },
    {
      "cell_type": "code",
      "source": [
        "import tensorflow as tf\n",
        "tf.test.gpu_device_name()"
      ],
      "metadata": {
        "id": "fIOJH0NztGNW"
      },
      "execution_count": null,
      "outputs": []
    },
    {
      "cell_type": "code",
      "source": [
        "# V1\n",
        "from sklearn.model_selection import GridSearchCV\n",
        "model = logistic\n",
        "grid_vals = {\n",
        "    'penalty': ['l1', 'l2'],\n",
        "    'C': [0.001, 0.01, 0.1, 1, 10],\n",
        "}\n",
        "\n",
        "grid_lr = GridSearchCV(estimator=logistic, param_grid=grid_vals, scoring='accuracy',\n",
        "                       cv=6, refit=True, return_train_score=True)\n",
        "\n",
        "grid_lr.fit(X_train, y_train)\n",
        "preds = grid_lr.best_estimator_.predict(X_test)\n",
        "\n",
        "grid_lr.best_params_\n",
        "\n",
        "evaluate(grid_lr, X_test, y_test) # 0.62 statt 0.61"
      ],
      "metadata": {
        "id": "kVF_ijGXgrJQ"
      },
      "execution_count": null,
      "outputs": []
    },
    {
      "cell_type": "code",
      "source": [
        "# V2\n",
        "from sklearn.model_selection import GridSearchCV\n",
        "model = logistic\n",
        "grid_vals = {\n",
        "    'penalty': ['l1', 'l2'],\n",
        "    'C': [0.001, 0.01, 0.1, 1, 10],\n",
        "}\n",
        "grid_lr = GridSearchCV(estimator=logistic, param_grid=grid_vals, scoring='accuracy',\n",
        "                       cv=6, refit=True, return_train_score=True)\n",
        "grid_lr.fit(X_train, y_train)\n",
        "preds = grid_lr.best_estimator_.predict(X_test)\n",
        "\n",
        "grid_lr.best_params_\n",
        "\n",
        "evaluate(grid_lr, X_test, y_test) # 0.68 statt 0.61"
      ],
      "metadata": {
        "id": "hVgsfcjhgq_8"
      },
      "execution_count": null,
      "outputs": []
    },
    {
      "cell_type": "markdown",
      "source": [
        "####**Error Analysis**"
      ],
      "metadata": {
        "id": "8xpflU3xgrtZ"
      }
    },
    {
      "cell_type": "code",
      "source": [
        "#Logistische Regression\n",
        "from sklearn.metrics import ConfusionMatrixDisplay\n",
        "ConfusionMatrixDisplay.from_estimator(\n",
        "    grid_lr, X_test, y_test, labels=[0, 1, 2, 3], display_labels=['sehr gefährdet', ' gefährdet', ' nicht gefährdet', ' gar nicht gefährdet'])"
      ],
      "metadata": {
        "id": "farEFh-igukH"
      },
      "execution_count": null,
      "outputs": []
    },
    {
      "cell_type": "markdown",
      "source": [
        "###**Decision Tree**"
      ],
      "metadata": {
        "id": "ExXRjN36ecX8"
      }
    },
    {
      "cell_type": "markdown",
      "source": [
        "####**Decision Tree y skaliert - ohne Ergebnis**"
      ],
      "metadata": {
        "id": "DJZMCpMgHFgt"
      }
    },
    {
      "cell_type": "code",
      "source": [
        "from sklearn.tree import DecisionTreeClassifier\n",
        "tree = DecisionTreeClassifier(random_state=42)\n",
        "X_train, X_test, y_train, y_test = train_test_split(X, y_skaliert, test_size=0.2, random_state=123)"
      ],
      "metadata": {
        "id": "9IjkiRQXHUtm"
      },
      "execution_count": null,
      "outputs": []
    },
    {
      "cell_type": "code",
      "source": [
        "tree.fit(X_train, y_train)\n",
        "#funktioniert nicht, da  trying to apply a classification algorithm or task on a target variable with numeric values instead of discrete labels."
      ],
      "metadata": {
        "id": "4dXV7N7sHUrU"
      },
      "execution_count": null,
      "outputs": []
    },
    {
      "cell_type": "markdown",
      "source": [
        "####**Decision Tree y unskaliert**"
      ],
      "metadata": {
        "id": "DU3R84YaHmOv"
      }
    },
    {
      "cell_type": "code",
      "source": [
        "from sklearn.tree import DecisionTreeClassifier\n",
        "tree = DecisionTreeClassifier(random_state=42)\n",
        "X_train, X_test, y_train, y_test = train_test_split(X, y_unskaliert, test_size=0.2, random_state=123)"
      ],
      "metadata": {
        "id": "4nj-sa3tHUoS"
      },
      "execution_count": null,
      "outputs": []
    },
    {
      "cell_type": "code",
      "source": [
        "tree.fit(X_train, y_train)"
      ],
      "metadata": {
        "id": "_F4SWPF3HUhx"
      },
      "execution_count": null,
      "outputs": []
    },
    {
      "cell_type": "code",
      "source": [
        "Ergebnisse_tree_y_unskaliert = evaluate(tree, X_test, y_test) # 0.92"
      ],
      "metadata": {
        "id": "4kgBklWbHrHQ"
      },
      "execution_count": null,
      "outputs": []
    },
    {
      "cell_type": "markdown",
      "source": [
        "####**Decision Tree y unskaliert; X skaliert ohne Dummies**"
      ],
      "metadata": {
        "id": "0JjCB3hyNs6V"
      }
    },
    {
      "cell_type": "code",
      "source": [
        "from sklearn.tree import DecisionTreeClassifier\n",
        "tree = DecisionTreeClassifier(random_state=42)\n",
        "X_train, X_test, y_train, y_test = train_test_split(X_skaliert_ohneDummies, y_unskaliert, test_size=0.2, random_state=123)"
      ],
      "metadata": {
        "id": "1uhtc1PwNzQx"
      },
      "execution_count": null,
      "outputs": []
    },
    {
      "cell_type": "code",
      "source": [
        "tree.fit(X_train, y_train)"
      ],
      "metadata": {
        "id": "ZT1ixLejNzFy"
      },
      "execution_count": null,
      "outputs": []
    },
    {
      "cell_type": "code",
      "source": [
        "Ergebnisse_tree_y_unskaliert_X_ohne_Dummies = evaluate(tree, X_test, y_test) # 0.92"
      ],
      "metadata": {
        "id": "axxmSuFRNy5c"
      },
      "execution_count": null,
      "outputs": []
    },
    {
      "cell_type": "code",
      "source": [
        "from sklearn import tree as sktree\n",
        "import matplotlib.pyplot as plt\n",
        "plt.figure(figsize=(10,10))\n",
        "\n",
        "sktree.plot_tree(tree, max_depth=2, fontsize=10, feature_names=X_skaliert_ohneDummies.columns);"
      ],
      "metadata": {
        "id": "3GzrXmfjpgpZ"
      },
      "execution_count": null,
      "outputs": []
    },
    {
      "cell_type": "markdown",
      "source": [
        "####**Hyperparameter Tuning**"
      ],
      "metadata": {
        "id": "yxgLGECIgYaO"
      }
    },
    {
      "cell_type": "code",
      "source": [
        "# V1\n",
        "from sklearn.model_selection import GridSearchCV\n",
        "model = tree\n",
        "grid_vals = {\n",
        "    'criterion': ['gini', 'entropy'],\n",
        "    'max_depth': [None, 5, 10, 20],\n",
        "}\n",
        "\n",
        "grid_lr = GridSearchCV(estimator=tree, param_grid=grid_vals, scoring='accuracy',\n",
        "                       cv=6, refit=True, return_train_score=True)\n",
        "\n",
        "grid_lr.fit(X_train, y_train)\n",
        "preds = grid_lr.best_estimator_.predict(X_test)\n",
        "\n",
        "grid_lr.best_params_\n",
        "\n",
        "evaluate(grid_lr, X_test, y_test) # 0.92 statt 0.92"
      ],
      "metadata": {
        "id": "21mjja9hgcCD"
      },
      "execution_count": null,
      "outputs": []
    },
    {
      "cell_type": "code",
      "source": [
        "# V2\n",
        "from sklearn.model_selection import GridSearchCV\n",
        "model = tree\n",
        "grid_vals = {\n",
        "    'criterion': ['gini', 'entropy'],\n",
        "    'max_depth': [None, 5, 10, 20],\n",
        "    'min_samples_split': [2, 5, 10],\n",
        "    'min_samples_leaf': [1, 2, 5],\n",
        "}\n",
        "\n",
        "grid_lr = GridSearchCV(estimator=tree, param_grid=grid_vals, scoring='accuracy',\n",
        "                       cv=6, refit=True, return_train_score=True)\n",
        "\n",
        "grid_lr.fit(X_train, y_train)\n",
        "preds = grid_lr.best_estimator_.predict(X_test)\n",
        "\n",
        "grid_lr.best_params_\n",
        "\n",
        "evaluate(grid_lr, X_test, y_test) # 0.93 statt 0.92"
      ],
      "metadata": {
        "id": "I8LfNtrpgcew"
      },
      "execution_count": null,
      "outputs": []
    },
    {
      "cell_type": "code",
      "source": [
        "# V3\n",
        "from sklearn.model_selection import GridSearchCV\n",
        "model = tree\n",
        "grid_vals = {\n",
        "    'criterion': ['gini', 'entropy'],\n",
        "    'max_depth': [None, 5, 10, 20],\n",
        "    'min_samples_split': [2, 5, 10],\n",
        "    'min_samples_leaf': [1, 2, 5],\n",
        "    'max_features': [None, 'sqrt', 'log2']\n",
        "}\n",
        "\n",
        "grid_lr = GridSearchCV(estimator=tree, param_grid=grid_vals, scoring='accuracy',\n",
        "                       cv=6, refit=True, return_train_score=True)\n",
        "\n",
        "grid_lr.fit(X_train, y_train)\n",
        "preds = grid_lr.best_estimator_.predict(X_test)\n",
        "\n",
        "grid_lr.best_params_\n",
        "\n",
        "evaluate(grid_lr, X_test, y_test) # 0.93 statt 0.92"
      ],
      "metadata": {
        "id": "lU3TaCJcvty7"
      },
      "execution_count": null,
      "outputs": []
    },
    {
      "cell_type": "markdown",
      "source": [
        "####**Error Analysis**"
      ],
      "metadata": {
        "id": "GEbALyAYgc8r"
      }
    },
    {
      "cell_type": "code",
      "source": [
        "#Decision Tree\n",
        "from sklearn.metrics import ConfusionMatrixDisplay\n",
        "ConfusionMatrixDisplay.from_estimator(\n",
        "    grid_lr, X_test, y_test, labels=[0, 1, 2, 3], display_labels=['sehr gefährdet', ' gefährdet', ' nicht gefährdet', ' gar nicht gefährdet'])"
      ],
      "metadata": {
        "id": "I8q18FtRgf7N"
      },
      "execution_count": null,
      "outputs": []
    },
    {
      "cell_type": "markdown",
      "source": [
        "###**Random Forest**"
      ],
      "metadata": {
        "id": "IcBU2ByZejBH"
      }
    },
    {
      "cell_type": "markdown",
      "source": [
        "####**Random Forest y skaliert - ohne Ergebnis**"
      ],
      "metadata": {
        "id": "VOnfs1D7H7cg"
      }
    },
    {
      "cell_type": "code",
      "source": [
        "from sklearn.ensemble import RandomForestClassifier\n",
        "random_forest = RandomForestClassifier(random_state=42)\n",
        "X_train, X_test, y_train, y_test = train_test_split(X, y_skaliert, test_size=0.2, random_state=123)"
      ],
      "metadata": {
        "id": "1hc0EJf-H6vZ"
      },
      "execution_count": null,
      "outputs": []
    },
    {
      "cell_type": "code",
      "source": [
        "random_forest.fit(X_train, y_train)\n",
        "#funktioniert nicht, da  trying to apply a classification algorithm or task on a target variable with numeric values instead of discrete labels."
      ],
      "metadata": {
        "id": "DvvCvwQqIfEy"
      },
      "execution_count": null,
      "outputs": []
    },
    {
      "cell_type": "markdown",
      "source": [
        "####**Random Forest y unskaliert**"
      ],
      "metadata": {
        "id": "RH_0bC2OItnj"
      }
    },
    {
      "cell_type": "code",
      "source": [
        "from sklearn.ensemble import RandomForestClassifier\n",
        "random_forest = RandomForestClassifier(random_state=42)\n",
        "X_train, X_test, y_train, y_test = train_test_split(X, y_unskaliert, test_size=0.2, random_state=123)"
      ],
      "metadata": {
        "id": "2610TddhItTv"
      },
      "execution_count": null,
      "outputs": []
    },
    {
      "cell_type": "code",
      "source": [
        "random_forest.fit(X_train, y_train)\n"
      ],
      "metadata": {
        "id": "11vaCGaJI7i8"
      },
      "execution_count": null,
      "outputs": []
    },
    {
      "cell_type": "code",
      "source": [
        "Ergebnisse_forest_y_unskaliert = evaluate(random_forest, X_test, y_test) # 0.93"
      ],
      "metadata": {
        "id": "T8N6JY9fIg8d"
      },
      "execution_count": null,
      "outputs": []
    },
    {
      "cell_type": "markdown",
      "source": [
        "####**Random Forest y unskaliert; X skaliert ohne Dummies**"
      ],
      "metadata": {
        "id": "ImXYvaptOLJ2"
      }
    },
    {
      "cell_type": "code",
      "source": [
        "from sklearn.ensemble import RandomForestClassifier\n",
        "random_forest = RandomForestClassifier(random_state=42)\n",
        "X_train, X_test, y_train, y_test = train_test_split(X_skaliert_ohneDummies, y_unskaliert, test_size=0.2, random_state=123)"
      ],
      "metadata": {
        "id": "xCybeXymOL26"
      },
      "execution_count": null,
      "outputs": []
    },
    {
      "cell_type": "code",
      "source": [
        "random_forest.fit(X_train, y_train)"
      ],
      "metadata": {
        "id": "hqCGYk-lOMcA"
      },
      "execution_count": null,
      "outputs": []
    },
    {
      "cell_type": "code",
      "source": [
        "Ergebnisse_forest_y_unskaliert_X_ohne_Dummies = evaluate(random_forest, X_test, y_test) # 0.93"
      ],
      "metadata": {
        "id": "-pFaIP-pOMTB"
      },
      "execution_count": null,
      "outputs": []
    },
    {
      "cell_type": "markdown",
      "source": [
        "####**Hyperparameter Tuning**"
      ],
      "metadata": {
        "id": "KHv4GFwpgDWF"
      }
    },
    {
      "cell_type": "code",
      "source": [
        "# V1\n",
        "from sklearn.model_selection import GridSearchCV\n",
        "model = random_forest\n",
        "grid_vals = {\n",
        "    'criterion': ['gini', 'entropy'],\n",
        "    'max_depth': [None, 5, 10, 20],\n",
        "}\n",
        "\n",
        "grid_lr = GridSearchCV(estimator=random_forest, param_grid=grid_vals, scoring='accuracy',\n",
        "                       cv=6, refit=True, return_train_score=True)\n",
        "\n",
        "grid_lr.fit(X_train, y_train)\n",
        "preds = grid_lr.best_estimator_.predict(X_test)\n",
        "\n",
        "grid_lr.best_params_\n",
        "\n",
        "evaluate(grid_lr, X_test, y_test) # 0.93 statt 0.93"
      ],
      "metadata": {
        "id": "miwJf2aUgIzX"
      },
      "execution_count": null,
      "outputs": []
    },
    {
      "cell_type": "code",
      "source": [
        "# V2\n",
        "from sklearn.model_selection import GridSearchCV\n",
        "model = random_forest\n",
        "grid_vals = {\n",
        "    'min_samples_leaf': [1, 2, 5],\n",
        "    'max_features': ['sqrt', 'log2'],\n",
        "    'min_samples_split': [2, 5, 10],\n",
        "}\n",
        "\n",
        "grid_lr = GridSearchCV(estimator=random_forest, param_grid=grid_vals, scoring='accuracy',\n",
        "                       cv=6, refit=True, return_train_score=True)\n",
        "\n",
        "grid_lr.fit(X_train, y_train)\n",
        "preds = grid_lr.best_estimator_.predict(X_test)\n",
        "\n",
        "grid_lr.best_params_\n",
        "\n",
        "evaluate(grid_lr, X_test, y_test) # 0.93 statt 0.93"
      ],
      "metadata": {
        "id": "CniC-gCNgIrQ"
      },
      "execution_count": null,
      "outputs": []
    },
    {
      "cell_type": "markdown",
      "source": [
        "####**Error Analysis**"
      ],
      "metadata": {
        "id": "zD18kJwEgJvh"
      }
    },
    {
      "cell_type": "code",
      "source": [
        "#Random Forest\n",
        "from sklearn.metrics import ConfusionMatrixDisplay\n",
        "ConfusionMatrixDisplay.from_estimator(\n",
        "    grid_lr, X_test, y_test, labels=[0, 1, 2, 3], display_labels=['sehr gefährdet', ' gefährdet', ' nicht gefährdet', ' gar nicht gefährdet'])"
      ],
      "metadata": {
        "id": "elZoA8NNgJDS"
      },
      "execution_count": null,
      "outputs": []
    },
    {
      "cell_type": "markdown",
      "source": [
        "###**XG Boost**"
      ],
      "metadata": {
        "id": "9EJNK2vVeqji"
      }
    },
    {
      "cell_type": "markdown",
      "source": [
        "####**XGBoost y skaliert - ohne Ergebnis**"
      ],
      "metadata": {
        "id": "qKPa7vBeJDOe"
      }
    },
    {
      "cell_type": "code",
      "source": [
        "from sklearn.ensemble import GradientBoostingClassifier\n",
        "xgb = GradientBoostingClassifier()\n",
        "X_train, X_test, y_train, y_test = train_test_split(X, y_skaliert, test_size=0.2, random_state=123)"
      ],
      "metadata": {
        "id": "98dGrps1JMMe"
      },
      "execution_count": null,
      "outputs": []
    },
    {
      "cell_type": "code",
      "source": [
        "xgb.fit(X_train, y_train)\n",
        "#funktioniert nicht, da  trying to apply a classification algorithm or task on a target variable with numeric values instead of discrete labels."
      ],
      "metadata": {
        "id": "hXaKONOtJRAr"
      },
      "execution_count": null,
      "outputs": []
    },
    {
      "cell_type": "markdown",
      "source": [
        "####**XGBoost y unskaliert**"
      ],
      "metadata": {
        "id": "N-cyDEVNJWAP"
      }
    },
    {
      "cell_type": "code",
      "source": [
        "from sklearn.ensemble import GradientBoostingClassifier\n",
        "xgb = GradientBoostingClassifier()\n",
        "X_train, X_test, y_train, y_test = train_test_split(X, y_unskaliert, test_size=0.2, random_state=123)"
      ],
      "metadata": {
        "id": "BYO0E9ChJZNB"
      },
      "execution_count": null,
      "outputs": []
    },
    {
      "cell_type": "code",
      "source": [
        "xgb.fit(X_train, y_train)"
      ],
      "metadata": {
        "id": "Zn37bw2eJc-6"
      },
      "execution_count": null,
      "outputs": []
    },
    {
      "cell_type": "code",
      "source": [
        "Ergebnisse_xg_y_unskaliert = evaluate(xgb, X_test, y_test) # 0.93"
      ],
      "metadata": {
        "id": "8iBEY38BJe4Z"
      },
      "execution_count": null,
      "outputs": []
    },
    {
      "cell_type": "markdown",
      "source": [
        "####**XGBoost y unskaliert; X skaliert ohne Dummies**"
      ],
      "metadata": {
        "id": "U1gZFP_1HFbC"
      }
    },
    {
      "cell_type": "code",
      "source": [
        "from sklearn.ensemble import GradientBoostingClassifier\n",
        "xgb = GradientBoostingClassifier()\n",
        "X_train, X_test, y_train, y_test = train_test_split(X_skaliert_ohneDummies, y_unskaliert, test_size=0.2, random_state=123)"
      ],
      "metadata": {
        "id": "Ee0SFd-7Oojx"
      },
      "execution_count": null,
      "outputs": []
    },
    {
      "cell_type": "code",
      "source": [
        "xgb.fit(X_train, y_train)"
      ],
      "metadata": {
        "id": "2RYFbUlsOohQ"
      },
      "execution_count": null,
      "outputs": []
    },
    {
      "cell_type": "code",
      "source": [
        "Ergebnisse_xg_y_unskaliert_X_ohne_Dummies = evaluate(xgb, X_test, y_test) # 0.93"
      ],
      "metadata": {
        "id": "fHANrkPZOoeh"
      },
      "execution_count": null,
      "outputs": []
    },
    {
      "cell_type": "markdown",
      "source": [
        "####**Hyperparameter Tuning**"
      ],
      "metadata": {
        "id": "02WAtPkgf5Kr"
      }
    },
    {
      "cell_type": "code",
      "source": [
        "# V1\n",
        "from sklearn.model_selection import GridSearchCV\n",
        "model = xgb\n",
        "grid_vals = {\n",
        "    'verbose': [0],\n",
        "    'warm_start': [False]\n",
        "}\n",
        "\n",
        "grid_lr = GridSearchCV(estimator=xgb, param_grid=grid_vals, scoring='accuracy',\n",
        "                       cv=6, refit=True, return_train_score=True)\n",
        "\n",
        "grid_lr.fit(X_train, y_train)\n",
        "preds = grid_lr.best_estimator_.predict(X_test)\n",
        "\n",
        "grid_lr.best_params_\n",
        "\n",
        "evaluate(grid_lr, X_test, y_test) # 0.93 statt 0.93"
      ],
      "metadata": {
        "id": "jfQmPsCIgAPP"
      },
      "execution_count": null,
      "outputs": []
    },
    {
      "cell_type": "code",
      "source": [
        "# V2\n",
        "from sklearn.model_selection import GridSearchCV\n",
        "model = xgb\n",
        "grid_vals = {\n",
        "    'max_features': ['auto', 'sqrt', 'log2'],\n",
        "    'max_leaf_nodes': [None],\n",
        "}\n",
        "\n",
        "grid_lr = GridSearchCV(estimator=xgb, param_grid=grid_vals, scoring='accuracy',\n",
        "                       cv=6, refit=True, return_train_score=True)\n",
        "\n",
        "grid_lr.fit(X_train, y_train)\n",
        "preds = grid_lr.best_estimator_.predict(X_test)\n",
        "\n",
        "grid_lr.best_params_\n",
        "\n",
        "evaluate(grid_lr, X_test, y_test) # 0.93 statt 0.93"
      ],
      "metadata": {
        "id": "xpraoKUDf_3l"
      },
      "execution_count": null,
      "outputs": []
    },
    {
      "cell_type": "code",
      "source": [
        "# V3\n",
        "from sklearn.model_selection import GridSearchCV\n",
        "model = xgb\n",
        "grid_vals = {\n",
        "    'max_depth': [3, 5, 7],\n",
        "    'max_features': ['auto', 'sqrt', 'log2'],\n",
        "    'max_leaf_nodes': [None],\n",
        "    'min_impurity_decrease': [0.0, 0.1, 0.2],\n",
        "}\n",
        "\n",
        "grid_lr = GridSearchCV(estimator=xgb, param_grid=grid_vals, scoring='accuracy',\n",
        "                       cv=6, refit=True, return_train_score=True)\n",
        "\n",
        "grid_lr.fit(X_train, y_train)\n",
        "preds = grid_lr.best_estimator_.predict(X_test)\n",
        "\n",
        "grid_lr.best_params_\n",
        "\n",
        "evaluate(grid_lr, X_test, y_test) # 0.94 statt 0.93"
      ],
      "metadata": {
        "id": "e6aboaLX17SJ"
      },
      "execution_count": null,
      "outputs": []
    },
    {
      "cell_type": "markdown",
      "source": [
        "####**Error Analysis**"
      ],
      "metadata": {
        "id": "nqClfYw_RvwH"
      }
    },
    {
      "cell_type": "code",
      "source": [
        "#XG Boost\n",
        "from sklearn.metrics import ConfusionMatrixDisplay\n",
        "ConfusionMatrixDisplay.from_estimator(\n",
        "    grid_lr, X_test, y_test, labels=[0, 1, 2, 3], display_labels=['sehr gefährdet', ' gefährdet', ' nicht gefährdet', ' gar nicht gefährdet'])"
      ],
      "metadata": {
        "id": "hFpr-eBkR4iY"
      },
      "execution_count": null,
      "outputs": []
    },
    {
      "cell_type": "markdown",
      "source": [
        "###Ergebnis der Classification"
      ],
      "metadata": {
        "id": "-3IHEkRJmKEI"
      }
    },
    {
      "cell_type": "markdown",
      "source": [
        "hier ausführlichere Erklärung für was wir uns entschieden haben (X_skaliert_ohneDummies und y unskaliert)"
      ],
      "metadata": {
        "id": "fprdispcveg8"
      }
    },
    {
      "cell_type": "markdown",
      "source": [
        "**--> XG Boost V3 erzielt das beste Ergebnis mit 94% nach der Optimierung**\n",
        "accuracy: wv % wurden richtig vorhergesagt\n",
        "f1 Wert wenn DS sehr unbalanciert sonst accuracy\n"
      ],
      "metadata": {
        "id": "d9hkOCGO4elO"
      }
    }
  ]
}